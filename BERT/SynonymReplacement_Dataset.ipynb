{
  "cells": [
    {
      "cell_type": "markdown",
      "id": "c6575869",
      "metadata": {
        "id": "c6575869"
      },
      "source": [
        "# BERT Model"
      ]
    },
    {
      "cell_type": "code",
      "execution_count": 34,
      "id": "934847a5",
      "metadata": {
        "id": "934847a5"
      },
      "outputs": [],
      "source": [
        "#Imports\n",
        "import pandas as pd\n",
        "import numpy as np\n",
        "\n",
        "from gensim.models import Word2Vec\n",
        "from sklearn.model_selection import train_test_split\n",
        "from keras.preprocessing.text import Tokenizer\n",
        "from keras.utils import pad_sequences\n",
        "\n",
        "from keras.layers import Input, Embedding, Conv1D, MaxPooling1D, Flatten, Dense, Dropout, concatenate, Bidirectional, GRU\n",
        "from keras.models import Model\n",
        "from keras.constraints import MaxNorm\n",
        "from keras.optimizers import Adam\n",
        "\n",
        "import matplotlib.pyplot as plt\n",
        "import seaborn as sns\n",
        "from sklearn.metrics import confusion_matrix\n",
        "from sklearn.metrics import confusion_matrix, ConfusionMatrixDisplay\n",
        "from sklearn.metrics import classification_report\n",
        "from sklearn.metrics import precision_score, recall_score\n",
        "from sklearn.metrics import f1_score"
      ]
    },
    {
      "cell_type": "markdown",
      "id": "978ceb42",
      "metadata": {
        "id": "978ceb42"
      },
      "source": [
        "##### 1)Loading Dataset"
      ]
    },
    {
      "cell_type": "code",
      "execution_count": 35,
      "id": "272b56c0",
      "metadata": {
        "colab": {
          "base_uri": "https://localhost:8080/",
          "height": 345
        },
        "id": "272b56c0",
        "outputId": "013e87d8-7170-4b5c-bb2d-585786814153"
      },
      "outputs": [
        {
          "output_type": "execute_result",
          "data": {
            "text/plain": [
              "   Unnamed: 0.1  Unnamed: 0  \\\n",
              "0             0           0   \n",
              "1             1           1   \n",
              "2             2           2   \n",
              "3             3           3   \n",
              "4             4           4   \n",
              "\n",
              "                                                text  label  length  \\\n",
              "0                @VirginAmerica What @dhepburn said.      2      35   \n",
              "1  @VirginAmerica plus you've added commercials t...      1      72   \n",
              "2  @VirginAmerica I didn't today... Must mean I n...      2      71   \n",
              "3  @VirginAmerica it's really aggressive to blast...      0     126   \n",
              "4  @VirginAmerica and it's a really big bad thing...      0      55   \n",
              "\n",
              "                               preprocessed_abstract  length_after_cleaning  \\\n",
              "0                                           what say                      8   \n",
              "1               plus add commercial experience tacky                     36   \n",
              "2         i today must mean i need take another trip                     42   \n",
              "3  really aggressive blast obnoxious entertainmen...                     78   \n",
              "4                               really big bad thing                     20   \n",
              "\n",
              "                                      tokenized_text  \n",
              "0                                    ['what', 'say']  \n",
              "1  ['plus', 'add', 'commercial', 'experience', 't...  \n",
              "2  ['i', 'today', 'must', 'mean', 'i', 'need', 't...  \n",
              "3  ['really', 'aggressive', 'blast', 'obnoxious',...  \n",
              "4                  ['really', 'big', 'bad', 'thing']  "
            ],
            "text/html": [
              "\n",
              "  <div id=\"df-a7996dcc-b626-49bb-96e5-85321c4c9b7c\" class=\"colab-df-container\">\n",
              "    <div>\n",
              "<style scoped>\n",
              "    .dataframe tbody tr th:only-of-type {\n",
              "        vertical-align: middle;\n",
              "    }\n",
              "\n",
              "    .dataframe tbody tr th {\n",
              "        vertical-align: top;\n",
              "    }\n",
              "\n",
              "    .dataframe thead th {\n",
              "        text-align: right;\n",
              "    }\n",
              "</style>\n",
              "<table border=\"1\" class=\"dataframe\">\n",
              "  <thead>\n",
              "    <tr style=\"text-align: right;\">\n",
              "      <th></th>\n",
              "      <th>Unnamed: 0.1</th>\n",
              "      <th>Unnamed: 0</th>\n",
              "      <th>text</th>\n",
              "      <th>label</th>\n",
              "      <th>length</th>\n",
              "      <th>preprocessed_abstract</th>\n",
              "      <th>length_after_cleaning</th>\n",
              "      <th>tokenized_text</th>\n",
              "    </tr>\n",
              "  </thead>\n",
              "  <tbody>\n",
              "    <tr>\n",
              "      <th>0</th>\n",
              "      <td>0</td>\n",
              "      <td>0</td>\n",
              "      <td>@VirginAmerica What @dhepburn said.</td>\n",
              "      <td>2</td>\n",
              "      <td>35</td>\n",
              "      <td>what say</td>\n",
              "      <td>8</td>\n",
              "      <td>['what', 'say']</td>\n",
              "    </tr>\n",
              "    <tr>\n",
              "      <th>1</th>\n",
              "      <td>1</td>\n",
              "      <td>1</td>\n",
              "      <td>@VirginAmerica plus you've added commercials t...</td>\n",
              "      <td>1</td>\n",
              "      <td>72</td>\n",
              "      <td>plus add commercial experience tacky</td>\n",
              "      <td>36</td>\n",
              "      <td>['plus', 'add', 'commercial', 'experience', 't...</td>\n",
              "    </tr>\n",
              "    <tr>\n",
              "      <th>2</th>\n",
              "      <td>2</td>\n",
              "      <td>2</td>\n",
              "      <td>@VirginAmerica I didn't today... Must mean I n...</td>\n",
              "      <td>2</td>\n",
              "      <td>71</td>\n",
              "      <td>i today must mean i need take another trip</td>\n",
              "      <td>42</td>\n",
              "      <td>['i', 'today', 'must', 'mean', 'i', 'need', 't...</td>\n",
              "    </tr>\n",
              "    <tr>\n",
              "      <th>3</th>\n",
              "      <td>3</td>\n",
              "      <td>3</td>\n",
              "      <td>@VirginAmerica it's really aggressive to blast...</td>\n",
              "      <td>0</td>\n",
              "      <td>126</td>\n",
              "      <td>really aggressive blast obnoxious entertainmen...</td>\n",
              "      <td>78</td>\n",
              "      <td>['really', 'aggressive', 'blast', 'obnoxious',...</td>\n",
              "    </tr>\n",
              "    <tr>\n",
              "      <th>4</th>\n",
              "      <td>4</td>\n",
              "      <td>4</td>\n",
              "      <td>@VirginAmerica and it's a really big bad thing...</td>\n",
              "      <td>0</td>\n",
              "      <td>55</td>\n",
              "      <td>really big bad thing</td>\n",
              "      <td>20</td>\n",
              "      <td>['really', 'big', 'bad', 'thing']</td>\n",
              "    </tr>\n",
              "  </tbody>\n",
              "</table>\n",
              "</div>\n",
              "    <div class=\"colab-df-buttons\">\n",
              "\n",
              "  <div class=\"colab-df-container\">\n",
              "    <button class=\"colab-df-convert\" onclick=\"convertToInteractive('df-a7996dcc-b626-49bb-96e5-85321c4c9b7c')\"\n",
              "            title=\"Convert this dataframe to an interactive table.\"\n",
              "            style=\"display:none;\">\n",
              "\n",
              "  <svg xmlns=\"http://www.w3.org/2000/svg\" height=\"24px\" viewBox=\"0 -960 960 960\">\n",
              "    <path d=\"M120-120v-720h720v720H120Zm60-500h600v-160H180v160Zm220 220h160v-160H400v160Zm0 220h160v-160H400v160ZM180-400h160v-160H180v160Zm440 0h160v-160H620v160ZM180-180h160v-160H180v160Zm440 0h160v-160H620v160Z\"/>\n",
              "  </svg>\n",
              "    </button>\n",
              "\n",
              "  <style>\n",
              "    .colab-df-container {\n",
              "      display:flex;\n",
              "      gap: 12px;\n",
              "    }\n",
              "\n",
              "    .colab-df-convert {\n",
              "      background-color: #E8F0FE;\n",
              "      border: none;\n",
              "      border-radius: 50%;\n",
              "      cursor: pointer;\n",
              "      display: none;\n",
              "      fill: #1967D2;\n",
              "      height: 32px;\n",
              "      padding: 0 0 0 0;\n",
              "      width: 32px;\n",
              "    }\n",
              "\n",
              "    .colab-df-convert:hover {\n",
              "      background-color: #E2EBFA;\n",
              "      box-shadow: 0px 1px 2px rgba(60, 64, 67, 0.3), 0px 1px 3px 1px rgba(60, 64, 67, 0.15);\n",
              "      fill: #174EA6;\n",
              "    }\n",
              "\n",
              "    .colab-df-buttons div {\n",
              "      margin-bottom: 4px;\n",
              "    }\n",
              "\n",
              "    [theme=dark] .colab-df-convert {\n",
              "      background-color: #3B4455;\n",
              "      fill: #D2E3FC;\n",
              "    }\n",
              "\n",
              "    [theme=dark] .colab-df-convert:hover {\n",
              "      background-color: #434B5C;\n",
              "      box-shadow: 0px 1px 3px 1px rgba(0, 0, 0, 0.15);\n",
              "      filter: drop-shadow(0px 1px 2px rgba(0, 0, 0, 0.3));\n",
              "      fill: #FFFFFF;\n",
              "    }\n",
              "  </style>\n",
              "\n",
              "    <script>\n",
              "      const buttonEl =\n",
              "        document.querySelector('#df-a7996dcc-b626-49bb-96e5-85321c4c9b7c button.colab-df-convert');\n",
              "      buttonEl.style.display =\n",
              "        google.colab.kernel.accessAllowed ? 'block' : 'none';\n",
              "\n",
              "      async function convertToInteractive(key) {\n",
              "        const element = document.querySelector('#df-a7996dcc-b626-49bb-96e5-85321c4c9b7c');\n",
              "        const dataTable =\n",
              "          await google.colab.kernel.invokeFunction('convertToInteractive',\n",
              "                                                    [key], {});\n",
              "        if (!dataTable) return;\n",
              "\n",
              "        const docLinkHtml = 'Like what you see? Visit the ' +\n",
              "          '<a target=\"_blank\" href=https://colab.research.google.com/notebooks/data_table.ipynb>data table notebook</a>'\n",
              "          + ' to learn more about interactive tables.';\n",
              "        element.innerHTML = '';\n",
              "        dataTable['output_type'] = 'display_data';\n",
              "        await google.colab.output.renderOutput(dataTable, element);\n",
              "        const docLink = document.createElement('div');\n",
              "        docLink.innerHTML = docLinkHtml;\n",
              "        element.appendChild(docLink);\n",
              "      }\n",
              "    </script>\n",
              "  </div>\n",
              "\n",
              "\n",
              "<div id=\"df-0788bdd9-9423-4005-93dc-ecc907a62a85\">\n",
              "  <button class=\"colab-df-quickchart\" onclick=\"quickchart('df-0788bdd9-9423-4005-93dc-ecc907a62a85')\"\n",
              "            title=\"Suggest charts\"\n",
              "            style=\"display:none;\">\n",
              "\n",
              "<svg xmlns=\"http://www.w3.org/2000/svg\" height=\"24px\"viewBox=\"0 0 24 24\"\n",
              "     width=\"24px\">\n",
              "    <g>\n",
              "        <path d=\"M19 3H5c-1.1 0-2 .9-2 2v14c0 1.1.9 2 2 2h14c1.1 0 2-.9 2-2V5c0-1.1-.9-2-2-2zM9 17H7v-7h2v7zm4 0h-2V7h2v10zm4 0h-2v-4h2v4z\"/>\n",
              "    </g>\n",
              "</svg>\n",
              "  </button>\n",
              "\n",
              "<style>\n",
              "  .colab-df-quickchart {\n",
              "      --bg-color: #E8F0FE;\n",
              "      --fill-color: #1967D2;\n",
              "      --hover-bg-color: #E2EBFA;\n",
              "      --hover-fill-color: #174EA6;\n",
              "      --disabled-fill-color: #AAA;\n",
              "      --disabled-bg-color: #DDD;\n",
              "  }\n",
              "\n",
              "  [theme=dark] .colab-df-quickchart {\n",
              "      --bg-color: #3B4455;\n",
              "      --fill-color: #D2E3FC;\n",
              "      --hover-bg-color: #434B5C;\n",
              "      --hover-fill-color: #FFFFFF;\n",
              "      --disabled-bg-color: #3B4455;\n",
              "      --disabled-fill-color: #666;\n",
              "  }\n",
              "\n",
              "  .colab-df-quickchart {\n",
              "    background-color: var(--bg-color);\n",
              "    border: none;\n",
              "    border-radius: 50%;\n",
              "    cursor: pointer;\n",
              "    display: none;\n",
              "    fill: var(--fill-color);\n",
              "    height: 32px;\n",
              "    padding: 0;\n",
              "    width: 32px;\n",
              "  }\n",
              "\n",
              "  .colab-df-quickchart:hover {\n",
              "    background-color: var(--hover-bg-color);\n",
              "    box-shadow: 0 1px 2px rgba(60, 64, 67, 0.3), 0 1px 3px 1px rgba(60, 64, 67, 0.15);\n",
              "    fill: var(--button-hover-fill-color);\n",
              "  }\n",
              "\n",
              "  .colab-df-quickchart-complete:disabled,\n",
              "  .colab-df-quickchart-complete:disabled:hover {\n",
              "    background-color: var(--disabled-bg-color);\n",
              "    fill: var(--disabled-fill-color);\n",
              "    box-shadow: none;\n",
              "  }\n",
              "\n",
              "  .colab-df-spinner {\n",
              "    border: 2px solid var(--fill-color);\n",
              "    border-color: transparent;\n",
              "    border-bottom-color: var(--fill-color);\n",
              "    animation:\n",
              "      spin 1s steps(1) infinite;\n",
              "  }\n",
              "\n",
              "  @keyframes spin {\n",
              "    0% {\n",
              "      border-color: transparent;\n",
              "      border-bottom-color: var(--fill-color);\n",
              "      border-left-color: var(--fill-color);\n",
              "    }\n",
              "    20% {\n",
              "      border-color: transparent;\n",
              "      border-left-color: var(--fill-color);\n",
              "      border-top-color: var(--fill-color);\n",
              "    }\n",
              "    30% {\n",
              "      border-color: transparent;\n",
              "      border-left-color: var(--fill-color);\n",
              "      border-top-color: var(--fill-color);\n",
              "      border-right-color: var(--fill-color);\n",
              "    }\n",
              "    40% {\n",
              "      border-color: transparent;\n",
              "      border-right-color: var(--fill-color);\n",
              "      border-top-color: var(--fill-color);\n",
              "    }\n",
              "    60% {\n",
              "      border-color: transparent;\n",
              "      border-right-color: var(--fill-color);\n",
              "    }\n",
              "    80% {\n",
              "      border-color: transparent;\n",
              "      border-right-color: var(--fill-color);\n",
              "      border-bottom-color: var(--fill-color);\n",
              "    }\n",
              "    90% {\n",
              "      border-color: transparent;\n",
              "      border-bottom-color: var(--fill-color);\n",
              "    }\n",
              "  }\n",
              "</style>\n",
              "\n",
              "  <script>\n",
              "    async function quickchart(key) {\n",
              "      const quickchartButtonEl =\n",
              "        document.querySelector('#' + key + ' button');\n",
              "      quickchartButtonEl.disabled = true;  // To prevent multiple clicks.\n",
              "      quickchartButtonEl.classList.add('colab-df-spinner');\n",
              "      try {\n",
              "        const charts = await google.colab.kernel.invokeFunction(\n",
              "            'suggestCharts', [key], {});\n",
              "      } catch (error) {\n",
              "        console.error('Error during call to suggestCharts:', error);\n",
              "      }\n",
              "      quickchartButtonEl.classList.remove('colab-df-spinner');\n",
              "      quickchartButtonEl.classList.add('colab-df-quickchart-complete');\n",
              "    }\n",
              "    (() => {\n",
              "      let quickchartButtonEl =\n",
              "        document.querySelector('#df-0788bdd9-9423-4005-93dc-ecc907a62a85 button');\n",
              "      quickchartButtonEl.style.display =\n",
              "        google.colab.kernel.accessAllowed ? 'block' : 'none';\n",
              "    })();\n",
              "  </script>\n",
              "</div>\n",
              "\n",
              "    </div>\n",
              "  </div>\n"
            ]
          },
          "metadata": {},
          "execution_count": 35
        }
      ],
      "source": [
        "df=pd.read_csv(\"df_SynonymReplacement.csv\")\n",
        "df.head()"
      ]
    },
    {
      "cell_type": "code",
      "execution_count": 36,
      "id": "17c756b8",
      "metadata": {
        "colab": {
          "base_uri": "https://localhost:8080/"
        },
        "id": "17c756b8",
        "outputId": "9112123f-8662-4aec-97da-d7891038377a"
      },
      "outputs": [
        {
          "output_type": "execute_result",
          "data": {
            "text/plain": [
              "Unnamed: 0.1              0\n",
              "Unnamed: 0                0\n",
              "text                      0\n",
              "label                     0\n",
              "length                    0\n",
              "preprocessed_abstract    49\n",
              "length_after_cleaning     0\n",
              "tokenized_text            0\n",
              "dtype: int64"
            ]
          },
          "metadata": {},
          "execution_count": 36
        }
      ],
      "source": [
        "df.isnull().sum()"
      ]
    },
    {
      "cell_type": "code",
      "execution_count": 37,
      "id": "34e6d18c",
      "metadata": {
        "id": "34e6d18c"
      },
      "outputs": [],
      "source": [
        "df = df.dropna()"
      ]
    },
    {
      "cell_type": "markdown",
      "id": "46c4f1f4",
      "metadata": {
        "id": "46c4f1f4"
      },
      "source": [
        "##### 2)Preparing Data"
      ]
    },
    {
      "cell_type": "markdown",
      "id": "4e03b6a9",
      "metadata": {
        "id": "4e03b6a9"
      },
      "source": [
        "#####  3) Split , into Training and Validation Sets (80:20)"
      ]
    },
    {
      "cell_type": "code",
      "execution_count": 38,
      "id": "d8741840",
      "metadata": {
        "colab": {
          "base_uri": "https://localhost:8080/"
        },
        "id": "d8741840",
        "outputId": "df36ec79-aaf3-45a3-ddcb-f47dcb791993"
      },
      "outputs": [
        {
          "output_type": "stream",
          "name": "stdout",
          "text": [
            "Train data: (21988,) (21988,)\n",
            "Test data: (5497,) (5497,)\n"
          ]
        }
      ],
      "source": [
        "X_train, X_test, y_train, y_test = train_test_split(df['preprocessed_abstract'], df['label'], test_size=0.2, stratify=df['label'], random_state=42)\n",
        "print(\"Train data:\",  X_train.shape, y_train.shape)\n",
        "print(\"Test data:\",  X_test.shape, y_test.shape)"
      ]
    },
    {
      "cell_type": "code",
      "execution_count": 39,
      "id": "9d5b7f7d",
      "metadata": {
        "colab": {
          "base_uri": "https://localhost:8080/",
          "height": 499
        },
        "id": "9d5b7f7d",
        "outputId": "caff1593-6956-45d1-aa56-6306c1829d36"
      },
      "outputs": [
        {
          "output_type": "display_data",
          "data": {
            "text/plain": [
              "<Figure size 1400x600 with 1 Axes>"
            ],
            "image/png": "[encoded data removed]"
          },
          "metadata": {}
        }
      ],
      "source": [
        "plt.figure(figsize=(14,6))\n",
        "colors = ['#4285f4', '#ea4335', '#fbbc05', '#34a853']\n",
        "plt.rcParams.update({'font.size': 14})\n",
        "plt.pie([len(y_train), len(y_test)],\n",
        "        labels=['Train','Test'],\n",
        "        colors=colors, autopct='%.1f%%', explode=(0.05,0.05),\n",
        "        startangle=30);"
      ]
    },
    {
      "cell_type": "code",
      "source": [
        "from transformers import TFAutoModel, AutoTokenizer\n",
        "\n",
        "tokenizer = AutoTokenizer.from_pretrained(\"bert-base-uncased\")\n",
        "inputs = tokenizer(X_train.tolist(), padding = True, truncation = True, return_tensors = 'tf')\n",
        "inputs\n",
        "\n",
        "import tensorflow as tf\n",
        "\n",
        "output = tf.convert_to_tensor(y_train, dtype=tf.int64)\n",
        "output\n",
        "\n",
        "input_ids = inputs[\"input_ids\"]\n",
        "attention_mask = inputs[\"attention_mask\"]\n",
        "segment_ids = inputs.get(\"token_type_ids\", None)\n",
        "\n",
        "# Step 3: Convert to TensorFlow tensors\n",
        "input_ids = tf.convert_to_tensor(input_ids)\n",
        "attention_mask = tf.convert_to_tensor(attention_mask)\n",
        "segment_ids = tf.convert_to_tensor(segment_ids) if segment_ids is not None else None\n",
        "\n",
        "\n",
        "# Step 5: Create a dictionary of input tensors\n",
        "input_dict = {\n",
        "    \"input_ids\": input_ids,\n",
        "    \"attention_mask\": attention_mask,\n",
        "    \"token_type_ids\": segment_ids  # Include this if your BERT model expects segment_ids\n",
        "}\n",
        "inputstest = tokenizer(X_test.tolist(), padding = True, truncation = True, return_tensors = 'tf')\n",
        "\n",
        "\n",
        "input_idstest = inputstest[\"input_ids\"]\n",
        "attention_masktest = inputstest[\"attention_mask\"]\n",
        "segment_idstest = inputstest.get(\"token_type_ids\", None)\n",
        "\n",
        "# Step 3: Convert to TensorFlow tensors\n",
        "input_idstest = tf.convert_to_tensor(input_idstest)\n",
        "attention_masktest = tf.convert_to_tensor(attention_masktest)\n",
        "segment_idstest = tf.convert_to_tensor(segment_idstest) if segment_idstest is not None else None\n",
        "\n",
        "\n",
        "# Step 5: Create a dictionary of input tensors\n",
        "input_dicttest = {\n",
        "    \"input_ids\": input_idstest,\n",
        "    \"attention_mask\": attention_masktest,\n",
        "    \"token_type_ids\": segment_idstest  # Include this if your BERT model expects segment_ids\n",
        "}\n",
        "\n",
        "\n",
        "outputtest = tf.convert_to_tensor(y_test, dtype=tf.int64)\n",
        "outputtest"
      ],
      "metadata": {
        "colab": {
          "base_uri": "https://localhost:8080/"
        },
        "id": "2kxbjpsmDAsY",
        "outputId": "978353b3-a52b-45c5-afca-a86708900d87"
      },
      "id": "2kxbjpsmDAsY",
      "execution_count": 40,
      "outputs": [
        {
          "output_type": "execute_result",
          "data": {
            "text/plain": [
              "<tf.Tensor: shape=(5497,), dtype=int64, numpy=array([0, 0, 1, ..., 1, 2, 2])>"
            ]
          },
          "metadata": {},
          "execution_count": 40
        }
      ]
    },
    {
      "cell_type": "markdown",
      "id": "c2ffb115",
      "metadata": {
        "id": "c2ffb115"
      },
      "source": [
        "##### 4)Model Architecture"
      ]
    },
    {
      "cell_type": "code",
      "execution_count": 41,
      "id": "1a556ad9",
      "metadata": {
        "colab": {
          "base_uri": "https://localhost:8080/"
        },
        "id": "1a556ad9",
        "outputId": "f03cf761-96d0-44bb-89f5-e6eb69f73e31"
      },
      "outputs": [
        {
          "output_type": "stream",
          "name": "stderr",
          "text": [
            "Some weights of the PyTorch model were not used when initializing the TF 2.0 model TFBertModel: ['cls.predictions.transform.LayerNorm.weight', 'cls.seq_relationship.weight', 'cls.predictions.transform.LayerNorm.bias', 'cls.predictions.transform.dense.bias', 'cls.predictions.transform.dense.weight', 'cls.seq_relationship.bias', 'cls.predictions.bias']\n",
            "- This IS expected if you are initializing TFBertModel from a PyTorch model trained on another task or with another architecture (e.g. initializing a TFBertForSequenceClassification model from a BertForPreTraining model).\n",
            "- This IS NOT expected if you are initializing TFBertModel from a PyTorch model that you expect to be exactly identical (e.g. initializing a TFBertForSequenceClassification model from a BertForSequenceClassification model).\n",
            "All the weights of TFBertModel were initialized from the PyTorch model.\n",
            "If your task is similar to the task the model of the checkpoint was trained on, you can already use TFBertModel for predictions without further training.\n"
          ]
        }
      ],
      "source": [
        "class BERTForClassification(tf.keras.Model):\n",
        "  def __init__(self, bert_model, num_classes):\n",
        "      super().__init__()\n",
        "      self.bert = bert_model\n",
        "      self.fc = tf.keras.layers.Dense(num_classes, activation = \"softmax\")\n",
        "  def call(self, inputs):\n",
        "    x = self.bert(inputs)[1]\n",
        "    return self.fc(x)\n",
        "\n",
        "\n",
        "model = TFAutoModel.from_pretrained(\"bert-base-uncased\")"
      ]
    },
    {
      "cell_type": "code",
      "execution_count": 42,
      "id": "abfb9a9f",
      "metadata": {
        "id": "abfb9a9f"
      },
      "outputs": [],
      "source": [
        "classifier = BERTForClassification(model, num_classes = 3)"
      ]
    },
    {
      "cell_type": "code",
      "source": [
        "classifier.compile(\n",
        "    optimizer = tf.keras.optimizers.Adam(learning_rate = 1e-5),\n",
        "    loss = tf.keras.losses.SparseCategoricalCrossentropy(),\n",
        "    metrics = [\"accuracy\"]\n",
        ")"
      ],
      "metadata": {
        "id": "TbJ-p9D9DPb9"
      },
      "id": "TbJ-p9D9DPb9",
      "execution_count": 43,
      "outputs": []
    },
    {
      "cell_type": "markdown",
      "id": "6ea9dbdd",
      "metadata": {
        "id": "6ea9dbdd"
      },
      "source": [
        "##### 5) Training Model"
      ]
    },
    {
      "cell_type": "code",
      "execution_count": 44,
      "id": "1a3407cf",
      "metadata": {
        "colab": {
          "base_uri": "https://localhost:8080/"
        },
        "id": "1a3407cf",
        "outputId": "58d552a5-ac3e-4549-a327-ad536265d287"
      },
      "outputs": [
        {
          "output_type": "stream",
          "name": "stdout",
          "text": [
            "Epoch 1/5\n",
            "688/688 [==============================] - 233s 282ms/step - loss: 0.6378 - accuracy: 0.7311 - val_loss: 0.5023 - val_accuracy: 0.8055\n",
            "Epoch 2/5\n",
            "688/688 [==============================] - 188s 273ms/step - loss: 0.4186 - accuracy: 0.8407 - val_loss: 0.4161 - val_accuracy: 0.8450\n",
            "Epoch 3/5\n",
            "688/688 [==============================] - 187s 272ms/step - loss: 0.2725 - accuracy: 0.9029 - val_loss: 0.3888 - val_accuracy: 0.8667\n",
            "Epoch 4/5\n",
            "688/688 [==============================] - 187s 272ms/step - loss: 0.1753 - accuracy: 0.9379 - val_loss: 0.3687 - val_accuracy: 0.8828\n",
            "Epoch 5/5\n",
            "688/688 [==============================] - 187s 272ms/step - loss: 0.1182 - accuracy: 0.9603 - val_loss: 0.3525 - val_accuracy: 0.9005\n"
          ]
        }
      ],
      "source": [
        "history  = classifier.fit(input_dict, output, epochs = 5, validation_data = (input_dicttest, outputtest))"
      ]
    },
    {
      "cell_type": "markdown",
      "id": "5d00c466",
      "metadata": {
        "id": "5d00c466"
      },
      "source": [
        "##### 6) Finding Training and Testing Accuracy"
      ]
    },
    {
      "cell_type": "code",
      "execution_count": 45,
      "id": "6d517703",
      "metadata": {
        "colab": {
          "base_uri": "https://localhost:8080/",
          "height": 486
        },
        "id": "6d517703",
        "outputId": "f1a53c7e-1ebf-4cd5-a0d5-bf21adf4bd6d"
      },
      "outputs": [
        {
          "output_type": "display_data",
          "data": {
            "text/plain": [
              "<Figure size 640x480 with 1 Axes>"
            ],
            "image/png": "[encoded data removed]"
          },
          "metadata": {}
        }
      ],
      "source": [
        "# Plot the training and testing accuracy\n",
        "plt.plot(history.history['accuracy'])\n",
        "plt.plot(history.history['val_accuracy'])\n",
        "plt.title('Model Accuracy')\n",
        "plt.ylabel('Accuracy')\n",
        "plt.xlabel('Epoch')\n",
        "plt.ylim([0, 1])\n",
        "plt.legend(['Train', 'Test'], loc='upper left')\n",
        "plt.show()"
      ]
    },
    {
      "cell_type": "code",
      "execution_count": 52,
      "id": "516fe5b8",
      "metadata": {
        "colab": {
          "base_uri": "https://localhost:8080/"
        },
        "id": "516fe5b8",
        "outputId": "657e1f0c-3fa1-4f4c-9ea4-b62a859b2514"
      },
      "outputs": [
        {
          "output_type": "stream",
          "name": "stdout",
          "text": [
            "172/172 [==============================] - 14s 80ms/step - loss: 0.3525 - accuracy: 0.9005\n"
          ]
        },
        {
          "output_type": "execute_result",
          "data": {
            "text/plain": [
              "(0.3524819612503052, 0.9004911780357361)"
            ]
          },
          "metadata": {},
          "execution_count": 52
        }
      ],
      "source": [
        "test_loss,test_acc=classifier.evaluate(input_dicttest, outputtest)\n",
        "test_loss,test_acc"
      ]
    },
    {
      "cell_type": "markdown",
      "id": "80a47670",
      "metadata": {
        "id": "80a47670"
      },
      "source": [
        "##### 7) Compute and plot the confusion matrix for the three classes"
      ]
    },
    {
      "cell_type": "code",
      "execution_count": 53,
      "id": "7eb7ef1b",
      "metadata": {
        "colab": {
          "base_uri": "https://localhost:8080/"
        },
        "id": "7eb7ef1b",
        "outputId": "a6eef0d7-ca79-4218-c569-ed6a3100bb3a"
      },
      "outputs": [
        {
          "output_type": "stream",
          "name": "stdout",
          "text": [
            "172/172 [==============================] - 13s 76ms/step\n",
            "              precision    recall  f1-score   support\n",
            "\n",
            "    negative       0.93      0.84      0.89      1835\n",
            "     neutral       0.85      0.92      0.88      1827\n",
            "    positive       0.92      0.94      0.93      1835\n",
            "\n",
            "    accuracy                           0.90      5497\n",
            "   macro avg       0.90      0.90      0.90      5497\n",
            "weighted avg       0.90      0.90      0.90      5497\n",
            "\n"
          ]
        }
      ],
      "source": [
        "predictions=classifier.predict(input_dicttest)\n",
        "class_labels = ['negative', 'positive','neutral']\n",
        "predicted_class_labels = [class_labels[np.argmax(pred)] for pred in predictions]\n",
        "actual_class_labels=[class_labels[actual] for actual in y_test]\n",
        "print(classification_report(actual_class_labels, predicted_class_labels))"
      ]
    },
    {
      "cell_type": "code",
      "execution_count": 54,
      "id": "9208658a",
      "metadata": {
        "colab": {
          "base_uri": "https://localhost:8080/",
          "height": 578
        },
        "id": "9208658a",
        "outputId": "005630c9-d0fc-4f46-90b7-ca4b76ef8c5e"
      },
      "outputs": [
        {
          "output_type": "display_data",
          "data": {
            "text/plain": [
              "<Figure size 800x600 with 2 Axes>"
            ],
            "image/png": "[encoded data removed]"
          },
          "metadata": {}
        }
      ],
      "source": [
        "conf_matrix = confusion_matrix(actual_class_labels, predicted_class_labels, labels=class_labels)\n",
        "plt.figure(figsize=(8, 6))\n",
        "sns.heatmap(conf_matrix, annot=True, fmt=\"d\", cmap=\"Purples\", xticklabels=class_labels, yticklabels=class_labels)\n",
        "plt.title('Confusion Matrix')\n",
        "plt.xlabel('Predicted Labels')\n",
        "plt.ylabel('True Labels')\n",
        "plt.show()"
      ]
    },
    {
      "cell_type": "markdown",
      "id": "dd974772",
      "metadata": {
        "id": "dd974772"
      },
      "source": [
        "##### 8) Saving the final results in Excel sheet"
      ]
    },
    {
      "cell_type": "code",
      "execution_count": 55,
      "id": "a0081b41",
      "metadata": {
        "colab": {
          "base_uri": "https://localhost:8080/"
        },
        "id": "a0081b41",
        "outputId": "d5db3580-4c17-4a97-d5ff-4b8abbf38a0a"
      },
      "outputs": [
        {
          "output_type": "stream",
          "name": "stdout",
          "text": [
            "Precision per class: [0.93405929 0.84982243 0.9241858 ]\n",
            "Recall per class: [0.84141689 0.9168035  0.94332425]\n"
          ]
        }
      ],
      "source": [
        "precision_per_class = precision_score(actual_class_labels, predicted_class_labels, average=None)\n",
        "recall_per_class = recall_score(actual_class_labels, predicted_class_labels, average=None)\n",
        "\n",
        "print(\"Precision per class:\", precision_per_class)\n",
        "print(\"Recall per class:\", recall_per_class)"
      ]
    },
    {
      "cell_type": "code",
      "execution_count": 56,
      "id": "7df0d2f2",
      "metadata": {
        "colab": {
          "base_uri": "https://localhost:8080/"
        },
        "id": "7df0d2f2",
        "outputId": "9e377a86-ed5c-440f-d313-8ab50ed70268"
      },
      "outputs": [
        {
          "output_type": "stream",
          "name": "stdout",
          "text": [
            "Micro F1 Score: 0.9004911770056394\n",
            "Macro F1 Score: 0.9003404131558712\n"
          ]
        }
      ],
      "source": [
        "f1_micro = f1_score(actual_class_labels, predicted_class_labels, average='micro')\n",
        "f1_macro = f1_score(actual_class_labels, predicted_class_labels, average='macro')\n",
        "\n",
        "print(\"Micro F1 Score:\", f1_micro)\n",
        "print(\"Macro F1 Score:\", f1_macro)"
      ]
    },
    {
      "cell_type": "code",
      "execution_count": 57,
      "id": "f02eabf8",
      "metadata": {
        "colab": {
          "base_uri": "https://localhost:8080/",
          "height": 206
        },
        "id": "f02eabf8",
        "outputId": "5af51834-a043-431b-cbe0-8bfb9752a407"
      },
      "outputs": [
        {
          "output_type": "execute_result",
          "data": {
            "text/plain": [
              "                         Unnamed: 0  Original_Dataset  GPT3.5_Dataset  \\\n",
              "0                 Training Accuracy          0.941785        0.964536   \n",
              "1                  Testing Accuracy          0.797949        0.778222   \n",
              "2                    Micro F1 Score          0.797949        0.778222   \n",
              "3                    Macro F1 Score          0.728898        0.722131   \n",
              "4  Precision for Negative sentiment          0.831688        0.870095   \n",
              "\n",
              "   CharacterSwapping_Dataset  SynonymReplacement_Dataset  \n",
              "0                   0.957109                    0.960297  \n",
              "1                   0.849924                    0.900491  \n",
              "2                   0.849924                    0.900491  \n",
              "3                   0.817535                    0.900340  \n",
              "4                   0.848392                    0.934059  "
            ],
            "text/html": [
              "\n",
              "  <div id=\"df-405367c6-c0c0-445a-bb9b-e26e6dcf3c6e\" class=\"colab-df-container\">\n",
              "    <div>\n",
              "<style scoped>\n",
              "    .dataframe tbody tr th:only-of-type {\n",
              "        vertical-align: middle;\n",
              "    }\n",
              "\n",
              "    .dataframe tbody tr th {\n",
              "        vertical-align: top;\n",
              "    }\n",
              "\n",
              "    .dataframe thead th {\n",
              "        text-align: right;\n",
              "    }\n",
              "</style>\n",
              "<table border=\"1\" class=\"dataframe\">\n",
              "  <thead>\n",
              "    <tr style=\"text-align: right;\">\n",
              "      <th></th>\n",
              "      <th>Unnamed: 0</th>\n",
              "      <th>Original_Dataset</th>\n",
              "      <th>GPT3.5_Dataset</th>\n",
              "      <th>CharacterSwapping_Dataset</th>\n",
              "      <th>SynonymReplacement_Dataset</th>\n",
              "    </tr>\n",
              "  </thead>\n",
              "  <tbody>\n",
              "    <tr>\n",
              "      <th>0</th>\n",
              "      <td>Training Accuracy</td>\n",
              "      <td>0.941785</td>\n",
              "      <td>0.964536</td>\n",
              "      <td>0.957109</td>\n",
              "      <td>0.960297</td>\n",
              "    </tr>\n",
              "    <tr>\n",
              "      <th>1</th>\n",
              "      <td>Testing Accuracy</td>\n",
              "      <td>0.797949</td>\n",
              "      <td>0.778222</td>\n",
              "      <td>0.849924</td>\n",
              "      <td>0.900491</td>\n",
              "    </tr>\n",
              "    <tr>\n",
              "      <th>2</th>\n",
              "      <td>Micro F1 Score</td>\n",
              "      <td>0.797949</td>\n",
              "      <td>0.778222</td>\n",
              "      <td>0.849924</td>\n",
              "      <td>0.900491</td>\n",
              "    </tr>\n",
              "    <tr>\n",
              "      <th>3</th>\n",
              "      <td>Macro F1 Score</td>\n",
              "      <td>0.728898</td>\n",
              "      <td>0.722131</td>\n",
              "      <td>0.817535</td>\n",
              "      <td>0.900340</td>\n",
              "    </tr>\n",
              "    <tr>\n",
              "      <th>4</th>\n",
              "      <td>Precision for Negative sentiment</td>\n",
              "      <td>0.831688</td>\n",
              "      <td>0.870095</td>\n",
              "      <td>0.848392</td>\n",
              "      <td>0.934059</td>\n",
              "    </tr>\n",
              "  </tbody>\n",
              "</table>\n",
              "</div>\n",
              "    <div class=\"colab-df-buttons\">\n",
              "\n",
              "  <div class=\"colab-df-container\">\n",
              "    <button class=\"colab-df-convert\" onclick=\"convertToInteractive('df-405367c6-c0c0-445a-bb9b-e26e6dcf3c6e')\"\n",
              "            title=\"Convert this dataframe to an interactive table.\"\n",
              "            style=\"display:none;\">\n",
              "\n",
              "  <svg xmlns=\"http://www.w3.org/2000/svg\" height=\"24px\" viewBox=\"0 -960 960 960\">\n",
              "    <path d=\"M120-120v-720h720v720H120Zm60-500h600v-160H180v160Zm220 220h160v-160H400v160Zm0 220h160v-160H400v160ZM180-400h160v-160H180v160Zm440 0h160v-160H620v160ZM180-180h160v-160H180v160Zm440 0h160v-160H620v160Z\"/>\n",
              "  </svg>\n",
              "    </button>\n",
              "\n",
              "  <style>\n",
              "    .colab-df-container {\n",
              "      display:flex;\n",
              "      gap: 12px;\n",
              "    }\n",
              "\n",
              "    .colab-df-convert {\n",
              "      background-color: #E8F0FE;\n",
              "      border: none;\n",
              "      border-radius: 50%;\n",
              "      cursor: pointer;\n",
              "      display: none;\n",
              "      fill: #1967D2;\n",
              "      height: 32px;\n",
              "      padding: 0 0 0 0;\n",
              "      width: 32px;\n",
              "    }\n",
              "\n",
              "    .colab-df-convert:hover {\n",
              "      background-color: #E2EBFA;\n",
              "      box-shadow: 0px 1px 2px rgba(60, 64, 67, 0.3), 0px 1px 3px 1px rgba(60, 64, 67, 0.15);\n",
              "      fill: #174EA6;\n",
              "    }\n",
              "\n",
              "    .colab-df-buttons div {\n",
              "      margin-bottom: 4px;\n",
              "    }\n",
              "\n",
              "    [theme=dark] .colab-df-convert {\n",
              "      background-color: #3B4455;\n",
              "      fill: #D2E3FC;\n",
              "    }\n",
              "\n",
              "    [theme=dark] .colab-df-convert:hover {\n",
              "      background-color: #434B5C;\n",
              "      box-shadow: 0px 1px 3px 1px rgba(0, 0, 0, 0.15);\n",
              "      filter: drop-shadow(0px 1px 2px rgba(0, 0, 0, 0.3));\n",
              "      fill: #FFFFFF;\n",
              "    }\n",
              "  </style>\n",
              "\n",
              "    <script>\n",
              "      const buttonEl =\n",
              "        document.querySelector('#df-405367c6-c0c0-445a-bb9b-e26e6dcf3c6e button.colab-df-convert');\n",
              "      buttonEl.style.display =\n",
              "        google.colab.kernel.accessAllowed ? 'block' : 'none';\n",
              "\n",
              "      async function convertToInteractive(key) {\n",
              "        const element = document.querySelector('#df-405367c6-c0c0-445a-bb9b-e26e6dcf3c6e');\n",
              "        const dataTable =\n",
              "          await google.colab.kernel.invokeFunction('convertToInteractive',\n",
              "                                                    [key], {});\n",
              "        if (!dataTable) return;\n",
              "\n",
              "        const docLinkHtml = 'Like what you see? Visit the ' +\n",
              "          '<a target=\"_blank\" href=https://colab.research.google.com/notebooks/data_table.ipynb>data table notebook</a>'\n",
              "          + ' to learn more about interactive tables.';\n",
              "        element.innerHTML = '';\n",
              "        dataTable['output_type'] = 'display_data';\n",
              "        await google.colab.output.renderOutput(dataTable, element);\n",
              "        const docLink = document.createElement('div');\n",
              "        docLink.innerHTML = docLinkHtml;\n",
              "        element.appendChild(docLink);\n",
              "      }\n",
              "    </script>\n",
              "  </div>\n",
              "\n",
              "\n",
              "<div id=\"df-6aa83074-ee09-447d-be77-a06936dede04\">\n",
              "  <button class=\"colab-df-quickchart\" onclick=\"quickchart('df-6aa83074-ee09-447d-be77-a06936dede04')\"\n",
              "            title=\"Suggest charts\"\n",
              "            style=\"display:none;\">\n",
              "\n",
              "<svg xmlns=\"http://www.w3.org/2000/svg\" height=\"24px\"viewBox=\"0 0 24 24\"\n",
              "     width=\"24px\">\n",
              "    <g>\n",
              "        <path d=\"M19 3H5c-1.1 0-2 .9-2 2v14c0 1.1.9 2 2 2h14c1.1 0 2-.9 2-2V5c0-1.1-.9-2-2-2zM9 17H7v-7h2v7zm4 0h-2V7h2v10zm4 0h-2v-4h2v4z\"/>\n",
              "    </g>\n",
              "</svg>\n",
              "  </button>\n",
              "\n",
              "<style>\n",
              "  .colab-df-quickchart {\n",
              "      --bg-color: #E8F0FE;\n",
              "      --fill-color: #1967D2;\n",
              "      --hover-bg-color: #E2EBFA;\n",
              "      --hover-fill-color: #174EA6;\n",
              "      --disabled-fill-color: #AAA;\n",
              "      --disabled-bg-color: #DDD;\n",
              "  }\n",
              "\n",
              "  [theme=dark] .colab-df-quickchart {\n",
              "      --bg-color: #3B4455;\n",
              "      --fill-color: #D2E3FC;\n",
              "      --hover-bg-color: #434B5C;\n",
              "      --hover-fill-color: #FFFFFF;\n",
              "      --disabled-bg-color: #3B4455;\n",
              "      --disabled-fill-color: #666;\n",
              "  }\n",
              "\n",
              "  .colab-df-quickchart {\n",
              "    background-color: var(--bg-color);\n",
              "    border: none;\n",
              "    border-radius: 50%;\n",
              "    cursor: pointer;\n",
              "    display: none;\n",
              "    fill: var(--fill-color);\n",
              "    height: 32px;\n",
              "    padding: 0;\n",
              "    width: 32px;\n",
              "  }\n",
              "\n",
              "  .colab-df-quickchart:hover {\n",
              "    background-color: var(--hover-bg-color);\n",
              "    box-shadow: 0 1px 2px rgba(60, 64, 67, 0.3), 0 1px 3px 1px rgba(60, 64, 67, 0.15);\n",
              "    fill: var(--button-hover-fill-color);\n",
              "  }\n",
              "\n",
              "  .colab-df-quickchart-complete:disabled,\n",
              "  .colab-df-quickchart-complete:disabled:hover {\n",
              "    background-color: var(--disabled-bg-color);\n",
              "    fill: var(--disabled-fill-color);\n",
              "    box-shadow: none;\n",
              "  }\n",
              "\n",
              "  .colab-df-spinner {\n",
              "    border: 2px solid var(--fill-color);\n",
              "    border-color: transparent;\n",
              "    border-bottom-color: var(--fill-color);\n",
              "    animation:\n",
              "      spin 1s steps(1) infinite;\n",
              "  }\n",
              "\n",
              "  @keyframes spin {\n",
              "    0% {\n",
              "      border-color: transparent;\n",
              "      border-bottom-color: var(--fill-color);\n",
              "      border-left-color: var(--fill-color);\n",
              "    }\n",
              "    20% {\n",
              "      border-color: transparent;\n",
              "      border-left-color: var(--fill-color);\n",
              "      border-top-color: var(--fill-color);\n",
              "    }\n",
              "    30% {\n",
              "      border-color: transparent;\n",
              "      border-left-color: var(--fill-color);\n",
              "      border-top-color: var(--fill-color);\n",
              "      border-right-color: var(--fill-color);\n",
              "    }\n",
              "    40% {\n",
              "      border-color: transparent;\n",
              "      border-right-color: var(--fill-color);\n",
              "      border-top-color: var(--fill-color);\n",
              "    }\n",
              "    60% {\n",
              "      border-color: transparent;\n",
              "      border-right-color: var(--fill-color);\n",
              "    }\n",
              "    80% {\n",
              "      border-color: transparent;\n",
              "      border-right-color: var(--fill-color);\n",
              "      border-bottom-color: var(--fill-color);\n",
              "    }\n",
              "    90% {\n",
              "      border-color: transparent;\n",
              "      border-bottom-color: var(--fill-color);\n",
              "    }\n",
              "  }\n",
              "</style>\n",
              "\n",
              "  <script>\n",
              "    async function quickchart(key) {\n",
              "      const quickchartButtonEl =\n",
              "        document.querySelector('#' + key + ' button');\n",
              "      quickchartButtonEl.disabled = true;  // To prevent multiple clicks.\n",
              "      quickchartButtonEl.classList.add('colab-df-spinner');\n",
              "      try {\n",
              "        const charts = await google.colab.kernel.invokeFunction(\n",
              "            'suggestCharts', [key], {});\n",
              "      } catch (error) {\n",
              "        console.error('Error during call to suggestCharts:', error);\n",
              "      }\n",
              "      quickchartButtonEl.classList.remove('colab-df-spinner');\n",
              "      quickchartButtonEl.classList.add('colab-df-quickchart-complete');\n",
              "    }\n",
              "    (() => {\n",
              "      let quickchartButtonEl =\n",
              "        document.querySelector('#df-6aa83074-ee09-447d-be77-a06936dede04 button');\n",
              "      quickchartButtonEl.style.display =\n",
              "        google.colab.kernel.accessAllowed ? 'block' : 'none';\n",
              "    })();\n",
              "  </script>\n",
              "</div>\n",
              "\n",
              "    </div>\n",
              "  </div>\n"
            ]
          },
          "metadata": {},
          "execution_count": 57
        }
      ],
      "source": [
        "result=pd.read_csv('BERT_ModelResults.csv')\n",
        "result['SynonymReplacement_Dataset']=[max(history.history['accuracy']),test_acc,f1_micro,f1_macro,precision_per_class[0],precision_per_class[1],precision_per_class[2],recall_per_class[0],recall_per_class[1],recall_per_class[2]]\n",
        "result.head()"
      ]
    },
    {
      "cell_type": "code",
      "execution_count": 58,
      "id": "86a4be7e",
      "metadata": {
        "id": "86a4be7e"
      },
      "outputs": [],
      "source": [
        "result.to_csv('BERT_ModelResults.csv', index=False)"
      ]
    },
    {
      "cell_type": "code",
      "source": [],
      "metadata": {
        "id": "AhZuHZBDOjYF"
      },
      "id": "AhZuHZBDOjYF",
      "execution_count": null,
      "outputs": []
    }
  ],
  "metadata": {
    "kernelspec": {
      "display_name": "Python 3",
      "name": "python3"
    },
    "language_info": {
      "codemirror_mode": {
        "name": "ipython",
        "version": 3
      },
      "file_extension": ".py",
      "mimetype": "text/x-python",
      "name": "python",
      "nbconvert_exporter": "python",
      "pygments_lexer": "ipython3",
      "version": "3.9.7"
    },
    "colab": {
      "provenance": [],
      "gpuType": "T4"
    },
    "accelerator": "GPU"
  },
  "nbformat": 4,
  "nbformat_minor": 5
}