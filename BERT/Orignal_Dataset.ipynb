{
  "cells": [
    {
      "cell_type": "markdown",
      "id": "c6575869",
      "metadata": {
        "id": "c6575869"
      },
      "source": [
        "# BERT Model"
      ]
    },
    {
      "cell_type": "code",
      "execution_count": 1,
      "id": "934847a5",
      "metadata": {
        "id": "934847a5"
      },
      "outputs": [],
      "source": [
        "#Imports\n",
        "import pandas as pd\n",
        "import numpy as np\n",
        "\n",
        "from gensim.models import Word2Vec\n",
        "from sklearn.model_selection import train_test_split\n",
        "from keras.preprocessing.text import Tokenizer\n",
        "from keras.utils import pad_sequences\n",
        "\n",
        "from keras.layers import Input, Embedding, Conv1D, MaxPooling1D, Flatten, Dense, Dropout, concatenate, Bidirectional, GRU\n",
        "from keras.models import Model\n",
        "from keras.constraints import MaxNorm\n",
        "from keras.optimizers import Adam\n",
        "\n",
        "import matplotlib.pyplot as plt\n",
        "import seaborn as sns\n",
        "from sklearn.metrics import confusion_matrix\n",
        "from sklearn.metrics import confusion_matrix, ConfusionMatrixDisplay\n",
        "from sklearn.metrics import classification_report\n",
        "from sklearn.metrics import precision_score, recall_score\n",
        "from sklearn.metrics import f1_score"
      ]
    },
    {
      "cell_type": "markdown",
      "id": "978ceb42",
      "metadata": {
        "id": "978ceb42"
      },
      "source": [
        "##### 1)Loading Dataset"
      ]
    },
    {
      "cell_type": "code",
      "execution_count": 2,
      "id": "272b56c0",
      "metadata": {
        "colab": {
          "base_uri": "https://localhost:8080/",
          "height": 310
        },
        "id": "272b56c0",
        "outputId": "5517b766-55da-4eb3-cd0e-8ec6c840d2a0"
      },
      "outputs": [
        {
          "output_type": "execute_result",
          "data": {
            "text/plain": [
              "             tweet_id  label  \\\n",
              "0  570306133677760513      2   \n",
              "1  570301130888122368      1   \n",
              "2  570301083672813571      2   \n",
              "3  570301031407624196      0   \n",
              "4  570300817074462722      0   \n",
              "\n",
              "                                                text  length  \\\n",
              "0                @VirginAmerica What @dhepburn said.      35   \n",
              "1  @VirginAmerica plus you've added commercials t...      72   \n",
              "2  @VirginAmerica I didn't today... Must mean I n...      71   \n",
              "3  @VirginAmerica it's really aggressive to blast...     126   \n",
              "4  @VirginAmerica and it's a really big bad thing...      55   \n",
              "\n",
              "                               preprocessed_abstract  length_after_cleaning  \\\n",
              "0                                           what say                      8   \n",
              "1               plus add commercial experience tacky                     36   \n",
              "2         i today must mean i need take another trip                     42   \n",
              "3  really aggressive blast obnoxious entertainmen...                     78   \n",
              "4                               really big bad thing                     20   \n",
              "\n",
              "                                      tokenized_text  \n",
              "0                                    ['what', 'say']  \n",
              "1  ['plus', 'add', 'commercial', 'experience', 't...  \n",
              "2  ['i', 'today', 'must', 'mean', 'i', 'need', 't...  \n",
              "3  ['really', 'aggressive', 'blast', 'obnoxious',...  \n",
              "4                  ['really', 'big', 'bad', 'thing']  "
            ],
            "text/html": [
              "\n",
              "  <div id=\"df-b56f1735-bd60-49c5-9e89-c4ba2d793fd9\" class=\"colab-df-container\">\n",
              "    <div>\n",
              "<style scoped>\n",
              "    .dataframe tbody tr th:only-of-type {\n",
              "        vertical-align: middle;\n",
              "    }\n",
              "\n",
              "    .dataframe tbody tr th {\n",
              "        vertical-align: top;\n",
              "    }\n",
              "\n",
              "    .dataframe thead th {\n",
              "        text-align: right;\n",
              "    }\n",
              "</style>\n",
              "<table border=\"1\" class=\"dataframe\">\n",
              "  <thead>\n",
              "    <tr style=\"text-align: right;\">\n",
              "      <th></th>\n",
              "      <th>tweet_id</th>\n",
              "      <th>label</th>\n",
              "      <th>text</th>\n",
              "      <th>length</th>\n",
              "      <th>preprocessed_abstract</th>\n",
              "      <th>length_after_cleaning</th>\n",
              "      <th>tokenized_text</th>\n",
              "    </tr>\n",
              "  </thead>\n",
              "  <tbody>\n",
              "    <tr>\n",
              "      <th>0</th>\n",
              "      <td>570306133677760513</td>\n",
              "      <td>2</td>\n",
              "      <td>@VirginAmerica What @dhepburn said.</td>\n",
              "      <td>35</td>\n",
              "      <td>what say</td>\n",
              "      <td>8</td>\n",
              "      <td>['what', 'say']</td>\n",
              "    </tr>\n",
              "    <tr>\n",
              "      <th>1</th>\n",
              "      <td>570301130888122368</td>\n",
              "      <td>1</td>\n",
              "      <td>@VirginAmerica plus you've added commercials t...</td>\n",
              "      <td>72</td>\n",
              "      <td>plus add commercial experience tacky</td>\n",
              "      <td>36</td>\n",
              "      <td>['plus', 'add', 'commercial', 'experience', 't...</td>\n",
              "    </tr>\n",
              "    <tr>\n",
              "      <th>2</th>\n",
              "      <td>570301083672813571</td>\n",
              "      <td>2</td>\n",
              "      <td>@VirginAmerica I didn't today... Must mean I n...</td>\n",
              "      <td>71</td>\n",
              "      <td>i today must mean i need take another trip</td>\n",
              "      <td>42</td>\n",
              "      <td>['i', 'today', 'must', 'mean', 'i', 'need', 't...</td>\n",
              "    </tr>\n",
              "    <tr>\n",
              "      <th>3</th>\n",
              "      <td>570301031407624196</td>\n",
              "      <td>0</td>\n",
              "      <td>@VirginAmerica it's really aggressive to blast...</td>\n",
              "      <td>126</td>\n",
              "      <td>really aggressive blast obnoxious entertainmen...</td>\n",
              "      <td>78</td>\n",
              "      <td>['really', 'aggressive', 'blast', 'obnoxious',...</td>\n",
              "    </tr>\n",
              "    <tr>\n",
              "      <th>4</th>\n",
              "      <td>570300817074462722</td>\n",
              "      <td>0</td>\n",
              "      <td>@VirginAmerica and it's a really big bad thing...</td>\n",
              "      <td>55</td>\n",
              "      <td>really big bad thing</td>\n",
              "      <td>20</td>\n",
              "      <td>['really', 'big', 'bad', 'thing']</td>\n",
              "    </tr>\n",
              "  </tbody>\n",
              "</table>\n",
              "</div>\n",
              "    <div class=\"colab-df-buttons\">\n",
              "\n",
              "  <div class=\"colab-df-container\">\n",
              "    <button class=\"colab-df-convert\" onclick=\"convertToInteractive('df-b56f1735-bd60-49c5-9e89-c4ba2d793fd9')\"\n",
              "            title=\"Convert this dataframe to an interactive table.\"\n",
              "            style=\"display:none;\">\n",
              "\n",
              "  <svg xmlns=\"http://www.w3.org/2000/svg\" height=\"24px\" viewBox=\"0 -960 960 960\">\n",
              "    <path d=\"M120-120v-720h720v720H120Zm60-500h600v-160H180v160Zm220 220h160v-160H400v160Zm0 220h160v-160H400v160ZM180-400h160v-160H180v160Zm440 0h160v-160H620v160ZM180-180h160v-160H180v160Zm440 0h160v-160H620v160Z\"/>\n",
              "  </svg>\n",
              "    </button>\n",
              "\n",
              "  <style>\n",
              "    .colab-df-container {\n",
              "      display:flex;\n",
              "      gap: 12px;\n",
              "    }\n",
              "\n",
              "    .colab-df-convert {\n",
              "      background-color: #E8F0FE;\n",
              "      border: none;\n",
              "      border-radius: 50%;\n",
              "      cursor: pointer;\n",
              "      display: none;\n",
              "      fill: #1967D2;\n",
              "      height: 32px;\n",
              "      padding: 0 0 0 0;\n",
              "      width: 32px;\n",
              "    }\n",
              "\n",
              "    .colab-df-convert:hover {\n",
              "      background-color: #E2EBFA;\n",
              "      box-shadow: 0px 1px 2px rgba(60, 64, 67, 0.3), 0px 1px 3px 1px rgba(60, 64, 67, 0.15);\n",
              "      fill: #174EA6;\n",
              "    }\n",
              "\n",
              "    .colab-df-buttons div {\n",
              "      margin-bottom: 4px;\n",
              "    }\n",
              "\n",
              "    [theme=dark] .colab-df-convert {\n",
              "      background-color: #3B4455;\n",
              "      fill: #D2E3FC;\n",
              "    }\n",
              "\n",
              "    [theme=dark] .colab-df-convert:hover {\n",
              "      background-color: #434B5C;\n",
              "      box-shadow: 0px 1px 3px 1px rgba(0, 0, 0, 0.15);\n",
              "      filter: drop-shadow(0px 1px 2px rgba(0, 0, 0, 0.3));\n",
              "      fill: #FFFFFF;\n",
              "    }\n",
              "  </style>\n",
              "\n",
              "    <script>\n",
              "      const buttonEl =\n",
              "        document.querySelector('#df-b56f1735-bd60-49c5-9e89-c4ba2d793fd9 button.colab-df-convert');\n",
              "      buttonEl.style.display =\n",
              "        google.colab.kernel.accessAllowed ? 'block' : 'none';\n",
              "\n",
              "      async function convertToInteractive(key) {\n",
              "        const element = document.querySelector('#df-b56f1735-bd60-49c5-9e89-c4ba2d793fd9');\n",
              "        const dataTable =\n",
              "          await google.colab.kernel.invokeFunction('convertToInteractive',\n",
              "                                                    [key], {});\n",
              "        if (!dataTable) return;\n",
              "\n",
              "        const docLinkHtml = 'Like what you see? Visit the ' +\n",
              "          '<a target=\"_blank\" href=https://colab.research.google.com/notebooks/data_table.ipynb>data table notebook</a>'\n",
              "          + ' to learn more about interactive tables.';\n",
              "        element.innerHTML = '';\n",
              "        dataTable['output_type'] = 'display_data';\n",
              "        await google.colab.output.renderOutput(dataTable, element);\n",
              "        const docLink = document.createElement('div');\n",
              "        docLink.innerHTML = docLinkHtml;\n",
              "        element.appendChild(docLink);\n",
              "      }\n",
              "    </script>\n",
              "  </div>\n",
              "\n",
              "\n",
              "<div id=\"df-056e20df-5656-40df-95b4-685cf7d70deb\">\n",
              "  <button class=\"colab-df-quickchart\" onclick=\"quickchart('df-056e20df-5656-40df-95b4-685cf7d70deb')\"\n",
              "            title=\"Suggest charts\"\n",
              "            style=\"display:none;\">\n",
              "\n",
              "<svg xmlns=\"http://www.w3.org/2000/svg\" height=\"24px\"viewBox=\"0 0 24 24\"\n",
              "     width=\"24px\">\n",
              "    <g>\n",
              "        <path d=\"M19 3H5c-1.1 0-2 .9-2 2v14c0 1.1.9 2 2 2h14c1.1 0 2-.9 2-2V5c0-1.1-.9-2-2-2zM9 17H7v-7h2v7zm4 0h-2V7h2v10zm4 0h-2v-4h2v4z\"/>\n",
              "    </g>\n",
              "</svg>\n",
              "  </button>\n",
              "\n",
              "<style>\n",
              "  .colab-df-quickchart {\n",
              "      --bg-color: #E8F0FE;\n",
              "      --fill-color: #1967D2;\n",
              "      --hover-bg-color: #E2EBFA;\n",
              "      --hover-fill-color: #174EA6;\n",
              "      --disabled-fill-color: #AAA;\n",
              "      --disabled-bg-color: #DDD;\n",
              "  }\n",
              "\n",
              "  [theme=dark] .colab-df-quickchart {\n",
              "      --bg-color: #3B4455;\n",
              "      --fill-color: #D2E3FC;\n",
              "      --hover-bg-color: #434B5C;\n",
              "      --hover-fill-color: #FFFFFF;\n",
              "      --disabled-bg-color: #3B4455;\n",
              "      --disabled-fill-color: #666;\n",
              "  }\n",
              "\n",
              "  .colab-df-quickchart {\n",
              "    background-color: var(--bg-color);\n",
              "    border: none;\n",
              "    border-radius: 50%;\n",
              "    cursor: pointer;\n",
              "    display: none;\n",
              "    fill: var(--fill-color);\n",
              "    height: 32px;\n",
              "    padding: 0;\n",
              "    width: 32px;\n",
              "  }\n",
              "\n",
              "  .colab-df-quickchart:hover {\n",
              "    background-color: var(--hover-bg-color);\n",
              "    box-shadow: 0 1px 2px rgba(60, 64, 67, 0.3), 0 1px 3px 1px rgba(60, 64, 67, 0.15);\n",
              "    fill: var(--button-hover-fill-color);\n",
              "  }\n",
              "\n",
              "  .colab-df-quickchart-complete:disabled,\n",
              "  .colab-df-quickchart-complete:disabled:hover {\n",
              "    background-color: var(--disabled-bg-color);\n",
              "    fill: var(--disabled-fill-color);\n",
              "    box-shadow: none;\n",
              "  }\n",
              "\n",
              "  .colab-df-spinner {\n",
              "    border: 2px solid var(--fill-color);\n",
              "    border-color: transparent;\n",
              "    border-bottom-color: var(--fill-color);\n",
              "    animation:\n",
              "      spin 1s steps(1) infinite;\n",
              "  }\n",
              "\n",
              "  @keyframes spin {\n",
              "    0% {\n",
              "      border-color: transparent;\n",
              "      border-bottom-color: var(--fill-color);\n",
              "      border-left-color: var(--fill-color);\n",
              "    }\n",
              "    20% {\n",
              "      border-color: transparent;\n",
              "      border-left-color: var(--fill-color);\n",
              "      border-top-color: var(--fill-color);\n",
              "    }\n",
              "    30% {\n",
              "      border-color: transparent;\n",
              "      border-left-color: var(--fill-color);\n",
              "      border-top-color: var(--fill-color);\n",
              "      border-right-color: var(--fill-color);\n",
              "    }\n",
              "    40% {\n",
              "      border-color: transparent;\n",
              "      border-right-color: var(--fill-color);\n",
              "      border-top-color: var(--fill-color);\n",
              "    }\n",
              "    60% {\n",
              "      border-color: transparent;\n",
              "      border-right-color: var(--fill-color);\n",
              "    }\n",
              "    80% {\n",
              "      border-color: transparent;\n",
              "      border-right-color: var(--fill-color);\n",
              "      border-bottom-color: var(--fill-color);\n",
              "    }\n",
              "    90% {\n",
              "      border-color: transparent;\n",
              "      border-bottom-color: var(--fill-color);\n",
              "    }\n",
              "  }\n",
              "</style>\n",
              "\n",
              "  <script>\n",
              "    async function quickchart(key) {\n",
              "      const quickchartButtonEl =\n",
              "        document.querySelector('#' + key + ' button');\n",
              "      quickchartButtonEl.disabled = true;  // To prevent multiple clicks.\n",
              "      quickchartButtonEl.classList.add('colab-df-spinner');\n",
              "      try {\n",
              "        const charts = await google.colab.kernel.invokeFunction(\n",
              "            'suggestCharts', [key], {});\n",
              "      } catch (error) {\n",
              "        console.error('Error during call to suggestCharts:', error);\n",
              "      }\n",
              "      quickchartButtonEl.classList.remove('colab-df-spinner');\n",
              "      quickchartButtonEl.classList.add('colab-df-quickchart-complete');\n",
              "    }\n",
              "    (() => {\n",
              "      let quickchartButtonEl =\n",
              "        document.querySelector('#df-056e20df-5656-40df-95b4-685cf7d70deb button');\n",
              "      quickchartButtonEl.style.display =\n",
              "        google.colab.kernel.accessAllowed ? 'block' : 'none';\n",
              "    })();\n",
              "  </script>\n",
              "</div>\n",
              "\n",
              "    </div>\n",
              "  </div>\n"
            ]
          },
          "metadata": {},
          "execution_count": 2
        }
      ],
      "source": [
        "df=pd.read_csv(\"df_Original.csv\")\n",
        "df.head()"
      ]
    },
    {
      "cell_type": "code",
      "execution_count": 3,
      "id": "88ee5469",
      "metadata": {
        "colab": {
          "base_uri": "https://localhost:8080/"
        },
        "id": "88ee5469",
        "outputId": "0976d4fb-5a7c-4806-cf9f-d11687d93549"
      },
      "outputs": [
        {
          "output_type": "execute_result",
          "data": {
            "text/plain": [
              "tweet_id                  0\n",
              "label                     0\n",
              "text                      0\n",
              "length                    0\n",
              "preprocessed_abstract    17\n",
              "length_after_cleaning     0\n",
              "tokenized_text            0\n",
              "dtype: int64"
            ]
          },
          "metadata": {},
          "execution_count": 3
        }
      ],
      "source": [
        "df.isnull().sum()"
      ]
    },
    {
      "cell_type": "code",
      "execution_count": 4,
      "id": "44209584",
      "metadata": {
        "id": "44209584"
      },
      "outputs": [],
      "source": [
        "df = df.dropna()"
      ]
    },
    {
      "cell_type": "code",
      "source": [],
      "metadata": {
        "id": "If2opzDVxVWV"
      },
      "id": "If2opzDVxVWV",
      "execution_count": 6,
      "outputs": []
    },
    {
      "cell_type": "code",
      "source": [],
      "metadata": {
        "id": "3ZvN4PJYzXlY"
      },
      "id": "3ZvN4PJYzXlY",
      "execution_count": 6,
      "outputs": []
    },
    {
      "cell_type": "markdown",
      "id": "46c4f1f4",
      "metadata": {
        "id": "46c4f1f4"
      },
      "source": [
        "##### 2)Preparing Data"
      ]
    },
    {
      "cell_type": "markdown",
      "id": "4e03b6a9",
      "metadata": {
        "id": "4e03b6a9"
      },
      "source": [
        "#####  3) Split , into Training and Validation Sets (80:20)"
      ]
    },
    {
      "cell_type": "code",
      "execution_count": 7,
      "id": "d8741840",
      "metadata": {
        "colab": {
          "base_uri": "https://localhost:8080/"
        },
        "id": "d8741840",
        "outputId": "b07b2906-0f17-4dda-ab5b-b5df745dcb7b"
      },
      "outputs": [
        {
          "output_type": "stream",
          "name": "stdout",
          "text": [
            "Train data: (11698,) (11698,)\n",
            "Test data: (2925,) (2925,)\n"
          ]
        }
      ],
      "source": [
        "X_train, X_test, y_train, y_test = train_test_split(df['preprocessed_abstract'], df['label'], test_size=0.2, stratify=df['label'], random_state=42)\n",
        "print(\"Train data:\",  X_train.shape, y_train.shape)\n",
        "print(\"Test data:\",  X_test.shape, y_test.shape)"
      ]
    },
    {
      "cell_type": "code",
      "execution_count": 8,
      "id": "9d5b7f7d",
      "metadata": {
        "colab": {
          "base_uri": "https://localhost:8080/",
          "height": 499
        },
        "id": "9d5b7f7d",
        "outputId": "a8dad7c8-3b03-4f6a-aed2-5271e2383bec"
      },
      "outputs": [
        {
          "output_type": "display_data",
          "data": {
            "text/plain": [
              "<Figure size 1400x600 with 1 Axes>"
            ],
            "image/png": "[encoded data removed]"
          },
          "metadata": {}
        }
      ],
      "source": [
        "plt.figure(figsize=(14,6))\n",
        "colors = ['#4285f4', '#ea4335', '#fbbc05', '#34a853']\n",
        "plt.rcParams.update({'font.size': 14})\n",
        "plt.pie([len(y_train), len(y_test)],\n",
        "        labels=['Train','Test'],\n",
        "        colors=colors, autopct='%.1f%%', explode=(0.05,0.05),\n",
        "        startangle=30);"
      ]
    },
    {
      "cell_type": "code",
      "source": [],
      "metadata": {
        "id": "EeIcTCJseIAJ"
      },
      "id": "EeIcTCJseIAJ",
      "execution_count": 9,
      "outputs": []
    },
    {
      "cell_type": "code",
      "execution_count": 11,
      "id": "edc6c4c7",
      "metadata": {
        "id": "edc6c4c7",
        "outputId": "e370742a-655b-44fc-cdf8-722eda114e54",
        "colab": {
          "base_uri": "https://localhost:8080/"
        }
      },
      "outputs": [
        {
          "output_type": "execute_result",
          "data": {
            "text/plain": [
              "<tf.Tensor: shape=(2925,), dtype=int64, numpy=array([0, 0, 0, ..., 0, 0, 0])>"
            ]
          },
          "metadata": {},
          "execution_count": 11
        }
      ],
      "source": [
        "from transformers import TFAutoModel, AutoTokenizer\n",
        "\n",
        "tokenizer = AutoTokenizer.from_pretrained(\"bert-base-uncased\")\n",
        "inputs = tokenizer(X_train.tolist(), padding = True, truncation = True, return_tensors = 'tf')\n",
        "inputs\n",
        "\n",
        "import tensorflow as tf\n",
        "\n",
        "output = tf.convert_to_tensor(y_train, dtype=tf.int64)\n",
        "output\n",
        "\n",
        "input_ids = inputs[\"input_ids\"]\n",
        "attention_mask = inputs[\"attention_mask\"]\n",
        "segment_ids = inputs.get(\"token_type_ids\", None)\n",
        "\n",
        "# Step 3: Convert to TensorFlow tensors\n",
        "input_ids = tf.convert_to_tensor(input_ids)\n",
        "attention_mask = tf.convert_to_tensor(attention_mask)\n",
        "segment_ids = tf.convert_to_tensor(segment_ids) if segment_ids is not None else None\n",
        "\n",
        "\n",
        "# Step 5: Create a dictionary of input tensors\n",
        "input_dict = {\n",
        "    \"input_ids\": input_ids,\n",
        "    \"attention_mask\": attention_mask,\n",
        "    \"token_type_ids\": segment_ids  # Include this if your BERT model expects segment_ids\n",
        "}\n",
        "inputstest = tokenizer(X_test.tolist(), padding = True, truncation = True, return_tensors = 'tf')\n",
        "\n",
        "\n",
        "input_idstest = inputstest[\"input_ids\"]\n",
        "attention_masktest = inputstest[\"attention_mask\"]\n",
        "segment_idstest = inputstest.get(\"token_type_ids\", None)\n",
        "\n",
        "# Step 3: Convert to TensorFlow tensors\n",
        "input_idstest = tf.convert_to_tensor(input_idstest)\n",
        "attention_masktest = tf.convert_to_tensor(attention_masktest)\n",
        "segment_idstest = tf.convert_to_tensor(segment_idstest) if segment_idstest is not None else None\n",
        "\n",
        "\n",
        "# Step 5: Create a dictionary of input tensors\n",
        "input_dicttest = {\n",
        "    \"input_ids\": input_idstest,\n",
        "    \"attention_mask\": attention_masktest,\n",
        "    \"token_type_ids\": segment_idstest  # Include this if your BERT model expects segment_ids\n",
        "}\n",
        "\n",
        "\n",
        "outputtest = tf.convert_to_tensor(y_test, dtype=tf.int64)\n",
        "outputtest"
      ]
    },
    {
      "cell_type": "markdown",
      "id": "c2ffb115",
      "metadata": {
        "id": "c2ffb115"
      },
      "source": [
        "##### 4)Model Architecture"
      ]
    },
    {
      "cell_type": "code",
      "execution_count": 12,
      "id": "1a556ad9",
      "metadata": {
        "id": "1a556ad9",
        "colab": {
          "base_uri": "https://localhost:8080/",
          "height": 156,
          "referenced_widgets": [
            "e130a316c5884fe89e39da292045326a",
            "2f2184f71a854969af91f7358f9a151b",
            "46c7b85f9b9d472fac851ebddf976f5e",
            "ae47b1a0a25849148ab2aeaa511f906a",
            "ff44a24f273b4d96bdaf6ae409b88b07",
            "e218394fe66b4117863003e78afcc02f",
            "27f65a08f0f84a61921b97bb4f310edd",
            "d0268072964b4680b3ff0ce43aadb481",
            "78e72571fbd44d8b97f9b48ffc7f2d67",
            "d5d4ed35cf75400e8fe69d152a6bf41b",
            "a94650d057bf4bb39161d5c6adcb37d3"
          ]
        },
        "outputId": "cc7fbcf8-5e8f-4592-8b5b-ccef578959a8"
      },
      "outputs": [
        {
          "output_type": "display_data",
          "data": {
            "text/plain": [
              "model.safetensors:   0%|          | 0.00/440M [00:00<?, ?B/s]"
            ],
            "application/vnd.jupyter.widget-view+json": {
              "version_major": 2,
              "version_minor": 0,
              "model_id": "e130a316c5884fe89e39da292045326a"
            }
          },
          "metadata": {}
        },
        {
          "output_type": "stream",
          "name": "stderr",
          "text": [
            "Some weights of the PyTorch model were not used when initializing the TF 2.0 model TFBertModel: ['cls.seq_relationship.weight', 'cls.predictions.bias', 'cls.predictions.transform.dense.bias', 'cls.predictions.transform.LayerNorm.weight', 'cls.predictions.transform.dense.weight', 'cls.seq_relationship.bias', 'cls.predictions.transform.LayerNorm.bias']\n",
            "- This IS expected if you are initializing TFBertModel from a PyTorch model trained on another task or with another architecture (e.g. initializing a TFBertForSequenceClassification model from a BertForPreTraining model).\n",
            "- This IS NOT expected if you are initializing TFBertModel from a PyTorch model that you expect to be exactly identical (e.g. initializing a TFBertForSequenceClassification model from a BertForSequenceClassification model).\n",
            "All the weights of TFBertModel were initialized from the PyTorch model.\n",
            "If your task is similar to the task the model of the checkpoint was trained on, you can already use TFBertModel for predictions without further training.\n"
          ]
        }
      ],
      "source": [
        "class BERTForClassification(tf.keras.Model):\n",
        "  def __init__(self, bert_model, num_classes):\n",
        "      super().__init__()\n",
        "      self.bert = bert_model\n",
        "      self.fc = tf.keras.layers.Dense(num_classes, activation = \"softmax\")\n",
        "  def call(self, inputs):\n",
        "    x = self.bert(inputs)[1]\n",
        "    return self.fc(x)\n",
        "\n",
        "\n",
        "model = TFAutoModel.from_pretrained(\"bert-base-uncased\")"
      ]
    },
    {
      "cell_type": "code",
      "execution_count": 13,
      "id": "abfb9a9f",
      "metadata": {
        "id": "abfb9a9f"
      },
      "outputs": [],
      "source": [
        "classifier = BERTForClassification(model, num_classes = 3)"
      ]
    },
    {
      "cell_type": "code",
      "execution_count": 15,
      "id": "e2d19a9a",
      "metadata": {
        "id": "e2d19a9a"
      },
      "outputs": [],
      "source": [
        "classifier.compile(\n",
        "    optimizer = tf.keras.optimizers.Adam(learning_rate = 1e-5),\n",
        "    loss = tf.keras.losses.SparseCategoricalCrossentropy(),\n",
        "    metrics = [\"accuracy\"]\n",
        ")"
      ]
    },
    {
      "cell_type": "markdown",
      "id": "6ea9dbdd",
      "metadata": {
        "id": "6ea9dbdd"
      },
      "source": [
        "##### 5) Training Model"
      ]
    },
    {
      "cell_type": "code",
      "execution_count": 16,
      "id": "1a3407cf",
      "metadata": {
        "id": "1a3407cf",
        "outputId": "7c4a3da4-e8d1-4bd2-9261-53e7b30f945c",
        "colab": {
          "base_uri": "https://localhost:8080/"
        }
      },
      "outputs": [
        {
          "output_type": "stream",
          "name": "stdout",
          "text": [
            "Epoch 1/5\n",
            "366/366 [==============================] - 149s 283ms/step - loss: 0.6397 - accuracy: 0.7370 - val_loss: 0.5020 - val_accuracy: 0.7973\n",
            "Epoch 2/5\n",
            "366/366 [==============================] - 95s 260ms/step - loss: 0.4424 - accuracy: 0.8246 - val_loss: 0.4960 - val_accuracy: 0.7945\n",
            "Epoch 3/5\n",
            "366/366 [==============================] - 98s 267ms/step - loss: 0.3420 - accuracy: 0.8698 - val_loss: 0.5239 - val_accuracy: 0.8024\n",
            "Epoch 4/5\n",
            "366/366 [==============================] - 98s 266ms/step - loss: 0.2431 - accuracy: 0.9127 - val_loss: 0.5842 - val_accuracy: 0.7925\n",
            "Epoch 5/5\n",
            "366/366 [==============================] - 98s 267ms/step - loss: 0.1647 - accuracy: 0.9418 - val_loss: 0.6953 - val_accuracy: 0.7979\n"
          ]
        }
      ],
      "source": [
        "history  = classifier.fit(input_dict, output, epochs = 5, validation_data = (input_dicttest, outputtest))"
      ]
    },
    {
      "cell_type": "markdown",
      "id": "5d00c466",
      "metadata": {
        "id": "5d00c466"
      },
      "source": [
        "##### 6) Finding Training and Testing Accuracy"
      ]
    },
    {
      "cell_type": "code",
      "execution_count": 18,
      "id": "6d517703",
      "metadata": {
        "id": "6d517703",
        "colab": {
          "base_uri": "https://localhost:8080/",
          "height": 486
        },
        "outputId": "7539b542-90dc-4c18-9c86-02511148cd3f"
      },
      "outputs": [
        {
          "output_type": "display_data",
          "data": {
            "text/plain": [
              "<Figure size 640x480 with 1 Axes>"
            ],
            "image/png": "[encoded data removed]"
          },
          "metadata": {}
        }
      ],
      "source": [
        "# Plot the training and testing accuracy\n",
        "plt.plot(history.history['accuracy'])\n",
        "plt.plot(history.history['val_accuracy'])\n",
        "plt.title('Model Accuracy')\n",
        "plt.ylabel('Accuracy')\n",
        "plt.xlabel('Epoch')\n",
        "plt.ylim([0, 1])\n",
        "plt.legend(['Train', 'Test'], loc='upper left')\n",
        "plt.show()"
      ]
    },
    {
      "cell_type": "code",
      "execution_count": 19,
      "id": "516fe5b8",
      "metadata": {
        "id": "516fe5b8",
        "colab": {
          "base_uri": "https://localhost:8080/"
        },
        "outputId": "2db2d260-5a57-4da4-9b52-e73ef9385be9"
      },
      "outputs": [
        {
          "output_type": "stream",
          "name": "stdout",
          "text": [
            "92/92 [==============================] - 8s 81ms/step - loss: 0.6953 - accuracy: 0.7979\n"
          ]
        },
        {
          "output_type": "execute_result",
          "data": {
            "text/plain": [
              "(0.6953032612800598, 0.7979487180709839)"
            ]
          },
          "metadata": {},
          "execution_count": 19
        }
      ],
      "source": [
        "test_loss,test_acc=classifier.evaluate(input_dicttest, outputtest)\n",
        "test_loss,test_acc"
      ]
    },
    {
      "cell_type": "markdown",
      "id": "80a47670",
      "metadata": {
        "id": "80a47670"
      },
      "source": [
        "##### 7) Compute and plot the confusion matrix for the three classes"
      ]
    },
    {
      "cell_type": "code",
      "execution_count": 20,
      "id": "7eb7ef1b",
      "metadata": {
        "id": "7eb7ef1b",
        "colab": {
          "base_uri": "https://localhost:8080/"
        },
        "outputId": "1357c8ff-75f7-4ce6-be8a-2cb6d093612c"
      },
      "outputs": [
        {
          "output_type": "stream",
          "name": "stdout",
          "text": [
            "92/92 [==============================] - 11s 84ms/step\n",
            "              precision    recall  f1-score   support\n",
            "\n",
            "    negative       0.83      0.92      0.87      1835\n",
            "     neutral       0.70      0.49      0.58       617\n",
            "    positive       0.74      0.73      0.74       473\n",
            "\n",
            "    accuracy                           0.80      2925\n",
            "   macro avg       0.76      0.71      0.73      2925\n",
            "weighted avg       0.79      0.80      0.79      2925\n",
            "\n"
          ]
        }
      ],
      "source": [
        "predictions=classifier.predict(input_dicttest)\n",
        "class_labels = ['negative', 'positive','neutral']\n",
        "predicted_class_labels = [class_labels[np.argmax(pred)] for pred in predictions]\n",
        "actual_class_labels=[class_labels[actual] for actual in y_test]\n",
        "print(classification_report(actual_class_labels, predicted_class_labels))"
      ]
    },
    {
      "cell_type": "code",
      "execution_count": 21,
      "id": "9208658a",
      "metadata": {
        "id": "9208658a",
        "colab": {
          "base_uri": "https://localhost:8080/",
          "height": 578
        },
        "outputId": "2b4c2895-0e10-43ff-fb7a-c11f8ee2b9a1"
      },
      "outputs": [
        {
          "output_type": "display_data",
          "data": {
            "text/plain": [
              "<Figure size 800x600 with 2 Axes>"
            ],
            "image/png": "[encoded data removed]"
          },
          "metadata": {}
        }
      ],
      "source": [
        "conf_matrix = confusion_matrix(actual_class_labels, predicted_class_labels, labels=class_labels)\n",
        "plt.figure(figsize=(8, 6))\n",
        "sns.heatmap(conf_matrix, annot=True, fmt=\"d\", cmap=\"Purples\", xticklabels=class_labels, yticklabels=class_labels)\n",
        "plt.title('Confusion Matrix')\n",
        "plt.xlabel('Predicted Labels')\n",
        "plt.ylabel('True Labels')\n",
        "plt.show()"
      ]
    },
    {
      "cell_type": "markdown",
      "id": "dd974772",
      "metadata": {
        "id": "dd974772"
      },
      "source": [
        "##### 8) Saving the final results in Excel sheet"
      ]
    },
    {
      "cell_type": "code",
      "execution_count": 22,
      "id": "a0081b41",
      "metadata": {
        "id": "a0081b41",
        "colab": {
          "base_uri": "https://localhost:8080/"
        },
        "outputId": "d3846477-2582-44bb-e143-24f1534ea897"
      },
      "outputs": [
        {
          "output_type": "stream",
          "name": "stdout",
          "text": [
            "Precision per class: [0.83168806 0.70138889 0.74089936]\n",
            "Recall per class: [0.91825613 0.4910859  0.73150106]\n"
          ]
        }
      ],
      "source": [
        "precision_per_class = precision_score(actual_class_labels, predicted_class_labels, average=None)\n",
        "recall_per_class = recall_score(actual_class_labels, predicted_class_labels, average=None)\n",
        "\n",
        "print(\"Precision per class:\", precision_per_class)\n",
        "print(\"Recall per class:\", recall_per_class)"
      ]
    },
    {
      "cell_type": "code",
      "execution_count": 23,
      "id": "7df0d2f2",
      "metadata": {
        "id": "7df0d2f2",
        "colab": {
          "base_uri": "https://localhost:8080/"
        },
        "outputId": "488a6151-48dc-4742-9e19-1e527e16a2c3"
      },
      "outputs": [
        {
          "output_type": "stream",
          "name": "stdout",
          "text": [
            "Micro F1 Score: 0.7979487179487179\n",
            "Macro F1 Score: 0.7288980421960836\n"
          ]
        }
      ],
      "source": [
        "f1_micro = f1_score(actual_class_labels, predicted_class_labels, average='micro')\n",
        "f1_macro = f1_score(actual_class_labels, predicted_class_labels, average='macro')\n",
        "\n",
        "print(\"Micro F1 Score:\", f1_micro)\n",
        "print(\"Macro F1 Score:\", f1_macro)"
      ]
    },
    {
      "cell_type": "code",
      "execution_count": 24,
      "id": "713cef8d",
      "metadata": {
        "id": "713cef8d",
        "colab": {
          "base_uri": "https://localhost:8080/",
          "height": 363
        },
        "outputId": "8a13313d-f3ce-4905-b61f-646a5f5ee373"
      },
      "outputs": [
        {
          "output_type": "execute_result",
          "data": {
            "text/plain": [
              "                                  Original_Dataset\n",
              "Training Accuracy                         0.941785\n",
              "Testing Accuracy                          0.797949\n",
              "Micro F1 Score                            0.797949\n",
              "Macro F1 Score                            0.728898\n",
              "Precision for Negative sentiment          0.831688\n",
              "Precision for Positive sentiment          0.701389\n",
              "Precision for Neutral sentiment           0.740899\n",
              "Recall for Negative sentiment             0.918256\n",
              "Recall for Positive sentiment             0.491086\n",
              "Recall for Neutral sentiment              0.731501"
            ],
            "text/html": [
              "\n",
              "  <div id=\"df-cbe62f7d-effc-45df-94a6-c93b462418ff\" class=\"colab-df-container\">\n",
              "    <div>\n",
              "<style scoped>\n",
              "    .dataframe tbody tr th:only-of-type {\n",
              "        vertical-align: middle;\n",
              "    }\n",
              "\n",
              "    .dataframe tbody tr th {\n",
              "        vertical-align: top;\n",
              "    }\n",
              "\n",
              "    .dataframe thead th {\n",
              "        text-align: right;\n",
              "    }\n",
              "</style>\n",
              "<table border=\"1\" class=\"dataframe\">\n",
              "  <thead>\n",
              "    <tr style=\"text-align: right;\">\n",
              "      <th></th>\n",
              "      <th>Original_Dataset</th>\n",
              "    </tr>\n",
              "  </thead>\n",
              "  <tbody>\n",
              "    <tr>\n",
              "      <th>Training Accuracy</th>\n",
              "      <td>0.941785</td>\n",
              "    </tr>\n",
              "    <tr>\n",
              "      <th>Testing Accuracy</th>\n",
              "      <td>0.797949</td>\n",
              "    </tr>\n",
              "    <tr>\n",
              "      <th>Micro F1 Score</th>\n",
              "      <td>0.797949</td>\n",
              "    </tr>\n",
              "    <tr>\n",
              "      <th>Macro F1 Score</th>\n",
              "      <td>0.728898</td>\n",
              "    </tr>\n",
              "    <tr>\n",
              "      <th>Precision for Negative sentiment</th>\n",
              "      <td>0.831688</td>\n",
              "    </tr>\n",
              "    <tr>\n",
              "      <th>Precision for Positive sentiment</th>\n",
              "      <td>0.701389</td>\n",
              "    </tr>\n",
              "    <tr>\n",
              "      <th>Precision for Neutral sentiment</th>\n",
              "      <td>0.740899</td>\n",
              "    </tr>\n",
              "    <tr>\n",
              "      <th>Recall for Negative sentiment</th>\n",
              "      <td>0.918256</td>\n",
              "    </tr>\n",
              "    <tr>\n",
              "      <th>Recall for Positive sentiment</th>\n",
              "      <td>0.491086</td>\n",
              "    </tr>\n",
              "    <tr>\n",
              "      <th>Recall for Neutral sentiment</th>\n",
              "      <td>0.731501</td>\n",
              "    </tr>\n",
              "  </tbody>\n",
              "</table>\n",
              "</div>\n",
              "    <div class=\"colab-df-buttons\">\n",
              "\n",
              "  <div class=\"colab-df-container\">\n",
              "    <button class=\"colab-df-convert\" onclick=\"convertToInteractive('df-cbe62f7d-effc-45df-94a6-c93b462418ff')\"\n",
              "            title=\"Convert this dataframe to an interactive table.\"\n",
              "            style=\"display:none;\">\n",
              "\n",
              "  <svg xmlns=\"http://www.w3.org/2000/svg\" height=\"24px\" viewBox=\"0 -960 960 960\">\n",
              "    <path d=\"M120-120v-720h720v720H120Zm60-500h600v-160H180v160Zm220 220h160v-160H400v160Zm0 220h160v-160H400v160ZM180-400h160v-160H180v160Zm440 0h160v-160H620v160ZM180-180h160v-160H180v160Zm440 0h160v-160H620v160Z\"/>\n",
              "  </svg>\n",
              "    </button>\n",
              "\n",
              "  <style>\n",
              "    .colab-df-container {\n",
              "      display:flex;\n",
              "      gap: 12px;\n",
              "    }\n",
              "\n",
              "    .colab-df-convert {\n",
              "      background-color: #E8F0FE;\n",
              "      border: none;\n",
              "      border-radius: 50%;\n",
              "      cursor: pointer;\n",
              "      display: none;\n",
              "      fill: #1967D2;\n",
              "      height: 32px;\n",
              "      padding: 0 0 0 0;\n",
              "      width: 32px;\n",
              "    }\n",
              "\n",
              "    .colab-df-convert:hover {\n",
              "      background-color: #E2EBFA;\n",
              "      box-shadow: 0px 1px 2px rgba(60, 64, 67, 0.3), 0px 1px 3px 1px rgba(60, 64, 67, 0.15);\n",
              "      fill: #174EA6;\n",
              "    }\n",
              "\n",
              "    .colab-df-buttons div {\n",
              "      margin-bottom: 4px;\n",
              "    }\n",
              "\n",
              "    [theme=dark] .colab-df-convert {\n",
              "      background-color: #3B4455;\n",
              "      fill: #D2E3FC;\n",
              "    }\n",
              "\n",
              "    [theme=dark] .colab-df-convert:hover {\n",
              "      background-color: #434B5C;\n",
              "      box-shadow: 0px 1px 3px 1px rgba(0, 0, 0, 0.15);\n",
              "      filter: drop-shadow(0px 1px 2px rgba(0, 0, 0, 0.3));\n",
              "      fill: #FFFFFF;\n",
              "    }\n",
              "  </style>\n",
              "\n",
              "    <script>\n",
              "      const buttonEl =\n",
              "        document.querySelector('#df-cbe62f7d-effc-45df-94a6-c93b462418ff button.colab-df-convert');\n",
              "      buttonEl.style.display =\n",
              "        google.colab.kernel.accessAllowed ? 'block' : 'none';\n",
              "\n",
              "      async function convertToInteractive(key) {\n",
              "        const element = document.querySelector('#df-cbe62f7d-effc-45df-94a6-c93b462418ff');\n",
              "        const dataTable =\n",
              "          await google.colab.kernel.invokeFunction('convertToInteractive',\n",
              "                                                    [key], {});\n",
              "        if (!dataTable) return;\n",
              "\n",
              "        const docLinkHtml = 'Like what you see? Visit the ' +\n",
              "          '<a target=\"_blank\" href=https://colab.research.google.com/notebooks/data_table.ipynb>data table notebook</a>'\n",
              "          + ' to learn more about interactive tables.';\n",
              "        element.innerHTML = '';\n",
              "        dataTable['output_type'] = 'display_data';\n",
              "        await google.colab.output.renderOutput(dataTable, element);\n",
              "        const docLink = document.createElement('div');\n",
              "        docLink.innerHTML = docLinkHtml;\n",
              "        element.appendChild(docLink);\n",
              "      }\n",
              "    </script>\n",
              "  </div>\n",
              "\n",
              "\n",
              "<div id=\"df-eff63b62-5a00-4ec7-b406-3b8fdb666b5f\">\n",
              "  <button class=\"colab-df-quickchart\" onclick=\"quickchart('df-eff63b62-5a00-4ec7-b406-3b8fdb666b5f')\"\n",
              "            title=\"Suggest charts\"\n",
              "            style=\"display:none;\">\n",
              "\n",
              "<svg xmlns=\"http://www.w3.org/2000/svg\" height=\"24px\"viewBox=\"0 0 24 24\"\n",
              "     width=\"24px\">\n",
              "    <g>\n",
              "        <path d=\"M19 3H5c-1.1 0-2 .9-2 2v14c0 1.1.9 2 2 2h14c1.1 0 2-.9 2-2V5c0-1.1-.9-2-2-2zM9 17H7v-7h2v7zm4 0h-2V7h2v10zm4 0h-2v-4h2v4z\"/>\n",
              "    </g>\n",
              "</svg>\n",
              "  </button>\n",
              "\n",
              "<style>\n",
              "  .colab-df-quickchart {\n",
              "      --bg-color: #E8F0FE;\n",
              "      --fill-color: #1967D2;\n",
              "      --hover-bg-color: #E2EBFA;\n",
              "      --hover-fill-color: #174EA6;\n",
              "      --disabled-fill-color: #AAA;\n",
              "      --disabled-bg-color: #DDD;\n",
              "  }\n",
              "\n",
              "  [theme=dark] .colab-df-quickchart {\n",
              "      --bg-color: #3B4455;\n",
              "      --fill-color: #D2E3FC;\n",
              "      --hover-bg-color: #434B5C;\n",
              "      --hover-fill-color: #FFFFFF;\n",
              "      --disabled-bg-color: #3B4455;\n",
              "      --disabled-fill-color: #666;\n",
              "  }\n",
              "\n",
              "  .colab-df-quickchart {\n",
              "    background-color: var(--bg-color);\n",
              "    border: none;\n",
              "    border-radius: 50%;\n",
              "    cursor: pointer;\n",
              "    display: none;\n",
              "    fill: var(--fill-color);\n",
              "    height: 32px;\n",
              "    padding: 0;\n",
              "    width: 32px;\n",
              "  }\n",
              "\n",
              "  .colab-df-quickchart:hover {\n",
              "    background-color: var(--hover-bg-color);\n",
              "    box-shadow: 0 1px 2px rgba(60, 64, 67, 0.3), 0 1px 3px 1px rgba(60, 64, 67, 0.15);\n",
              "    fill: var(--button-hover-fill-color);\n",
              "  }\n",
              "\n",
              "  .colab-df-quickchart-complete:disabled,\n",
              "  .colab-df-quickchart-complete:disabled:hover {\n",
              "    background-color: var(--disabled-bg-color);\n",
              "    fill: var(--disabled-fill-color);\n",
              "    box-shadow: none;\n",
              "  }\n",
              "\n",
              "  .colab-df-spinner {\n",
              "    border: 2px solid var(--fill-color);\n",
              "    border-color: transparent;\n",
              "    border-bottom-color: var(--fill-color);\n",
              "    animation:\n",
              "      spin 1s steps(1) infinite;\n",
              "  }\n",
              "\n",
              "  @keyframes spin {\n",
              "    0% {\n",
              "      border-color: transparent;\n",
              "      border-bottom-color: var(--fill-color);\n",
              "      border-left-color: var(--fill-color);\n",
              "    }\n",
              "    20% {\n",
              "      border-color: transparent;\n",
              "      border-left-color: var(--fill-color);\n",
              "      border-top-color: var(--fill-color);\n",
              "    }\n",
              "    30% {\n",
              "      border-color: transparent;\n",
              "      border-left-color: var(--fill-color);\n",
              "      border-top-color: var(--fill-color);\n",
              "      border-right-color: var(--fill-color);\n",
              "    }\n",
              "    40% {\n",
              "      border-color: transparent;\n",
              "      border-right-color: var(--fill-color);\n",
              "      border-top-color: var(--fill-color);\n",
              "    }\n",
              "    60% {\n",
              "      border-color: transparent;\n",
              "      border-right-color: var(--fill-color);\n",
              "    }\n",
              "    80% {\n",
              "      border-color: transparent;\n",
              "      border-right-color: var(--fill-color);\n",
              "      border-bottom-color: var(--fill-color);\n",
              "    }\n",
              "    90% {\n",
              "      border-color: transparent;\n",
              "      border-bottom-color: var(--fill-color);\n",
              "    }\n",
              "  }\n",
              "</style>\n",
              "\n",
              "  <script>\n",
              "    async function quickchart(key) {\n",
              "      const quickchartButtonEl =\n",
              "        document.querySelector('#' + key + ' button');\n",
              "      quickchartButtonEl.disabled = true;  // To prevent multiple clicks.\n",
              "      quickchartButtonEl.classList.add('colab-df-spinner');\n",
              "      try {\n",
              "        const charts = await google.colab.kernel.invokeFunction(\n",
              "            'suggestCharts', [key], {});\n",
              "      } catch (error) {\n",
              "        console.error('Error during call to suggestCharts:', error);\n",
              "      }\n",
              "      quickchartButtonEl.classList.remove('colab-df-spinner');\n",
              "      quickchartButtonEl.classList.add('colab-df-quickchart-complete');\n",
              "    }\n",
              "    (() => {\n",
              "      let quickchartButtonEl =\n",
              "        document.querySelector('#df-eff63b62-5a00-4ec7-b406-3b8fdb666b5f button');\n",
              "      quickchartButtonEl.style.display =\n",
              "        google.colab.kernel.accessAllowed ? 'block' : 'none';\n",
              "    })();\n",
              "  </script>\n",
              "</div>\n",
              "\n",
              "  <div id=\"id_b78c06ea-8da3-40c5-afb0-2b701e310c13\">\n",
              "    <style>\n",
              "      .colab-df-generate {\n",
              "        background-color: #E8F0FE;\n",
              "        border: none;\n",
              "        border-radius: 50%;\n",
              "        cursor: pointer;\n",
              "        display: none;\n",
              "        fill: #1967D2;\n",
              "        height: 32px;\n",
              "        padding: 0 0 0 0;\n",
              "        width: 32px;\n",
              "      }\n",
              "\n",
              "      .colab-df-generate:hover {\n",
              "        background-color: #E2EBFA;\n",
              "        box-shadow: 0px 1px 2px rgba(60, 64, 67, 0.3), 0px 1px 3px 1px rgba(60, 64, 67, 0.15);\n",
              "        fill: #174EA6;\n",
              "      }\n",
              "\n",
              "      [theme=dark] .colab-df-generate {\n",
              "        background-color: #3B4455;\n",
              "        fill: #D2E3FC;\n",
              "      }\n",
              "\n",
              "      [theme=dark] .colab-df-generate:hover {\n",
              "        background-color: #434B5C;\n",
              "        box-shadow: 0px 1px 3px 1px rgba(0, 0, 0, 0.15);\n",
              "        filter: drop-shadow(0px 1px 2px rgba(0, 0, 0, 0.3));\n",
              "        fill: #FFFFFF;\n",
              "      }\n",
              "    </style>\n",
              "    <button class=\"colab-df-generate\" onclick=\"generateWithVariable('result')\"\n",
              "            title=\"Generate code using this dataframe.\"\n",
              "            style=\"display:none;\">\n",
              "\n",
              "  <svg xmlns=\"http://www.w3.org/2000/svg\" height=\"24px\"viewBox=\"0 0 24 24\"\n",
              "       width=\"24px\">\n",
              "    <path d=\"M7,19H8.4L18.45,9,17,7.55,7,17.6ZM5,21V16.75L18.45,3.32a2,2,0,0,1,2.83,0l1.4,1.43a1.91,1.91,0,0,1,.58,1.4,1.91,1.91,0,0,1-.58,1.4L9.25,21ZM18.45,9,17,7.55Zm-12,3A5.31,5.31,0,0,0,4.9,8.1,5.31,5.31,0,0,0,1,6.5,5.31,5.31,0,0,0,4.9,4.9,5.31,5.31,0,0,0,6.5,1,5.31,5.31,0,0,0,8.1,4.9,5.31,5.31,0,0,0,12,6.5,5.46,5.46,0,0,0,6.5,12Z\"/>\n",
              "  </svg>\n",
              "    </button>\n",
              "    <script>\n",
              "      (() => {\n",
              "      const buttonEl =\n",
              "        document.querySelector('#id_b78c06ea-8da3-40c5-afb0-2b701e310c13 button.colab-df-generate');\n",
              "      buttonEl.style.display =\n",
              "        google.colab.kernel.accessAllowed ? 'block' : 'none';\n",
              "\n",
              "      buttonEl.onclick = () => {\n",
              "        google.colab.notebook.generateWithVariable('result');\n",
              "      }\n",
              "      })();\n",
              "    </script>\n",
              "  </div>\n",
              "\n",
              "    </div>\n",
              "  </div>\n"
            ]
          },
          "metadata": {},
          "execution_count": 24
        }
      ],
      "source": [
        "data={'Original_Dataset':[max(history.history['accuracy']),test_acc,f1_micro,f1_macro,precision_per_class[0],precision_per_class[1],precision_per_class[2],recall_per_class[0],recall_per_class[1],recall_per_class[2]]}\n",
        "result=pd.DataFrame(data,index=['Training Accuracy','Testing Accuracy','Micro F1 Score','Macro F1 Score','Precision for Negative sentiment','Precision for Positive sentiment','Precision for Neutral sentiment','Recall for Negative sentiment','Recall for Positive sentiment','Recall for Neutral sentiment'])\n",
        "result"
      ]
    },
    {
      "cell_type": "code",
      "execution_count": 26,
      "id": "63ff94a0",
      "metadata": {
        "id": "63ff94a0"
      },
      "outputs": [],
      "source": [
        "result.to_csv('BERT_ModelResults.csv', index=True)"
      ]
    },
    {
      "cell_type": "code",
      "execution_count": null,
      "id": "93c95de0",
      "metadata": {
        "id": "93c95de0"
      },
      "outputs": [],
      "source": []
    }
  ],
  "metadata": {
    "kernelspec": {
      "display_name": "Python 3",
      "name": "python3"
    },
    "language_info": {
      "codemirror_mode": {
        "name": "ipython",
        "version": 3
      },
      "file_extension": ".py",
      "mimetype": "text/x-python",
      "name": "python",
      "nbconvert_exporter": "python",
      "pygments_lexer": "ipython3",
      "version": "3.11.5"
    },
    "colab": {
      "provenance": [],
      "gpuType": "T4"
    },
    "accelerator": "GPU",
    "widgets": {
      "application/vnd.jupyter.widget-state+json": {
        "e130a316c5884fe89e39da292045326a": {
          "model_module": "@jupyter-widgets/controls",
          "model_name": "HBoxModel",
          "model_module_version": "1.5.0",
          "state": {
            "_dom_classes": [],
            "_model_module": "@jupyter-widgets/controls",
            "_model_module_version": "1.5.0",
            "_model_name": "HBoxModel",
            "_view_count": null,
            "_view_module": "@jupyter-widgets/controls",
            "_view_module_version": "1.5.0",
            "_view_name": "HBoxView",
            "box_style": "",
            "children": [
              "IPY_MODEL_2f2184f71a854969af91f7358f9a151b",
              "IPY_MODEL_46c7b85f9b9d472fac851ebddf976f5e",
              "IPY_MODEL_ae47b1a0a25849148ab2aeaa511f906a"
            ],
            "layout": "IPY_MODEL_ff44a24f273b4d96bdaf6ae409b88b07"
          }
        },
        "2f2184f71a854969af91f7358f9a151b": {
          "model_module": "@jupyter-widgets/controls",
          "model_name": "HTMLModel",
          "model_module_version": "1.5.0",
          "state": {
            "_dom_classes": [],
            "_model_module": "@jupyter-widgets/controls",
            "_model_module_version": "1.5.0",
            "_model_name": "HTMLModel",
            "_view_count": null,
            "_view_module": "@jupyter-widgets/controls",
            "_view_module_version": "1.5.0",
            "_view_name": "HTMLView",
            "description": "",
            "description_tooltip": null,
            "layout": "IPY_MODEL_e218394fe66b4117863003e78afcc02f",
            "placeholder": "​",
            "style": "IPY_MODEL_27f65a08f0f84a61921b97bb4f310edd",
            "value": "model.safetensors: 100%"
          }
        },
        "46c7b85f9b9d472fac851ebddf976f5e": {
          "model_module": "@jupyter-widgets/controls",
          "model_name": "FloatProgressModel",
          "model_module_version": "1.5.0",
          "state": {
            "_dom_classes": [],
            "_model_module": "@jupyter-widgets/controls",
            "_model_module_version": "1.5.0",
            "_model_name": "FloatProgressModel",
            "_view_count": null,
            "_view_module": "@jupyter-widgets/controls",
            "_view_module_version": "1.5.0",
            "_view_name": "ProgressView",
            "bar_style": "success",
            "description": "",
            "description_tooltip": null,
            "layout": "IPY_MODEL_d0268072964b4680b3ff0ce43aadb481",
            "max": 440449768,
            "min": 0,
            "orientation": "horizontal",
            "style": "IPY_MODEL_78e72571fbd44d8b97f9b48ffc7f2d67",
            "value": 440449768
          }
        },
        "ae47b1a0a25849148ab2aeaa511f906a": {
          "model_module": "@jupyter-widgets/controls",
          "model_name": "HTMLModel",
          "model_module_version": "1.5.0",
          "state": {
            "_dom_classes": [],
            "_model_module": "@jupyter-widgets/controls",
            "_model_module_version": "1.5.0",
            "_model_name": "HTMLModel",
            "_view_count": null,
            "_view_module": "@jupyter-widgets/controls",
            "_view_module_version": "1.5.0",
            "_view_name": "HTMLView",
            "description": "",
            "description_tooltip": null,
            "layout": "IPY_MODEL_d5d4ed35cf75400e8fe69d152a6bf41b",
            "placeholder": "​",
            "style": "IPY_MODEL_a94650d057bf4bb39161d5c6adcb37d3",
            "value": " 440M/440M [00:01&lt;00:00, 270MB/s]"
          }
        },
        "ff44a24f273b4d96bdaf6ae409b88b07": {
          "model_module": "@jupyter-widgets/base",
          "model_name": "LayoutModel",
          "model_module_version": "1.2.0",
          "state": {
            "_model_module": "@jupyter-widgets/base",
            "_model_module_version": "1.2.0",
            "_model_name": "LayoutModel",
            "_view_count": null,
            "_view_module": "@jupyter-widgets/base",
            "_view_module_version": "1.2.0",
            "_view_name": "LayoutView",
            "align_content": null,
            "align_items": null,
            "align_self": null,
            "border": null,
            "bottom": null,
            "display": null,
            "flex": null,
            "flex_flow": null,
            "grid_area": null,
            "grid_auto_columns": null,
            "grid_auto_flow": null,
            "grid_auto_rows": null,
            "grid_column": null,
            "grid_gap": null,
            "grid_row": null,
            "grid_template_areas": null,
            "grid_template_columns": null,
            "grid_template_rows": null,
            "height": null,
            "justify_content": null,
            "justify_items": null,
            "left": null,
            "margin": null,
            "max_height": null,
            "max_width": null,
            "min_height": null,
            "min_width": null,
            "object_fit": null,
            "object_position": null,
            "order": null,
            "overflow": null,
            "overflow_x": null,
            "overflow_y": null,
            "padding": null,
            "right": null,
            "top": null,
            "visibility": null,
            "width": null
          }
        },
        "e218394fe66b4117863003e78afcc02f": {
          "model_module": "@jupyter-widgets/base",
          "model_name": "LayoutModel",
          "model_module_version": "1.2.0",
          "state": {
            "_model_module": "@jupyter-widgets/base",
            "_model_module_version": "1.2.0",
            "_model_name": "LayoutModel",
            "_view_count": null,
            "_view_module": "@jupyter-widgets/base",
            "_view_module_version": "1.2.0",
            "_view_name": "LayoutView",
            "align_content": null,
            "align_items": null,
            "align_self": null,
            "border": null,
            "bottom": null,
            "display": null,
            "flex": null,
            "flex_flow": null,
            "grid_area": null,
            "grid_auto_columns": null,
            "grid_auto_flow": null,
            "grid_auto_rows": null,
            "grid_column": null,
            "grid_gap": null,
            "grid_row": null,
            "grid_template_areas": null,
            "grid_template_columns": null,
            "grid_template_rows": null,
            "height": null,
            "justify_content": null,
            "justify_items": null,
            "left": null,
            "margin": null,
            "max_height": null,
            "max_width": null,
            "min_height": null,
            "min_width": null,
            "object_fit": null,
            "object_position": null,
            "order": null,
            "overflow": null,
            "overflow_x": null,
            "overflow_y": null,
            "padding": null,
            "right": null,
            "top": null,
            "visibility": null,
            "width": null
          }
        },
        "27f65a08f0f84a61921b97bb4f310edd": {
          "model_module": "@jupyter-widgets/controls",
          "model_name": "DescriptionStyleModel",
          "model_module_version": "1.5.0",
          "state": {
            "_model_module": "@jupyter-widgets/controls",
            "_model_module_version": "1.5.0",
            "_model_name": "DescriptionStyleModel",
            "_view_count": null,
            "_view_module": "@jupyter-widgets/base",
            "_view_module_version": "1.2.0",
            "_view_name": "StyleView",
            "description_width": ""
          }
        },
        "d0268072964b4680b3ff0ce43aadb481": {
          "model_module": "@jupyter-widgets/base",
          "model_name": "LayoutModel",
          "model_module_version": "1.2.0",
          "state": {
            "_model_module": "@jupyter-widgets/base",
            "_model_module_version": "1.2.0",
            "_model_name": "LayoutModel",
            "_view_count": null,
            "_view_module": "@jupyter-widgets/base",
            "_view_module_version": "1.2.0",
            "_view_name": "LayoutView",
            "align_content": null,
            "align_items": null,
            "align_self": null,
            "border": null,
            "bottom": null,
            "display": null,
            "flex": null,
            "flex_flow": null,
            "grid_area": null,
            "grid_auto_columns": null,
            "grid_auto_flow": null,
            "grid_auto_rows": null,
            "grid_column": null,
            "grid_gap": null,
            "grid_row": null,
            "grid_template_areas": null,
            "grid_template_columns": null,
            "grid_template_rows": null,
            "height": null,
            "justify_content": null,
            "justify_items": null,
            "left": null,
            "margin": null,
            "max_height": null,
            "max_width": null,
            "min_height": null,
            "min_width": null,
            "object_fit": null,
            "object_position": null,
            "order": null,
            "overflow": null,
            "overflow_x": null,
            "overflow_y": null,
            "padding": null,
            "right": null,
            "top": null,
            "visibility": null,
            "width": null
          }
        },
        "78e72571fbd44d8b97f9b48ffc7f2d67": {
          "model_module": "@jupyter-widgets/controls",
          "model_name": "ProgressStyleModel",
          "model_module_version": "1.5.0",
          "state": {
            "_model_module": "@jupyter-widgets/controls",
            "_model_module_version": "1.5.0",
            "_model_name": "ProgressStyleModel",
            "_view_count": null,
            "_view_module": "@jupyter-widgets/base",
            "_view_module_version": "1.2.0",
            "_view_name": "StyleView",
            "bar_color": null,
            "description_width": ""
          }
        },
        "d5d4ed35cf75400e8fe69d152a6bf41b": {
          "model_module": "@jupyter-widgets/base",
          "model_name": "LayoutModel",
          "model_module_version": "1.2.0",
          "state": {
            "_model_module": "@jupyter-widgets/base",
            "_model_module_version": "1.2.0",
            "_model_name": "LayoutModel",
            "_view_count": null,
            "_view_module": "@jupyter-widgets/base",
            "_view_module_version": "1.2.0",
            "_view_name": "LayoutView",
            "align_content": null,
            "align_items": null,
            "align_self": null,
            "border": null,
            "bottom": null,
            "display": null,
            "flex": null,
            "flex_flow": null,
            "grid_area": null,
            "grid_auto_columns": null,
            "grid_auto_flow": null,
            "grid_auto_rows": null,
            "grid_column": null,
            "grid_gap": null,
            "grid_row": null,
            "grid_template_areas": null,
            "grid_template_columns": null,
            "grid_template_rows": null,
            "height": null,
            "justify_content": null,
            "justify_items": null,
            "left": null,
            "margin": null,
            "max_height": null,
            "max_width": null,
            "min_height": null,
            "min_width": null,
            "object_fit": null,
            "object_position": null,
            "order": null,
            "overflow": null,
            "overflow_x": null,
            "overflow_y": null,
            "padding": null,
            "right": null,
            "top": null,
            "visibility": null,
            "width": null
          }
        },
        "a94650d057bf4bb39161d5c6adcb37d3": {
          "model_module": "@jupyter-widgets/controls",
          "model_name": "DescriptionStyleModel",
          "model_module_version": "1.5.0",
          "state": {
            "_model_module": "@jupyter-widgets/controls",
            "_model_module_version": "1.5.0",
            "_model_name": "DescriptionStyleModel",
            "_view_count": null,
            "_view_module": "@jupyter-widgets/base",
            "_view_module_version": "1.2.0",
            "_view_name": "StyleView",
            "description_width": ""
          }
        }
      }
    }
  },
  "nbformat": 4,
  "nbformat_minor": 5
}