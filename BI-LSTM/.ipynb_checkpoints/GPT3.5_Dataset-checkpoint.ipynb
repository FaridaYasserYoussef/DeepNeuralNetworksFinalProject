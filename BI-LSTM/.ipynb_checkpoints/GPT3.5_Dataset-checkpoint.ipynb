{
 "cells": [
  {
   "cell_type": "markdown",
   "id": "c6575869",
   "metadata": {},
   "source": [
    "# BI-LSTM Model"
   ]
  },
  {
   "cell_type": "code",
   "execution_count": 1,
   "id": "934847a5",
   "metadata": {},
   "outputs": [
    {
     "name": "stdout",
     "output_type": "stream",
     "text": [
      "WARNING:tensorflow:From D:\\Users\\Suzan Hatem\\anaconda3\\lib\\site-packages\\keras\\src\\losses.py:2976: The name tf.losses.sparse_softmax_cross_entropy is deprecated. Please use tf.compat.v1.losses.sparse_softmax_cross_entropy instead.\n",
      "\n"
     ]
    }
   ],
   "source": [
    "#Imports\n",
    "import pandas as pd\n",
    "import numpy as np\n",
    "\n",
    "from gensim.models import Word2Vec\n",
    "from sklearn.model_selection import train_test_split\n",
    "from keras.preprocessing.text import Tokenizer\n",
    "from keras.utils import pad_sequences\n",
    "\n",
    "from keras.models import Sequential\n",
    "from keras.layers import Embedding, Bidirectional, LSTM, Dense\n",
    "from keras.models import Model\n",
    "from keras.optimizers import Adam\n",
    "\n",
    "import matplotlib.pyplot as plt\n",
    "import seaborn as sns\n",
    "from sklearn.metrics import confusion_matrix\n",
    "from sklearn.metrics import confusion_matrix, ConfusionMatrixDisplay\n",
    "from sklearn.metrics import classification_report\n",
    "from sklearn.metrics import precision_score, recall_score\n",
    "from sklearn.metrics import f1_score"
   ]
  },
  {
   "cell_type": "markdown",
   "id": "978ceb42",
   "metadata": {},
   "source": [
    "##### 1)Loading Dataset"
   ]
  },
  {
   "cell_type": "code",
   "execution_count": 2,
   "id": "272b56c0",
   "metadata": {},
   "outputs": [
    {
     "data": {
      "text/html": [
       "<div>\n",
       "<style scoped>\n",
       "    .dataframe tbody tr th:only-of-type {\n",
       "        vertical-align: middle;\n",
       "    }\n",
       "\n",
       "    .dataframe tbody tr th {\n",
       "        vertical-align: top;\n",
       "    }\n",
       "\n",
       "    .dataframe thead th {\n",
       "        text-align: right;\n",
       "    }\n",
       "</style>\n",
       "<table border=\"1\" class=\"dataframe\">\n",
       "  <thead>\n",
       "    <tr style=\"text-align: right;\">\n",
       "      <th></th>\n",
       "      <th>Unnamed: 0.1</th>\n",
       "      <th>Unnamed: 0</th>\n",
       "      <th>label</th>\n",
       "      <th>text</th>\n",
       "      <th>length</th>\n",
       "      <th>preprocessed_abstract</th>\n",
       "      <th>length_after_cleaning</th>\n",
       "      <th>tokenized_text</th>\n",
       "    </tr>\n",
       "  </thead>\n",
       "  <tbody>\n",
       "    <tr>\n",
       "      <th>0</th>\n",
       "      <td>0</td>\n",
       "      <td>0</td>\n",
       "      <td>2</td>\n",
       "      <td>@VirginAmerica What @dhepburn said.</td>\n",
       "      <td>35</td>\n",
       "      <td>what say</td>\n",
       "      <td>8</td>\n",
       "      <td>['what', 'say']</td>\n",
       "    </tr>\n",
       "    <tr>\n",
       "      <th>1</th>\n",
       "      <td>1</td>\n",
       "      <td>1</td>\n",
       "      <td>1</td>\n",
       "      <td>@VirginAmerica plus you've added commercials t...</td>\n",
       "      <td>72</td>\n",
       "      <td>plus add commercial experience tacky</td>\n",
       "      <td>36</td>\n",
       "      <td>['plus', 'add', 'commercial', 'experience', 't...</td>\n",
       "    </tr>\n",
       "    <tr>\n",
       "      <th>2</th>\n",
       "      <td>2</td>\n",
       "      <td>2</td>\n",
       "      <td>2</td>\n",
       "      <td>@VirginAmerica I didn't today... Must mean I n...</td>\n",
       "      <td>71</td>\n",
       "      <td>i today must mean i need take another trip</td>\n",
       "      <td>42</td>\n",
       "      <td>['i', 'today', 'must', 'mean', 'i', 'need', 't...</td>\n",
       "    </tr>\n",
       "    <tr>\n",
       "      <th>3</th>\n",
       "      <td>3</td>\n",
       "      <td>3</td>\n",
       "      <td>0</td>\n",
       "      <td>@VirginAmerica it's really aggressive to blast...</td>\n",
       "      <td>126</td>\n",
       "      <td>really aggressive blast obnoxious entertainmen...</td>\n",
       "      <td>78</td>\n",
       "      <td>['really', 'aggressive', 'blast', 'obnoxious',...</td>\n",
       "    </tr>\n",
       "    <tr>\n",
       "      <th>4</th>\n",
       "      <td>4</td>\n",
       "      <td>4</td>\n",
       "      <td>0</td>\n",
       "      <td>@VirginAmerica and it's a really big bad thing...</td>\n",
       "      <td>55</td>\n",
       "      <td>really big bad thing</td>\n",
       "      <td>20</td>\n",
       "      <td>['really', 'big', 'bad', 'thing']</td>\n",
       "    </tr>\n",
       "  </tbody>\n",
       "</table>\n",
       "</div>"
      ],
      "text/plain": [
       "   Unnamed: 0.1  Unnamed: 0  label  \\\n",
       "0             0           0      2   \n",
       "1             1           1      1   \n",
       "2             2           2      2   \n",
       "3             3           3      0   \n",
       "4             4           4      0   \n",
       "\n",
       "                                                text  length  \\\n",
       "0                @VirginAmerica What @dhepburn said.      35   \n",
       "1  @VirginAmerica plus you've added commercials t...      72   \n",
       "2  @VirginAmerica I didn't today... Must mean I n...      71   \n",
       "3  @VirginAmerica it's really aggressive to blast...     126   \n",
       "4  @VirginAmerica and it's a really big bad thing...      55   \n",
       "\n",
       "                               preprocessed_abstract  length_after_cleaning  \\\n",
       "0                                           what say                      8   \n",
       "1               plus add commercial experience tacky                     36   \n",
       "2         i today must mean i need take another trip                     42   \n",
       "3  really aggressive blast obnoxious entertainmen...                     78   \n",
       "4                               really big bad thing                     20   \n",
       "\n",
       "                                      tokenized_text  \n",
       "0                                    ['what', 'say']  \n",
       "1  ['plus', 'add', 'commercial', 'experience', 't...  \n",
       "2  ['i', 'today', 'must', 'mean', 'i', 'need', 't...  \n",
       "3  ['really', 'aggressive', 'blast', 'obnoxious',...  \n",
       "4                  ['really', 'big', 'bad', 'thing']  "
      ]
     },
     "execution_count": 2,
     "metadata": {},
     "output_type": "execute_result"
    }
   ],
   "source": [
    "df_train=pd.read_csv(\"training_GPT.csv\")\n",
    "df_test=pd.read_csv(\"testing_GPT.csv\")"
   ]
  },
  {
   "cell_type": "code",
   "execution_count": null,
   "id": "65c4c4f8",
   "metadata": {},
   "outputs": [],
   "source": [
    "df_train.isnull().sum()"
   ]
  },
  {
   "cell_type": "code",
   "execution_count": 3,
   "id": "17c756b8",
   "metadata": {},
   "outputs": [
    {
     "data": {
      "text/plain": [
       "Unnamed: 0.1               0\n",
       "Unnamed: 0                 0\n",
       "label                      0\n",
       "text                       0\n",
       "length                     0\n",
       "preprocessed_abstract    408\n",
       "length_after_cleaning      0\n",
       "tokenized_text             0\n",
       "dtype: int64"
      ]
     },
     "execution_count": 3,
     "metadata": {},
     "output_type": "execute_result"
    }
   ],
   "source": [
    "df_test.isnull().sum()"
   ]
  },
  {
   "cell_type": "code",
   "execution_count": 4,
   "id": "34e6d18c",
   "metadata": {},
   "outputs": [],
   "source": [
    "df_train=df_train.dropna()\n",
    "df_test=df_test.dropna()"
   ]
  },
  {
   "cell_type": "markdown",
   "id": "46c4f1f4",
   "metadata": {},
   "source": [
    "##### 2)Preparing Data"
   ]
  },
  {
   "cell_type": "markdown",
   "id": "1130b37b",
   "metadata": {},
   "source": [
    "- Word2Vec model (pre-trained word embeddings) for embedding layer in the model"
   ]
  },
  {
   "cell_type": "code",
   "execution_count": null,
   "id": "433aaf10",
   "metadata": {},
   "outputs": [],
   "source": [
    "preprocessed_abstract=pd.concat([df_train['preprocessed_abstract'],df_test['preprocessed_abstract']], axis=0, ignore_index=True)"
   ]
  },
  {
   "cell_type": "code",
   "execution_count": 5,
   "id": "029601c1",
   "metadata": {},
   "outputs": [
    {
     "data": {
      "text/plain": [
       "array([[ 7.6263845e-01, -2.6060739e-01,  9.3051296e-01, ...,\n",
       "        -6.6752869e-01,  2.2758618e-01,  2.0328881e-01],\n",
       "       [-7.4496776e-01,  2.5948882e-01,  1.3042296e+00, ...,\n",
       "        -6.0710597e-01, -4.5339969e-01,  4.6441597e-01],\n",
       "       [-3.0894217e-01,  6.5545434e-01, -1.3346341e-01, ...,\n",
       "        -6.8324536e-01,  4.3719180e-02, -1.0916139e-01],\n",
       "       ...,\n",
       "       [ 7.0041866e-04,  1.0623726e-02,  9.1358731e-03, ...,\n",
       "        -2.0518206e-02,  2.2092126e-03,  1.4475840e-02],\n",
       "       [-1.1148380e-02,  9.6113030e-03, -2.5757991e-03, ...,\n",
       "        -5.9059734e-05, -1.1389914e-03,  8.2134213e-03],\n",
       "       [-1.2392705e-02, -5.3316979e-03,  8.5765691e-03, ...,\n",
       "        -8.2536405e-03,  1.0956483e-02,  2.2500628e-03]], dtype=float32)"
      ]
     },
     "execution_count": 5,
     "metadata": {},
     "output_type": "execute_result"
    }
   ],
   "source": [
    "sentences = [sentence.split() for sentence in preprocessed_abstract]\n",
    "# Create and train the Word2Vec model\n",
    "model_2= Word2Vec(sentences, vector_size=100, window=5, min_count=1, workers=4)\n",
    "# Access the word vectors\n",
    "word_vectors = model_2.wv\n",
    "word_vectors.vectors"
   ]
  },
  {
   "cell_type": "code",
   "execution_count": 6,
   "id": "08dd43f6",
   "metadata": {},
   "outputs": [
    {
     "data": {
      "text/plain": [
       "(9391, 100)"
      ]
     },
     "execution_count": 6,
     "metadata": {},
     "output_type": "execute_result"
    }
   ],
   "source": [
    "word_vectors.vectors.shape"
   ]
  },
  {
   "cell_type": "markdown",
   "id": "4e03b6a9",
   "metadata": {},
   "source": [
    "#####  3) Split , into Training and Validation Sets (80:20)"
   ]
  },
  {
   "cell_type": "code",
   "execution_count": null,
   "id": "e9ea52de",
   "metadata": {},
   "outputs": [],
   "source": [
    "X_train=df_train['preprocessed_abstract']\n",
    "X_test=df_test['preprocessed_abstract']\n",
    "y_train=df_train['label']\n",
    "y_test=df_test['label']"
   ]
  },
  {
   "cell_type": "code",
   "execution_count": null,
   "id": "d3fd3630",
   "metadata": {},
   "outputs": [],
   "source": [
    "print(\"Train data:\",  X_train.shape, y_train.shape)\n",
    "print(\"Test data:\",  X_test.shape, y_test.shape)"
   ]
  },
  {
   "cell_type": "code",
   "execution_count": 8,
   "id": "9d5b7f7d",
   "metadata": {},
   "outputs": [
    {
     "data": {
      "image/png": "[encoded data removed]",
      "text/plain": [
       "<Figure size 1008x432 with 1 Axes>"
      ]
     },
     "metadata": {},
     "output_type": "display_data"
    }
   ],
   "source": [
    "plt.figure(figsize=(14,6))\n",
    "colors = ['#4285f4', '#ea4335', '#fbbc05', '#34a853']\n",
    "plt.rcParams.update({'font.size': 14})\n",
    "plt.pie([len(y_train), len(y_test)],\n",
    "        labels=['Train','Test'],\n",
    "        colors=colors, autopct='%.1f%%', explode=(0.05,0.05),\n",
    "        startangle=30);"
   ]
  },
  {
   "cell_type": "code",
   "execution_count": 9,
   "id": "7b70c66f",
   "metadata": {},
   "outputs": [
    {
     "name": "stdout",
     "output_type": "stream",
     "text": [
      "[[  90   26    3 ...    0    0    0]\n",
      " [1268  658  206 ...    0    0    0]\n",
      " [  75  425 2057 ...    0    0    0]\n",
      " ...\n",
      " [   4    1 8737 ...    0    0    0]\n",
      " [  47   47   47 ...    0    0    0]\n",
      " [  59 2720  980 ...    0    0    0]]\n"
     ]
    }
   ],
   "source": [
    "corp=X_train\n",
    "t = Tokenizer()\n",
    "t.fit_on_texts(corp)\n",
    "vocab_size = len(t.word_index) + 1\n",
    "# integer encode the documents\n",
    "encoded_docs = t.texts_to_sequences(corp)\n",
    "# print(encoded_docs)\n",
    "max_length=max(len(d) for d in encoded_docs)\n",
    "padded_docs_train = pad_sequences(encoded_docs, maxlen=max_length, padding='post')\n",
    "print(padded_docs_train)"
   ]
  },
  {
   "cell_type": "code",
   "execution_count": 10,
   "id": "16c1cbc2",
   "metadata": {},
   "outputs": [
    {
     "name": "stdout",
     "output_type": "stream",
     "text": [
      "[[   3 1340 2003 ...    0    0    0]\n",
      " [  13 1581  213 ...    0    0    0]\n",
      " [ 159  260   11 ...    0    0    0]\n",
      " ...\n",
      " [  51  603 1577 ...    0    0    0]\n",
      " [   4    0    0 ...    0    0    0]\n",
      " [  20  485    0 ...    0    0    0]]\n"
     ]
    }
   ],
   "source": [
    "corp=X_test\n",
    "t = Tokenizer()\n",
    "t.fit_on_texts(corp)\n",
    "vocab_size = len(t.word_index) + 1\n",
    "# integer encode the documents\n",
    "encoded_docs = t.texts_to_sequences(corp)\n",
    "# print(encoded_docs)\n",
    "padded_docs_test = pad_sequences(encoded_docs, maxlen=max_length, padding='post')\n",
    "print(padded_docs_test)"
   ]
  },
  {
   "cell_type": "markdown",
   "id": "c2ffb115",
   "metadata": {},
   "source": [
    "##### 4)Model Architecture"
   ]
  },
  {
   "cell_type": "code",
   "execution_count": 11,
   "id": "1a556ad9",
   "metadata": {},
   "outputs": [
    {
     "name": "stdout",
     "output_type": "stream",
     "text": [
      "WARNING:tensorflow:From D:\\Users\\Suzan Hatem\\anaconda3\\lib\\site-packages\\keras\\src\\backend.py:873: The name tf.get_default_graph is deprecated. Please use tf.compat.v1.get_default_graph instead.\n",
      "\n"
     ]
    }
   ],
   "source": [
    "model = Sequential()\n",
    "model.add(Embedding(word_vectors.vectors.shape[0],100, input_length=max_length))\n",
    "model.add(Bidirectional(LSTM(128)))\n",
    "model.add(Dense(3, activation='softmax'))"
   ]
  },
  {
   "cell_type": "code",
   "execution_count": 12,
   "id": "abfb9a9f",
   "metadata": {},
   "outputs": [
    {
     "name": "stdout",
     "output_type": "stream",
     "text": [
      "Model: \"sequential\"\n",
      "_________________________________________________________________\n",
      " Layer (type)                Output Shape              Param #   \n",
      "=================================================================\n",
      " embedding (Embedding)       (None, 26, 100)           939100    \n",
      "                                                                 \n",
      " bidirectional (Bidirection  (None, 256)               234496    \n",
      " al)                                                             \n",
      "                                                                 \n",
      " dense (Dense)               (None, 3)                 771       \n",
      "                                                                 \n",
      "=================================================================\n",
      "Total params: 1174367 (4.48 MB)\n",
      "Trainable params: 1174367 (4.48 MB)\n",
      "Non-trainable params: 0 (0.00 Byte)\n",
      "_________________________________________________________________\n"
     ]
    }
   ],
   "source": [
    "model.summary()"
   ]
  },
  {
   "cell_type": "code",
   "execution_count": 13,
   "id": "0ef1c393",
   "metadata": {},
   "outputs": [],
   "source": [
    "model.compile(loss='sparse_categorical_crossentropy', optimizer=Adam(learning_rate=0.001), metrics=['accuracy'])"
   ]
  },
  {
   "cell_type": "markdown",
   "id": "6ea9dbdd",
   "metadata": {},
   "source": [
    "##### 5) Training Model"
   ]
  },
  {
   "cell_type": "code",
   "execution_count": 23,
   "id": "1a3407cf",
   "metadata": {},
   "outputs": [
    {
     "name": "stdout",
     "output_type": "stream",
     "text": [
      "Epoch 1/10\n",
      "340/340 [==============================] - 25s 72ms/step - loss: 0.1646 - accuracy: 0.9414 - val_loss: 2.5838 - val_accuracy: 0.4403\n",
      "Epoch 2/10\n",
      "340/340 [==============================] - 24s 69ms/step - loss: 0.1420 - accuracy: 0.9504 - val_loss: 2.8195 - val_accuracy: 0.4368\n",
      "Epoch 3/10\n",
      "340/340 [==============================] - 23s 68ms/step - loss: 0.1257 - accuracy: 0.9568 - val_loss: 2.9866 - val_accuracy: 0.4456\n",
      "Epoch 4/10\n",
      "340/340 [==============================] - 24s 69ms/step - loss: 0.1082 - accuracy: 0.9627 - val_loss: 3.4540 - val_accuracy: 0.4375\n",
      "Epoch 5/10\n",
      "340/340 [==============================] - 23s 67ms/step - loss: 0.1007 - accuracy: 0.9640 - val_loss: 3.6107 - val_accuracy: 0.4355\n",
      "Epoch 6/10\n",
      "340/340 [==============================] - 23s 67ms/step - loss: 0.0901 - accuracy: 0.9688 - val_loss: 3.6186 - val_accuracy: 0.4335\n",
      "Epoch 7/10\n",
      "340/340 [==============================] - 23s 68ms/step - loss: 0.0802 - accuracy: 0.9728 - val_loss: 3.7607 - val_accuracy: 0.4338\n",
      "Epoch 8/10\n",
      "340/340 [==============================] - 23s 67ms/step - loss: 0.0740 - accuracy: 0.9743 - val_loss: 4.1047 - val_accuracy: 0.4246\n",
      "Epoch 9/10\n",
      "340/340 [==============================] - 23s 68ms/step - loss: 0.0726 - accuracy: 0.9749 - val_loss: 4.1255 - val_accuracy: 0.4383\n",
      "Epoch 10/10\n",
      "340/340 [==============================] - 24s 71ms/step - loss: 0.0712 - accuracy: 0.9748 - val_loss: 4.1418 - val_accuracy: 0.4283\n"
     ]
    },
    {
     "data": {
      "text/plain": [
       "<keras.src.callbacks.History at 0x21ea5db9e50>"
      ]
     },
     "execution_count": 23,
     "metadata": {},
     "output_type": "execute_result"
    }
   ],
   "source": [
    "history=model.fit(padded_docs_train, y_train, epochs=10, batch_size=64, validation_data=(padded_docs_test, y_test))\n",
    "history"
   ]
  },
  {
   "cell_type": "markdown",
   "id": "5d00c466",
   "metadata": {},
   "source": [
    "##### 6) Finding Training and Testing Accuracy"
   ]
  },
  {
   "cell_type": "code",
   "execution_count": 24,
   "id": "6d517703",
   "metadata": {},
   "outputs": [
    {
     "data": {
      "image/png": "[encoded data removed]",
      "text/plain": [
       "<Figure size 432x288 with 1 Axes>"
      ]
     },
     "metadata": {
      "needs_background": "light"
     },
     "output_type": "display_data"
    }
   ],
   "source": [
    "# Plot the training and testing accuracy\n",
    "plt.plot(history.history['accuracy'])\n",
    "plt.plot(history.history['val_accuracy'])\n",
    "plt.title('Model Accuracy')\n",
    "plt.ylabel('Accuracy')\n",
    "plt.xlabel('Epoch')\n",
    "plt.ylim([0, 1])\n",
    "plt.legend(['Train', 'Test'], loc='upper left')\n",
    "plt.show()"
   ]
  },
  {
   "cell_type": "code",
   "execution_count": 25,
   "id": "516fe5b8",
   "metadata": {},
   "outputs": [
    {
     "name": "stdout",
     "output_type": "stream",
     "text": [
      "170/170 [==============================] - 3s 19ms/step - loss: 4.1418 - accuracy: 0.4283\n"
     ]
    },
    {
     "data": {
      "text/plain": [
       "(4.141777992248535, 0.4283081591129303)"
      ]
     },
     "execution_count": 25,
     "metadata": {},
     "output_type": "execute_result"
    }
   ],
   "source": [
    "test_loss,test_acc=model.evaluate(padded_docs_test,y_test)\n",
    "test_loss,test_acc"
   ]
  },
  {
   "cell_type": "markdown",
   "id": "80a47670",
   "metadata": {},
   "source": [
    "##### 7) Compute and plot the confusion matrix for the three classes"
   ]
  },
  {
   "cell_type": "code",
   "execution_count": 26,
   "id": "7eb7ef1b",
   "metadata": {},
   "outputs": [
    {
     "name": "stdout",
     "output_type": "stream",
     "text": [
      "170/170 [==============================] - 3s 18ms/step\n",
      "              precision    recall  f1-score   support\n",
      "\n",
      "    negative       0.43      0.51      0.47      1835\n",
      "     neutral       0.40      0.34      0.37      1801\n",
      "    positive       0.45      0.43      0.44      1790\n",
      "\n",
      "    accuracy                           0.43      5426\n",
      "   macro avg       0.43      0.43      0.43      5426\n",
      "weighted avg       0.43      0.43      0.43      5426\n",
      "\n"
     ]
    }
   ],
   "source": [
    "predictions=model.predict(padded_docs_test)\n",
    "class_labels = ['negative', 'positive','neutral']\n",
    "predicted_class_labels = [class_labels[np.argmax(pred)] for pred in predictions]\n",
    "actual_class_labels=[class_labels[actual] for actual in y_test]\n",
    "print(classification_report(actual_class_labels, predicted_class_labels))"
   ]
  },
  {
   "cell_type": "code",
   "execution_count": 27,
   "id": "9208658a",
   "metadata": {},
   "outputs": [
    {
     "data": {
      "image/png": "[encoded data removed]",
      "text/plain": [
       "<Figure size 576x432 with 2 Axes>"
      ]
     },
     "metadata": {
      "needs_background": "light"
     },
     "output_type": "display_data"
    }
   ],
   "source": [
    "conf_matrix = confusion_matrix(actual_class_labels, predicted_class_labels, labels=class_labels)\n",
    "plt.figure(figsize=(8, 6))\n",
    "sns.heatmap(conf_matrix, annot=True, fmt=\"d\", cmap=\"Purples\", xticklabels=class_labels, yticklabels=class_labels)\n",
    "plt.title('Confusion Matrix')\n",
    "plt.xlabel('Predicted Labels')\n",
    "plt.ylabel('True Labels')\n",
    "plt.show()"
   ]
  },
  {
   "cell_type": "markdown",
   "id": "dd974772",
   "metadata": {},
   "source": [
    "##### 8) Saving the final results in Excel sheet"
   ]
  },
  {
   "cell_type": "code",
   "execution_count": 28,
   "id": "a0081b41",
   "metadata": {},
   "outputs": [
    {
     "name": "stdout",
     "output_type": "stream",
     "text": [
      "Precision per class: [0.4271448  0.4021025  0.45326279]\n",
      "Recall per class: [0.51280654 0.33981122 0.43072626]\n"
     ]
    }
   ],
   "source": [
    "precision_per_class = precision_score(actual_class_labels, predicted_class_labels, average=None)\n",
    "recall_per_class = recall_score(actual_class_labels, predicted_class_labels, average=None)\n",
    "\n",
    "print(\"Precision per class:\", precision_per_class)\n",
    "print(\"Recall per class:\", recall_per_class)"
   ]
  },
  {
   "cell_type": "code",
   "execution_count": 29,
   "id": "7df0d2f2",
   "metadata": {},
   "outputs": [
    {
     "name": "stdout",
     "output_type": "stream",
     "text": [
      "Micro F1 Score: 0.4283081459638776\n",
      "Macro F1 Score: 0.42537380666620894\n"
     ]
    }
   ],
   "source": [
    "f1_micro = f1_score(actual_class_labels, predicted_class_labels, average='micro')\n",
    "f1_macro = f1_score(actual_class_labels, predicted_class_labels, average='macro')\n",
    "\n",
    "print(\"Micro F1 Score:\", f1_micro)\n",
    "print(\"Macro F1 Score:\", f1_macro)"
   ]
  },
  {
   "cell_type": "code",
   "execution_count": 30,
   "id": "9a0c1be2",
   "metadata": {},
   "outputs": [
    {
     "data": {
      "text/html": [
       "<div>\n",
       "<style scoped>\n",
       "    .dataframe tbody tr th:only-of-type {\n",
       "        vertical-align: middle;\n",
       "    }\n",
       "\n",
       "    .dataframe tbody tr th {\n",
       "        vertical-align: top;\n",
       "    }\n",
       "\n",
       "    .dataframe thead th {\n",
       "        text-align: right;\n",
       "    }\n",
       "</style>\n",
       "<table border=\"1\" class=\"dataframe\">\n",
       "  <thead>\n",
       "    <tr style=\"text-align: right;\">\n",
       "      <th></th>\n",
       "      <th>Unnamed: 0</th>\n",
       "      <th>RandomDeletion_Dataset</th>\n",
       "    </tr>\n",
       "  </thead>\n",
       "  <tbody>\n",
       "    <tr>\n",
       "      <th>0</th>\n",
       "      <td>Training Accuracy</td>\n",
       "      <td>0.974885</td>\n",
       "    </tr>\n",
       "    <tr>\n",
       "      <th>1</th>\n",
       "      <td>Testing Accuracy</td>\n",
       "      <td>0.428308</td>\n",
       "    </tr>\n",
       "    <tr>\n",
       "      <th>2</th>\n",
       "      <td>Micro F1 Score</td>\n",
       "      <td>0.428308</td>\n",
       "    </tr>\n",
       "    <tr>\n",
       "      <th>3</th>\n",
       "      <td>Macro F1 Score</td>\n",
       "      <td>0.425374</td>\n",
       "    </tr>\n",
       "    <tr>\n",
       "      <th>4</th>\n",
       "      <td>Precision for Negative sentiment</td>\n",
       "      <td>0.427145</td>\n",
       "    </tr>\n",
       "    <tr>\n",
       "      <th>5</th>\n",
       "      <td>Precision for Positive sentiment</td>\n",
       "      <td>0.402102</td>\n",
       "    </tr>\n",
       "    <tr>\n",
       "      <th>6</th>\n",
       "      <td>Precision for Neutral sentiment</td>\n",
       "      <td>0.453263</td>\n",
       "    </tr>\n",
       "    <tr>\n",
       "      <th>7</th>\n",
       "      <td>Recall for Negative sentiment</td>\n",
       "      <td>0.512807</td>\n",
       "    </tr>\n",
       "    <tr>\n",
       "      <th>8</th>\n",
       "      <td>Recall for Positive sentiment</td>\n",
       "      <td>0.339811</td>\n",
       "    </tr>\n",
       "    <tr>\n",
       "      <th>9</th>\n",
       "      <td>Recall for Neutral sentiment</td>\n",
       "      <td>0.430726</td>\n",
       "    </tr>\n",
       "  </tbody>\n",
       "</table>\n",
       "</div>"
      ],
      "text/plain": [
       "                         Unnamed: 0  RandomDeletion_Dataset\n",
       "0                 Training Accuracy                0.974885\n",
       "1                  Testing Accuracy                0.428308\n",
       "2                    Micro F1 Score                0.428308\n",
       "3                    Macro F1 Score                0.425374\n",
       "4  Precision for Negative sentiment                0.427145\n",
       "5  Precision for Positive sentiment                0.402102\n",
       "6   Precision for Neutral sentiment                0.453263\n",
       "7     Recall for Negative sentiment                0.512807\n",
       "8     Recall for Positive sentiment                0.339811\n",
       "9      Recall for Neutral sentiment                0.430726"
      ]
     },
     "execution_count": 30,
     "metadata": {},
     "output_type": "execute_result"
    }
   ],
   "source": [
    "result=pd.read_csv('BILSTMModelResults.csv')\n",
    "result['GPT3.5_Dataset']=[max(history.history['accuracy']),test_acc,f1_micro,f1_macro,precision_per_class[0],precision_per_class[1],precision_per_class[2],recall_per_class[0],recall_per_class[1],recall_per_class[2]]\n",
    "result[['Unnamed: 0','GPT3.5_Dataset']]"
   ]
  },
  {
   "cell_type": "code",
   "execution_count": 31,
   "id": "bb070e77",
   "metadata": {},
   "outputs": [],
   "source": [
    "result.to_csv('BILSTMModelResults.csv', index=False)"
   ]
  }
 ],
 "metadata": {
  "kernelspec": {
   "display_name": "Python 3 (ipykernel)",
   "language": "python",
   "name": "python3"
  },
  "language_info": {
   "codemirror_mode": {
    "name": "ipython",
    "version": 3
   },
   "file_extension": ".py",
   "mimetype": "text/x-python",
   "name": "python",
   "nbconvert_exporter": "python",
   "pygments_lexer": "ipython3",
   "version": "3.9.7"
  }
 },
 "nbformat": 4,
 "nbformat_minor": 5
}
