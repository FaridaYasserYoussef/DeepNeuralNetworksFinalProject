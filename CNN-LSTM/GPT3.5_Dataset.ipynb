{
 "cells": [
  {
   "cell_type": "markdown",
   "id": "c6575869",
   "metadata": {},
   "source": [
    "# CNN-LSTM Model"
   ]
  },
  {
   "cell_type": "code",
   "execution_count": 1,
   "id": "934847a5",
   "metadata": {},
   "outputs": [
    {
     "name": "stdout",
     "output_type": "stream",
     "text": [
      "WARNING:tensorflow:From D:\\Users\\Suzan Hatem\\anaconda3\\lib\\site-packages\\keras\\src\\losses.py:2976: The name tf.losses.sparse_softmax_cross_entropy is deprecated. Please use tf.compat.v1.losses.sparse_softmax_cross_entropy instead.\n",
      "\n"
     ]
    }
   ],
   "source": [
    "#Imports\n",
    "import pandas as pd\n",
    "import numpy as np\n",
    "\n",
    "from gensim.models import Word2Vec\n",
    "from sklearn.model_selection import train_test_split\n",
    "from keras.preprocessing.text import Tokenizer\n",
    "from keras.utils import pad_sequences\n",
    "\n",
    "from tensorflow.keras.models import Sequential\n",
    "from tensorflow.keras.layers import Embedding, Conv1D, MaxPooling1D, LSTM, Dense\n",
    "from keras.models import Model\n",
    "from keras.optimizers import Adam\n",
    "\n",
    "import matplotlib.pyplot as plt\n",
    "import seaborn as sns\n",
    "from sklearn.metrics import confusion_matrix\n",
    "from sklearn.metrics import confusion_matrix, ConfusionMatrixDisplay\n",
    "from sklearn.metrics import classification_report\n",
    "from sklearn.metrics import precision_score, recall_score\n",
    "from sklearn.metrics import f1_score"
   ]
  },
  {
   "cell_type": "markdown",
   "id": "978ceb42",
   "metadata": {},
   "source": [
    "##### 1)Loading Dataset"
   ]
  },
  {
   "cell_type": "code",
   "execution_count": 2,
   "id": "272b56c0",
   "metadata": {},
   "outputs": [],
   "source": [
    "df_train=pd.read_csv(\"training_GPT.csv\")\n",
    "df_test=pd.read_csv(\"testing_GPT.csv\")"
   ]
  },
  {
   "cell_type": "code",
   "execution_count": 3,
   "id": "65c4c4f8",
   "metadata": {},
   "outputs": [
    {
     "data": {
      "text/plain": [
       "Unnamed: 0.2              0\n",
       "Unnamed: 0.1              0\n",
       "Unnamed: 0                0\n",
       "text                      0\n",
       "label                     0\n",
       "length                    0\n",
       "preprocessed_abstract    11\n",
       "length_after_cleaning     0\n",
       "tokenized_text            0\n",
       "dtype: int64"
      ]
     },
     "execution_count": 3,
     "metadata": {},
     "output_type": "execute_result"
    }
   ],
   "source": [
    "df_train.isnull().sum()"
   ]
  },
  {
   "cell_type": "code",
   "execution_count": 4,
   "id": "17c756b8",
   "metadata": {},
   "outputs": [
    {
     "data": {
      "text/plain": [
       "Unnamed: 0.2             0\n",
       "Unnamed: 0.1             0\n",
       "Unnamed: 0               0\n",
       "text                     0\n",
       "label                    0\n",
       "length                   0\n",
       "preprocessed_abstract    6\n",
       "length_after_cleaning    0\n",
       "tokenized_text           0\n",
       "dtype: int64"
      ]
     },
     "execution_count": 4,
     "metadata": {},
     "output_type": "execute_result"
    }
   ],
   "source": [
    "df_test.isnull().sum()"
   ]
  },
  {
   "cell_type": "code",
   "execution_count": 5,
   "id": "34e6d18c",
   "metadata": {},
   "outputs": [],
   "source": [
    "df_train=df_train.dropna()\n",
    "df_test=df_test.dropna()"
   ]
  },
  {
   "cell_type": "markdown",
   "id": "46c4f1f4",
   "metadata": {},
   "source": [
    "##### 2)Preparing Data"
   ]
  },
  {
   "cell_type": "markdown",
   "id": "1130b37b",
   "metadata": {},
   "source": [
    "- Word2Vec model (pre-trained word embeddings) for embedding layer in the model"
   ]
  },
  {
   "cell_type": "code",
   "execution_count": 6,
   "id": "433aaf10",
   "metadata": {},
   "outputs": [],
   "source": [
    "preprocessed_abstract=pd.concat([df_train['preprocessed_abstract'],df_test['preprocessed_abstract']], axis=0, ignore_index=True)"
   ]
  },
  {
   "cell_type": "code",
   "execution_count": 7,
   "id": "029601c1",
   "metadata": {},
   "outputs": [
    {
     "data": {
      "text/plain": [
       "array([[-6.7379642e-01, -3.4489635e-01, -5.9474606e-02, ...,\n",
       "        -1.2551212e+00, -2.8318018e-01,  6.2148470e-01],\n",
       "       [-6.0235375e-01,  2.0300215e-01,  1.5900234e+00, ...,\n",
       "        -6.8125749e-01,  3.9990146e-02, -5.1018411e-01],\n",
       "       [-2.4825375e-01,  1.4266187e-01,  1.3285631e-01, ...,\n",
       "        -3.9711571e-01,  4.3481153e-01, -1.2285935e+00],\n",
       "       ...,\n",
       "       [-1.7395413e-02,  7.2825776e-04, -3.5711227e-04, ...,\n",
       "        -6.5414631e-03, -5.6324047e-03, -1.2804049e-02],\n",
       "       [-4.2488337e-03, -1.3410231e-03, -1.2277409e-02, ...,\n",
       "         4.5486465e-03, -5.7192016e-03,  1.6153980e-02],\n",
       "       [-9.0943752e-03,  1.2626814e-02,  1.4212320e-02, ...,\n",
       "        -1.1301100e-02,  8.8895403e-04, -1.2907533e-02]], dtype=float32)"
      ]
     },
     "execution_count": 7,
     "metadata": {},
     "output_type": "execute_result"
    }
   ],
   "source": [
    "sentences = [sentence.split() for sentence in preprocessed_abstract]\n",
    "# Create and train the Word2Vec model\n",
    "model_2= Word2Vec(sentences, vector_size=100, window=5, min_count=1, workers=4)\n",
    "# Access the word vectors\n",
    "word_vectors = model_2.wv\n",
    "word_vectors.vectors"
   ]
  },
  {
   "cell_type": "code",
   "execution_count": 8,
   "id": "08dd43f6",
   "metadata": {},
   "outputs": [
    {
     "data": {
      "text/plain": [
       "(14336, 100)"
      ]
     },
     "execution_count": 8,
     "metadata": {},
     "output_type": "execute_result"
    }
   ],
   "source": [
    "word_vectors.vectors.shape"
   ]
  },
  {
   "cell_type": "markdown",
   "id": "4e03b6a9",
   "metadata": {},
   "source": [
    "#####  3) Split , into Training and Validation Sets (80:20)"
   ]
  },
  {
   "cell_type": "code",
   "execution_count": 9,
   "id": "e9ea52de",
   "metadata": {},
   "outputs": [],
   "source": [
    "X_train=df_train['preprocessed_abstract']\n",
    "X_test=df_test['preprocessed_abstract']\n",
    "y_train=df_train['label']\n",
    "y_test=df_test['label']"
   ]
  },
  {
   "cell_type": "code",
   "execution_count": 10,
   "id": "d3fd3630",
   "metadata": {},
   "outputs": [
    {
     "name": "stdout",
     "output_type": "stream",
     "text": [
      "Train data: (21978,) (21978,)\n",
      "Test data: (5501,) (5501,)\n"
     ]
    }
   ],
   "source": [
    "print(\"Train data:\",  X_train.shape, y_train.shape)\n",
    "print(\"Test data:\",  X_test.shape, y_test.shape)"
   ]
  },
  {
   "cell_type": "code",
   "execution_count": 11,
   "id": "9d5b7f7d",
   "metadata": {},
   "outputs": [
    {
     "data": {
      "image/png": "[encoded data removed]",
      "text/plain": [
       "<Figure size 1008x432 with 1 Axes>"
      ]
     },
     "metadata": {},
     "output_type": "display_data"
    }
   ],
   "source": [
    "plt.figure(figsize=(14,6))\n",
    "colors = ['#4285f4', '#ea4335', '#fbbc05', '#34a853']\n",
    "plt.rcParams.update({'font.size': 14})\n",
    "plt.pie([len(y_train), len(y_test)],\n",
    "        labels=['Train','Test'],\n",
    "        colors=colors, autopct='%.1f%%', explode=(0.05,0.05),\n",
    "        startangle=30);"
   ]
  },
  {
   "cell_type": "code",
   "execution_count": 12,
   "id": "7b70c66f",
   "metadata": {},
   "outputs": [
    {
     "name": "stdout",
     "output_type": "stream",
     "text": [
      "[[ 329  358 2650 ...    0    0    0]\n",
      " [   8 6457  289 ...    0    0    0]\n",
      " [ 489  146 1762 ...    0    0    0]\n",
      " ...\n",
      " [ 176  278 2514 ...    0    0    0]\n",
      " [  28  157   22 ...    0    0    0]\n",
      " [1135   21    4 ...    0    0    0]]\n"
     ]
    }
   ],
   "source": [
    "corp=X_train\n",
    "t = Tokenizer()\n",
    "t.fit_on_texts(corp)\n",
    "vocab_size = len(t.word_index) + 1\n",
    "# integer encode the documents\n",
    "encoded_docs = t.texts_to_sequences(corp)\n",
    "# print(encoded_docs)\n",
    "max_length=max(len(d) for d in encoded_docs)\n",
    "padded_docs_train = pad_sequences(encoded_docs, maxlen=max_length, padding='post')\n",
    "print(padded_docs_train)"
   ]
  },
  {
   "cell_type": "code",
   "execution_count": 13,
   "id": "16c1cbc2",
   "metadata": {},
   "outputs": [
    {
     "name": "stdout",
     "output_type": "stream",
     "text": [
      "[[  57   51    0 ...    0    0    0]\n",
      " [ 275  187 1222 ...    0    0    0]\n",
      " [   1   54  586 ...    0    0    0]\n",
      " ...\n",
      " [5669   48    1 ...    0    0    0]\n",
      " [1646  355 2049 ...    0    0    0]\n",
      " [2835   87   42 ...    0    0    0]]\n"
     ]
    }
   ],
   "source": [
    "corp=X_test\n",
    "t = Tokenizer()\n",
    "t.fit_on_texts(corp)\n",
    "vocab_size = len(t.word_index) + 1\n",
    "# integer encode the documents\n",
    "encoded_docs = t.texts_to_sequences(corp)\n",
    "# print(encoded_docs)\n",
    "padded_docs_test = pad_sequences(encoded_docs, maxlen=max_length, padding='post')\n",
    "print(padded_docs_test)"
   ]
  },
  {
   "cell_type": "markdown",
   "id": "c2ffb115",
   "metadata": {},
   "source": [
    "##### 4)Model Architecture"
   ]
  },
  {
   "cell_type": "code",
   "execution_count": 14,
   "id": "1a556ad9",
   "metadata": {},
   "outputs": [
    {
     "name": "stdout",
     "output_type": "stream",
     "text": [
      "WARNING:tensorflow:From D:\\Users\\Suzan Hatem\\anaconda3\\lib\\site-packages\\keras\\src\\backend.py:873: The name tf.get_default_graph is deprecated. Please use tf.compat.v1.get_default_graph instead.\n",
      "\n",
      "WARNING:tensorflow:From D:\\Users\\Suzan Hatem\\anaconda3\\lib\\site-packages\\keras\\src\\backend.py:6642: The name tf.nn.max_pool is deprecated. Please use tf.nn.max_pool2d instead.\n",
      "\n"
     ]
    }
   ],
   "source": [
    "model = Sequential()\n",
    "model.add(Embedding(word_vectors.vectors.shape[0], 100, input_length=max_length))\n",
    "model.add(Conv1D(128, 5, activation='relu'))\n",
    "model.add(MaxPooling1D(pool_size=4))\n",
    "model.add(LSTM(64))\n",
    "model.add(Dense(3, activation='softmax')) "
   ]
  },
  {
   "cell_type": "code",
   "execution_count": 15,
   "id": "abfb9a9f",
   "metadata": {},
   "outputs": [
    {
     "name": "stdout",
     "output_type": "stream",
     "text": [
      "Model: \"sequential\"\n",
      "_________________________________________________________________\n",
      " Layer (type)                Output Shape              Param #   \n",
      "=================================================================\n",
      " embedding (Embedding)       (None, 26, 100)           1433600   \n",
      "                                                                 \n",
      " conv1d (Conv1D)             (None, 22, 128)           64128     \n",
      "                                                                 \n",
      " max_pooling1d (MaxPooling1  (None, 5, 128)            0         \n",
      " D)                                                              \n",
      "                                                                 \n",
      " lstm (LSTM)                 (None, 64)                49408     \n",
      "                                                                 \n",
      " dense (Dense)               (None, 3)                 195       \n",
      "                                                                 \n",
      "=================================================================\n",
      "Total params: 1547331 (5.90 MB)\n",
      "Trainable params: 1547331 (5.90 MB)\n",
      "Non-trainable params: 0 (0.00 Byte)\n",
      "_________________________________________________________________\n"
     ]
    }
   ],
   "source": [
    "model.summary()"
   ]
  },
  {
   "cell_type": "code",
   "execution_count": 16,
   "id": "0ef1c393",
   "metadata": {},
   "outputs": [
    {
     "name": "stdout",
     "output_type": "stream",
     "text": [
      "WARNING:tensorflow:From D:\\Users\\Suzan Hatem\\anaconda3\\lib\\site-packages\\keras\\src\\optimizers\\__init__.py:309: The name tf.train.Optimizer is deprecated. Please use tf.compat.v1.train.Optimizer instead.\n",
      "\n"
     ]
    }
   ],
   "source": [
    "model.compile(loss='sparse_categorical_crossentropy', optimizer='adam', metrics=['accuracy'])"
   ]
  },
  {
   "cell_type": "markdown",
   "id": "6ea9dbdd",
   "metadata": {},
   "source": [
    "##### 5) Training Model"
   ]
  },
  {
   "cell_type": "code",
   "execution_count": 17,
   "id": "1a3407cf",
   "metadata": {},
   "outputs": [
    {
     "name": "stdout",
     "output_type": "stream",
     "text": [
      "Epoch 1/10\n",
      "WARNING:tensorflow:From D:\\Users\\Suzan Hatem\\anaconda3\\lib\\site-packages\\keras\\src\\utils\\tf_utils.py:492: The name tf.ragged.RaggedTensorValue is deprecated. Please use tf.compat.v1.ragged.RaggedTensorValue instead.\n",
      "\n",
      "WARNING:tensorflow:From D:\\Users\\Suzan Hatem\\anaconda3\\lib\\site-packages\\keras\\src\\engine\\base_layer_utils.py:384: The name tf.executing_eagerly_outside_functions is deprecated. Please use tf.compat.v1.executing_eagerly_outside_functions instead.\n",
      "\n",
      "687/687 [==============================] - 10s 12ms/step - loss: 0.4542 - accuracy: 0.8173 - val_loss: 2.4291 - val_accuracy: 0.2785\n",
      "Epoch 2/10\n",
      "687/687 [==============================] - 8s 12ms/step - loss: 0.2245 - accuracy: 0.9174 - val_loss: 2.9643 - val_accuracy: 0.2420\n",
      "Epoch 3/10\n",
      "687/687 [==============================] - 8s 11ms/step - loss: 0.1259 - accuracy: 0.9552 - val_loss: 3.3954 - val_accuracy: 0.2514\n",
      "Epoch 4/10\n",
      "687/687 [==============================] - 8s 12ms/step - loss: 0.0780 - accuracy: 0.9732 - val_loss: 3.9170 - val_accuracy: 0.2707\n",
      "Epoch 5/10\n",
      "687/687 [==============================] - 9s 13ms/step - loss: 0.0522 - accuracy: 0.9828 - val_loss: 3.8296 - val_accuracy: 0.2990\n",
      "Epoch 6/10\n",
      "687/687 [==============================] - 8s 11ms/step - loss: 0.0375 - accuracy: 0.9888 - val_loss: 4.5240 - val_accuracy: 0.2605\n",
      "Epoch 7/10\n",
      "687/687 [==============================] - 8s 11ms/step - loss: 0.0332 - accuracy: 0.9892 - val_loss: 4.1965 - val_accuracy: 0.2903\n",
      "Epoch 8/10\n",
      "687/687 [==============================] - 8s 11ms/step - loss: 0.0265 - accuracy: 0.9919 - val_loss: 4.9918 - val_accuracy: 0.2449\n",
      "Epoch 9/10\n",
      "687/687 [==============================] - 8s 11ms/step - loss: 0.0246 - accuracy: 0.9922 - val_loss: 4.9003 - val_accuracy: 0.2683\n",
      "Epoch 10/10\n",
      "687/687 [==============================] - 8s 12ms/step - loss: 0.0198 - accuracy: 0.9940 - val_loss: 4.2989 - val_accuracy: 0.2716\n"
     ]
    },
    {
     "data": {
      "text/plain": [
       "<keras.src.callbacks.History at 0x26aa9c0dd00>"
      ]
     },
     "execution_count": 17,
     "metadata": {},
     "output_type": "execute_result"
    }
   ],
   "source": [
    "history=model.fit(padded_docs_train, y_train, epochs=10, validation_data=(padded_docs_test, y_test))\n",
    "history"
   ]
  },
  {
   "cell_type": "markdown",
   "id": "5d00c466",
   "metadata": {},
   "source": [
    "##### 6) Finding Training and Testing Accuracy"
   ]
  },
  {
   "cell_type": "code",
   "execution_count": 18,
   "id": "6d517703",
   "metadata": {},
   "outputs": [
    {
     "data": {
      "image/png": "[encoded data removed]",
      "text/plain": [
       "<Figure size 432x288 with 1 Axes>"
      ]
     },
     "metadata": {
      "needs_background": "light"
     },
     "output_type": "display_data"
    }
   ],
   "source": [
    "# Plot the training and testing accuracy\n",
    "plt.plot(history.history['accuracy'])\n",
    "plt.plot(history.history['val_accuracy'])\n",
    "plt.title('Model Accuracy')\n",
    "plt.ylabel('Accuracy')\n",
    "plt.xlabel('Epoch')\n",
    "plt.ylim([0, 1])\n",
    "plt.legend(['Train', 'Test'], loc='upper left')\n",
    "plt.show()"
   ]
  },
  {
   "cell_type": "code",
   "execution_count": 19,
   "id": "516fe5b8",
   "metadata": {},
   "outputs": [
    {
     "name": "stdout",
     "output_type": "stream",
     "text": [
      "172/172 [==============================] - 0s 2ms/step - loss: 4.2989 - accuracy: 0.2716\n"
     ]
    },
    {
     "data": {
      "text/plain": [
       "(4.298854827880859, 0.27158698439598083)"
      ]
     },
     "execution_count": 19,
     "metadata": {},
     "output_type": "execute_result"
    }
   ],
   "source": [
    "test_loss,test_acc=model.evaluate(padded_docs_test,y_test)\n",
    "test_loss,test_acc"
   ]
  },
  {
   "cell_type": "markdown",
   "id": "80a47670",
   "metadata": {},
   "source": [
    "##### 7) Compute and plot the confusion matrix for the three classes"
   ]
  },
  {
   "cell_type": "code",
   "execution_count": 20,
   "id": "7eb7ef1b",
   "metadata": {},
   "outputs": [
    {
     "name": "stdout",
     "output_type": "stream",
     "text": [
      "172/172 [==============================] - 1s 2ms/step\n",
      "              precision    recall  f1-score   support\n",
      "\n",
      "    negative       0.62      0.20      0.31      3447\n",
      "     neutral       0.24      0.40      0.30      1154\n",
      "    positive       0.14      0.37      0.20       900\n",
      "\n",
      "    accuracy                           0.27      5501\n",
      "   macro avg       0.33      0.32      0.27      5501\n",
      "weighted avg       0.46      0.27      0.29      5501\n",
      "\n"
     ]
    }
   ],
   "source": [
    "predictions=model.predict(padded_docs_test)\n",
    "class_labels = ['negative', 'positive','neutral']\n",
    "predicted_class_labels = [class_labels[np.argmax(pred)] for pred in predictions]\n",
    "actual_class_labels=[class_labels[actual] for actual in y_test]\n",
    "print(classification_report(actual_class_labels, predicted_class_labels))"
   ]
  },
  {
   "cell_type": "code",
   "execution_count": 21,
   "id": "9208658a",
   "metadata": {},
   "outputs": [
    {
     "data": {
      "image/png": "[encoded data removed]",
      "text/plain": [
       "<Figure size 576x432 with 2 Axes>"
      ]
     },
     "metadata": {
      "needs_background": "light"
     },
     "output_type": "display_data"
    }
   ],
   "source": [
    "conf_matrix = confusion_matrix(actual_class_labels, predicted_class_labels, labels=class_labels)\n",
    "plt.figure(figsize=(8, 6))\n",
    "sns.heatmap(conf_matrix, annot=True, fmt=\"d\", cmap=\"Purples\", xticklabels=class_labels, yticklabels=class_labels)\n",
    "plt.title('Confusion Matrix')\n",
    "plt.xlabel('Predicted Labels')\n",
    "plt.ylabel('True Labels')\n",
    "plt.show()"
   ]
  },
  {
   "cell_type": "markdown",
   "id": "dd974772",
   "metadata": {},
   "source": [
    "##### 8) Saving the final results in Excel sheet"
   ]
  },
  {
   "cell_type": "code",
   "execution_count": 22,
   "id": "a0081b41",
   "metadata": {},
   "outputs": [
    {
     "name": "stdout",
     "output_type": "stream",
     "text": [
      "Precision per class: [0.6234347  0.23580122 0.1377022 ]\n",
      "Recall per class: [0.20220482 0.40294627 0.36888889]\n"
     ]
    }
   ],
   "source": [
    "precision_per_class = precision_score(actual_class_labels, predicted_class_labels, average=None)\n",
    "recall_per_class = recall_score(actual_class_labels, predicted_class_labels, average=None)\n",
    "\n",
    "print(\"Precision per class:\", precision_per_class)\n",
    "print(\"Recall per class:\", recall_per_class)"
   ]
  },
  {
   "cell_type": "code",
   "execution_count": 23,
   "id": "7df0d2f2",
   "metadata": {},
   "outputs": [
    {
     "name": "stdout",
     "output_type": "stream",
     "text": [
      "Micro F1 Score: 0.2715869841846937\n",
      "Macro F1 Score: 0.2678051210343303\n"
     ]
    }
   ],
   "source": [
    "f1_micro = f1_score(actual_class_labels, predicted_class_labels, average='micro')\n",
    "f1_macro = f1_score(actual_class_labels, predicted_class_labels, average='macro')\n",
    "\n",
    "print(\"Micro F1 Score:\", f1_micro)\n",
    "print(\"Macro F1 Score:\", f1_macro)"
   ]
  },
  {
   "cell_type": "code",
   "execution_count": 24,
   "id": "9a0c1be2",
   "metadata": {},
   "outputs": [
    {
     "data": {
      "text/html": [
       "<div>\n",
       "<style scoped>\n",
       "    .dataframe tbody tr th:only-of-type {\n",
       "        vertical-align: middle;\n",
       "    }\n",
       "\n",
       "    .dataframe tbody tr th {\n",
       "        vertical-align: top;\n",
       "    }\n",
       "\n",
       "    .dataframe thead th {\n",
       "        text-align: right;\n",
       "    }\n",
       "</style>\n",
       "<table border=\"1\" class=\"dataframe\">\n",
       "  <thead>\n",
       "    <tr style=\"text-align: right;\">\n",
       "      <th></th>\n",
       "      <th>Unnamed: 0</th>\n",
       "      <th>GPT3.5_Dataset</th>\n",
       "    </tr>\n",
       "  </thead>\n",
       "  <tbody>\n",
       "    <tr>\n",
       "      <th>0</th>\n",
       "      <td>Training Accuracy</td>\n",
       "      <td>0.994039</td>\n",
       "    </tr>\n",
       "    <tr>\n",
       "      <th>1</th>\n",
       "      <td>Testing Accuracy</td>\n",
       "      <td>0.271587</td>\n",
       "    </tr>\n",
       "    <tr>\n",
       "      <th>2</th>\n",
       "      <td>Micro F1 Score</td>\n",
       "      <td>0.271587</td>\n",
       "    </tr>\n",
       "    <tr>\n",
       "      <th>3</th>\n",
       "      <td>Macro F1 Score</td>\n",
       "      <td>0.267805</td>\n",
       "    </tr>\n",
       "    <tr>\n",
       "      <th>4</th>\n",
       "      <td>Precision for Negative sentiment</td>\n",
       "      <td>0.623435</td>\n",
       "    </tr>\n",
       "    <tr>\n",
       "      <th>5</th>\n",
       "      <td>Precision for Positive sentiment</td>\n",
       "      <td>0.235801</td>\n",
       "    </tr>\n",
       "    <tr>\n",
       "      <th>6</th>\n",
       "      <td>Precision for Neutral sentiment</td>\n",
       "      <td>0.137702</td>\n",
       "    </tr>\n",
       "    <tr>\n",
       "      <th>7</th>\n",
       "      <td>Recall for Negative sentiment</td>\n",
       "      <td>0.202205</td>\n",
       "    </tr>\n",
       "    <tr>\n",
       "      <th>8</th>\n",
       "      <td>Recall for Positive sentiment</td>\n",
       "      <td>0.402946</td>\n",
       "    </tr>\n",
       "    <tr>\n",
       "      <th>9</th>\n",
       "      <td>Recall for Neutral sentiment</td>\n",
       "      <td>0.368889</td>\n",
       "    </tr>\n",
       "  </tbody>\n",
       "</table>\n",
       "</div>"
      ],
      "text/plain": [
       "                         Unnamed: 0  GPT3.5_Dataset\n",
       "0                 Training Accuracy        0.994039\n",
       "1                  Testing Accuracy        0.271587\n",
       "2                    Micro F1 Score        0.271587\n",
       "3                    Macro F1 Score        0.267805\n",
       "4  Precision for Negative sentiment        0.623435\n",
       "5  Precision for Positive sentiment        0.235801\n",
       "6   Precision for Neutral sentiment        0.137702\n",
       "7     Recall for Negative sentiment        0.202205\n",
       "8     Recall for Positive sentiment        0.402946\n",
       "9      Recall for Neutral sentiment        0.368889"
      ]
     },
     "execution_count": 24,
     "metadata": {},
     "output_type": "execute_result"
    }
   ],
   "source": [
    "result=pd.read_csv('CNNLSTMModelResults.csv')\n",
    "result['GPT3.5_Dataset']=[max(history.history['accuracy']),test_acc,f1_micro,f1_macro,precision_per_class[0],precision_per_class[1],precision_per_class[2],recall_per_class[0],recall_per_class[1],recall_per_class[2]]\n",
    "result[['Unnamed: 0','GPT3.5_Dataset']]"
   ]
  },
  {
   "cell_type": "code",
   "execution_count": 25,
   "id": "bb070e77",
   "metadata": {},
   "outputs": [],
   "source": [
    "result.to_csv('CNNLSTMModelResults.csv', index=False)"
   ]
  }
 ],
 "metadata": {
  "kernelspec": {
   "display_name": "Python 3 (ipykernel)",
   "language": "python",
   "name": "python3"
  },
  "language_info": {
   "codemirror_mode": {
    "name": "ipython",
    "version": 3
   },
   "file_extension": ".py",
   "mimetype": "text/x-python",
   "name": "python",
   "nbconvert_exporter": "python",
   "pygments_lexer": "ipython3",
   "version": "3.9.7"
  }
 },
 "nbformat": 4,
 "nbformat_minor": 5
}
