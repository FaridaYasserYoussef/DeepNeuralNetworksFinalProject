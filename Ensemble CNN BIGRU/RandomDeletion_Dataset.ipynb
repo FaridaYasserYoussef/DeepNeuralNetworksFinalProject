{
 "cells": [
  {
   "cell_type": "markdown",
   "id": "c6575869",
   "metadata": {},
   "source": [
    "# Ensemble_CNN_BI_GRU Model"
   ]
  },
  {
   "cell_type": "code",
   "execution_count": 1,
   "id": "934847a5",
   "metadata": {},
   "outputs": [
    {
     "name": "stdout",
     "output_type": "stream",
     "text": [
      "WARNING:tensorflow:From D:\\Users\\Suzan Hatem\\anaconda3\\lib\\site-packages\\keras\\src\\losses.py:2976: The name tf.losses.sparse_softmax_cross_entropy is deprecated. Please use tf.compat.v1.losses.sparse_softmax_cross_entropy instead.\n",
      "\n"
     ]
    }
   ],
   "source": [
    "#Imports\n",
    "import pandas as pd\n",
    "import numpy as np\n",
    "\n",
    "from gensim.models import Word2Vec\n",
    "from sklearn.model_selection import train_test_split\n",
    "from keras.preprocessing.text import Tokenizer\n",
    "from keras.utils import pad_sequences\n",
    "\n",
    "from keras.layers import Input, Embedding, Conv1D, MaxPooling1D, Flatten, Dense, Dropout, concatenate, Bidirectional, GRU\n",
    "from keras.models import Model\n",
    "from keras.constraints import MaxNorm\n",
    "from keras.optimizers import Adam\n",
    "\n",
    "import matplotlib.pyplot as plt\n",
    "import seaborn as sns\n",
    "from sklearn.metrics import confusion_matrix\n",
    "from sklearn.metrics import confusion_matrix, ConfusionMatrixDisplay\n",
    "from sklearn.metrics import classification_report\n",
    "from sklearn.metrics import precision_score, recall_score\n",
    "from sklearn.metrics import f1_score"
   ]
  },
  {
   "cell_type": "markdown",
   "id": "978ceb42",
   "metadata": {},
   "source": [
    "##### 1)Loading Dataset"
   ]
  },
  {
   "cell_type": "code",
   "execution_count": 2,
   "id": "272b56c0",
   "metadata": {},
   "outputs": [
    {
     "data": {
      "text/html": [
       "<div>\n",
       "<style scoped>\n",
       "    .dataframe tbody tr th:only-of-type {\n",
       "        vertical-align: middle;\n",
       "    }\n",
       "\n",
       "    .dataframe tbody tr th {\n",
       "        vertical-align: top;\n",
       "    }\n",
       "\n",
       "    .dataframe thead th {\n",
       "        text-align: right;\n",
       "    }\n",
       "</style>\n",
       "<table border=\"1\" class=\"dataframe\">\n",
       "  <thead>\n",
       "    <tr style=\"text-align: right;\">\n",
       "      <th></th>\n",
       "      <th>Unnamed: 0.1</th>\n",
       "      <th>Unnamed: 0</th>\n",
       "      <th>label</th>\n",
       "      <th>text</th>\n",
       "      <th>length</th>\n",
       "      <th>preprocessed_abstract</th>\n",
       "      <th>length_after_cleaning</th>\n",
       "      <th>tokenized_text</th>\n",
       "    </tr>\n",
       "  </thead>\n",
       "  <tbody>\n",
       "    <tr>\n",
       "      <th>0</th>\n",
       "      <td>0</td>\n",
       "      <td>0</td>\n",
       "      <td>2</td>\n",
       "      <td>@VirginAmerica What @dhepburn said.</td>\n",
       "      <td>35</td>\n",
       "      <td>what say</td>\n",
       "      <td>8</td>\n",
       "      <td>['what', 'say']</td>\n",
       "    </tr>\n",
       "    <tr>\n",
       "      <th>1</th>\n",
       "      <td>1</td>\n",
       "      <td>1</td>\n",
       "      <td>1</td>\n",
       "      <td>@VirginAmerica plus you've added commercials t...</td>\n",
       "      <td>72</td>\n",
       "      <td>plus add commercial experience tacky</td>\n",
       "      <td>36</td>\n",
       "      <td>['plus', 'add', 'commercial', 'experience', 't...</td>\n",
       "    </tr>\n",
       "    <tr>\n",
       "      <th>2</th>\n",
       "      <td>2</td>\n",
       "      <td>2</td>\n",
       "      <td>2</td>\n",
       "      <td>@VirginAmerica I didn't today... Must mean I n...</td>\n",
       "      <td>71</td>\n",
       "      <td>i today must mean i need take another trip</td>\n",
       "      <td>42</td>\n",
       "      <td>['i', 'today', 'must', 'mean', 'i', 'need', 't...</td>\n",
       "    </tr>\n",
       "    <tr>\n",
       "      <th>3</th>\n",
       "      <td>3</td>\n",
       "      <td>3</td>\n",
       "      <td>0</td>\n",
       "      <td>@VirginAmerica it's really aggressive to blast...</td>\n",
       "      <td>126</td>\n",
       "      <td>really aggressive blast obnoxious entertainmen...</td>\n",
       "      <td>78</td>\n",
       "      <td>['really', 'aggressive', 'blast', 'obnoxious',...</td>\n",
       "    </tr>\n",
       "    <tr>\n",
       "      <th>4</th>\n",
       "      <td>4</td>\n",
       "      <td>4</td>\n",
       "      <td>0</td>\n",
       "      <td>@VirginAmerica and it's a really big bad thing...</td>\n",
       "      <td>55</td>\n",
       "      <td>really big bad thing</td>\n",
       "      <td>20</td>\n",
       "      <td>['really', 'big', 'bad', 'thing']</td>\n",
       "    </tr>\n",
       "  </tbody>\n",
       "</table>\n",
       "</div>"
      ],
      "text/plain": [
       "   Unnamed: 0.1  Unnamed: 0  label  \\\n",
       "0             0           0      2   \n",
       "1             1           1      1   \n",
       "2             2           2      2   \n",
       "3             3           3      0   \n",
       "4             4           4      0   \n",
       "\n",
       "                                                text  length  \\\n",
       "0                @VirginAmerica What @dhepburn said.      35   \n",
       "1  @VirginAmerica plus you've added commercials t...      72   \n",
       "2  @VirginAmerica I didn't today... Must mean I n...      71   \n",
       "3  @VirginAmerica it's really aggressive to blast...     126   \n",
       "4  @VirginAmerica and it's a really big bad thing...      55   \n",
       "\n",
       "                               preprocessed_abstract  length_after_cleaning  \\\n",
       "0                                           what say                      8   \n",
       "1               plus add commercial experience tacky                     36   \n",
       "2         i today must mean i need take another trip                     42   \n",
       "3  really aggressive blast obnoxious entertainmen...                     78   \n",
       "4                               really big bad thing                     20   \n",
       "\n",
       "                                      tokenized_text  \n",
       "0                                    ['what', 'say']  \n",
       "1  ['plus', 'add', 'commercial', 'experience', 't...  \n",
       "2  ['i', 'today', 'must', 'mean', 'i', 'need', 't...  \n",
       "3  ['really', 'aggressive', 'blast', 'obnoxious',...  \n",
       "4                  ['really', 'big', 'bad', 'thing']  "
      ]
     },
     "execution_count": 2,
     "metadata": {},
     "output_type": "execute_result"
    }
   ],
   "source": [
    "df=pd.read_csv(\"df_RandomDeletion.csv\")\n",
    "df.head()"
   ]
  },
  {
   "cell_type": "code",
   "execution_count": 3,
   "id": "17c756b8",
   "metadata": {},
   "outputs": [
    {
     "data": {
      "text/plain": [
       "Unnamed: 0.1               0\n",
       "Unnamed: 0                 0\n",
       "label                      0\n",
       "text                       0\n",
       "length                     0\n",
       "preprocessed_abstract    408\n",
       "length_after_cleaning      0\n",
       "tokenized_text             0\n",
       "dtype: int64"
      ]
     },
     "execution_count": 3,
     "metadata": {},
     "output_type": "execute_result"
    }
   ],
   "source": [
    "df.isnull().sum()"
   ]
  },
  {
   "cell_type": "code",
   "execution_count": 4,
   "id": "34e6d18c",
   "metadata": {},
   "outputs": [],
   "source": [
    "df = df.dropna()"
   ]
  },
  {
   "cell_type": "markdown",
   "id": "46c4f1f4",
   "metadata": {},
   "source": [
    "##### 2)Preparing Data"
   ]
  },
  {
   "cell_type": "markdown",
   "id": "1130b37b",
   "metadata": {},
   "source": [
    "- Word2Vec model (pre-trained word embeddings) for embedding layer in the model"
   ]
  },
  {
   "cell_type": "code",
   "execution_count": 5,
   "id": "029601c1",
   "metadata": {},
   "outputs": [
    {
     "data": {
      "text/plain": [
       "array([[ 8.8694537e-01, -2.4949664e-01,  8.6293286e-01, ...,\n",
       "        -6.4027113e-01, -1.3692556e-01,  9.4257154e-02],\n",
       "       [-4.1881245e-01,  5.6916755e-01,  1.1494361e+00, ...,\n",
       "        -6.2736869e-01, -9.0696859e-01,  5.6412476e-01],\n",
       "       [-9.0570755e-02,  4.4623104e-01, -6.2215287e-02, ...,\n",
       "        -6.6735744e-01,  1.3193275e-01,  7.3047847e-02],\n",
       "       ...,\n",
       "       [ 3.4516780e-03,  1.0216033e-02,  1.2395979e-02, ...,\n",
       "        -1.5539762e-02, -1.0174869e-02,  2.0757642e-02],\n",
       "       [-8.7262196e-03,  1.2490608e-02, -4.9858312e-03, ...,\n",
       "        -2.0480480e-03, -2.2606768e-03,  6.1931652e-03],\n",
       "       [-9.9305334e-03, -2.7585134e-05,  8.6370306e-03, ...,\n",
       "        -1.0169246e-02,  9.9075967e-03, -4.6164496e-05]], dtype=float32)"
      ]
     },
     "execution_count": 5,
     "metadata": {},
     "output_type": "execute_result"
    }
   ],
   "source": [
    "sentences = [sentence.split() for sentence in df['preprocessed_abstract']]\n",
    "# Create and train the Word2Vec model\n",
    "model_2= Word2Vec(sentences, vector_size=100, window=5, min_count=1, workers=4)\n",
    "# Access the word vectors\n",
    "word_vectors = model_2.wv\n",
    "word_vectors.vectors"
   ]
  },
  {
   "cell_type": "code",
   "execution_count": 6,
   "id": "08dd43f6",
   "metadata": {},
   "outputs": [
    {
     "data": {
      "text/plain": [
       "(9391, 100)"
      ]
     },
     "execution_count": 6,
     "metadata": {},
     "output_type": "execute_result"
    }
   ],
   "source": [
    "word_vectors.vectors.shape"
   ]
  },
  {
   "cell_type": "markdown",
   "id": "4e03b6a9",
   "metadata": {},
   "source": [
    "#####  3) Split , into Training and Validation Sets (80:20)"
   ]
  },
  {
   "cell_type": "code",
   "execution_count": 7,
   "id": "d8741840",
   "metadata": {},
   "outputs": [
    {
     "name": "stdout",
     "output_type": "stream",
     "text": [
      "Train data: (21700,) (21700,)\n",
      "Test data: (5426,) (5426,)\n"
     ]
    }
   ],
   "source": [
    "X_train, X_test, y_train, y_test = train_test_split(df['preprocessed_abstract'], df['label'], test_size=0.2, stratify=df['label'], random_state=42)\n",
    "print(\"Train data:\",  X_train.shape, y_train.shape)\n",
    "print(\"Test data:\",  X_test.shape, y_test.shape)"
   ]
  },
  {
   "cell_type": "code",
   "execution_count": 8,
   "id": "9d5b7f7d",
   "metadata": {},
   "outputs": [
    {
     "data": {
      "image/png": "[encoded data removed]",
      "text/plain": [
       "<Figure size 1008x432 with 1 Axes>"
      ]
     },
     "metadata": {},
     "output_type": "display_data"
    }
   ],
   "source": [
    "plt.figure(figsize=(14,6))\n",
    "colors = ['#4285f4', '#ea4335', '#fbbc05', '#34a853']\n",
    "plt.rcParams.update({'font.size': 14})\n",
    "plt.pie([len(y_train), len(y_test)],\n",
    "        labels=['Train','Test'],\n",
    "        colors=colors, autopct='%.1f%%', explode=(0.05,0.05),\n",
    "        startangle=30);"
   ]
  },
  {
   "cell_type": "code",
   "execution_count": 9,
   "id": "7b70c66f",
   "metadata": {},
   "outputs": [
    {
     "name": "stdout",
     "output_type": "stream",
     "text": [
      "[[  90   26    3 ...    0    0    0]\n",
      " [1268  658  206 ...    0    0    0]\n",
      " [  75  425 2057 ...    0    0    0]\n",
      " ...\n",
      " [   4    1 8737 ...    0    0    0]\n",
      " [  47   47   47 ...    0    0    0]\n",
      " [  59 2720  980 ...    0    0    0]]\n"
     ]
    }
   ],
   "source": [
    "corp=X_train\n",
    "t = Tokenizer()\n",
    "t.fit_on_texts(corp)\n",
    "vocab_size = len(t.word_index) + 1\n",
    "# integer encode the documents\n",
    "encoded_docs = t.texts_to_sequences(corp)\n",
    "# print(encoded_docs)\n",
    "max_length=max(len(d) for d in encoded_docs)\n",
    "padded_docs_train = pad_sequences(encoded_docs, maxlen=max_length, padding='post')\n",
    "print(padded_docs_train)"
   ]
  },
  {
   "cell_type": "code",
   "execution_count": 10,
   "id": "16c1cbc2",
   "metadata": {},
   "outputs": [
    {
     "name": "stdout",
     "output_type": "stream",
     "text": [
      "[[   3 1340 2003 ...    0    0    0]\n",
      " [  13 1581  213 ...    0    0    0]\n",
      " [ 159  260   11 ...    0    0    0]\n",
      " ...\n",
      " [  51  603 1577 ...    0    0    0]\n",
      " [   4    0    0 ...    0    0    0]\n",
      " [  20  485    0 ...    0    0    0]]\n"
     ]
    }
   ],
   "source": [
    "corp=X_test\n",
    "t = Tokenizer()\n",
    "t.fit_on_texts(corp)\n",
    "vocab_size = len(t.word_index) + 1\n",
    "# integer encode the documents\n",
    "encoded_docs = t.texts_to_sequences(corp)\n",
    "# print(encoded_docs)\n",
    "padded_docs_test = pad_sequences(encoded_docs, maxlen=max_length, padding='post')\n",
    "print(padded_docs_test)"
   ]
  },
  {
   "cell_type": "markdown",
   "id": "c2ffb115",
   "metadata": {},
   "source": [
    "##### 4)Model Architecture"
   ]
  },
  {
   "cell_type": "code",
   "execution_count": 11,
   "id": "1a556ad9",
   "metadata": {},
   "outputs": [],
   "source": [
    "def ensemble_CNN_BiGRU(filters=100, kernel_size=3, activation='relu',\n",
    "                       input_dim=None, output_dim=100, max_length=None, emb_matrix=None, num_classes=None):\n",
    "\n",
    "    # Channel 1D CNN\n",
    "    input1 = Input(shape=(max_length,))\n",
    "    embeddding1 = Embedding(input_dim=input_dim,\n",
    "                            output_dim=output_dim,\n",
    "                            input_length=max_length,\n",
    "                            input_shape=(max_length,),\n",
    "                            weights=[emb_matrix],\n",
    "                            trainable=False)(input1)\n",
    "    conv1 = Conv1D(filters=filters, kernel_size=kernel_size, activation='relu',\n",
    "                   kernel_constraint=MaxNorm(max_value=3, axis=[0, 1]))(embeddding1)\n",
    "    pool1 = MaxPooling1D(pool_size=2, strides=2)(conv1)\n",
    "    flat1 = Flatten()(pool1)\n",
    "    drop1 = Dropout(0.5)(flat1)\n",
    "    dense1 = Dense(10, activation='relu')(drop1)\n",
    "    drop1 = Dropout(0.5)(dense1)\n",
    "    out1 = Dense(num_classes, activation='softmax')(drop1)\n",
    "\n",
    "    # Channel BiGRU\n",
    "    input2 = Input(shape=(max_length,))\n",
    "    embeddding2 = Embedding(input_dim=input_dim,\n",
    "                            output_dim=output_dim,\n",
    "                            input_length=max_length,\n",
    "                            input_shape=(max_length,),\n",
    "                            weights=[emb_matrix],\n",
    "                            trainable=False,\n",
    "                            mask_zero=True)(input2)\n",
    "    gru2 = Bidirectional(GRU(64))(embeddding2)\n",
    "    drop2 = Dropout(0.5)(gru2)\n",
    "    out2 = Dense(num_classes, activation='softmax')(drop2)\n",
    "\n",
    "    # Merge\n",
    "    merged = concatenate([out1, out2])\n",
    "\n",
    "    # Interpretation\n",
    "    outputs = Dense(num_classes, activation='softmax')(merged)\n",
    "    model = Model(inputs=[input1, input2], outputs=outputs)\n",
    "\n",
    "    # Compile with sparse categorical crossentropy\n",
    "    model.compile(loss='sparse_categorical_crossentropy', optimizer=Adam(), metrics=['accuracy'])\n",
    "\n",
    "    return model"
   ]
  },
  {
   "cell_type": "code",
   "execution_count": 12,
   "id": "abfb9a9f",
   "metadata": {},
   "outputs": [
    {
     "name": "stdout",
     "output_type": "stream",
     "text": [
      "WARNING:tensorflow:From D:\\Users\\Suzan Hatem\\anaconda3\\lib\\site-packages\\keras\\src\\backend.py:1398: The name tf.executing_eagerly_outside_functions is deprecated. Please use tf.compat.v1.executing_eagerly_outside_functions instead.\n",
      "\n",
      "WARNING:tensorflow:From D:\\Users\\Suzan Hatem\\anaconda3\\lib\\site-packages\\keras\\src\\backend.py:6642: The name tf.nn.max_pool is deprecated. Please use tf.nn.max_pool2d instead.\n",
      "\n",
      "Model: \"model\"\n",
      "__________________________________________________________________________________________________\n",
      " Layer (type)                Output Shape                 Param #   Connected to                  \n",
      "==================================================================================================\n",
      " input_1 (InputLayer)        [(None, 26)]                 0         []                            \n",
      "                                                                                                  \n",
      " embedding (Embedding)       (None, 26, 100)              939100    ['input_1[0][0]']             \n",
      "                                                                                                  \n",
      " conv1d (Conv1D)             (None, 24, 100)              30100     ['embedding[0][0]']           \n",
      "                                                                                                  \n",
      " max_pooling1d (MaxPooling1  (None, 12, 100)              0         ['conv1d[0][0]']              \n",
      " D)                                                                                               \n",
      "                                                                                                  \n",
      " flatten (Flatten)           (None, 1200)                 0         ['max_pooling1d[0][0]']       \n",
      "                                                                                                  \n",
      " input_2 (InputLayer)        [(None, 26)]                 0         []                            \n",
      "                                                                                                  \n",
      " dropout (Dropout)           (None, 1200)                 0         ['flatten[0][0]']             \n",
      "                                                                                                  \n",
      " embedding_1 (Embedding)     (None, 26, 100)              939100    ['input_2[0][0]']             \n",
      "                                                                                                  \n",
      " dense (Dense)               (None, 10)                   12010     ['dropout[0][0]']             \n",
      "                                                                                                  \n",
      " bidirectional (Bidirection  (None, 128)                  63744     ['embedding_1[0][0]']         \n",
      " al)                                                                                              \n",
      "                                                                                                  \n",
      " dropout_1 (Dropout)         (None, 10)                   0         ['dense[0][0]']               \n",
      "                                                                                                  \n",
      " dropout_2 (Dropout)         (None, 128)                  0         ['bidirectional[0][0]']       \n",
      "                                                                                                  \n",
      " dense_1 (Dense)             (None, 3)                    33        ['dropout_1[0][0]']           \n",
      "                                                                                                  \n",
      " dense_2 (Dense)             (None, 3)                    387       ['dropout_2[0][0]']           \n",
      "                                                                                                  \n",
      " concatenate (Concatenate)   (None, 6)                    0         ['dense_1[0][0]',             \n",
      "                                                                     'dense_2[0][0]']             \n",
      "                                                                                                  \n",
      " dense_3 (Dense)             (None, 3)                    21        ['concatenate[0][0]']         \n",
      "                                                                                                  \n",
      "==================================================================================================\n",
      "Total params: 1984495 (7.57 MB)\n",
      "Trainable params: 106295 (415.21 KB)\n",
      "Non-trainable params: 1878200 (7.16 MB)\n",
      "__________________________________________________________________________________________________\n"
     ]
    }
   ],
   "source": [
    "model = ensemble_CNN_BiGRU(input_dim=word_vectors.vectors.shape[0], output_dim=100, max_length=max_length, emb_matrix=word_vectors.vectors, num_classes=3)\n",
    "model.summary()"
   ]
  },
  {
   "cell_type": "markdown",
   "id": "6ea9dbdd",
   "metadata": {},
   "source": [
    "##### 5) Training Model"
   ]
  },
  {
   "cell_type": "code",
   "execution_count": 13,
   "id": "1a3407cf",
   "metadata": {},
   "outputs": [
    {
     "name": "stdout",
     "output_type": "stream",
     "text": [
      "Epoch 1/100\n",
      "WARNING:tensorflow:From D:\\Users\\Suzan Hatem\\anaconda3\\lib\\site-packages\\keras\\src\\utils\\tf_utils.py:492: The name tf.ragged.RaggedTensorValue is deprecated. Please use tf.compat.v1.ragged.RaggedTensorValue instead.\n",
      "\n",
      "WARNING:tensorflow:From D:\\Users\\Suzan Hatem\\anaconda3\\lib\\site-packages\\keras\\src\\engine\\base_layer_utils.py:384: The name tf.executing_eagerly_outside_functions is deprecated. Please use tf.compat.v1.executing_eagerly_outside_functions instead.\n",
      "\n",
      "217/217 [==============================] - 100s 157ms/step - loss: 1.0201 - accuracy: 0.4874 - val_loss: 1.0001 - val_accuracy: 0.5177\n",
      "Epoch 2/100\n",
      "217/217 [==============================] - 9s 40ms/step - loss: 0.9690 - accuracy: 0.5440 - val_loss: 0.9774 - val_accuracy: 0.5273\n",
      "Epoch 3/100\n",
      "217/217 [==============================] - 9s 42ms/step - loss: 0.9331 - accuracy: 0.5742 - val_loss: 0.9624 - val_accuracy: 0.5426\n",
      "Epoch 4/100\n",
      "217/217 [==============================] - 8s 39ms/step - loss: 0.9047 - accuracy: 0.5929 - val_loss: 0.9694 - val_accuracy: 0.5299\n",
      "Epoch 5/100\n",
      "217/217 [==============================] - 9s 40ms/step - loss: 0.8863 - accuracy: 0.6035 - val_loss: 0.9758 - val_accuracy: 0.5286\n",
      "Epoch 6/100\n",
      "217/217 [==============================] - 9s 39ms/step - loss: 0.8711 - accuracy: 0.6162 - val_loss: 0.9745 - val_accuracy: 0.5346\n",
      "Epoch 7/100\n",
      "217/217 [==============================] - 9s 40ms/step - loss: 0.8490 - accuracy: 0.6304 - val_loss: 0.9889 - val_accuracy: 0.5289\n",
      "Epoch 8/100\n",
      "217/217 [==============================] - 9s 40ms/step - loss: 0.8317 - accuracy: 0.6411 - val_loss: 0.9961 - val_accuracy: 0.5129\n",
      "Epoch 9/100\n",
      "217/217 [==============================] - 9s 41ms/step - loss: 0.8135 - accuracy: 0.6544 - val_loss: 1.0007 - val_accuracy: 0.5184\n",
      "Epoch 10/100\n",
      "217/217 [==============================] - 9s 40ms/step - loss: 0.7968 - accuracy: 0.6628 - val_loss: 1.0322 - val_accuracy: 0.5057\n",
      "Epoch 11/100\n",
      "217/217 [==============================] - 9s 40ms/step - loss: 0.7790 - accuracy: 0.6728 - val_loss: 1.0218 - val_accuracy: 0.5247\n",
      "Epoch 12/100\n",
      "217/217 [==============================] - 9s 41ms/step - loss: 0.7602 - accuracy: 0.6845 - val_loss: 1.0355 - val_accuracy: 0.4983\n",
      "Epoch 13/100\n",
      "217/217 [==============================] - 9s 41ms/step - loss: 0.7493 - accuracy: 0.6919 - val_loss: 1.0526 - val_accuracy: 0.5037\n",
      "Epoch 14/100\n",
      "217/217 [==============================] - 9s 40ms/step - loss: 0.7311 - accuracy: 0.7007 - val_loss: 1.0582 - val_accuracy: 0.5170\n",
      "Epoch 15/100\n",
      "217/217 [==============================] - 9s 40ms/step - loss: 0.7216 - accuracy: 0.7055 - val_loss: 1.0671 - val_accuracy: 0.5009\n",
      "Epoch 16/100\n",
      "217/217 [==============================] - 9s 40ms/step - loss: 0.7024 - accuracy: 0.7184 - val_loss: 1.0852 - val_accuracy: 0.4985\n",
      "Epoch 17/100\n",
      "217/217 [==============================] - 9s 42ms/step - loss: 0.6893 - accuracy: 0.7231 - val_loss: 1.0911 - val_accuracy: 0.5061\n",
      "Epoch 18/100\n",
      "217/217 [==============================] - 9s 41ms/step - loss: 0.6718 - accuracy: 0.7342 - val_loss: 1.1031 - val_accuracy: 0.5122\n",
      "Epoch 19/100\n",
      "217/217 [==============================] - 9s 40ms/step - loss: 0.6591 - accuracy: 0.7417 - val_loss: 1.1336 - val_accuracy: 0.4932\n",
      "Epoch 20/100\n",
      "217/217 [==============================] - 8s 39ms/step - loss: 0.6414 - accuracy: 0.7489 - val_loss: 1.1297 - val_accuracy: 0.5061\n",
      "Epoch 21/100\n",
      "217/217 [==============================] - 9s 42ms/step - loss: 0.6373 - accuracy: 0.7504 - val_loss: 1.1288 - val_accuracy: 0.5066\n",
      "Epoch 22/100\n",
      "217/217 [==============================] - 9s 40ms/step - loss: 0.6189 - accuracy: 0.7609 - val_loss: 1.1616 - val_accuracy: 0.4985\n",
      "Epoch 23/100\n",
      "217/217 [==============================] - 9s 41ms/step - loss: 0.6094 - accuracy: 0.7663 - val_loss: 1.1742 - val_accuracy: 0.5052\n",
      "Epoch 24/100\n",
      "217/217 [==============================] - 9s 41ms/step - loss: 0.5928 - accuracy: 0.7727 - val_loss: 1.1783 - val_accuracy: 0.4878\n",
      "Epoch 25/100\n",
      "217/217 [==============================] - 9s 40ms/step - loss: 0.5801 - accuracy: 0.7813 - val_loss: 1.2083 - val_accuracy: 0.5044\n",
      "Epoch 26/100\n",
      "217/217 [==============================] - 9s 39ms/step - loss: 0.5705 - accuracy: 0.7855 - val_loss: 1.2097 - val_accuracy: 0.4976\n",
      "Epoch 27/100\n",
      "217/217 [==============================] - 9s 39ms/step - loss: 0.5571 - accuracy: 0.7896 - val_loss: 1.2345 - val_accuracy: 0.5037\n",
      "Epoch 28/100\n",
      "217/217 [==============================] - 9s 42ms/step - loss: 0.5488 - accuracy: 0.7947 - val_loss: 1.2409 - val_accuracy: 0.5033\n",
      "Epoch 29/100\n",
      "217/217 [==============================] - 10s 46ms/step - loss: 0.5349 - accuracy: 0.8004 - val_loss: 1.2477 - val_accuracy: 0.4998\n",
      "Epoch 30/100\n",
      "217/217 [==============================] - 9s 41ms/step - loss: 0.5249 - accuracy: 0.8088 - val_loss: 1.2875 - val_accuracy: 0.4948\n",
      "Epoch 31/100\n",
      "217/217 [==============================] - 9s 43ms/step - loss: 0.5124 - accuracy: 0.8127 - val_loss: 1.2920 - val_accuracy: 0.4985\n",
      "Epoch 32/100\n",
      "217/217 [==============================] - 9s 41ms/step - loss: 0.5011 - accuracy: 0.8169 - val_loss: 1.3070 - val_accuracy: 0.4950\n",
      "Epoch 33/100\n",
      "217/217 [==============================] - 9s 41ms/step - loss: 0.4977 - accuracy: 0.8188 - val_loss: 1.3001 - val_accuracy: 0.4915\n",
      "Epoch 34/100\n",
      "217/217 [==============================] - 9s 43ms/step - loss: 0.4876 - accuracy: 0.8218 - val_loss: 1.3421 - val_accuracy: 0.4908\n",
      "Epoch 35/100\n",
      "217/217 [==============================] - 9s 42ms/step - loss: 0.4833 - accuracy: 0.8264 - val_loss: 1.3298 - val_accuracy: 0.4939\n",
      "Epoch 36/100\n",
      "217/217 [==============================] - 8s 39ms/step - loss: 0.4685 - accuracy: 0.8335 - val_loss: 1.3679 - val_accuracy: 0.4954\n",
      "Epoch 37/100\n",
      "217/217 [==============================] - 9s 41ms/step - loss: 0.4621 - accuracy: 0.8348 - val_loss: 1.3707 - val_accuracy: 0.4943\n",
      "Epoch 38/100\n",
      "217/217 [==============================] - 8s 38ms/step - loss: 0.4528 - accuracy: 0.8392 - val_loss: 1.3622 - val_accuracy: 0.4913\n",
      "Epoch 39/100\n",
      "217/217 [==============================] - 8s 39ms/step - loss: 0.4449 - accuracy: 0.8418 - val_loss: 1.3968 - val_accuracy: 0.4832\n",
      "Epoch 40/100\n",
      "217/217 [==============================] - 9s 40ms/step - loss: 0.4432 - accuracy: 0.8424 - val_loss: 1.3905 - val_accuracy: 0.4924\n",
      "Epoch 41/100\n",
      "217/217 [==============================] - 8s 38ms/step - loss: 0.4296 - accuracy: 0.8482 - val_loss: 1.4257 - val_accuracy: 0.4971\n",
      "Epoch 42/100\n",
      "217/217 [==============================] - 8s 38ms/step - loss: 0.4267 - accuracy: 0.8491 - val_loss: 1.4046 - val_accuracy: 0.4875\n",
      "Epoch 43/100\n",
      "217/217 [==============================] - 8s 38ms/step - loss: 0.4142 - accuracy: 0.8548 - val_loss: 1.4497 - val_accuracy: 0.4871\n",
      "Epoch 44/100\n",
      "217/217 [==============================] - 9s 39ms/step - loss: 0.4166 - accuracy: 0.8539 - val_loss: 1.4219 - val_accuracy: 0.4777\n",
      "Epoch 45/100\n",
      "217/217 [==============================] - 8s 37ms/step - loss: 0.4025 - accuracy: 0.8602 - val_loss: 1.4598 - val_accuracy: 0.4869\n",
      "Epoch 46/100\n",
      "217/217 [==============================] - 8s 37ms/step - loss: 0.4001 - accuracy: 0.8600 - val_loss: 1.4593 - val_accuracy: 0.4913\n",
      "Epoch 47/100\n",
      "217/217 [==============================] - 8s 38ms/step - loss: 0.3917 - accuracy: 0.8647 - val_loss: 1.4744 - val_accuracy: 0.4864\n",
      "Epoch 48/100\n",
      "217/217 [==============================] - 8s 37ms/step - loss: 0.3847 - accuracy: 0.8677 - val_loss: 1.4945 - val_accuracy: 0.4827\n",
      "Epoch 49/100\n",
      "217/217 [==============================] - 7s 31ms/step - loss: 0.3840 - accuracy: 0.8670 - val_loss: 1.4867 - val_accuracy: 0.4913\n",
      "Epoch 50/100\n",
      "217/217 [==============================] - 6s 29ms/step - loss: 0.3743 - accuracy: 0.8692 - val_loss: 1.5483 - val_accuracy: 0.4829\n",
      "Epoch 51/100\n",
      "217/217 [==============================] - 6s 29ms/step - loss: 0.3746 - accuracy: 0.8707 - val_loss: 1.4977 - val_accuracy: 0.4842\n",
      "Epoch 52/100\n",
      "217/217 [==============================] - 6s 30ms/step - loss: 0.3678 - accuracy: 0.8728 - val_loss: 1.4915 - val_accuracy: 0.4814\n",
      "Epoch 53/100\n",
      "217/217 [==============================] - 6s 29ms/step - loss: 0.3646 - accuracy: 0.8735 - val_loss: 1.5169 - val_accuracy: 0.4900\n",
      "Epoch 54/100\n"
     ]
    },
    {
     "name": "stdout",
     "output_type": "stream",
     "text": [
      "217/217 [==============================] - 7s 31ms/step - loss: 0.3611 - accuracy: 0.8759 - val_loss: 1.5385 - val_accuracy: 0.4934\n",
      "Epoch 55/100\n",
      "217/217 [==============================] - 6s 29ms/step - loss: 0.3542 - accuracy: 0.8789 - val_loss: 1.5427 - val_accuracy: 0.4897\n",
      "Epoch 56/100\n",
      "217/217 [==============================] - 6s 28ms/step - loss: 0.3472 - accuracy: 0.8812 - val_loss: 1.5490 - val_accuracy: 0.4891\n",
      "Epoch 57/100\n",
      "217/217 [==============================] - 6s 28ms/step - loss: 0.3449 - accuracy: 0.8828 - val_loss: 1.5684 - val_accuracy: 0.4884\n",
      "Epoch 58/100\n",
      "217/217 [==============================] - 6s 28ms/step - loss: 0.3463 - accuracy: 0.8804 - val_loss: 1.5584 - val_accuracy: 0.4891\n",
      "Epoch 59/100\n",
      "217/217 [==============================] - 6s 28ms/step - loss: 0.3460 - accuracy: 0.8802 - val_loss: 1.5980 - val_accuracy: 0.4806\n",
      "Epoch 60/100\n",
      "217/217 [==============================] - 6s 28ms/step - loss: 0.3283 - accuracy: 0.8875 - val_loss: 1.6161 - val_accuracy: 0.4853\n",
      "Epoch 61/100\n",
      "217/217 [==============================] - 6s 28ms/step - loss: 0.3283 - accuracy: 0.8876 - val_loss: 1.5921 - val_accuracy: 0.4847\n",
      "Epoch 62/100\n",
      "217/217 [==============================] - 6s 29ms/step - loss: 0.3252 - accuracy: 0.8890 - val_loss: 1.6203 - val_accuracy: 0.4771\n",
      "Epoch 63/100\n",
      "217/217 [==============================] - 6s 28ms/step - loss: 0.3293 - accuracy: 0.8870 - val_loss: 1.6376 - val_accuracy: 0.4847\n",
      "Epoch 64/100\n",
      "217/217 [==============================] - 6s 28ms/step - loss: 0.3190 - accuracy: 0.8907 - val_loss: 1.6266 - val_accuracy: 0.4836\n",
      "Epoch 65/100\n",
      "217/217 [==============================] - 6s 28ms/step - loss: 0.3170 - accuracy: 0.8895 - val_loss: 1.6425 - val_accuracy: 0.4748\n",
      "Epoch 66/100\n",
      "217/217 [==============================] - 6s 28ms/step - loss: 0.3042 - accuracy: 0.8981 - val_loss: 1.6564 - val_accuracy: 0.4853\n",
      "Epoch 67/100\n",
      "217/217 [==============================] - 6s 28ms/step - loss: 0.3060 - accuracy: 0.8955 - val_loss: 1.6560 - val_accuracy: 0.4779\n",
      "Epoch 68/100\n",
      "217/217 [==============================] - 6s 28ms/step - loss: 0.3018 - accuracy: 0.8996 - val_loss: 1.6859 - val_accuracy: 0.4827\n",
      "Epoch 69/100\n",
      "217/217 [==============================] - 6s 29ms/step - loss: 0.3057 - accuracy: 0.8966 - val_loss: 1.6864 - val_accuracy: 0.4764\n",
      "Epoch 70/100\n",
      "217/217 [==============================] - 6s 28ms/step - loss: 0.2998 - accuracy: 0.8975 - val_loss: 1.6910 - val_accuracy: 0.4897\n",
      "Epoch 71/100\n",
      "217/217 [==============================] - 6s 28ms/step - loss: 0.2895 - accuracy: 0.9024 - val_loss: 1.6862 - val_accuracy: 0.4897\n",
      "Epoch 72/100\n",
      "217/217 [==============================] - 6s 29ms/step - loss: 0.2926 - accuracy: 0.9018 - val_loss: 1.6801 - val_accuracy: 0.4781\n",
      "Epoch 73/100\n",
      "217/217 [==============================] - 6s 28ms/step - loss: 0.2923 - accuracy: 0.9015 - val_loss: 1.6637 - val_accuracy: 0.4875\n",
      "Epoch 74/100\n",
      "217/217 [==============================] - 6s 28ms/step - loss: 0.2993 - accuracy: 0.8974 - val_loss: 1.7359 - val_accuracy: 0.4849\n",
      "Epoch 75/100\n",
      "217/217 [==============================] - 6s 28ms/step - loss: 0.2826 - accuracy: 0.9045 - val_loss: 1.6909 - val_accuracy: 0.4818\n",
      "Epoch 76/100\n",
      "217/217 [==============================] - 6s 28ms/step - loss: 0.2864 - accuracy: 0.9031 - val_loss: 1.7123 - val_accuracy: 0.4801\n",
      "Epoch 77/100\n",
      "217/217 [==============================] - 6s 28ms/step - loss: 0.2849 - accuracy: 0.9029 - val_loss: 1.7431 - val_accuracy: 0.4795\n",
      "Epoch 78/100\n",
      "217/217 [==============================] - 6s 28ms/step - loss: 0.2833 - accuracy: 0.9042 - val_loss: 1.7430 - val_accuracy: 0.4748\n",
      "Epoch 79/100\n",
      "217/217 [==============================] - 6s 28ms/step - loss: 0.2791 - accuracy: 0.9036 - val_loss: 1.7360 - val_accuracy: 0.4797\n",
      "Epoch 80/100\n",
      "217/217 [==============================] - 6s 29ms/step - loss: 0.2738 - accuracy: 0.9081 - val_loss: 1.7585 - val_accuracy: 0.4770\n",
      "Epoch 81/100\n",
      "217/217 [==============================] - 6s 28ms/step - loss: 0.2704 - accuracy: 0.9080 - val_loss: 1.7902 - val_accuracy: 0.4777\n",
      "Epoch 82/100\n",
      "217/217 [==============================] - 6s 28ms/step - loss: 0.2772 - accuracy: 0.9042 - val_loss: 1.7399 - val_accuracy: 0.4810\n",
      "Epoch 83/100\n",
      "217/217 [==============================] - 6s 26ms/step - loss: 0.2775 - accuracy: 0.9055 - val_loss: 1.7485 - val_accuracy: 0.4829\n",
      "Epoch 84/100\n",
      "217/217 [==============================] - 5s 21ms/step - loss: 0.2727 - accuracy: 0.9061 - val_loss: 1.7717 - val_accuracy: 0.4832\n",
      "Epoch 85/100\n",
      "217/217 [==============================] - 5s 22ms/step - loss: 0.2662 - accuracy: 0.9097 - val_loss: 1.7606 - val_accuracy: 0.4760\n",
      "Epoch 86/100\n",
      "217/217 [==============================] - 4s 20ms/step - loss: 0.2594 - accuracy: 0.9135 - val_loss: 1.7731 - val_accuracy: 0.4843\n",
      "Epoch 87/100\n",
      "217/217 [==============================] - 4s 20ms/step - loss: 0.2595 - accuracy: 0.9115 - val_loss: 1.7728 - val_accuracy: 0.4814\n",
      "Epoch 88/100\n",
      "217/217 [==============================] - 4s 21ms/step - loss: 0.2652 - accuracy: 0.9082 - val_loss: 1.7772 - val_accuracy: 0.4842\n",
      "Epoch 89/100\n",
      "217/217 [==============================] - 4s 20ms/step - loss: 0.2715 - accuracy: 0.9062 - val_loss: 1.7552 - val_accuracy: 0.4777\n",
      "Epoch 90/100\n",
      "217/217 [==============================] - 4s 20ms/step - loss: 0.2521 - accuracy: 0.9143 - val_loss: 1.7802 - val_accuracy: 0.4893\n",
      "Epoch 91/100\n",
      "217/217 [==============================] - 4s 20ms/step - loss: 0.2558 - accuracy: 0.9127 - val_loss: 1.7949 - val_accuracy: 0.4751\n",
      "Epoch 92/100\n",
      "217/217 [==============================] - 4s 20ms/step - loss: 0.2714 - accuracy: 0.9063 - val_loss: 1.8072 - val_accuracy: 0.4795\n",
      "Epoch 93/100\n",
      "217/217 [==============================] - 4s 20ms/step - loss: 0.2457 - accuracy: 0.9173 - val_loss: 1.7914 - val_accuracy: 0.4795\n",
      "Epoch 94/100\n",
      "217/217 [==============================] - 4s 20ms/step - loss: 0.2442 - accuracy: 0.9173 - val_loss: 1.8135 - val_accuracy: 0.4783\n",
      "Epoch 95/100\n",
      "217/217 [==============================] - 4s 20ms/step - loss: 0.2417 - accuracy: 0.9187 - val_loss: 1.8582 - val_accuracy: 0.4735\n",
      "Epoch 96/100\n",
      "217/217 [==============================] - 4s 21ms/step - loss: 0.2475 - accuracy: 0.9156 - val_loss: 1.7994 - val_accuracy: 0.4773\n",
      "Epoch 97/100\n",
      "217/217 [==============================] - 4s 20ms/step - loss: 0.2512 - accuracy: 0.9130 - val_loss: 1.8115 - val_accuracy: 0.4869\n",
      "Epoch 98/100\n",
      "217/217 [==============================] - 4s 20ms/step - loss: 0.2553 - accuracy: 0.9127 - val_loss: 1.8223 - val_accuracy: 0.4808\n",
      "Epoch 99/100\n",
      "217/217 [==============================] - 4s 20ms/step - loss: 0.2407 - accuracy: 0.9171 - val_loss: 1.8178 - val_accuracy: 0.4803\n",
      "Epoch 100/100\n",
      "217/217 [==============================] - 4s 20ms/step - loss: 0.2398 - accuracy: 0.9177 - val_loss: 1.8369 - val_accuracy: 0.4771\n"
     ]
    },
    {
     "data": {
      "text/plain": [
       "<keras.src.callbacks.History at 0x1f594bccf10>"
      ]
     },
     "execution_count": 13,
     "metadata": {},
     "output_type": "execute_result"
    }
   ],
   "source": [
    "history=model.fit([padded_docs_train, padded_docs_train], y_train, epochs=100, batch_size=100, validation_data=([padded_docs_test,padded_docs_test], y_test))\n",
    "history"
   ]
  },
  {
   "cell_type": "markdown",
   "id": "5d00c466",
   "metadata": {},
   "source": [
    "##### 6) Finding Training and Testing Accuracy"
   ]
  },
  {
   "cell_type": "code",
   "execution_count": 14,
   "id": "6d517703",
   "metadata": {},
   "outputs": [
    {
     "data": {
      "image/png": "[encoded data removed]",
      "text/plain": [
       "<Figure size 432x288 with 1 Axes>"
      ]
     },
     "metadata": {
      "needs_background": "light"
     },
     "output_type": "display_data"
    }
   ],
   "source": [
    "# Plot the training and testing accuracy\n",
    "plt.plot(history.history['accuracy'])\n",
    "plt.plot(history.history['val_accuracy'])\n",
    "plt.title('Model Accuracy')\n",
    "plt.ylabel('Accuracy')\n",
    "plt.xlabel('Epoch')\n",
    "plt.ylim([0, 1])\n",
    "plt.legend(['Train', 'Test'], loc='upper left')\n",
    "plt.show()"
   ]
  },
  {
   "cell_type": "code",
   "execution_count": 15,
   "id": "516fe5b8",
   "metadata": {},
   "outputs": [
    {
     "name": "stdout",
     "output_type": "stream",
     "text": [
      "170/170 [==============================] - 1s 6ms/step - loss: 1.8369 - accuracy: 0.4771\n"
     ]
    },
    {
     "data": {
      "text/plain": [
       "(1.83685302734375, 0.47714707255363464)"
      ]
     },
     "execution_count": 15,
     "metadata": {},
     "output_type": "execute_result"
    }
   ],
   "source": [
    "test_loss,test_acc=model.evaluate([padded_docs_test,padded_docs_test],y_test)\n",
    "test_loss,test_acc"
   ]
  },
  {
   "cell_type": "markdown",
   "id": "80a47670",
   "metadata": {},
   "source": [
    "##### 7) Compute and plot the confusion matrix for the three classes"
   ]
  },
  {
   "cell_type": "code",
   "execution_count": 16,
   "id": "7eb7ef1b",
   "metadata": {},
   "outputs": [
    {
     "name": "stdout",
     "output_type": "stream",
     "text": [
      "170/170 [==============================] - 3s 6ms/step\n",
      "              precision    recall  f1-score   support\n",
      "\n",
      "    negative       0.46      0.51      0.48      1835\n",
      "     neutral       0.45      0.48      0.47      1801\n",
      "    positive       0.54      0.44      0.49      1790\n",
      "\n",
      "    accuracy                           0.48      5426\n",
      "   macro avg       0.48      0.48      0.48      5426\n",
      "weighted avg       0.48      0.48      0.48      5426\n",
      "\n"
     ]
    }
   ],
   "source": [
    "predictions=model.predict([padded_docs_test,padded_docs_test])\n",
    "class_labels = ['negative', 'positive','neutral']\n",
    "predicted_class_labels = [class_labels[np.argmax(pred)] for pred in predictions]\n",
    "actual_class_labels=[class_labels[actual] for actual in y_test]\n",
    "print(classification_report(actual_class_labels, predicted_class_labels))"
   ]
  },
  {
   "cell_type": "code",
   "execution_count": 17,
   "id": "9208658a",
   "metadata": {},
   "outputs": [
    {
     "data": {
      "image/png": "[encoded data removed]",
      "text/plain": [
       "<Figure size 576x432 with 2 Axes>"
      ]
     },
     "metadata": {
      "needs_background": "light"
     },
     "output_type": "display_data"
    }
   ],
   "source": [
    "conf_matrix = confusion_matrix(actual_class_labels, predicted_class_labels, labels=class_labels)\n",
    "plt.figure(figsize=(8, 6))\n",
    "sns.heatmap(conf_matrix, annot=True, fmt=\"d\", cmap=\"Purples\", xticklabels=class_labels, yticklabels=class_labels)\n",
    "plt.title('Confusion Matrix')\n",
    "plt.xlabel('Predicted Labels')\n",
    "plt.ylabel('True Labels')\n",
    "plt.show()"
   ]
  },
  {
   "cell_type": "markdown",
   "id": "dd974772",
   "metadata": {},
   "source": [
    "##### 8) Saving the final results in Excel sheet"
   ]
  },
  {
   "cell_type": "code",
   "execution_count": 18,
   "id": "a0081b41",
   "metadata": {},
   "outputs": [
    {
     "name": "stdout",
     "output_type": "stream",
     "text": [
      "Precision per class: [0.45755183 0.44966443 0.54066986]\n",
      "Recall per class: [0.50517711 0.48362021 0.44189944]\n"
     ]
    }
   ],
   "source": [
    "precision_per_class = precision_score(actual_class_labels, predicted_class_labels, average=None)\n",
    "recall_per_class = recall_score(actual_class_labels, predicted_class_labels, average=None)\n",
    "\n",
    "print(\"Precision per class:\", precision_per_class)\n",
    "print(\"Recall per class:\", recall_per_class)"
   ]
  },
  {
   "cell_type": "code",
   "execution_count": 19,
   "id": "7df0d2f2",
   "metadata": {},
   "outputs": [
    {
     "name": "stdout",
     "output_type": "stream",
     "text": [
      "Micro F1 Score: 0.477147069664578\n",
      "Macro F1 Score: 0.47751047066113195\n"
     ]
    }
   ],
   "source": [
    "f1_micro = f1_score(actual_class_labels, predicted_class_labels, average='micro')\n",
    "f1_macro = f1_score(actual_class_labels, predicted_class_labels, average='macro')\n",
    "\n",
    "print(\"Micro F1 Score:\", f1_micro)\n",
    "print(\"Macro F1 Score:\", f1_macro)"
   ]
  },
  {
   "cell_type": "code",
   "execution_count": 23,
   "id": "f03192f6",
   "metadata": {},
   "outputs": [
    {
     "data": {
      "text/html": [
       "<div>\n",
       "<style scoped>\n",
       "    .dataframe tbody tr th:only-of-type {\n",
       "        vertical-align: middle;\n",
       "    }\n",
       "\n",
       "    .dataframe tbody tr th {\n",
       "        vertical-align: top;\n",
       "    }\n",
       "\n",
       "    .dataframe thead th {\n",
       "        text-align: right;\n",
       "    }\n",
       "</style>\n",
       "<table border=\"1\" class=\"dataframe\">\n",
       "  <thead>\n",
       "    <tr style=\"text-align: right;\">\n",
       "      <th></th>\n",
       "      <th>Unnamed: 0</th>\n",
       "      <th>RandomDeletion_Dataset</th>\n",
       "    </tr>\n",
       "  </thead>\n",
       "  <tbody>\n",
       "    <tr>\n",
       "      <th>0</th>\n",
       "      <td>Training Accuracy</td>\n",
       "      <td>0.918710</td>\n",
       "    </tr>\n",
       "    <tr>\n",
       "      <th>1</th>\n",
       "      <td>Testing Accuracy</td>\n",
       "      <td>0.477147</td>\n",
       "    </tr>\n",
       "    <tr>\n",
       "      <th>2</th>\n",
       "      <td>Micro F1 Score</td>\n",
       "      <td>0.477147</td>\n",
       "    </tr>\n",
       "    <tr>\n",
       "      <th>3</th>\n",
       "      <td>Macro F1 Score</td>\n",
       "      <td>0.477510</td>\n",
       "    </tr>\n",
       "    <tr>\n",
       "      <th>4</th>\n",
       "      <td>Precision for Negative sentiment</td>\n",
       "      <td>0.457552</td>\n",
       "    </tr>\n",
       "    <tr>\n",
       "      <th>5</th>\n",
       "      <td>Precision for Positive sentiment</td>\n",
       "      <td>0.449664</td>\n",
       "    </tr>\n",
       "    <tr>\n",
       "      <th>6</th>\n",
       "      <td>Precision for Neutral sentiment</td>\n",
       "      <td>0.540670</td>\n",
       "    </tr>\n",
       "    <tr>\n",
       "      <th>7</th>\n",
       "      <td>Recall for Negative sentiment</td>\n",
       "      <td>0.505177</td>\n",
       "    </tr>\n",
       "    <tr>\n",
       "      <th>8</th>\n",
       "      <td>Recall for Positive sentiment</td>\n",
       "      <td>0.483620</td>\n",
       "    </tr>\n",
       "    <tr>\n",
       "      <th>9</th>\n",
       "      <td>Recall for Neutral sentiment</td>\n",
       "      <td>0.441899</td>\n",
       "    </tr>\n",
       "  </tbody>\n",
       "</table>\n",
       "</div>"
      ],
      "text/plain": [
       "                         Unnamed: 0  RandomDeletion_Dataset\n",
       "0                 Training Accuracy                0.918710\n",
       "1                  Testing Accuracy                0.477147\n",
       "2                    Micro F1 Score                0.477147\n",
       "3                    Macro F1 Score                0.477510\n",
       "4  Precision for Negative sentiment                0.457552\n",
       "5  Precision for Positive sentiment                0.449664\n",
       "6   Precision for Neutral sentiment                0.540670\n",
       "7     Recall for Negative sentiment                0.505177\n",
       "8     Recall for Positive sentiment                0.483620\n",
       "9      Recall for Neutral sentiment                0.441899"
      ]
     },
     "execution_count": 23,
     "metadata": {},
     "output_type": "execute_result"
    }
   ],
   "source": [
    "result=pd.read_csv('Ensemble_CNN-GRU_ModelResults.csv')\n",
    "result['RandomDeletion_Dataset']=[max(history.history['accuracy']),test_acc,f1_micro,f1_macro,precision_per_class[0],precision_per_class[1],precision_per_class[2],recall_per_class[0],recall_per_class[1],recall_per_class[2]]\n",
    "result[['Unnamed: 0','RandomDeletion_Dataset']]"
   ]
  },
  {
   "cell_type": "code",
   "execution_count": 24,
   "id": "867156cc",
   "metadata": {},
   "outputs": [],
   "source": [
    "result.to_csv('Ensemble_CNN-GRU_ModelResults.csv', index=False)"
   ]
  }
 ],
 "metadata": {
  "kernelspec": {
   "display_name": "Python 3 (ipykernel)",
   "language": "python",
   "name": "python3"
  },
  "language_info": {
   "codemirror_mode": {
    "name": "ipython",
    "version": 3
   },
   "file_extension": ".py",
   "mimetype": "text/x-python",
   "name": "python",
   "nbconvert_exporter": "python",
   "pygments_lexer": "ipython3",
   "version": "3.9.7"
  }
 },
 "nbformat": 4,
 "nbformat_minor": 5
}
