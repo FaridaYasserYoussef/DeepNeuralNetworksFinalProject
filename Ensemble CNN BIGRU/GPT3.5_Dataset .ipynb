{
 "cells": [
  {
   "cell_type": "markdown",
   "id": "c6575869",
   "metadata": {},
   "source": [
    "# Ensemble_CNN_BI_GRU Model"
   ]
  },
  {
   "cell_type": "code",
   "execution_count": 1,
   "id": "934847a5",
   "metadata": {},
   "outputs": [
    {
     "name": "stdout",
     "output_type": "stream",
     "text": [
      "WARNING:tensorflow:From D:\\Users\\Suzan Hatem\\anaconda3\\lib\\site-packages\\keras\\src\\losses.py:2976: The name tf.losses.sparse_softmax_cross_entropy is deprecated. Please use tf.compat.v1.losses.sparse_softmax_cross_entropy instead.\n",
      "\n"
     ]
    }
   ],
   "source": [
    "#Imports\n",
    "import pandas as pd\n",
    "import numpy as np\n",
    "\n",
    "from gensim.models import Word2Vec\n",
    "from sklearn.model_selection import train_test_split\n",
    "from keras.preprocessing.text import Tokenizer\n",
    "from keras.utils import pad_sequences\n",
    "\n",
    "from keras.layers import Input, Embedding, Conv1D, MaxPooling1D, Flatten, Dense, Dropout, concatenate, Bidirectional, GRU\n",
    "from keras.models import Model\n",
    "from keras.constraints import MaxNorm\n",
    "from keras.optimizers import Adam\n",
    "\n",
    "import matplotlib.pyplot as plt\n",
    "import seaborn as sns\n",
    "from sklearn.metrics import confusion_matrix\n",
    "from sklearn.metrics import confusion_matrix, ConfusionMatrixDisplay\n",
    "from sklearn.metrics import classification_report\n",
    "from sklearn.metrics import precision_score, recall_score\n",
    "from sklearn.metrics import f1_score"
   ]
  },
  {
   "cell_type": "markdown",
   "id": "978ceb42",
   "metadata": {},
   "source": [
    "##### 1)Loading Dataset"
   ]
  },
  {
   "cell_type": "code",
   "execution_count": 2,
   "id": "272b56c0",
   "metadata": {},
   "outputs": [],
   "source": [
    "df_train=pd.read_csv(\"training_GPT.csv\")\n",
    "df_test=pd.read_csv(\"testing_GPT.csv\")"
   ]
  },
  {
   "cell_type": "code",
   "execution_count": 3,
   "id": "17c756b8",
   "metadata": {},
   "outputs": [
    {
     "data": {
      "text/plain": [
       "Unnamed: 0.2              0\n",
       "Unnamed: 0.1              0\n",
       "Unnamed: 0                0\n",
       "text                      0\n",
       "label                     0\n",
       "length                    0\n",
       "preprocessed_abstract    11\n",
       "length_after_cleaning     0\n",
       "tokenized_text            0\n",
       "dtype: int64"
      ]
     },
     "execution_count": 3,
     "metadata": {},
     "output_type": "execute_result"
    }
   ],
   "source": [
    "df_train.isnull().sum()"
   ]
  },
  {
   "cell_type": "code",
   "execution_count": 4,
   "id": "e9986802",
   "metadata": {},
   "outputs": [
    {
     "data": {
      "text/plain": [
       "Unnamed: 0.2             0\n",
       "Unnamed: 0.1             0\n",
       "Unnamed: 0               0\n",
       "text                     0\n",
       "label                    0\n",
       "length                   0\n",
       "preprocessed_abstract    6\n",
       "length_after_cleaning    0\n",
       "tokenized_text           0\n",
       "dtype: int64"
      ]
     },
     "execution_count": 4,
     "metadata": {},
     "output_type": "execute_result"
    }
   ],
   "source": [
    "df_test.isnull().sum()"
   ]
  },
  {
   "cell_type": "code",
   "execution_count": 5,
   "id": "34e6d18c",
   "metadata": {},
   "outputs": [],
   "source": [
    "df_train=df_train.dropna()\n",
    "df_test=df_test.dropna()"
   ]
  },
  {
   "cell_type": "markdown",
   "id": "46c4f1f4",
   "metadata": {},
   "source": [
    "##### 2)Preparing Data"
   ]
  },
  {
   "cell_type": "markdown",
   "id": "1130b37b",
   "metadata": {},
   "source": [
    "- Word2Vec model (pre-trained word embeddings) for embedding layer in the model"
   ]
  },
  {
   "cell_type": "code",
   "execution_count": 6,
   "id": "1587f9a1",
   "metadata": {},
   "outputs": [],
   "source": [
    "preprocessed_abstract=pd.concat([df_train['preprocessed_abstract'],df_test['preprocessed_abstract']], axis=0, ignore_index=True)"
   ]
  },
  {
   "cell_type": "code",
   "execution_count": 7,
   "id": "029601c1",
   "metadata": {},
   "outputs": [
    {
     "data": {
      "text/plain": [
       "array([[-5.04310310e-01, -6.24849200e-01,  4.75979298e-01, ...,\n",
       "        -1.15533900e+00,  7.22362613e-03,  8.01015377e-01],\n",
       "       [-1.11672950e+00,  5.61428070e-01,  1.59104431e+00, ...,\n",
       "        -4.88655329e-01, -2.75788248e-01, -7.47463942e-01],\n",
       "       [-3.65813017e-01,  4.48221803e-01,  2.48865366e-01, ...,\n",
       "        -1.36069372e-01,  2.22580567e-01, -1.05650473e+00],\n",
       "       ...,\n",
       "       [-1.24706458e-02,  1.34899281e-03, -3.24037159e-03, ...,\n",
       "        -4.76239622e-03, -1.64967368e-03, -9.53429751e-03],\n",
       "       [-1.62017494e-02, -2.99241859e-03, -7.23076286e-03, ...,\n",
       "        -2.32332823e-04, -8.16086121e-03,  1.47935618e-02],\n",
       "       [-1.62043422e-02,  1.21791875e-02,  2.24940162e-02, ...,\n",
       "        -1.24279521e-02, -3.45316064e-03, -2.11833473e-02]], dtype=float32)"
      ]
     },
     "execution_count": 7,
     "metadata": {},
     "output_type": "execute_result"
    }
   ],
   "source": [
    "sentences = [sentence.split() for sentence in preprocessed_abstract]\n",
    "# Create and train the Word2Vec model\n",
    "model_2= Word2Vec(sentences, vector_size=100, window=5, min_count=1, workers=4)\n",
    "# Access the word vectors\n",
    "word_vectors = model_2.wv\n",
    "word_vectors.vectors"
   ]
  },
  {
   "cell_type": "code",
   "execution_count": 8,
   "id": "08dd43f6",
   "metadata": {},
   "outputs": [
    {
     "data": {
      "text/plain": [
       "(14336, 100)"
      ]
     },
     "execution_count": 8,
     "metadata": {},
     "output_type": "execute_result"
    }
   ],
   "source": [
    "word_vectors.vectors.shape"
   ]
  },
  {
   "cell_type": "markdown",
   "id": "4e03b6a9",
   "metadata": {},
   "source": [
    "#####  3) Split , into Training and Validation Sets (80:20)"
   ]
  },
  {
   "cell_type": "code",
   "execution_count": 9,
   "id": "5be7ca78",
   "metadata": {},
   "outputs": [],
   "source": [
    "X_train=df_train['preprocessed_abstract']\n",
    "X_test=df_test['preprocessed_abstract']\n",
    "y_train=df_train['label']\n",
    "y_test=df_test['label']"
   ]
  },
  {
   "cell_type": "code",
   "execution_count": 10,
   "id": "d8741840",
   "metadata": {},
   "outputs": [
    {
     "name": "stdout",
     "output_type": "stream",
     "text": [
      "Train data: (21978,) (21978,)\n",
      "Test data: (5501,) (5501,)\n"
     ]
    }
   ],
   "source": [
    "print(\"Train data:\",  X_train.shape, y_train.shape)\n",
    "print(\"Test data:\",  X_test.shape, y_test.shape)"
   ]
  },
  {
   "cell_type": "code",
   "execution_count": 11,
   "id": "9d5b7f7d",
   "metadata": {},
   "outputs": [
    {
     "data": {
      "image/png": "[encoded data removed]",
      "text/plain": [
       "<Figure size 1008x432 with 1 Axes>"
      ]
     },
     "metadata": {},
     "output_type": "display_data"
    }
   ],
   "source": [
    "plt.figure(figsize=(14,6))\n",
    "colors = ['#4285f4', '#ea4335', '#fbbc05', '#34a853']\n",
    "plt.rcParams.update({'font.size': 14})\n",
    "plt.pie([len(y_train), len(y_test)],\n",
    "        labels=['Train','Test'],\n",
    "        colors=colors, autopct='%.1f%%', explode=(0.05,0.05),\n",
    "        startangle=30);"
   ]
  },
  {
   "cell_type": "code",
   "execution_count": 12,
   "id": "7b70c66f",
   "metadata": {},
   "outputs": [
    {
     "name": "stdout",
     "output_type": "stream",
     "text": [
      "[[ 329  358 2650 ...    0    0    0]\n",
      " [   8 6457  289 ...    0    0    0]\n",
      " [ 489  146 1762 ...    0    0    0]\n",
      " ...\n",
      " [ 176  278 2514 ...    0    0    0]\n",
      " [  28  157   22 ...    0    0    0]\n",
      " [1135   21    4 ...    0    0    0]]\n"
     ]
    }
   ],
   "source": [
    "corp=X_train\n",
    "t = Tokenizer()\n",
    "t.fit_on_texts(corp)\n",
    "vocab_size = len(t.word_index) + 1\n",
    "# integer encode the documents\n",
    "encoded_docs = t.texts_to_sequences(corp)\n",
    "# print(encoded_docs)\n",
    "max_length=max(len(d) for d in encoded_docs)\n",
    "padded_docs_train = pad_sequences(encoded_docs, maxlen=max_length, padding='post')\n",
    "print(padded_docs_train)"
   ]
  },
  {
   "cell_type": "code",
   "execution_count": 13,
   "id": "16c1cbc2",
   "metadata": {},
   "outputs": [
    {
     "name": "stdout",
     "output_type": "stream",
     "text": [
      "[[  57   51    0 ...    0    0    0]\n",
      " [ 275  187 1222 ...    0    0    0]\n",
      " [   1   54  586 ...    0    0    0]\n",
      " ...\n",
      " [5669   48    1 ...    0    0    0]\n",
      " [1646  355 2049 ...    0    0    0]\n",
      " [2835   87   42 ...    0    0    0]]\n"
     ]
    }
   ],
   "source": [
    "corp=X_test\n",
    "t = Tokenizer()\n",
    "t.fit_on_texts(corp)\n",
    "vocab_size = len(t.word_index) + 1\n",
    "# integer encode the documents\n",
    "encoded_docs = t.texts_to_sequences(corp)\n",
    "# print(encoded_docs)\n",
    "padded_docs_test = pad_sequences(encoded_docs, maxlen=max_length, padding='post')\n",
    "print(padded_docs_test)"
   ]
  },
  {
   "cell_type": "markdown",
   "id": "c2ffb115",
   "metadata": {},
   "source": [
    "##### 4)Model Architecture"
   ]
  },
  {
   "cell_type": "code",
   "execution_count": 14,
   "id": "1a556ad9",
   "metadata": {},
   "outputs": [],
   "source": [
    "def ensemble_CNN_BiGRU(filters=100, kernel_size=3, activation='relu',\n",
    "                       input_dim=None, output_dim=100, max_length=None, emb_matrix=None, num_classes=None):\n",
    "\n",
    "    # Channel 1D CNN\n",
    "    input1 = Input(shape=(max_length,))\n",
    "    embeddding1 = Embedding(input_dim=input_dim,\n",
    "                            output_dim=output_dim,\n",
    "                            input_length=max_length,\n",
    "                            input_shape=(max_length,),\n",
    "                            weights=[emb_matrix],\n",
    "                            trainable=False)(input1)\n",
    "    conv1 = Conv1D(filters=filters, kernel_size=kernel_size, activation='relu',\n",
    "                   kernel_constraint=MaxNorm(max_value=3, axis=[0, 1]))(embeddding1)\n",
    "    pool1 = MaxPooling1D(pool_size=2, strides=2)(conv1)\n",
    "    flat1 = Flatten()(pool1)\n",
    "    drop1 = Dropout(0.5)(flat1)\n",
    "    dense1 = Dense(10, activation='relu')(drop1)\n",
    "    drop1 = Dropout(0.5)(dense1)\n",
    "    out1 = Dense(num_classes, activation='softmax')(drop1)\n",
    "\n",
    "    # Channel BiGRU\n",
    "    input2 = Input(shape=(max_length,))\n",
    "    embeddding2 = Embedding(input_dim=input_dim,\n",
    "                            output_dim=output_dim,\n",
    "                            input_length=max_length,\n",
    "                            input_shape=(max_length,),\n",
    "                            weights=[emb_matrix],\n",
    "                            trainable=False,\n",
    "                            mask_zero=True)(input2)\n",
    "    gru2 = Bidirectional(GRU(64))(embeddding2)\n",
    "    drop2 = Dropout(0.5)(gru2)\n",
    "    out2 = Dense(num_classes, activation='softmax')(drop2)\n",
    "\n",
    "    # Merge\n",
    "    merged = concatenate([out1, out2])\n",
    "\n",
    "    # Interpretation\n",
    "    outputs = Dense(num_classes, activation='softmax')(merged)\n",
    "    model = Model(inputs=[input1, input2], outputs=outputs)\n",
    "\n",
    "    # Compile with sparse categorical crossentropy\n",
    "    model.compile(loss='sparse_categorical_crossentropy', optimizer=Adam(), metrics=['accuracy'])\n",
    "\n",
    "    return model"
   ]
  },
  {
   "cell_type": "code",
   "execution_count": 15,
   "id": "abfb9a9f",
   "metadata": {},
   "outputs": [
    {
     "name": "stdout",
     "output_type": "stream",
     "text": [
      "WARNING:tensorflow:From D:\\Users\\Suzan Hatem\\anaconda3\\lib\\site-packages\\keras\\src\\backend.py:1398: The name tf.executing_eagerly_outside_functions is deprecated. Please use tf.compat.v1.executing_eagerly_outside_functions instead.\n",
      "\n",
      "WARNING:tensorflow:From D:\\Users\\Suzan Hatem\\anaconda3\\lib\\site-packages\\keras\\src\\backend.py:6642: The name tf.nn.max_pool is deprecated. Please use tf.nn.max_pool2d instead.\n",
      "\n",
      "Model: \"model\"\n",
      "__________________________________________________________________________________________________\n",
      " Layer (type)                Output Shape                 Param #   Connected to                  \n",
      "==================================================================================================\n",
      " input_1 (InputLayer)        [(None, 26)]                 0         []                            \n",
      "                                                                                                  \n",
      " embedding (Embedding)       (None, 26, 100)              1433600   ['input_1[0][0]']             \n",
      "                                                                                                  \n",
      " conv1d (Conv1D)             (None, 24, 100)              30100     ['embedding[0][0]']           \n",
      "                                                                                                  \n",
      " max_pooling1d (MaxPooling1  (None, 12, 100)              0         ['conv1d[0][0]']              \n",
      " D)                                                                                               \n",
      "                                                                                                  \n",
      " flatten (Flatten)           (None, 1200)                 0         ['max_pooling1d[0][0]']       \n",
      "                                                                                                  \n",
      " input_2 (InputLayer)        [(None, 26)]                 0         []                            \n",
      "                                                                                                  \n",
      " dropout (Dropout)           (None, 1200)                 0         ['flatten[0][0]']             \n",
      "                                                                                                  \n",
      " embedding_1 (Embedding)     (None, 26, 100)              1433600   ['input_2[0][0]']             \n",
      "                                                                                                  \n",
      " dense (Dense)               (None, 10)                   12010     ['dropout[0][0]']             \n",
      "                                                                                                  \n",
      " bidirectional (Bidirection  (None, 128)                  63744     ['embedding_1[0][0]']         \n",
      " al)                                                                                              \n",
      "                                                                                                  \n",
      " dropout_1 (Dropout)         (None, 10)                   0         ['dense[0][0]']               \n",
      "                                                                                                  \n",
      " dropout_2 (Dropout)         (None, 128)                  0         ['bidirectional[0][0]']       \n",
      "                                                                                                  \n",
      " dense_1 (Dense)             (None, 3)                    33        ['dropout_1[0][0]']           \n",
      "                                                                                                  \n",
      " dense_2 (Dense)             (None, 3)                    387       ['dropout_2[0][0]']           \n",
      "                                                                                                  \n",
      " concatenate (Concatenate)   (None, 6)                    0         ['dense_1[0][0]',             \n",
      "                                                                     'dense_2[0][0]']             \n",
      "                                                                                                  \n",
      " dense_3 (Dense)             (None, 3)                    21        ['concatenate[0][0]']         \n",
      "                                                                                                  \n",
      "==================================================================================================\n",
      "Total params: 2973495 (11.34 MB)\n",
      "Trainable params: 106295 (415.21 KB)\n",
      "Non-trainable params: 2867200 (10.94 MB)\n",
      "__________________________________________________________________________________________________\n"
     ]
    }
   ],
   "source": [
    "model = ensemble_CNN_BiGRU(input_dim=word_vectors.vectors.shape[0], output_dim=100, max_length=max_length, emb_matrix=word_vectors.vectors, num_classes=3)\n",
    "model.summary()"
   ]
  },
  {
   "cell_type": "markdown",
   "id": "6ea9dbdd",
   "metadata": {},
   "source": [
    "##### 5) Training Model"
   ]
  },
  {
   "cell_type": "code",
   "execution_count": 16,
   "id": "1a3407cf",
   "metadata": {},
   "outputs": [
    {
     "name": "stdout",
     "output_type": "stream",
     "text": [
      "Epoch 1/100\n",
      "WARNING:tensorflow:From D:\\Users\\Suzan Hatem\\anaconda3\\lib\\site-packages\\keras\\src\\utils\\tf_utils.py:492: The name tf.ragged.RaggedTensorValue is deprecated. Please use tf.compat.v1.ragged.RaggedTensorValue instead.\n",
      "\n",
      "WARNING:tensorflow:From D:\\Users\\Suzan Hatem\\anaconda3\\lib\\site-packages\\keras\\src\\engine\\base_layer_utils.py:384: The name tf.executing_eagerly_outside_functions is deprecated. Please use tf.compat.v1.executing_eagerly_outside_functions instead.\n",
      "\n",
      "220/220 [==============================] - 15s 34ms/step - loss: 0.9149 - accuracy: 0.5907 - val_loss: 1.3166 - val_accuracy: 0.2798\n",
      "Epoch 2/100\n",
      "220/220 [==============================] - 5s 24ms/step - loss: 0.7429 - accuracy: 0.7133 - val_loss: 1.2120 - val_accuracy: 0.3865\n",
      "Epoch 3/100\n",
      "220/220 [==============================] - 5s 24ms/step - loss: 0.6687 - accuracy: 0.7451 - val_loss: 1.1561 - val_accuracy: 0.4681\n",
      "Epoch 4/100\n",
      "220/220 [==============================] - 5s 24ms/step - loss: 0.6217 - accuracy: 0.7638 - val_loss: 1.4437 - val_accuracy: 0.3550\n",
      "Epoch 5/100\n",
      "220/220 [==============================] - 5s 25ms/step - loss: 0.5912 - accuracy: 0.7773 - val_loss: 1.3628 - val_accuracy: 0.4105\n",
      "Epoch 6/100\n",
      "220/220 [==============================] - 5s 25ms/step - loss: 0.5585 - accuracy: 0.7888 - val_loss: 1.4368 - val_accuracy: 0.3919\n",
      "Epoch 7/100\n",
      "220/220 [==============================] - 5s 25ms/step - loss: 0.5424 - accuracy: 0.7956 - val_loss: 1.3626 - val_accuracy: 0.4257\n",
      "Epoch 8/100\n",
      "220/220 [==============================] - 6s 25ms/step - loss: 0.5171 - accuracy: 0.8045 - val_loss: 1.5506 - val_accuracy: 0.3856\n",
      "Epoch 9/100\n",
      "220/220 [==============================] - 6s 25ms/step - loss: 0.5055 - accuracy: 0.8096 - val_loss: 1.3888 - val_accuracy: 0.4312\n",
      "Epoch 10/100\n",
      "220/220 [==============================] - 5s 25ms/step - loss: 0.4912 - accuracy: 0.8156 - val_loss: 1.5213 - val_accuracy: 0.3957\n",
      "Epoch 11/100\n",
      "220/220 [==============================] - 5s 25ms/step - loss: 0.4689 - accuracy: 0.8252 - val_loss: 1.6478 - val_accuracy: 0.3781\n",
      "Epoch 12/100\n",
      "220/220 [==============================] - 6s 25ms/step - loss: 0.4577 - accuracy: 0.8291 - val_loss: 1.6315 - val_accuracy: 0.3892\n",
      "Epoch 13/100\n",
      "220/220 [==============================] - 5s 25ms/step - loss: 0.4464 - accuracy: 0.8335 - val_loss: 1.6007 - val_accuracy: 0.3785\n",
      "Epoch 14/100\n",
      "220/220 [==============================] - 6s 28ms/step - loss: 0.4279 - accuracy: 0.8395 - val_loss: 1.6186 - val_accuracy: 0.3876\n",
      "Epoch 15/100\n",
      "220/220 [==============================] - 6s 29ms/step - loss: 0.4221 - accuracy: 0.8441 - val_loss: 1.6061 - val_accuracy: 0.3994\n",
      "Epoch 16/100\n",
      "220/220 [==============================] - 6s 25ms/step - loss: 0.4063 - accuracy: 0.8496 - val_loss: 1.8124 - val_accuracy: 0.3523\n",
      "Epoch 17/100\n",
      "220/220 [==============================] - 5s 25ms/step - loss: 0.3990 - accuracy: 0.8536 - val_loss: 1.7446 - val_accuracy: 0.3817\n",
      "Epoch 18/100\n",
      "220/220 [==============================] - 5s 25ms/step - loss: 0.3892 - accuracy: 0.8550 - val_loss: 1.7764 - val_accuracy: 0.3705\n",
      "Epoch 19/100\n",
      "220/220 [==============================] - 5s 25ms/step - loss: 0.3762 - accuracy: 0.8620 - val_loss: 1.7210 - val_accuracy: 0.3868\n",
      "Epoch 20/100\n",
      "220/220 [==============================] - 6s 25ms/step - loss: 0.3664 - accuracy: 0.8648 - val_loss: 1.7455 - val_accuracy: 0.3952\n",
      "Epoch 21/100\n",
      "220/220 [==============================] - 6s 25ms/step - loss: 0.3648 - accuracy: 0.8657 - val_loss: 1.8279 - val_accuracy: 0.3765\n",
      "Epoch 22/100\n",
      "220/220 [==============================] - 6s 25ms/step - loss: 0.3524 - accuracy: 0.8718 - val_loss: 1.8758 - val_accuracy: 0.3739\n",
      "Epoch 23/100\n",
      "220/220 [==============================] - 5s 24ms/step - loss: 0.3498 - accuracy: 0.8706 - val_loss: 1.8158 - val_accuracy: 0.3832\n",
      "Epoch 24/100\n",
      "220/220 [==============================] - 5s 25ms/step - loss: 0.3409 - accuracy: 0.8737 - val_loss: 1.8412 - val_accuracy: 0.3799\n",
      "Epoch 25/100\n",
      "220/220 [==============================] - 5s 24ms/step - loss: 0.3307 - accuracy: 0.8781 - val_loss: 2.1827 - val_accuracy: 0.3365\n",
      "Epoch 26/100\n",
      "220/220 [==============================] - 6s 25ms/step - loss: 0.3200 - accuracy: 0.8824 - val_loss: 1.9434 - val_accuracy: 0.3721\n",
      "Epoch 27/100\n",
      "220/220 [==============================] - 5s 24ms/step - loss: 0.3126 - accuracy: 0.8877 - val_loss: 1.6769 - val_accuracy: 0.4283\n",
      "Epoch 28/100\n",
      "220/220 [==============================] - 5s 24ms/step - loss: 0.3112 - accuracy: 0.8867 - val_loss: 1.9859 - val_accuracy: 0.3561\n",
      "Epoch 29/100\n",
      "220/220 [==============================] - 6s 25ms/step - loss: 0.3032 - accuracy: 0.8894 - val_loss: 2.1265 - val_accuracy: 0.3403\n",
      "Epoch 30/100\n",
      "220/220 [==============================] - 5s 25ms/step - loss: 0.2958 - accuracy: 0.8925 - val_loss: 2.0060 - val_accuracy: 0.3565\n",
      "Epoch 31/100\n",
      "220/220 [==============================] - 5s 25ms/step - loss: 0.2975 - accuracy: 0.8924 - val_loss: 1.9635 - val_accuracy: 0.3770\n",
      "Epoch 32/100\n",
      "220/220 [==============================] - 5s 25ms/step - loss: 0.2863 - accuracy: 0.8973 - val_loss: 1.9798 - val_accuracy: 0.3843\n",
      "Epoch 33/100\n",
      "220/220 [==============================] - 5s 24ms/step - loss: 0.2826 - accuracy: 0.8985 - val_loss: 1.9988 - val_accuracy: 0.3830\n",
      "Epoch 34/100\n",
      "220/220 [==============================] - 6s 26ms/step - loss: 0.2712 - accuracy: 0.9044 - val_loss: 2.0588 - val_accuracy: 0.3663\n",
      "Epoch 35/100\n",
      "220/220 [==============================] - 5s 25ms/step - loss: 0.2669 - accuracy: 0.9048 - val_loss: 2.1889 - val_accuracy: 0.3521\n",
      "Epoch 36/100\n",
      "220/220 [==============================] - 5s 24ms/step - loss: 0.2638 - accuracy: 0.9066 - val_loss: 2.1447 - val_accuracy: 0.3612\n",
      "Epoch 37/100\n",
      "220/220 [==============================] - 5s 24ms/step - loss: 0.2556 - accuracy: 0.9106 - val_loss: 2.0183 - val_accuracy: 0.3807\n",
      "Epoch 38/100\n",
      "220/220 [==============================] - 5s 24ms/step - loss: 0.2496 - accuracy: 0.9114 - val_loss: 2.2162 - val_accuracy: 0.3707\n",
      "Epoch 39/100\n",
      "220/220 [==============================] - 6s 26ms/step - loss: 0.2501 - accuracy: 0.9115 - val_loss: 2.0709 - val_accuracy: 0.3852\n",
      "Epoch 40/100\n",
      "220/220 [==============================] - 6s 25ms/step - loss: 0.2476 - accuracy: 0.9120 - val_loss: 2.3901 - val_accuracy: 0.3263\n",
      "Epoch 41/100\n",
      "220/220 [==============================] - 5s 24ms/step - loss: 0.2404 - accuracy: 0.9146 - val_loss: 2.1378 - val_accuracy: 0.3714\n",
      "Epoch 42/100\n",
      "220/220 [==============================] - 5s 24ms/step - loss: 0.2368 - accuracy: 0.9153 - val_loss: 2.2853 - val_accuracy: 0.3541\n",
      "Epoch 43/100\n",
      "220/220 [==============================] - 5s 24ms/step - loss: 0.2360 - accuracy: 0.9166 - val_loss: 2.0188 - val_accuracy: 0.3932\n",
      "Epoch 44/100\n",
      "220/220 [==============================] - 6s 26ms/step - loss: 0.2238 - accuracy: 0.9221 - val_loss: 2.0439 - val_accuracy: 0.3905\n",
      "Epoch 45/100\n",
      "220/220 [==============================] - 6s 26ms/step - loss: 0.2238 - accuracy: 0.9216 - val_loss: 2.3058 - val_accuracy: 0.3543\n",
      "Epoch 46/100\n",
      "220/220 [==============================] - 5s 24ms/step - loss: 0.2166 - accuracy: 0.9245 - val_loss: 2.2047 - val_accuracy: 0.3623\n",
      "Epoch 47/100\n",
      "220/220 [==============================] - 5s 23ms/step - loss: 0.2111 - accuracy: 0.9255 - val_loss: 2.2553 - val_accuracy: 0.3714\n",
      "Epoch 48/100\n",
      "220/220 [==============================] - 5s 24ms/step - loss: 0.2111 - accuracy: 0.9271 - val_loss: 2.2783 - val_accuracy: 0.3770\n",
      "Epoch 49/100\n",
      "220/220 [==============================] - 5s 23ms/step - loss: 0.2056 - accuracy: 0.9269 - val_loss: 2.3742 - val_accuracy: 0.3587\n",
      "Epoch 50/100\n",
      "220/220 [==============================] - 5s 23ms/step - loss: 0.2080 - accuracy: 0.9282 - val_loss: 2.4178 - val_accuracy: 0.3478\n",
      "Epoch 51/100\n",
      "220/220 [==============================] - 5s 24ms/step - loss: 0.1984 - accuracy: 0.9311 - val_loss: 2.5992 - val_accuracy: 0.3187\n",
      "Epoch 52/100\n",
      "220/220 [==============================] - 5s 23ms/step - loss: 0.2004 - accuracy: 0.9317 - val_loss: 2.4484 - val_accuracy: 0.3530\n",
      "Epoch 53/100\n",
      "220/220 [==============================] - 5s 23ms/step - loss: 0.1998 - accuracy: 0.9324 - val_loss: 2.3141 - val_accuracy: 0.3734\n",
      "Epoch 54/100\n"
     ]
    },
    {
     "name": "stdout",
     "output_type": "stream",
     "text": [
      "220/220 [==============================] - 5s 24ms/step - loss: 0.1946 - accuracy: 0.9321 - val_loss: 2.5242 - val_accuracy: 0.3436\n",
      "Epoch 55/100\n",
      "220/220 [==============================] - 5s 23ms/step - loss: 0.1928 - accuracy: 0.9336 - val_loss: 2.3794 - val_accuracy: 0.3619\n",
      "Epoch 56/100\n",
      "220/220 [==============================] - 5s 23ms/step - loss: 0.1856 - accuracy: 0.9366 - val_loss: 2.3902 - val_accuracy: 0.3634\n",
      "Epoch 57/100\n",
      "220/220 [==============================] - 5s 25ms/step - loss: 0.1874 - accuracy: 0.9365 - val_loss: 2.4219 - val_accuracy: 0.3559\n",
      "Epoch 58/100\n",
      "220/220 [==============================] - 5s 23ms/step - loss: 0.1835 - accuracy: 0.9371 - val_loss: 2.3578 - val_accuracy: 0.3723\n",
      "Epoch 59/100\n",
      "220/220 [==============================] - 5s 23ms/step - loss: 0.1819 - accuracy: 0.9367 - val_loss: 2.5090 - val_accuracy: 0.3470\n",
      "Epoch 60/100\n",
      "220/220 [==============================] - 5s 23ms/step - loss: 0.1818 - accuracy: 0.9367 - val_loss: 2.3588 - val_accuracy: 0.3785\n",
      "Epoch 61/100\n",
      "220/220 [==============================] - 5s 23ms/step - loss: 0.1744 - accuracy: 0.9411 - val_loss: 2.3445 - val_accuracy: 0.3876\n",
      "Epoch 62/100\n",
      "220/220 [==============================] - 5s 23ms/step - loss: 0.1729 - accuracy: 0.9403 - val_loss: 2.5066 - val_accuracy: 0.3592\n",
      "Epoch 63/100\n",
      "220/220 [==============================] - 5s 23ms/step - loss: 0.1744 - accuracy: 0.9401 - val_loss: 2.3406 - val_accuracy: 0.3901\n",
      "Epoch 64/100\n",
      "220/220 [==============================] - 5s 23ms/step - loss: 0.1705 - accuracy: 0.9424 - val_loss: 2.4334 - val_accuracy: 0.3825\n",
      "Epoch 65/100\n",
      "220/220 [==============================] - 5s 23ms/step - loss: 0.1668 - accuracy: 0.9440 - val_loss: 2.5645 - val_accuracy: 0.3630\n",
      "Epoch 66/100\n",
      "220/220 [==============================] - 5s 23ms/step - loss: 0.1640 - accuracy: 0.9441 - val_loss: 2.8384 - val_accuracy: 0.3319\n",
      "Epoch 67/100\n",
      "220/220 [==============================] - 5s 23ms/step - loss: 0.1678 - accuracy: 0.9424 - val_loss: 2.5581 - val_accuracy: 0.3665\n",
      "Epoch 68/100\n",
      "220/220 [==============================] - 5s 23ms/step - loss: 0.1598 - accuracy: 0.9458 - val_loss: 2.4857 - val_accuracy: 0.3688\n",
      "Epoch 69/100\n",
      "220/220 [==============================] - 5s 24ms/step - loss: 0.1548 - accuracy: 0.9487 - val_loss: 2.6969 - val_accuracy: 0.3548\n",
      "Epoch 70/100\n",
      "220/220 [==============================] - 5s 24ms/step - loss: 0.1594 - accuracy: 0.9457 - val_loss: 2.4962 - val_accuracy: 0.3816\n",
      "Epoch 71/100\n",
      "220/220 [==============================] - 5s 24ms/step - loss: 0.1531 - accuracy: 0.9503 - val_loss: 2.3459 - val_accuracy: 0.4103\n",
      "Epoch 72/100\n",
      "220/220 [==============================] - 5s 24ms/step - loss: 0.1629 - accuracy: 0.9456 - val_loss: 2.4102 - val_accuracy: 0.3899\n",
      "Epoch 73/100\n",
      "220/220 [==============================] - 5s 24ms/step - loss: 0.1527 - accuracy: 0.9489 - val_loss: 2.6076 - val_accuracy: 0.3616\n",
      "Epoch 74/100\n",
      "220/220 [==============================] - 5s 24ms/step - loss: 0.1505 - accuracy: 0.9489 - val_loss: 2.6599 - val_accuracy: 0.3743\n",
      "Epoch 75/100\n",
      "220/220 [==============================] - 5s 25ms/step - loss: 0.1464 - accuracy: 0.9517 - val_loss: 2.5324 - val_accuracy: 0.3892\n",
      "Epoch 76/100\n",
      "220/220 [==============================] - 5s 25ms/step - loss: 0.1482 - accuracy: 0.9500 - val_loss: 2.6540 - val_accuracy: 0.3757\n",
      "Epoch 77/100\n",
      "220/220 [==============================] - 5s 23ms/step - loss: 0.1540 - accuracy: 0.9479 - val_loss: 2.9132 - val_accuracy: 0.3185\n",
      "Epoch 78/100\n",
      "220/220 [==============================] - 5s 24ms/step - loss: 0.1485 - accuracy: 0.9497 - val_loss: 2.9287 - val_accuracy: 0.3245\n",
      "Epoch 79/100\n",
      "220/220 [==============================] - 5s 24ms/step - loss: 0.1511 - accuracy: 0.9484 - val_loss: 2.8685 - val_accuracy: 0.3436\n",
      "Epoch 80/100\n",
      "220/220 [==============================] - 6s 27ms/step - loss: 0.1424 - accuracy: 0.9528 - val_loss: 2.6919 - val_accuracy: 0.3687\n",
      "Epoch 81/100\n",
      "220/220 [==============================] - 6s 26ms/step - loss: 0.1399 - accuracy: 0.9522 - val_loss: 2.8037 - val_accuracy: 0.3558\n",
      "Epoch 82/100\n",
      "220/220 [==============================] - 5s 24ms/step - loss: 0.1373 - accuracy: 0.9547 - val_loss: 2.6346 - val_accuracy: 0.3785\n",
      "Epoch 83/100\n",
      "220/220 [==============================] - 5s 24ms/step - loss: 0.1403 - accuracy: 0.9531 - val_loss: 2.5431 - val_accuracy: 0.3867\n",
      "Epoch 84/100\n",
      "220/220 [==============================] - 5s 24ms/step - loss: 0.1430 - accuracy: 0.9520 - val_loss: 2.5692 - val_accuracy: 0.3847\n",
      "Epoch 85/100\n",
      "220/220 [==============================] - 5s 24ms/step - loss: 0.1370 - accuracy: 0.9544 - val_loss: 2.6628 - val_accuracy: 0.3727\n",
      "Epoch 86/100\n",
      "220/220 [==============================] - 5s 24ms/step - loss: 0.1324 - accuracy: 0.9557 - val_loss: 2.6329 - val_accuracy: 0.3792\n",
      "Epoch 87/100\n",
      "220/220 [==============================] - 5s 24ms/step - loss: 0.1305 - accuracy: 0.9560 - val_loss: 2.8597 - val_accuracy: 0.3498\n",
      "Epoch 88/100\n",
      "220/220 [==============================] - 5s 25ms/step - loss: 0.1274 - accuracy: 0.9584 - val_loss: 2.9143 - val_accuracy: 0.3456\n",
      "Epoch 89/100\n",
      "220/220 [==============================] - 6s 27ms/step - loss: 0.1399 - accuracy: 0.9535 - val_loss: 2.7580 - val_accuracy: 0.3610\n",
      "Epoch 90/100\n",
      "220/220 [==============================] - 5s 23ms/step - loss: 0.1264 - accuracy: 0.9579 - val_loss: 2.7568 - val_accuracy: 0.3641\n",
      "Epoch 91/100\n",
      "220/220 [==============================] - 5s 23ms/step - loss: 0.1365 - accuracy: 0.9550 - val_loss: 2.8642 - val_accuracy: 0.3585\n",
      "Epoch 92/100\n",
      "220/220 [==============================] - 5s 25ms/step - loss: 0.1310 - accuracy: 0.9560 - val_loss: 2.7086 - val_accuracy: 0.3748\n",
      "Epoch 93/100\n",
      "220/220 [==============================] - 5s 25ms/step - loss: 0.1350 - accuracy: 0.9556 - val_loss: 2.7952 - val_accuracy: 0.3579\n",
      "Epoch 94/100\n",
      "220/220 [==============================] - 5s 25ms/step - loss: 0.1242 - accuracy: 0.9601 - val_loss: 2.8836 - val_accuracy: 0.3558\n",
      "Epoch 95/100\n",
      "220/220 [==============================] - 6s 25ms/step - loss: 0.1255 - accuracy: 0.9583 - val_loss: 2.5979 - val_accuracy: 0.3899\n",
      "Epoch 96/100\n",
      "220/220 [==============================] - 6s 25ms/step - loss: 0.1275 - accuracy: 0.9570 - val_loss: 2.9386 - val_accuracy: 0.3483\n",
      "Epoch 97/100\n",
      "220/220 [==============================] - 5s 24ms/step - loss: 0.1246 - accuracy: 0.9577 - val_loss: 2.5879 - val_accuracy: 0.3956\n",
      "Epoch 98/100\n",
      "220/220 [==============================] - 5s 24ms/step - loss: 0.1190 - accuracy: 0.9601 - val_loss: 2.7801 - val_accuracy: 0.3728\n",
      "Epoch 99/100\n",
      "220/220 [==============================] - 6s 27ms/step - loss: 0.1227 - accuracy: 0.9581 - val_loss: 2.6534 - val_accuracy: 0.3954\n",
      "Epoch 100/100\n",
      "220/220 [==============================] - 6s 26ms/step - loss: 0.1231 - accuracy: 0.9593 - val_loss: 2.6322 - val_accuracy: 0.4045\n"
     ]
    },
    {
     "data": {
      "text/plain": [
       "<keras.src.callbacks.History at 0x21725e9aee0>"
      ]
     },
     "execution_count": 16,
     "metadata": {},
     "output_type": "execute_result"
    }
   ],
   "source": [
    "history=model.fit([padded_docs_train, padded_docs_train], y_train, epochs=100, batch_size=100, validation_data=([padded_docs_test,padded_docs_test], y_test))\n",
    "history"
   ]
  },
  {
   "cell_type": "markdown",
   "id": "5d00c466",
   "metadata": {},
   "source": [
    "##### 6) Finding Training and Testing Accuracy"
   ]
  },
  {
   "cell_type": "code",
   "execution_count": 17,
   "id": "6d517703",
   "metadata": {},
   "outputs": [
    {
     "data": {
      "image/png": "[encoded data removed]",
      "text/plain": [
       "<Figure size 432x288 with 1 Axes>"
      ]
     },
     "metadata": {
      "needs_background": "light"
     },
     "output_type": "display_data"
    }
   ],
   "source": [
    "# Plot the training and testing accuracy\n",
    "plt.plot(history.history['accuracy'])\n",
    "plt.plot(history.history['val_accuracy'])\n",
    "plt.title('Model Accuracy')\n",
    "plt.ylabel('Accuracy')\n",
    "plt.xlabel('Epoch')\n",
    "plt.ylim([0, 1])\n",
    "plt.legend(['Train', 'Test'], loc='upper left')\n",
    "plt.show()"
   ]
  },
  {
   "cell_type": "code",
   "execution_count": 18,
   "id": "516fe5b8",
   "metadata": {},
   "outputs": [
    {
     "name": "stdout",
     "output_type": "stream",
     "text": [
      "172/172 [==============================] - 1s 7ms/step - loss: 2.6322 - accuracy: 0.4045\n"
     ]
    },
    {
     "data": {
      "text/plain": [
       "(2.632232427597046, 0.40447190403938293)"
      ]
     },
     "execution_count": 18,
     "metadata": {},
     "output_type": "execute_result"
    }
   ],
   "source": [
    "test_loss,test_acc=model.evaluate([padded_docs_test,padded_docs_test],y_test)\n",
    "test_loss,test_acc"
   ]
  },
  {
   "cell_type": "markdown",
   "id": "80a47670",
   "metadata": {},
   "source": [
    "##### 7) Compute and plot the confusion matrix for the three classes"
   ]
  },
  {
   "cell_type": "code",
   "execution_count": 19,
   "id": "7eb7ef1b",
   "metadata": {},
   "outputs": [
    {
     "name": "stdout",
     "output_type": "stream",
     "text": [
      "172/172 [==============================] - 3s 6ms/step\n",
      "              precision    recall  f1-score   support\n",
      "\n",
      "    negative       0.69      0.45      0.54      3447\n",
      "     neutral       0.24      0.51      0.33      1154\n",
      "    positive       0.11      0.11      0.11       900\n",
      "\n",
      "    accuracy                           0.40      5501\n",
      "   macro avg       0.35      0.35      0.33      5501\n",
      "weighted avg       0.50      0.40      0.43      5501\n",
      "\n"
     ]
    }
   ],
   "source": [
    "predictions=model.predict([padded_docs_test,padded_docs_test])\n",
    "class_labels = ['negative', 'positive','neutral']\n",
    "predicted_class_labels = [class_labels[np.argmax(pred)] for pred in predictions]\n",
    "actual_class_labels=[class_labels[actual] for actual in y_test]\n",
    "print(classification_report(actual_class_labels, predicted_class_labels))"
   ]
  },
  {
   "cell_type": "code",
   "execution_count": 20,
   "id": "9208658a",
   "metadata": {},
   "outputs": [
    {
     "data": {
      "image/png": "[encoded data removed]",
      "text/plain": [
       "<Figure size 576x432 with 2 Axes>"
      ]
     },
     "metadata": {
      "needs_background": "light"
     },
     "output_type": "display_data"
    }
   ],
   "source": [
    "conf_matrix = confusion_matrix(actual_class_labels, predicted_class_labels, labels=class_labels)\n",
    "plt.figure(figsize=(8, 6))\n",
    "sns.heatmap(conf_matrix, annot=True, fmt=\"d\", cmap=\"Purples\", xticklabels=class_labels, yticklabels=class_labels)\n",
    "plt.title('Confusion Matrix')\n",
    "plt.xlabel('Predicted Labels')\n",
    "plt.ylabel('True Labels')\n",
    "plt.show()"
   ]
  },
  {
   "cell_type": "markdown",
   "id": "dd974772",
   "metadata": {},
   "source": [
    "##### 8) Saving the final results in Excel sheet"
   ]
  },
  {
   "cell_type": "code",
   "execution_count": 21,
   "id": "a0081b41",
   "metadata": {},
   "outputs": [
    {
     "name": "stdout",
     "output_type": "stream",
     "text": [
      "Precision per class: [0.68996416 0.24396336 0.11418685]\n",
      "Recall per class: [0.4467653  0.50779896 0.11      ]\n"
     ]
    }
   ],
   "source": [
    "precision_per_class = precision_score(actual_class_labels, predicted_class_labels, average=None)\n",
    "recall_per_class = recall_score(actual_class_labels, predicted_class_labels, average=None)\n",
    "\n",
    "print(\"Precision per class:\", precision_per_class)\n",
    "print(\"Recall per class:\", recall_per_class)"
   ]
  },
  {
   "cell_type": "code",
   "execution_count": 22,
   "id": "7df0d2f2",
   "metadata": {},
   "outputs": [
    {
     "name": "stdout",
     "output_type": "stream",
     "text": [
      "Micro F1 Score: 0.4044719141974187\n",
      "Macro F1 Score: 0.3279957121676988\n"
     ]
    }
   ],
   "source": [
    "f1_micro = f1_score(actual_class_labels, predicted_class_labels, average='micro')\n",
    "f1_macro = f1_score(actual_class_labels, predicted_class_labels, average='macro')\n",
    "\n",
    "print(\"Micro F1 Score:\", f1_micro)\n",
    "print(\"Macro F1 Score:\", f1_macro)"
   ]
  },
  {
   "cell_type": "code",
   "execution_count": 23,
   "id": "758535f7",
   "metadata": {},
   "outputs": [
    {
     "data": {
      "text/html": [
       "<div>\n",
       "<style scoped>\n",
       "    .dataframe tbody tr th:only-of-type {\n",
       "        vertical-align: middle;\n",
       "    }\n",
       "\n",
       "    .dataframe tbody tr th {\n",
       "        vertical-align: top;\n",
       "    }\n",
       "\n",
       "    .dataframe thead th {\n",
       "        text-align: right;\n",
       "    }\n",
       "</style>\n",
       "<table border=\"1\" class=\"dataframe\">\n",
       "  <thead>\n",
       "    <tr style=\"text-align: right;\">\n",
       "      <th></th>\n",
       "      <th>Unnamed: 0</th>\n",
       "      <th>GPT3.5_Dataset</th>\n",
       "    </tr>\n",
       "  </thead>\n",
       "  <tbody>\n",
       "    <tr>\n",
       "      <th>0</th>\n",
       "      <td>Training Accuracy</td>\n",
       "      <td>0.960096</td>\n",
       "    </tr>\n",
       "    <tr>\n",
       "      <th>1</th>\n",
       "      <td>Testing Accuracy</td>\n",
       "      <td>0.404472</td>\n",
       "    </tr>\n",
       "    <tr>\n",
       "      <th>2</th>\n",
       "      <td>Micro F1 Score</td>\n",
       "      <td>0.404472</td>\n",
       "    </tr>\n",
       "    <tr>\n",
       "      <th>3</th>\n",
       "      <td>Macro F1 Score</td>\n",
       "      <td>0.327996</td>\n",
       "    </tr>\n",
       "    <tr>\n",
       "      <th>4</th>\n",
       "      <td>Precision for Negative sentiment</td>\n",
       "      <td>0.689964</td>\n",
       "    </tr>\n",
       "    <tr>\n",
       "      <th>5</th>\n",
       "      <td>Precision for Positive sentiment</td>\n",
       "      <td>0.243963</td>\n",
       "    </tr>\n",
       "    <tr>\n",
       "      <th>6</th>\n",
       "      <td>Precision for Neutral sentiment</td>\n",
       "      <td>0.114187</td>\n",
       "    </tr>\n",
       "    <tr>\n",
       "      <th>7</th>\n",
       "      <td>Recall for Negative sentiment</td>\n",
       "      <td>0.446765</td>\n",
       "    </tr>\n",
       "    <tr>\n",
       "      <th>8</th>\n",
       "      <td>Recall for Positive sentiment</td>\n",
       "      <td>0.507799</td>\n",
       "    </tr>\n",
       "    <tr>\n",
       "      <th>9</th>\n",
       "      <td>Recall for Neutral sentiment</td>\n",
       "      <td>0.110000</td>\n",
       "    </tr>\n",
       "  </tbody>\n",
       "</table>\n",
       "</div>"
      ],
      "text/plain": [
       "                         Unnamed: 0  GPT3.5_Dataset\n",
       "0                 Training Accuracy        0.960096\n",
       "1                  Testing Accuracy        0.404472\n",
       "2                    Micro F1 Score        0.404472\n",
       "3                    Macro F1 Score        0.327996\n",
       "4  Precision for Negative sentiment        0.689964\n",
       "5  Precision for Positive sentiment        0.243963\n",
       "6   Precision for Neutral sentiment        0.114187\n",
       "7     Recall for Negative sentiment        0.446765\n",
       "8     Recall for Positive sentiment        0.507799\n",
       "9      Recall for Neutral sentiment        0.110000"
      ]
     },
     "execution_count": 23,
     "metadata": {},
     "output_type": "execute_result"
    }
   ],
   "source": [
    "result=pd.read_csv('Ensemble_CNN-GRU_ModelResults.csv')\n",
    "result['GPT3.5_Dataset']=[max(history.history['accuracy']),test_acc,f1_micro,f1_macro,precision_per_class[0],precision_per_class[1],precision_per_class[2],recall_per_class[0],recall_per_class[1],recall_per_class[2]]\n",
    "result[['Unnamed: 0','GPT3.5_Dataset']]"
   ]
  },
  {
   "cell_type": "code",
   "execution_count": 24,
   "id": "7fd5e277",
   "metadata": {},
   "outputs": [],
   "source": [
    "result.to_csv('Ensemble_CNN-GRU_ModelResults.csv', index=False)"
   ]
  }
 ],
 "metadata": {
  "kernelspec": {
   "display_name": "Python 3 (ipykernel)",
   "language": "python",
   "name": "python3"
  },
  "language_info": {
   "codemirror_mode": {
    "name": "ipython",
    "version": 3
   },
   "file_extension": ".py",
   "mimetype": "text/x-python",
   "name": "python",
   "nbconvert_exporter": "python",
   "pygments_lexer": "ipython3",
   "version": "3.9.7"
  }
 },
 "nbformat": 4,
 "nbformat_minor": 5
}
