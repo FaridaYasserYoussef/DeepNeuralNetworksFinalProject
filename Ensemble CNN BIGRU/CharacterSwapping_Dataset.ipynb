{
 "cells": [
  {
   "cell_type": "markdown",
   "id": "c6575869",
   "metadata": {},
   "source": [
    "# Ensemble_CNN_BI_GRU Model"
   ]
  },
  {
   "cell_type": "code",
   "execution_count": 1,
   "id": "934847a5",
   "metadata": {},
   "outputs": [
    {
     "name": "stdout",
     "output_type": "stream",
     "text": [
      "WARNING:tensorflow:From D:\\Users\\Suzan Hatem\\anaconda3\\lib\\site-packages\\keras\\src\\losses.py:2976: The name tf.losses.sparse_softmax_cross_entropy is deprecated. Please use tf.compat.v1.losses.sparse_softmax_cross_entropy instead.\n",
      "\n"
     ]
    }
   ],
   "source": [
    "#Imports\n",
    "import pandas as pd\n",
    "import numpy as np\n",
    "\n",
    "from gensim.models import Word2Vec\n",
    "from sklearn.model_selection import train_test_split\n",
    "from keras.preprocessing.text import Tokenizer\n",
    "from keras.utils import pad_sequences\n",
    "\n",
    "from keras.layers import Input, Embedding, Conv1D, MaxPooling1D, Flatten, Dense, Dropout, concatenate, Bidirectional, GRU\n",
    "from keras.models import Model\n",
    "from keras.constraints import MaxNorm\n",
    "from keras.optimizers import Adam\n",
    "\n",
    "import matplotlib.pyplot as plt\n",
    "import seaborn as sns\n",
    "from sklearn.metrics import confusion_matrix\n",
    "from sklearn.metrics import confusion_matrix, ConfusionMatrixDisplay\n",
    "from sklearn.metrics import classification_report\n",
    "from sklearn.metrics import precision_score, recall_score\n",
    "from sklearn.metrics import f1_score"
   ]
  },
  {
   "cell_type": "markdown",
   "id": "978ceb42",
   "metadata": {},
   "source": [
    "##### 1)Loading Dataset"
   ]
  },
  {
   "cell_type": "code",
   "execution_count": 2,
   "id": "272b56c0",
   "metadata": {},
   "outputs": [
    {
     "data": {
      "text/html": [
       "<div>\n",
       "<style scoped>\n",
       "    .dataframe tbody tr th:only-of-type {\n",
       "        vertical-align: middle;\n",
       "    }\n",
       "\n",
       "    .dataframe tbody tr th {\n",
       "        vertical-align: top;\n",
       "    }\n",
       "\n",
       "    .dataframe thead th {\n",
       "        text-align: right;\n",
       "    }\n",
       "</style>\n",
       "<table border=\"1\" class=\"dataframe\">\n",
       "  <thead>\n",
       "    <tr style=\"text-align: right;\">\n",
       "      <th></th>\n",
       "      <th>Unnamed: 0.1</th>\n",
       "      <th>Unnamed: 0</th>\n",
       "      <th>label</th>\n",
       "      <th>text</th>\n",
       "      <th>length</th>\n",
       "      <th>preprocessed_abstract</th>\n",
       "      <th>length_after_cleaning</th>\n",
       "      <th>tokenized_text</th>\n",
       "    </tr>\n",
       "  </thead>\n",
       "  <tbody>\n",
       "    <tr>\n",
       "      <th>0</th>\n",
       "      <td>0</td>\n",
       "      <td>0</td>\n",
       "      <td>2</td>\n",
       "      <td>@VirginAmerica What @dhepburn said.</td>\n",
       "      <td>35</td>\n",
       "      <td>what say</td>\n",
       "      <td>8</td>\n",
       "      <td>['what', 'say']</td>\n",
       "    </tr>\n",
       "    <tr>\n",
       "      <th>1</th>\n",
       "      <td>1</td>\n",
       "      <td>1</td>\n",
       "      <td>1</td>\n",
       "      <td>@VirginAmerica plus you've added commercials t...</td>\n",
       "      <td>72</td>\n",
       "      <td>plus add commercial experience tacky</td>\n",
       "      <td>36</td>\n",
       "      <td>['plus', 'add', 'commercial', 'experience', 't...</td>\n",
       "    </tr>\n",
       "    <tr>\n",
       "      <th>2</th>\n",
       "      <td>2</td>\n",
       "      <td>2</td>\n",
       "      <td>2</td>\n",
       "      <td>@VirginAmerica I didn't today... Must mean I n...</td>\n",
       "      <td>71</td>\n",
       "      <td>i today must mean i need take another trip</td>\n",
       "      <td>42</td>\n",
       "      <td>['i', 'today', 'must', 'mean', 'i', 'need', 't...</td>\n",
       "    </tr>\n",
       "    <tr>\n",
       "      <th>3</th>\n",
       "      <td>3</td>\n",
       "      <td>3</td>\n",
       "      <td>0</td>\n",
       "      <td>@VirginAmerica it's really aggressive to blast...</td>\n",
       "      <td>126</td>\n",
       "      <td>really aggressive blast obnoxious entertainmen...</td>\n",
       "      <td>78</td>\n",
       "      <td>['really', 'aggressive', 'blast', 'obnoxious',...</td>\n",
       "    </tr>\n",
       "    <tr>\n",
       "      <th>4</th>\n",
       "      <td>4</td>\n",
       "      <td>4</td>\n",
       "      <td>0</td>\n",
       "      <td>@VirginAmerica and it's a really big bad thing...</td>\n",
       "      <td>55</td>\n",
       "      <td>really big bad thing</td>\n",
       "      <td>20</td>\n",
       "      <td>['really', 'big', 'bad', 'thing']</td>\n",
       "    </tr>\n",
       "  </tbody>\n",
       "</table>\n",
       "</div>"
      ],
      "text/plain": [
       "   Unnamed: 0.1  Unnamed: 0  label  \\\n",
       "0             0           0      2   \n",
       "1             1           1      1   \n",
       "2             2           2      2   \n",
       "3             3           3      0   \n",
       "4             4           4      0   \n",
       "\n",
       "                                                text  length  \\\n",
       "0                @VirginAmerica What @dhepburn said.      35   \n",
       "1  @VirginAmerica plus you've added commercials t...      72   \n",
       "2  @VirginAmerica I didn't today... Must mean I n...      71   \n",
       "3  @VirginAmerica it's really aggressive to blast...     126   \n",
       "4  @VirginAmerica and it's a really big bad thing...      55   \n",
       "\n",
       "                               preprocessed_abstract  length_after_cleaning  \\\n",
       "0                                           what say                      8   \n",
       "1               plus add commercial experience tacky                     36   \n",
       "2         i today must mean i need take another trip                     42   \n",
       "3  really aggressive blast obnoxious entertainmen...                     78   \n",
       "4                               really big bad thing                     20   \n",
       "\n",
       "                                      tokenized_text  \n",
       "0                                    ['what', 'say']  \n",
       "1  ['plus', 'add', 'commercial', 'experience', 't...  \n",
       "2  ['i', 'today', 'must', 'mean', 'i', 'need', 't...  \n",
       "3  ['really', 'aggressive', 'blast', 'obnoxious',...  \n",
       "4                  ['really', 'big', 'bad', 'thing']  "
      ]
     },
     "execution_count": 2,
     "metadata": {},
     "output_type": "execute_result"
    }
   ],
   "source": [
    "df=pd.read_csv(\"df_CharacterSwapping.csv\")\n",
    "df.head()"
   ]
  },
  {
   "cell_type": "code",
   "execution_count": 3,
   "id": "17c756b8",
   "metadata": {},
   "outputs": [
    {
     "data": {
      "text/plain": [
       "Unnamed: 0.1              0\n",
       "Unnamed: 0                0\n",
       "label                     0\n",
       "text                      0\n",
       "length                    0\n",
       "preprocessed_abstract    43\n",
       "length_after_cleaning     0\n",
       "tokenized_text            0\n",
       "dtype: int64"
      ]
     },
     "execution_count": 3,
     "metadata": {},
     "output_type": "execute_result"
    }
   ],
   "source": [
    "df.isnull().sum()"
   ]
  },
  {
   "cell_type": "code",
   "execution_count": 4,
   "id": "34e6d18c",
   "metadata": {},
   "outputs": [],
   "source": [
    "df = df.dropna()"
   ]
  },
  {
   "cell_type": "markdown",
   "id": "46c4f1f4",
   "metadata": {},
   "source": [
    "##### 2)Preparing Data"
   ]
  },
  {
   "cell_type": "markdown",
   "id": "1130b37b",
   "metadata": {},
   "source": [
    "- Word2Vec model (pre-trained word embeddings) for embedding layer in the model"
   ]
  },
  {
   "cell_type": "code",
   "execution_count": 5,
   "id": "029601c1",
   "metadata": {},
   "outputs": [
    {
     "data": {
      "text/plain": [
       "array([[ 5.91781676e-01,  6.08897924e-01,  1.09853387e+00, ...,\n",
       "        -7.53195107e-01, -1.98849663e-01,  8.17200392e-02],\n",
       "       [-8.06243300e-01,  1.41351104e+00,  7.87810743e-01, ...,\n",
       "         1.54874288e-02,  2.50856251e-01,  1.16352858e-02],\n",
       "       [-3.28884393e-01,  7.68988252e-01,  3.65465045e-01, ...,\n",
       "        -1.02201080e+00, -4.34681065e-02, -1.72100887e-02],\n",
       "       ...,\n",
       "       [ 9.83274891e-04,  5.10705635e-03,  1.06695360e-02, ...,\n",
       "        -5.83342416e-03, -4.66499897e-03,  2.61199754e-03],\n",
       "       [-9.50159971e-03,  2.18755659e-03,  1.35026118e-02, ...,\n",
       "        -2.94222403e-03, -4.66258265e-03,  6.05212990e-03],\n",
       "       [-1.53525863e-02,  1.74183995e-02,  2.39064991e-02, ...,\n",
       "        -1.62530951e-02,  1.13179833e-02, -1.05142305e-02]], dtype=float32)"
      ]
     },
     "execution_count": 5,
     "metadata": {},
     "output_type": "execute_result"
    }
   ],
   "source": [
    "sentences = [sentence.split() for sentence in df['preprocessed_abstract']]\n",
    "# Create and train the Word2Vec model\n",
    "model_2= Word2Vec(sentences, vector_size=100, window=5, min_count=1, workers=4)\n",
    "# Access the word vectors\n",
    "word_vectors = model_2.wv\n",
    "word_vectors.vectors"
   ]
  },
  {
   "cell_type": "code",
   "execution_count": 6,
   "id": "08dd43f6",
   "metadata": {},
   "outputs": [
    {
     "data": {
      "text/plain": [
       "(18600, 100)"
      ]
     },
     "execution_count": 6,
     "metadata": {},
     "output_type": "execute_result"
    }
   ],
   "source": [
    "word_vectors.vectors.shape"
   ]
  },
  {
   "cell_type": "markdown",
   "id": "4e03b6a9",
   "metadata": {},
   "source": [
    "#####  3) Split , into Training and Validation Sets (80:20)"
   ]
  },
  {
   "cell_type": "code",
   "execution_count": 7,
   "id": "d8741840",
   "metadata": {},
   "outputs": [
    {
     "name": "stdout",
     "output_type": "stream",
     "text": [
      "Train data: (21992,) (21992,)\n",
      "Test data: (5499,) (5499,)\n"
     ]
    }
   ],
   "source": [
    "X_train, X_test, y_train, y_test = train_test_split(df['preprocessed_abstract'], df['label'], test_size=0.2, stratify=df['label'], random_state=42)\n",
    "print(\"Train data:\",  X_train.shape, y_train.shape)\n",
    "print(\"Test data:\",  X_test.shape, y_test.shape)"
   ]
  },
  {
   "cell_type": "code",
   "execution_count": 8,
   "id": "9d5b7f7d",
   "metadata": {},
   "outputs": [
    {
     "data": {
      "image/png": "[encoded data removed]",
      "text/plain": [
       "<Figure size 1008x432 with 1 Axes>"
      ]
     },
     "metadata": {},
     "output_type": "display_data"
    }
   ],
   "source": [
    "plt.figure(figsize=(14,6))\n",
    "colors = ['#4285f4', '#ea4335', '#fbbc05', '#34a853']\n",
    "plt.rcParams.update({'font.size': 14})\n",
    "plt.pie([len(y_train), len(y_test)],\n",
    "        labels=['Train','Test'],\n",
    "        colors=colors, autopct='%.1f%%', explode=(0.05,0.05),\n",
    "        startangle=30);"
   ]
  },
  {
   "cell_type": "code",
   "execution_count": 9,
   "id": "7b70c66f",
   "metadata": {},
   "outputs": [
    {
     "name": "stdout",
     "output_type": "stream",
     "text": [
      "[[1416  243  350 ...    0    0    0]\n",
      " [ 384 1417   25 ...    0    0    0]\n",
      " [ 247  343 3851 ...    0    0    0]\n",
      " ...\n",
      " [   3   94   50 ...    0    0    0]\n",
      " [  98  112  117 ...    0    0    0]\n",
      " [   3   36   31 ...    0    0    0]]\n"
     ]
    }
   ],
   "source": [
    "corp=X_train\n",
    "t = Tokenizer()\n",
    "t.fit_on_texts(corp)\n",
    "vocab_size = len(t.word_index) + 1\n",
    "# integer encode the documents\n",
    "encoded_docs = t.texts_to_sequences(corp)\n",
    "# print(encoded_docs)\n",
    "max_length=max(len(d) for d in encoded_docs)\n",
    "padded_docs_train = pad_sequences(encoded_docs, maxlen=max_length, padding='post')\n",
    "print(padded_docs_train)"
   ]
  },
  {
   "cell_type": "code",
   "execution_count": 10,
   "id": "16c1cbc2",
   "metadata": {},
   "outputs": [
    {
     "name": "stdout",
     "output_type": "stream",
     "text": [
      "[[  58  206 1150 ...    0    0    0]\n",
      " [  13    1    5 ...    0    0    0]\n",
      " [ 134  141 2994 ...    0    0    0]\n",
      " ...\n",
      " [ 640    1   51 ...    0    0    0]\n",
      " [   3 7310  175 ...    0    0    0]\n",
      " [  48  106  157 ...    0    0    0]]\n"
     ]
    }
   ],
   "source": [
    "corp=X_test\n",
    "t = Tokenizer()\n",
    "t.fit_on_texts(corp)\n",
    "vocab_size = len(t.word_index) + 1\n",
    "# integer encode the documents\n",
    "encoded_docs = t.texts_to_sequences(corp)\n",
    "# print(encoded_docs)\n",
    "padded_docs_test = pad_sequences(encoded_docs, maxlen=max_length, padding='post')\n",
    "print(padded_docs_test)"
   ]
  },
  {
   "cell_type": "markdown",
   "id": "c2ffb115",
   "metadata": {},
   "source": [
    "##### 4)Model Architecture"
   ]
  },
  {
   "cell_type": "code",
   "execution_count": 11,
   "id": "1a556ad9",
   "metadata": {},
   "outputs": [],
   "source": [
    "def ensemble_CNN_BiGRU(filters=100, kernel_size=3, activation='relu',\n",
    "                       input_dim=None, output_dim=100, max_length=None, emb_matrix=None, num_classes=None):\n",
    "\n",
    "    # Channel 1D CNN\n",
    "    input1 = Input(shape=(max_length,))\n",
    "    embeddding1 = Embedding(input_dim=input_dim,\n",
    "                            output_dim=output_dim,\n",
    "                            input_length=max_length,\n",
    "                            input_shape=(max_length,),\n",
    "                            weights=[emb_matrix],\n",
    "                            trainable=False)(input1)\n",
    "    conv1 = Conv1D(filters=filters, kernel_size=kernel_size, activation='relu',\n",
    "                   kernel_constraint=MaxNorm(max_value=3, axis=[0, 1]))(embeddding1)\n",
    "    pool1 = MaxPooling1D(pool_size=2, strides=2)(conv1)\n",
    "    flat1 = Flatten()(pool1)\n",
    "    drop1 = Dropout(0.5)(flat1)\n",
    "    dense1 = Dense(10, activation='relu')(drop1)\n",
    "    drop1 = Dropout(0.5)(dense1)\n",
    "    out1 = Dense(num_classes, activation='softmax')(drop1)\n",
    "\n",
    "    # Channel BiGRU\n",
    "    input2 = Input(shape=(max_length,))\n",
    "    embeddding2 = Embedding(input_dim=input_dim,\n",
    "                            output_dim=output_dim,\n",
    "                            input_length=max_length,\n",
    "                            input_shape=(max_length,),\n",
    "                            weights=[emb_matrix],\n",
    "                            trainable=False,\n",
    "                            mask_zero=True)(input2)\n",
    "    gru2 = Bidirectional(GRU(64))(embeddding2)\n",
    "    drop2 = Dropout(0.5)(gru2)\n",
    "    out2 = Dense(num_classes, activation='softmax')(drop2)\n",
    "\n",
    "    # Merge\n",
    "    merged = concatenate([out1, out2])\n",
    "\n",
    "    # Interpretation\n",
    "    outputs = Dense(num_classes, activation='softmax')(merged)\n",
    "    model = Model(inputs=[input1, input2], outputs=outputs)\n",
    "\n",
    "    # Compile with sparse categorical crossentropy\n",
    "    model.compile(loss='sparse_categorical_crossentropy', optimizer=Adam(), metrics=['accuracy'])\n",
    "\n",
    "    return model"
   ]
  },
  {
   "cell_type": "code",
   "execution_count": 12,
   "id": "abfb9a9f",
   "metadata": {},
   "outputs": [
    {
     "name": "stdout",
     "output_type": "stream",
     "text": [
      "WARNING:tensorflow:From D:\\Users\\Suzan Hatem\\anaconda3\\lib\\site-packages\\keras\\src\\backend.py:1398: The name tf.executing_eagerly_outside_functions is deprecated. Please use tf.compat.v1.executing_eagerly_outside_functions instead.\n",
      "\n",
      "WARNING:tensorflow:From D:\\Users\\Suzan Hatem\\anaconda3\\lib\\site-packages\\keras\\src\\backend.py:6642: The name tf.nn.max_pool is deprecated. Please use tf.nn.max_pool2d instead.\n",
      "\n",
      "Model: \"model\"\n",
      "__________________________________________________________________________________________________\n",
      " Layer (type)                Output Shape                 Param #   Connected to                  \n",
      "==================================================================================================\n",
      " input_1 (InputLayer)        [(None, 26)]                 0         []                            \n",
      "                                                                                                  \n",
      " embedding (Embedding)       (None, 26, 100)              1860000   ['input_1[0][0]']             \n",
      "                                                                                                  \n",
      " conv1d (Conv1D)             (None, 24, 100)              30100     ['embedding[0][0]']           \n",
      "                                                                                                  \n",
      " max_pooling1d (MaxPooling1  (None, 12, 100)              0         ['conv1d[0][0]']              \n",
      " D)                                                                                               \n",
      "                                                                                                  \n",
      " flatten (Flatten)           (None, 1200)                 0         ['max_pooling1d[0][0]']       \n",
      "                                                                                                  \n",
      " input_2 (InputLayer)        [(None, 26)]                 0         []                            \n",
      "                                                                                                  \n",
      " dropout (Dropout)           (None, 1200)                 0         ['flatten[0][0]']             \n",
      "                                                                                                  \n",
      " embedding_1 (Embedding)     (None, 26, 100)              1860000   ['input_2[0][0]']             \n",
      "                                                                                                  \n",
      " dense (Dense)               (None, 10)                   12010     ['dropout[0][0]']             \n",
      "                                                                                                  \n",
      " bidirectional (Bidirection  (None, 128)                  63744     ['embedding_1[0][0]']         \n",
      " al)                                                                                              \n",
      "                                                                                                  \n",
      " dropout_1 (Dropout)         (None, 10)                   0         ['dense[0][0]']               \n",
      "                                                                                                  \n",
      " dropout_2 (Dropout)         (None, 128)                  0         ['bidirectional[0][0]']       \n",
      "                                                                                                  \n",
      " dense_1 (Dense)             (None, 3)                    33        ['dropout_1[0][0]']           \n",
      "                                                                                                  \n",
      " dense_2 (Dense)             (None, 3)                    387       ['dropout_2[0][0]']           \n",
      "                                                                                                  \n",
      " concatenate (Concatenate)   (None, 6)                    0         ['dense_1[0][0]',             \n",
      "                                                                     'dense_2[0][0]']             \n",
      "                                                                                                  \n",
      " dense_3 (Dense)             (None, 3)                    21        ['concatenate[0][0]']         \n",
      "                                                                                                  \n",
      "==================================================================================================\n",
      "Total params: 3826295 (14.60 MB)\n",
      "Trainable params: 106295 (415.21 KB)\n",
      "Non-trainable params: 3720000 (14.19 MB)\n",
      "__________________________________________________________________________________________________\n"
     ]
    }
   ],
   "source": [
    "model = ensemble_CNN_BiGRU(input_dim=word_vectors.vectors.shape[0], output_dim=100, max_length=max_length, emb_matrix=word_vectors.vectors, num_classes=3)\n",
    "model.summary()"
   ]
  },
  {
   "cell_type": "markdown",
   "id": "6ea9dbdd",
   "metadata": {},
   "source": [
    "##### 5) Training Model"
   ]
  },
  {
   "cell_type": "code",
   "execution_count": 13,
   "id": "1a3407cf",
   "metadata": {},
   "outputs": [
    {
     "name": "stdout",
     "output_type": "stream",
     "text": [
      "Epoch 1/100\n",
      "WARNING:tensorflow:From D:\\Users\\Suzan Hatem\\anaconda3\\lib\\site-packages\\keras\\src\\utils\\tf_utils.py:492: The name tf.ragged.RaggedTensorValue is deprecated. Please use tf.compat.v1.ragged.RaggedTensorValue instead.\n",
      "\n",
      "WARNING:tensorflow:From D:\\Users\\Suzan Hatem\\anaconda3\\lib\\site-packages\\keras\\src\\engine\\base_layer_utils.py:384: The name tf.executing_eagerly_outside_functions is deprecated. Please use tf.compat.v1.executing_eagerly_outside_functions instead.\n",
      "\n",
      "220/220 [==============================] - 40s 70ms/step - loss: 1.0595 - accuracy: 0.4233 - val_loss: 1.0127 - val_accuracy: 0.4985\n",
      "Epoch 2/100\n",
      "220/220 [==============================] - 9s 39ms/step - loss: 0.9799 - accuracy: 0.5345 - val_loss: 0.9577 - val_accuracy: 0.5546\n",
      "Epoch 3/100\n",
      "220/220 [==============================] - 9s 40ms/step - loss: 0.9259 - accuracy: 0.5821 - val_loss: 0.9373 - val_accuracy: 0.5701\n",
      "Epoch 4/100\n",
      "220/220 [==============================] - 9s 39ms/step - loss: 0.8992 - accuracy: 0.5929 - val_loss: 0.9315 - val_accuracy: 0.5679\n",
      "Epoch 5/100\n",
      "220/220 [==============================] - 8s 38ms/step - loss: 0.8753 - accuracy: 0.6081 - val_loss: 0.9411 - val_accuracy: 0.5606\n",
      "Epoch 6/100\n",
      "220/220 [==============================] - 8s 38ms/step - loss: 0.8623 - accuracy: 0.6150 - val_loss: 0.9527 - val_accuracy: 0.5628\n",
      "Epoch 7/100\n",
      "220/220 [==============================] - 8s 37ms/step - loss: 0.8502 - accuracy: 0.6225 - val_loss: 0.9514 - val_accuracy: 0.5585\n",
      "Epoch 8/100\n",
      "220/220 [==============================] - 8s 36ms/step - loss: 0.8404 - accuracy: 0.6255 - val_loss: 0.9614 - val_accuracy: 0.5396\n",
      "Epoch 9/100\n",
      "220/220 [==============================] - 8s 37ms/step - loss: 0.8329 - accuracy: 0.6300 - val_loss: 0.9602 - val_accuracy: 0.5537\n",
      "Epoch 10/100\n",
      "220/220 [==============================] - 8s 36ms/step - loss: 0.8208 - accuracy: 0.6342 - val_loss: 0.9597 - val_accuracy: 0.5517\n",
      "Epoch 11/100\n",
      "220/220 [==============================] - 8s 35ms/step - loss: 0.8148 - accuracy: 0.6399 - val_loss: 0.9671 - val_accuracy: 0.5568\n",
      "Epoch 12/100\n",
      "220/220 [==============================] - 8s 37ms/step - loss: 0.8073 - accuracy: 0.6436 - val_loss: 0.9787 - val_accuracy: 0.5490\n",
      "Epoch 13/100\n",
      "220/220 [==============================] - 8s 35ms/step - loss: 0.7990 - accuracy: 0.6497 - val_loss: 0.9937 - val_accuracy: 0.5297\n",
      "Epoch 14/100\n",
      "220/220 [==============================] - 8s 36ms/step - loss: 0.7945 - accuracy: 0.6523 - val_loss: 0.9981 - val_accuracy: 0.5446\n",
      "Epoch 15/100\n",
      "220/220 [==============================] - 8s 37ms/step - loss: 0.7863 - accuracy: 0.6554 - val_loss: 1.0043 - val_accuracy: 0.5436\n",
      "Epoch 16/100\n",
      "220/220 [==============================] - 9s 39ms/step - loss: 0.7768 - accuracy: 0.6606 - val_loss: 0.9839 - val_accuracy: 0.5537\n",
      "Epoch 17/100\n",
      "220/220 [==============================] - 8s 36ms/step - loss: 0.7713 - accuracy: 0.6642 - val_loss: 1.0041 - val_accuracy: 0.5443\n",
      "Epoch 18/100\n",
      "220/220 [==============================] - 8s 36ms/step - loss: 0.7625 - accuracy: 0.6687 - val_loss: 1.0296 - val_accuracy: 0.5361\n",
      "Epoch 19/100\n",
      "220/220 [==============================] - 8s 36ms/step - loss: 0.7541 - accuracy: 0.6725 - val_loss: 1.0209 - val_accuracy: 0.5330\n",
      "Epoch 20/100\n",
      "220/220 [==============================] - 8s 36ms/step - loss: 0.7459 - accuracy: 0.6760 - val_loss: 1.0276 - val_accuracy: 0.5297\n",
      "Epoch 21/100\n",
      "220/220 [==============================] - 8s 36ms/step - loss: 0.7392 - accuracy: 0.6819 - val_loss: 1.0450 - val_accuracy: 0.5345\n",
      "Epoch 22/100\n",
      "220/220 [==============================] - 8s 35ms/step - loss: 0.7281 - accuracy: 0.6891 - val_loss: 1.0428 - val_accuracy: 0.5376\n",
      "Epoch 23/100\n",
      "220/220 [==============================] - 8s 35ms/step - loss: 0.7186 - accuracy: 0.6918 - val_loss: 1.0567 - val_accuracy: 0.5348\n",
      "Epoch 24/100\n",
      "220/220 [==============================] - 8s 36ms/step - loss: 0.7183 - accuracy: 0.6930 - val_loss: 1.0760 - val_accuracy: 0.5396\n",
      "Epoch 25/100\n",
      "220/220 [==============================] - 8s 35ms/step - loss: 0.7079 - accuracy: 0.6990 - val_loss: 1.0741 - val_accuracy: 0.5372\n",
      "Epoch 26/100\n",
      "220/220 [==============================] - 8s 35ms/step - loss: 0.6977 - accuracy: 0.7059 - val_loss: 1.0977 - val_accuracy: 0.5316\n",
      "Epoch 27/100\n",
      "220/220 [==============================] - 8s 35ms/step - loss: 0.6886 - accuracy: 0.7059 - val_loss: 1.0997 - val_accuracy: 0.5368\n",
      "Epoch 28/100\n",
      "220/220 [==============================] - 8s 36ms/step - loss: 0.6765 - accuracy: 0.7142 - val_loss: 1.1150 - val_accuracy: 0.5339\n",
      "Epoch 29/100\n",
      "220/220 [==============================] - 8s 36ms/step - loss: 0.6669 - accuracy: 0.7216 - val_loss: 1.0924 - val_accuracy: 0.5354\n",
      "Epoch 30/100\n",
      "220/220 [==============================] - 10s 47ms/step - loss: 0.6598 - accuracy: 0.7215 - val_loss: 1.1411 - val_accuracy: 0.5281\n",
      "Epoch 31/100\n",
      "220/220 [==============================] - 7s 34ms/step - loss: 0.6550 - accuracy: 0.7249 - val_loss: 1.1064 - val_accuracy: 0.5350\n",
      "Epoch 32/100\n",
      "220/220 [==============================] - 7s 34ms/step - loss: 0.6444 - accuracy: 0.7311 - val_loss: 1.1498 - val_accuracy: 0.5350\n",
      "Epoch 33/100\n",
      "220/220 [==============================] - 8s 35ms/step - loss: 0.6423 - accuracy: 0.7323 - val_loss: 1.1400 - val_accuracy: 0.5234\n",
      "Epoch 34/100\n",
      "220/220 [==============================] - 11s 48ms/step - loss: 0.6254 - accuracy: 0.7401 - val_loss: 1.1850 - val_accuracy: 0.5252\n",
      "Epoch 35/100\n",
      "220/220 [==============================] - 11s 49ms/step - loss: 0.6169 - accuracy: 0.7456 - val_loss: 1.1695 - val_accuracy: 0.5281\n",
      "Epoch 36/100\n",
      "220/220 [==============================] - 11s 48ms/step - loss: 0.6091 - accuracy: 0.7469 - val_loss: 1.1917 - val_accuracy: 0.5294\n",
      "Epoch 37/100\n",
      "220/220 [==============================] - 11s 49ms/step - loss: 0.6113 - accuracy: 0.7456 - val_loss: 1.2059 - val_accuracy: 0.5312\n",
      "Epoch 38/100\n",
      "220/220 [==============================] - 11s 48ms/step - loss: 0.5993 - accuracy: 0.7503 - val_loss: 1.2284 - val_accuracy: 0.5286\n",
      "Epoch 39/100\n",
      "220/220 [==============================] - 10s 47ms/step - loss: 0.5922 - accuracy: 0.7542 - val_loss: 1.2408 - val_accuracy: 0.5274\n",
      "Epoch 40/100\n",
      "220/220 [==============================] - 11s 50ms/step - loss: 0.5861 - accuracy: 0.7548 - val_loss: 1.2257 - val_accuracy: 0.5174\n",
      "Epoch 41/100\n",
      "220/220 [==============================] - 11s 50ms/step - loss: 0.5831 - accuracy: 0.7562 - val_loss: 1.2572 - val_accuracy: 0.5265\n",
      "Epoch 42/100\n",
      "220/220 [==============================] - 11s 49ms/step - loss: 0.5742 - accuracy: 0.7627 - val_loss: 1.2812 - val_accuracy: 0.5297\n",
      "Epoch 43/100\n",
      "220/220 [==============================] - 11s 51ms/step - loss: 0.5683 - accuracy: 0.7633 - val_loss: 1.2529 - val_accuracy: 0.5296\n",
      "Epoch 44/100\n",
      "220/220 [==============================] - 11s 51ms/step - loss: 0.5589 - accuracy: 0.7678 - val_loss: 1.3503 - val_accuracy: 0.5256\n",
      "Epoch 45/100\n",
      "220/220 [==============================] - 11s 50ms/step - loss: 0.5565 - accuracy: 0.7689 - val_loss: 1.3188 - val_accuracy: 0.5294\n",
      "Epoch 46/100\n",
      "220/220 [==============================] - 11s 51ms/step - loss: 0.5515 - accuracy: 0.7714 - val_loss: 1.3220 - val_accuracy: 0.5168\n",
      "Epoch 47/100\n",
      "220/220 [==============================] - 11s 49ms/step - loss: 0.5489 - accuracy: 0.7705 - val_loss: 1.3291 - val_accuracy: 0.5296\n",
      "Epoch 48/100\n",
      "220/220 [==============================] - 11s 49ms/step - loss: 0.5425 - accuracy: 0.7748 - val_loss: 1.3413 - val_accuracy: 0.5274\n",
      "Epoch 49/100\n",
      "220/220 [==============================] - 11s 50ms/step - loss: 0.5415 - accuracy: 0.7761 - val_loss: 1.3564 - val_accuracy: 0.5276\n",
      "Epoch 50/100\n",
      "220/220 [==============================] - 11s 49ms/step - loss: 0.5347 - accuracy: 0.7779 - val_loss: 1.3844 - val_accuracy: 0.5215\n",
      "Epoch 51/100\n",
      "220/220 [==============================] - 11s 50ms/step - loss: 0.5268 - accuracy: 0.7804 - val_loss: 1.3674 - val_accuracy: 0.5277\n",
      "Epoch 52/100\n",
      "220/220 [==============================] - 11s 50ms/step - loss: 0.5211 - accuracy: 0.7859 - val_loss: 1.3642 - val_accuracy: 0.5221\n",
      "Epoch 53/100\n",
      "220/220 [==============================] - 11s 48ms/step - loss: 0.5251 - accuracy: 0.7829 - val_loss: 1.4147 - val_accuracy: 0.5241\n",
      "Epoch 54/100\n"
     ]
    },
    {
     "name": "stdout",
     "output_type": "stream",
     "text": [
      "220/220 [==============================] - 11s 49ms/step - loss: 0.5161 - accuracy: 0.7852 - val_loss: 1.4294 - val_accuracy: 0.5243\n",
      "Epoch 55/100\n",
      "220/220 [==============================] - 11s 51ms/step - loss: 0.5106 - accuracy: 0.7882 - val_loss: 1.4590 - val_accuracy: 0.5197\n",
      "Epoch 56/100\n",
      "220/220 [==============================] - 12s 53ms/step - loss: 0.5131 - accuracy: 0.7878 - val_loss: 1.4199 - val_accuracy: 0.5225\n",
      "Epoch 57/100\n",
      "220/220 [==============================] - 11s 50ms/step - loss: 0.5049 - accuracy: 0.7889 - val_loss: 1.4402 - val_accuracy: 0.5221\n",
      "Epoch 58/100\n",
      "220/220 [==============================] - 11s 49ms/step - loss: 0.4999 - accuracy: 0.7922 - val_loss: 1.4949 - val_accuracy: 0.5237\n",
      "Epoch 59/100\n",
      "220/220 [==============================] - 11s 50ms/step - loss: 0.4991 - accuracy: 0.7942 - val_loss: 1.4237 - val_accuracy: 0.5134\n",
      "Epoch 60/100\n",
      "220/220 [==============================] - 11s 51ms/step - loss: 0.5006 - accuracy: 0.7913 - val_loss: 1.4836 - val_accuracy: 0.5201\n",
      "Epoch 61/100\n",
      "220/220 [==============================] - 11s 49ms/step - loss: 0.5025 - accuracy: 0.7921 - val_loss: 1.4707 - val_accuracy: 0.5197\n",
      "Epoch 62/100\n",
      "220/220 [==============================] - 11s 48ms/step - loss: 0.4921 - accuracy: 0.7941 - val_loss: 1.4772 - val_accuracy: 0.5195\n",
      "Epoch 63/100\n",
      "220/220 [==============================] - 11s 48ms/step - loss: 0.4958 - accuracy: 0.7921 - val_loss: 1.4525 - val_accuracy: 0.5254\n",
      "Epoch 64/100\n",
      "220/220 [==============================] - 10s 47ms/step - loss: 0.4905 - accuracy: 0.7945 - val_loss: 1.5020 - val_accuracy: 0.5168\n",
      "Epoch 65/100\n",
      "220/220 [==============================] - 10s 47ms/step - loss: 0.4918 - accuracy: 0.7960 - val_loss: 1.5660 - val_accuracy: 0.5219\n",
      "Epoch 66/100\n",
      "220/220 [==============================] - 10s 48ms/step - loss: 0.4781 - accuracy: 0.7990 - val_loss: 1.5394 - val_accuracy: 0.5223\n",
      "Epoch 67/100\n",
      "220/220 [==============================] - 10s 47ms/step - loss: 0.4806 - accuracy: 0.8014 - val_loss: 1.4740 - val_accuracy: 0.5148\n",
      "Epoch 68/100\n",
      "220/220 [==============================] - 10s 47ms/step - loss: 0.4747 - accuracy: 0.8061 - val_loss: 1.5504 - val_accuracy: 0.5239\n",
      "Epoch 69/100\n",
      "220/220 [==============================] - 10s 47ms/step - loss: 0.4790 - accuracy: 0.8033 - val_loss: 1.5194 - val_accuracy: 0.5252\n",
      "Epoch 70/100\n",
      "220/220 [==============================] - 10s 47ms/step - loss: 0.4730 - accuracy: 0.8027 - val_loss: 1.5219 - val_accuracy: 0.5163\n",
      "Epoch 71/100\n",
      "220/220 [==============================] - 10s 46ms/step - loss: 0.4827 - accuracy: 0.7983 - val_loss: 1.5085 - val_accuracy: 0.5088\n",
      "Epoch 72/100\n",
      "220/220 [==============================] - 8s 36ms/step - loss: 0.4755 - accuracy: 0.8040 - val_loss: 1.5042 - val_accuracy: 0.5177\n",
      "Epoch 73/100\n",
      "220/220 [==============================] - 8s 35ms/step - loss: 0.4679 - accuracy: 0.8062 - val_loss: 1.5652 - val_accuracy: 0.5210\n",
      "Epoch 74/100\n",
      "220/220 [==============================] - 8s 34ms/step - loss: 0.4709 - accuracy: 0.8051 - val_loss: 1.5971 - val_accuracy: 0.5194\n",
      "Epoch 75/100\n",
      "220/220 [==============================] - 8s 35ms/step - loss: 0.4619 - accuracy: 0.8089 - val_loss: 1.5712 - val_accuracy: 0.5166\n",
      "Epoch 76/100\n",
      "220/220 [==============================] - 8s 37ms/step - loss: 0.4605 - accuracy: 0.8082 - val_loss: 1.5565 - val_accuracy: 0.5181\n",
      "Epoch 77/100\n",
      "220/220 [==============================] - 7s 33ms/step - loss: 0.4657 - accuracy: 0.8082 - val_loss: 1.5303 - val_accuracy: 0.5179\n",
      "Epoch 78/100\n",
      "220/220 [==============================] - 7s 33ms/step - loss: 0.4644 - accuracy: 0.8088 - val_loss: 1.5919 - val_accuracy: 0.5206\n",
      "Epoch 79/100\n",
      "220/220 [==============================] - 7s 34ms/step - loss: 0.4511 - accuracy: 0.8129 - val_loss: 1.6454 - val_accuracy: 0.5208\n",
      "Epoch 80/100\n",
      "220/220 [==============================] - 7s 33ms/step - loss: 0.4536 - accuracy: 0.8117 - val_loss: 1.5909 - val_accuracy: 0.5139\n",
      "Epoch 81/100\n",
      "220/220 [==============================] - 7s 34ms/step - loss: 0.4544 - accuracy: 0.8102 - val_loss: 1.6187 - val_accuracy: 0.5157\n",
      "Epoch 82/100\n",
      "220/220 [==============================] - 7s 33ms/step - loss: 0.4549 - accuracy: 0.8138 - val_loss: 1.6439 - val_accuracy: 0.5148\n",
      "Epoch 83/100\n",
      "220/220 [==============================] - 7s 33ms/step - loss: 0.4570 - accuracy: 0.8139 - val_loss: 1.6789 - val_accuracy: 0.5106\n",
      "Epoch 84/100\n",
      "220/220 [==============================] - 7s 33ms/step - loss: 0.4502 - accuracy: 0.8164 - val_loss: 1.6092 - val_accuracy: 0.5155\n",
      "Epoch 85/100\n",
      "220/220 [==============================] - 7s 33ms/step - loss: 0.4497 - accuracy: 0.8162 - val_loss: 1.5890 - val_accuracy: 0.5183\n",
      "Epoch 86/100\n",
      "220/220 [==============================] - 7s 34ms/step - loss: 0.4477 - accuracy: 0.8163 - val_loss: 1.6666 - val_accuracy: 0.5152\n",
      "Epoch 87/100\n",
      "220/220 [==============================] - 7s 33ms/step - loss: 0.4408 - accuracy: 0.8213 - val_loss: 1.6849 - val_accuracy: 0.5134\n",
      "Epoch 88/100\n",
      "220/220 [==============================] - 7s 34ms/step - loss: 0.4461 - accuracy: 0.8167 - val_loss: 1.7089 - val_accuracy: 0.5115\n",
      "Epoch 89/100\n",
      "220/220 [==============================] - 7s 33ms/step - loss: 0.4461 - accuracy: 0.8166 - val_loss: 1.6825 - val_accuracy: 0.5154\n",
      "Epoch 90/100\n",
      "220/220 [==============================] - 7s 33ms/step - loss: 0.4421 - accuracy: 0.8168 - val_loss: 1.7353 - val_accuracy: 0.5095\n",
      "Epoch 91/100\n",
      "220/220 [==============================] - 7s 34ms/step - loss: 0.4458 - accuracy: 0.8175 - val_loss: 1.6418 - val_accuracy: 0.5126\n",
      "Epoch 92/100\n",
      "220/220 [==============================] - 7s 33ms/step - loss: 0.4341 - accuracy: 0.8228 - val_loss: 1.6540 - val_accuracy: 0.5123\n",
      "Epoch 93/100\n",
      "220/220 [==============================] - 7s 33ms/step - loss: 0.4324 - accuracy: 0.8219 - val_loss: 1.6792 - val_accuracy: 0.5054\n",
      "Epoch 94/100\n",
      "220/220 [==============================] - 7s 34ms/step - loss: 0.4406 - accuracy: 0.8196 - val_loss: 1.6375 - val_accuracy: 0.5115\n",
      "Epoch 95/100\n",
      "220/220 [==============================] - 7s 34ms/step - loss: 0.4351 - accuracy: 0.8208 - val_loss: 1.6208 - val_accuracy: 0.5123\n",
      "Epoch 96/100\n",
      "220/220 [==============================] - 7s 34ms/step - loss: 0.4363 - accuracy: 0.8211 - val_loss: 1.6768 - val_accuracy: 0.5092\n",
      "Epoch 97/100\n",
      "220/220 [==============================] - 7s 33ms/step - loss: 0.4314 - accuracy: 0.8234 - val_loss: 1.6940 - val_accuracy: 0.5052\n",
      "Epoch 98/100\n",
      "220/220 [==============================] - 7s 34ms/step - loss: 0.4216 - accuracy: 0.8297 - val_loss: 1.7646 - val_accuracy: 0.5079\n",
      "Epoch 99/100\n",
      "220/220 [==============================] - 7s 33ms/step - loss: 0.4281 - accuracy: 0.8245 - val_loss: 1.7056 - val_accuracy: 0.5130\n",
      "Epoch 100/100\n",
      "220/220 [==============================] - 7s 33ms/step - loss: 0.4213 - accuracy: 0.8309 - val_loss: 1.7147 - val_accuracy: 0.5065\n"
     ]
    },
    {
     "data": {
      "text/plain": [
       "<keras.src.callbacks.History at 0x27632c71bb0>"
      ]
     },
     "execution_count": 13,
     "metadata": {},
     "output_type": "execute_result"
    }
   ],
   "source": [
    "history=model.fit([padded_docs_train, padded_docs_train], y_train, epochs=100, batch_size=100, validation_data=([padded_docs_test,padded_docs_test], y_test))\n",
    "history"
   ]
  },
  {
   "cell_type": "markdown",
   "id": "5d00c466",
   "metadata": {},
   "source": [
    "##### 6) Finding Training and Testing Accuracy"
   ]
  },
  {
   "cell_type": "code",
   "execution_count": 14,
   "id": "6d517703",
   "metadata": {},
   "outputs": [
    {
     "data": {
      "image/png": "[encoded data removed]",
      "text/plain": [
       "<Figure size 432x288 with 1 Axes>"
      ]
     },
     "metadata": {
      "needs_background": "light"
     },
     "output_type": "display_data"
    }
   ],
   "source": [
    "# Plot the training and testing accuracy\n",
    "plt.plot(history.history['accuracy'])\n",
    "plt.plot(history.history['val_accuracy'])\n",
    "plt.title('Model Accuracy')\n",
    "plt.ylabel('Accuracy')\n",
    "plt.xlabel('Epoch')\n",
    "plt.ylim([0, 1])\n",
    "plt.legend(['Train', 'Test'], loc='upper left')\n",
    "plt.show()"
   ]
  },
  {
   "cell_type": "code",
   "execution_count": 15,
   "id": "516fe5b8",
   "metadata": {},
   "outputs": [
    {
     "name": "stdout",
     "output_type": "stream",
     "text": [
      "172/172 [==============================] - 2s 9ms/step - loss: 1.7147 - accuracy: 0.5065\n"
     ]
    },
    {
     "data": {
      "text/plain": [
       "(1.7146977186203003, 0.5064557194709778)"
      ]
     },
     "execution_count": 15,
     "metadata": {},
     "output_type": "execute_result"
    }
   ],
   "source": [
    "test_loss,test_acc=model.evaluate([padded_docs_test,padded_docs_test],y_test)\n",
    "test_loss,test_acc"
   ]
  },
  {
   "cell_type": "markdown",
   "id": "80a47670",
   "metadata": {},
   "source": [
    "##### 7) Compute and plot the confusion matrix for the three classes"
   ]
  },
  {
   "cell_type": "code",
   "execution_count": 16,
   "id": "7eb7ef1b",
   "metadata": {},
   "outputs": [
    {
     "name": "stdout",
     "output_type": "stream",
     "text": [
      "172/172 [==============================] - 8s 10ms/step\n",
      "              precision    recall  f1-score   support\n",
      "\n",
      "    negative       0.50      0.63      0.55      1835\n",
      "     neutral       0.47      0.46      0.47      1828\n",
      "    positive       0.58      0.43      0.49      1836\n",
      "\n",
      "    accuracy                           0.51      5499\n",
      "   macro avg       0.51      0.51      0.50      5499\n",
      "weighted avg       0.51      0.51      0.50      5499\n",
      "\n"
     ]
    }
   ],
   "source": [
    "predictions=model.predict([padded_docs_test,padded_docs_test])\n",
    "class_labels = ['negative', 'positive','neutral']\n",
    "predicted_class_labels = [class_labels[np.argmax(pred)] for pred in predictions]\n",
    "actual_class_labels=[class_labels[actual] for actual in y_test]\n",
    "print(classification_report(actual_class_labels, predicted_class_labels))"
   ]
  },
  {
   "cell_type": "code",
   "execution_count": 17,
   "id": "9208658a",
   "metadata": {},
   "outputs": [
    {
     "data": {
      "image/png": "[encoded data removed]",
      "text/plain": [
       "<Figure size 576x432 with 2 Axes>"
      ]
     },
     "metadata": {
      "needs_background": "light"
     },
     "output_type": "display_data"
    }
   ],
   "source": [
    "conf_matrix = confusion_matrix(actual_class_labels, predicted_class_labels, labels=class_labels)\n",
    "plt.figure(figsize=(8, 6))\n",
    "sns.heatmap(conf_matrix, annot=True, fmt=\"d\", cmap=\"Purples\", xticklabels=class_labels, yticklabels=class_labels)\n",
    "plt.title('Confusion Matrix')\n",
    "plt.xlabel('Predicted Labels')\n",
    "plt.ylabel('True Labels')\n",
    "plt.show()"
   ]
  },
  {
   "cell_type": "markdown",
   "id": "dd974772",
   "metadata": {},
   "source": [
    "##### 8) Saving the final results in Excel sheet"
   ]
  },
  {
   "cell_type": "code",
   "execution_count": 18,
   "id": "a0081b41",
   "metadata": {},
   "outputs": [
    {
     "name": "stdout",
     "output_type": "stream",
     "text": [
      "Precision per class: [0.49590694 0.46696035 0.57709251]\n",
      "Recall per class: [0.62724796 0.46389497 0.42810458]\n"
     ]
    }
   ],
   "source": [
    "precision_per_class = precision_score(actual_class_labels, predicted_class_labels, average=None)\n",
    "recall_per_class = recall_score(actual_class_labels, predicted_class_labels, average=None)\n",
    "\n",
    "print(\"Precision per class:\", precision_per_class)\n",
    "print(\"Recall per class:\", recall_per_class)"
   ]
  },
  {
   "cell_type": "code",
   "execution_count": 19,
   "id": "7df0d2f2",
   "metadata": {},
   "outputs": [
    {
     "name": "stdout",
     "output_type": "stream",
     "text": [
      "Micro F1 Score: 0.5064557192216766\n",
      "Macro F1 Score: 0.5036259382013518\n"
     ]
    }
   ],
   "source": [
    "f1_micro = f1_score(actual_class_labels, predicted_class_labels, average='micro')\n",
    "f1_macro = f1_score(actual_class_labels, predicted_class_labels, average='macro')\n",
    "\n",
    "print(\"Micro F1 Score:\", f1_micro)\n",
    "print(\"Macro F1 Score:\", f1_macro)"
   ]
  },
  {
   "cell_type": "code",
   "execution_count": 30,
   "id": "758535f7",
   "metadata": {},
   "outputs": [
    {
     "data": {
      "text/html": [
       "<div>\n",
       "<style scoped>\n",
       "    .dataframe tbody tr th:only-of-type {\n",
       "        vertical-align: middle;\n",
       "    }\n",
       "\n",
       "    .dataframe tbody tr th {\n",
       "        vertical-align: top;\n",
       "    }\n",
       "\n",
       "    .dataframe thead th {\n",
       "        text-align: right;\n",
       "    }\n",
       "</style>\n",
       "<table border=\"1\" class=\"dataframe\">\n",
       "  <thead>\n",
       "    <tr style=\"text-align: right;\">\n",
       "      <th></th>\n",
       "      <th>Unnamed: 0</th>\n",
       "      <th>CharacterSwapping_Dataset</th>\n",
       "    </tr>\n",
       "  </thead>\n",
       "  <tbody>\n",
       "    <tr>\n",
       "      <th>0</th>\n",
       "      <td>Training Accuracy</td>\n",
       "      <td>0.830893</td>\n",
       "    </tr>\n",
       "    <tr>\n",
       "      <th>1</th>\n",
       "      <td>Testing Accuracy</td>\n",
       "      <td>0.506456</td>\n",
       "    </tr>\n",
       "    <tr>\n",
       "      <th>2</th>\n",
       "      <td>Micro F1 Score</td>\n",
       "      <td>0.506456</td>\n",
       "    </tr>\n",
       "    <tr>\n",
       "      <th>3</th>\n",
       "      <td>Macro F1 Score</td>\n",
       "      <td>0.503626</td>\n",
       "    </tr>\n",
       "    <tr>\n",
       "      <th>4</th>\n",
       "      <td>Precision for Negative sentiment</td>\n",
       "      <td>0.495907</td>\n",
       "    </tr>\n",
       "    <tr>\n",
       "      <th>5</th>\n",
       "      <td>Precision for Positive sentiment</td>\n",
       "      <td>0.466960</td>\n",
       "    </tr>\n",
       "    <tr>\n",
       "      <th>6</th>\n",
       "      <td>Precision for Neutral sentiment</td>\n",
       "      <td>0.577093</td>\n",
       "    </tr>\n",
       "    <tr>\n",
       "      <th>7</th>\n",
       "      <td>Recall for Negative sentiment</td>\n",
       "      <td>0.627248</td>\n",
       "    </tr>\n",
       "    <tr>\n",
       "      <th>8</th>\n",
       "      <td>Recall for Positive sentiment</td>\n",
       "      <td>0.463895</td>\n",
       "    </tr>\n",
       "    <tr>\n",
       "      <th>9</th>\n",
       "      <td>Recall for Neutral sentiment</td>\n",
       "      <td>0.428105</td>\n",
       "    </tr>\n",
       "  </tbody>\n",
       "</table>\n",
       "</div>"
      ],
      "text/plain": [
       "                         Unnamed: 0  CharacterSwapping_Dataset\n",
       "0                 Training Accuracy                   0.830893\n",
       "1                  Testing Accuracy                   0.506456\n",
       "2                    Micro F1 Score                   0.506456\n",
       "3                    Macro F1 Score                   0.503626\n",
       "4  Precision for Negative sentiment                   0.495907\n",
       "5  Precision for Positive sentiment                   0.466960\n",
       "6   Precision for Neutral sentiment                   0.577093\n",
       "7     Recall for Negative sentiment                   0.627248\n",
       "8     Recall for Positive sentiment                   0.463895\n",
       "9      Recall for Neutral sentiment                   0.428105"
      ]
     },
     "execution_count": 30,
     "metadata": {},
     "output_type": "execute_result"
    }
   ],
   "source": [
    "result=pd.read_csv('Ensemble_CNN-GRU_ModelResults.csv')\n",
    "result['CharacterSwapping_Dataset']=[max(history.history['accuracy']),test_acc,f1_micro,f1_macro,precision_per_class[0],precision_per_class[1],precision_per_class[2],recall_per_class[0],recall_per_class[1],recall_per_class[2]]\n",
    "result[['Unnamed: 0','CharacterSwapping_Dataset']]"
   ]
  },
  {
   "cell_type": "code",
   "execution_count": 31,
   "id": "7fd5e277",
   "metadata": {},
   "outputs": [],
   "source": [
    "result.to_csv('Ensemble_CNN-GRU_ModelResults.csv', index=False)"
   ]
  }
 ],
 "metadata": {
  "kernelspec": {
   "display_name": "Python 3 (ipykernel)",
   "language": "python",
   "name": "python3"
  },
  "language_info": {
   "codemirror_mode": {
    "name": "ipython",
    "version": 3
   },
   "file_extension": ".py",
   "mimetype": "text/x-python",
   "name": "python",
   "nbconvert_exporter": "python",
   "pygments_lexer": "ipython3",
   "version": "3.9.7"
  }
 },
 "nbformat": 4,
 "nbformat_minor": 5
}
