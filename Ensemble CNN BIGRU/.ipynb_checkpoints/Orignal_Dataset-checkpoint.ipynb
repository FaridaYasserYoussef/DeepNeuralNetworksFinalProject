{
 "cells": [
  {
   "cell_type": "markdown",
   "id": "c6575869",
   "metadata": {},
   "source": [
    "# Ensemble_CNN_GRU Model"
   ]
  },
  {
   "cell_type": "code",
   "execution_count": 1,
   "id": "934847a5",
   "metadata": {},
   "outputs": [
    {
     "name": "stdout",
     "output_type": "stream",
     "text": [
      "WARNING:tensorflow:From D:\\Users\\Suzan Hatem\\anaconda3\\lib\\site-packages\\keras\\src\\losses.py:2976: The name tf.losses.sparse_softmax_cross_entropy is deprecated. Please use tf.compat.v1.losses.sparse_softmax_cross_entropy instead.\n",
      "\n"
     ]
    }
   ],
   "source": [
    "#Imports\n",
    "import pandas as pd\n",
    "import numpy as np\n",
    "\n",
    "from gensim.models import Word2Vec\n",
    "from sklearn.model_selection import train_test_split\n",
    "from keras.preprocessing.text import Tokenizer\n",
    "from keras.utils import pad_sequences\n",
    "\n",
    "from keras.layers import Input, Embedding, Conv1D, MaxPooling1D, Flatten, Dense, Dropout, concatenate, Bidirectional, GRU\n",
    "from keras.models import Model\n",
    "from keras.constraints import MaxNorm\n",
    "from keras.optimizers import Adam\n",
    "\n",
    "import matplotlib.pyplot as plt\n",
    "import seaborn as sns\n",
    "from sklearn.metrics import confusion_matrix\n",
    "from sklearn.metrics import confusion_matrix, ConfusionMatrixDisplay\n",
    "from sklearn.metrics import classification_report\n",
    "from sklearn.metrics import precision_score, recall_score\n",
    "from sklearn.metrics import f1_score"
   ]
  },
  {
   "cell_type": "markdown",
   "id": "978ceb42",
   "metadata": {},
   "source": [
    "##### 1)Loading Dataset"
   ]
  },
  {
   "cell_type": "code",
   "execution_count": 2,
   "id": "272b56c0",
   "metadata": {},
   "outputs": [
    {
     "data": {
      "text/html": [
       "<div>\n",
       "<style scoped>\n",
       "    .dataframe tbody tr th:only-of-type {\n",
       "        vertical-align: middle;\n",
       "    }\n",
       "\n",
       "    .dataframe tbody tr th {\n",
       "        vertical-align: top;\n",
       "    }\n",
       "\n",
       "    .dataframe thead th {\n",
       "        text-align: right;\n",
       "    }\n",
       "</style>\n",
       "<table border=\"1\" class=\"dataframe\">\n",
       "  <thead>\n",
       "    <tr style=\"text-align: right;\">\n",
       "      <th></th>\n",
       "      <th>tweet_id</th>\n",
       "      <th>label</th>\n",
       "      <th>text</th>\n",
       "      <th>length</th>\n",
       "      <th>preprocessed_abstract</th>\n",
       "      <th>length_after_cleaning</th>\n",
       "      <th>tokenized_text</th>\n",
       "    </tr>\n",
       "  </thead>\n",
       "  <tbody>\n",
       "    <tr>\n",
       "      <th>0</th>\n",
       "      <td>570306133677760513</td>\n",
       "      <td>2</td>\n",
       "      <td>@VirginAmerica What @dhepburn said.</td>\n",
       "      <td>35</td>\n",
       "      <td>what say</td>\n",
       "      <td>8</td>\n",
       "      <td>['what', 'say']</td>\n",
       "    </tr>\n",
       "    <tr>\n",
       "      <th>1</th>\n",
       "      <td>570301130888122368</td>\n",
       "      <td>1</td>\n",
       "      <td>@VirginAmerica plus you've added commercials t...</td>\n",
       "      <td>72</td>\n",
       "      <td>plus add commercial experience tacky</td>\n",
       "      <td>36</td>\n",
       "      <td>['plus', 'add', 'commercial', 'experience', 't...</td>\n",
       "    </tr>\n",
       "    <tr>\n",
       "      <th>2</th>\n",
       "      <td>570301083672813571</td>\n",
       "      <td>2</td>\n",
       "      <td>@VirginAmerica I didn't today... Must mean I n...</td>\n",
       "      <td>71</td>\n",
       "      <td>i today must mean i need take another trip</td>\n",
       "      <td>42</td>\n",
       "      <td>['i', 'today', 'must', 'mean', 'i', 'need', 't...</td>\n",
       "    </tr>\n",
       "    <tr>\n",
       "      <th>3</th>\n",
       "      <td>570301031407624196</td>\n",
       "      <td>0</td>\n",
       "      <td>@VirginAmerica it's really aggressive to blast...</td>\n",
       "      <td>126</td>\n",
       "      <td>really aggressive blast obnoxious entertainmen...</td>\n",
       "      <td>78</td>\n",
       "      <td>['really', 'aggressive', 'blast', 'obnoxious',...</td>\n",
       "    </tr>\n",
       "    <tr>\n",
       "      <th>4</th>\n",
       "      <td>570300817074462722</td>\n",
       "      <td>0</td>\n",
       "      <td>@VirginAmerica and it's a really big bad thing...</td>\n",
       "      <td>55</td>\n",
       "      <td>really big bad thing</td>\n",
       "      <td>20</td>\n",
       "      <td>['really', 'big', 'bad', 'thing']</td>\n",
       "    </tr>\n",
       "  </tbody>\n",
       "</table>\n",
       "</div>"
      ],
      "text/plain": [
       "             tweet_id  label  \\\n",
       "0  570306133677760513      2   \n",
       "1  570301130888122368      1   \n",
       "2  570301083672813571      2   \n",
       "3  570301031407624196      0   \n",
       "4  570300817074462722      0   \n",
       "\n",
       "                                                text  length  \\\n",
       "0                @VirginAmerica What @dhepburn said.      35   \n",
       "1  @VirginAmerica plus you've added commercials t...      72   \n",
       "2  @VirginAmerica I didn't today... Must mean I n...      71   \n",
       "3  @VirginAmerica it's really aggressive to blast...     126   \n",
       "4  @VirginAmerica and it's a really big bad thing...      55   \n",
       "\n",
       "                               preprocessed_abstract  length_after_cleaning  \\\n",
       "0                                           what say                      8   \n",
       "1               plus add commercial experience tacky                     36   \n",
       "2         i today must mean i need take another trip                     42   \n",
       "3  really aggressive blast obnoxious entertainmen...                     78   \n",
       "4                               really big bad thing                     20   \n",
       "\n",
       "                                      tokenized_text  \n",
       "0                                    ['what', 'say']  \n",
       "1  ['plus', 'add', 'commercial', 'experience', 't...  \n",
       "2  ['i', 'today', 'must', 'mean', 'i', 'need', 't...  \n",
       "3  ['really', 'aggressive', 'blast', 'obnoxious',...  \n",
       "4                  ['really', 'big', 'bad', 'thing']  "
      ]
     },
     "execution_count": 2,
     "metadata": {},
     "output_type": "execute_result"
    }
   ],
   "source": [
    "df=pd.read_csv(\"df_Original.csv\")\n",
    "df.head()"
   ]
  },
  {
   "cell_type": "code",
   "execution_count": 3,
   "id": "88ee5469",
   "metadata": {},
   "outputs": [
    {
     "data": {
      "text/plain": [
       "tweet_id                  0\n",
       "label                     0\n",
       "text                      0\n",
       "length                    0\n",
       "preprocessed_abstract    17\n",
       "length_after_cleaning     0\n",
       "tokenized_text            0\n",
       "dtype: int64"
      ]
     },
     "execution_count": 3,
     "metadata": {},
     "output_type": "execute_result"
    }
   ],
   "source": [
    "df.isnull().sum()"
   ]
  },
  {
   "cell_type": "code",
   "execution_count": 4,
   "id": "44209584",
   "metadata": {},
   "outputs": [],
   "source": [
    "df = df.dropna()"
   ]
  },
  {
   "cell_type": "markdown",
   "id": "46c4f1f4",
   "metadata": {},
   "source": [
    "##### 2)Preparing Data"
   ]
  },
  {
   "cell_type": "markdown",
   "id": "1130b37b",
   "metadata": {},
   "source": [
    "- Word2Vec model (pre-trained word embeddings) for embedding layer in the model"
   ]
  },
  {
   "cell_type": "code",
   "execution_count": 5,
   "id": "029601c1",
   "metadata": {},
   "outputs": [
    {
     "data": {
      "text/plain": [
       "array([[-4.1535133e-01,  5.7946509e-01, -8.8533536e-02, ...,\n",
       "        -6.5039325e-01, -1.7022640e-01,  4.7614679e-02],\n",
       "       [-6.5174901e-01,  8.0821788e-01, -5.8903281e-02, ...,\n",
       "        -1.0709465e+00,  3.7295187e-01, -1.1550597e+00],\n",
       "       [-2.9146126e-01,  4.8755938e-01, -1.9594637e-01, ...,\n",
       "        -6.4210629e-01,  2.9017523e-02, -5.9131410e-02],\n",
       "       ...,\n",
       "       [ 4.9736355e-03,  1.1267232e-02, -1.9111070e-03, ...,\n",
       "        -6.7500328e-03, -1.4218473e-03, -6.5324786e-03],\n",
       "       [ 8.2569756e-03,  8.5638085e-04,  3.4737806e-03, ...,\n",
       "        -1.1844193e-02,  7.2182026e-03, -8.8051967e-03],\n",
       "       [-1.1050670e-02,  1.8296753e-03,  7.2455783e-03, ...,\n",
       "        -1.8465647e-02,  3.6331089e-03, -1.6872926e-02]], dtype=float32)"
      ]
     },
     "execution_count": 5,
     "metadata": {},
     "output_type": "execute_result"
    }
   ],
   "source": [
    "sentences = [sentence.split() for sentence in df['preprocessed_abstract']]\n",
    "# Create and train the Word2Vec model\n",
    "model_2= Word2Vec(sentences, vector_size=100, window=5, min_count=1, workers=4)\n",
    "# Access the word vectors\n",
    "word_vectors = model_2.wv\n",
    "word_vectors.vectors"
   ]
  },
  {
   "cell_type": "code",
   "execution_count": 6,
   "id": "08dd43f6",
   "metadata": {},
   "outputs": [
    {
     "data": {
      "text/plain": [
       "(9314, 100)"
      ]
     },
     "execution_count": 6,
     "metadata": {},
     "output_type": "execute_result"
    }
   ],
   "source": [
    "word_vectors.vectors.shape"
   ]
  },
  {
   "cell_type": "markdown",
   "id": "4e03b6a9",
   "metadata": {},
   "source": [
    "#####  3) Split , into Training and Validation Sets (80:20)"
   ]
  },
  {
   "cell_type": "code",
   "execution_count": 7,
   "id": "d8741840",
   "metadata": {},
   "outputs": [
    {
     "name": "stdout",
     "output_type": "stream",
     "text": [
      "Train data: (11698,) (11698,)\n",
      "Test data: (2925,) (2925,)\n"
     ]
    }
   ],
   "source": [
    "X_train, X_test, y_train, y_test = train_test_split(df['preprocessed_abstract'], df['label'], test_size=0.2, stratify=df['label'], random_state=42)\n",
    "print(\"Train data:\",  X_train.shape, y_train.shape)\n",
    "print(\"Test data:\",  X_test.shape, y_test.shape)"
   ]
  },
  {
   "cell_type": "code",
   "execution_count": 8,
   "id": "9d5b7f7d",
   "metadata": {},
   "outputs": [
    {
     "data": {
      "image/png": "[encoded data removed]",
      "text/plain": [
       "<Figure size 1008x432 with 1 Axes>"
      ]
     },
     "metadata": {},
     "output_type": "display_data"
    }
   ],
   "source": [
    "plt.figure(figsize=(14,6))\n",
    "colors = ['#4285f4', '#ea4335', '#fbbc05', '#34a853']\n",
    "plt.rcParams.update({'font.size': 14})\n",
    "plt.pie([len(y_train), len(y_test)],\n",
    "        labels=['Train','Test'],\n",
    "        colors=colors, autopct='%.1f%%', explode=(0.05,0.05),\n",
    "        startangle=30);"
   ]
  },
  {
   "cell_type": "code",
   "execution_count": 9,
   "id": "3c6dc2d8",
   "metadata": {},
   "outputs": [
    {
     "name": "stdout",
     "output_type": "stream",
     "text": [
      "[[ 218   38 1064 ...    0    0    0]\n",
      " [ 360  225   99 ...    0    0    0]\n",
      " [   2  334  599 ...    0    0    0]\n",
      " ...\n",
      " [  53  278   11 ...    0    0    0]\n",
      " [ 218 1150  251 ...    0    0    0]\n",
      " [  84  199    2 ...    0    0    0]]\n"
     ]
    }
   ],
   "source": [
    "corp=X_train\n",
    "t = Tokenizer()\n",
    "t.fit_on_texts(corp)\n",
    "vocab_size = len(t.word_index) + 1\n",
    "# integer encode the documents\n",
    "encoded_docs = t.texts_to_sequences(corp)\n",
    "# print(encoded_docs)\n",
    "max_length=max(len(d) for d in encoded_docs)\n",
    "padded_docs_train = pad_sequences(encoded_docs, maxlen=max_length, padding='post')\n",
    "print(padded_docs_train)"
   ]
  },
  {
   "cell_type": "code",
   "execution_count": 10,
   "id": "16c1cbc2",
   "metadata": {},
   "outputs": [
    {
     "name": "stdout",
     "output_type": "stream",
     "text": [
      "[[524  14  13 ...   0   0   0]\n",
      " [  1   3  17 ...   0   0   0]\n",
      " [ 34  33   4 ...   0   0   0]\n",
      " ...\n",
      " [ 85 241  44 ...   0   0   0]\n",
      " [481   8 850 ...   0   0   0]\n",
      " [  1  16   7 ...   0   0   0]]\n"
     ]
    }
   ],
   "source": [
    "corp=X_test\n",
    "t = Tokenizer()\n",
    "t.fit_on_texts(corp)\n",
    "vocab_size = len(t.word_index) + 1\n",
    "# integer encode the documents\n",
    "encoded_docs = t.texts_to_sequences(corp)\n",
    "# print(encoded_docs)\n",
    "padded_docs_test = pad_sequences(encoded_docs, maxlen=max_length, padding='post')\n",
    "print(padded_docs_test)"
   ]
  },
  {
   "cell_type": "markdown",
   "id": "c2ffb115",
   "metadata": {},
   "source": [
    "##### 4)Model Architecture"
   ]
  },
  {
   "cell_type": "code",
   "execution_count": 11,
   "id": "1a556ad9",
   "metadata": {},
   "outputs": [],
   "source": [
    "def ensemble_CNN_BiGRU(filters=100, kernel_size=3, activation='relu',\n",
    "                       input_dim=None, output_dim=100, max_length=None, emb_matrix=None, num_classes=None):\n",
    "\n",
    "    # Channel 1D CNN\n",
    "    input1 = Input(shape=(max_length,))\n",
    "    embeddding1 = Embedding(input_dim=input_dim,\n",
    "                            output_dim=output_dim,\n",
    "                            input_length=max_length,\n",
    "                            input_shape=(max_length,),\n",
    "                            weights=[emb_matrix],\n",
    "                            trainable=False)(input1)\n",
    "    conv1 = Conv1D(filters=filters, kernel_size=kernel_size, activation='relu',\n",
    "                   kernel_constraint=MaxNorm(max_value=3, axis=[0, 1]))(embeddding1)\n",
    "    pool1 = MaxPooling1D(pool_size=2, strides=2)(conv1)\n",
    "    flat1 = Flatten()(pool1)\n",
    "    drop1 = Dropout(0.5)(flat1)\n",
    "    dense1 = Dense(10, activation='relu')(drop1)\n",
    "    drop1 = Dropout(0.5)(dense1)\n",
    "    out1 = Dense(num_classes, activation='softmax')(drop1)\n",
    "\n",
    "    # Channel BiGRU\n",
    "    input2 = Input(shape=(max_length,))\n",
    "    embeddding2 = Embedding(input_dim=input_dim,\n",
    "                            output_dim=output_dim,\n",
    "                            input_length=max_length,\n",
    "                            input_shape=(max_length,),\n",
    "                            weights=[emb_matrix],\n",
    "                            trainable=False,\n",
    "                            mask_zero=True)(input2)\n",
    "    gru2 = Bidirectional(GRU(64))(embeddding2)\n",
    "    drop2 = Dropout(0.5)(gru2)\n",
    "    out2 = Dense(num_classes, activation='softmax')(drop2)\n",
    "\n",
    "    # Merge\n",
    "    merged = concatenate([out1, out2])\n",
    "\n",
    "    # Interpretation\n",
    "    outputs = Dense(num_classes, activation='softmax')(merged)\n",
    "    model = Model(inputs=[input1, input2], outputs=outputs)\n",
    "\n",
    "    # Compile with sparse categorical crossentropy\n",
    "    model.compile(loss='sparse_categorical_crossentropy', optimizer=Adam(), metrics=['accuracy'])\n",
    "\n",
    "    return model"
   ]
  },
  {
   "cell_type": "code",
   "execution_count": 12,
   "id": "abfb9a9f",
   "metadata": {},
   "outputs": [
    {
     "name": "stdout",
     "output_type": "stream",
     "text": [
      "WARNING:tensorflow:From D:\\Users\\Suzan Hatem\\anaconda3\\lib\\site-packages\\keras\\src\\backend.py:1398: The name tf.executing_eagerly_outside_functions is deprecated. Please use tf.compat.v1.executing_eagerly_outside_functions instead.\n",
      "\n",
      "WARNING:tensorflow:From D:\\Users\\Suzan Hatem\\anaconda3\\lib\\site-packages\\keras\\src\\backend.py:6642: The name tf.nn.max_pool is deprecated. Please use tf.nn.max_pool2d instead.\n",
      "\n",
      "Model: \"model\"\n",
      "__________________________________________________________________________________________________\n",
      " Layer (type)                Output Shape                 Param #   Connected to                  \n",
      "==================================================================================================\n",
      " input_1 (InputLayer)        [(None, 26)]                 0         []                            \n",
      "                                                                                                  \n",
      " embedding (Embedding)       (None, 26, 100)              931400    ['input_1[0][0]']             \n",
      "                                                                                                  \n",
      " conv1d (Conv1D)             (None, 24, 100)              30100     ['embedding[0][0]']           \n",
      "                                                                                                  \n",
      " max_pooling1d (MaxPooling1  (None, 12, 100)              0         ['conv1d[0][0]']              \n",
      " D)                                                                                               \n",
      "                                                                                                  \n",
      " flatten (Flatten)           (None, 1200)                 0         ['max_pooling1d[0][0]']       \n",
      "                                                                                                  \n",
      " input_2 (InputLayer)        [(None, 26)]                 0         []                            \n",
      "                                                                                                  \n",
      " dropout (Dropout)           (None, 1200)                 0         ['flatten[0][0]']             \n",
      "                                                                                                  \n",
      " embedding_1 (Embedding)     (None, 26, 100)              931400    ['input_2[0][0]']             \n",
      "                                                                                                  \n",
      " dense (Dense)               (None, 10)                   12010     ['dropout[0][0]']             \n",
      "                                                                                                  \n",
      " bidirectional (Bidirection  (None, 128)                  63744     ['embedding_1[0][0]']         \n",
      " al)                                                                                              \n",
      "                                                                                                  \n",
      " dropout_1 (Dropout)         (None, 10)                   0         ['dense[0][0]']               \n",
      "                                                                                                  \n",
      " dropout_2 (Dropout)         (None, 128)                  0         ['bidirectional[0][0]']       \n",
      "                                                                                                  \n",
      " dense_1 (Dense)             (None, 3)                    33        ['dropout_1[0][0]']           \n",
      "                                                                                                  \n",
      " dense_2 (Dense)             (None, 3)                    387       ['dropout_2[0][0]']           \n",
      "                                                                                                  \n",
      " concatenate (Concatenate)   (None, 6)                    0         ['dense_1[0][0]',             \n",
      "                                                                     'dense_2[0][0]']             \n",
      "                                                                                                  \n",
      " dense_3 (Dense)             (None, 3)                    21        ['concatenate[0][0]']         \n",
      "                                                                                                  \n",
      "==================================================================================================\n",
      "Total params: 1969095 (7.51 MB)\n",
      "Trainable params: 106295 (415.21 KB)\n",
      "Non-trainable params: 1862800 (7.11 MB)\n",
      "__________________________________________________________________________________________________\n"
     ]
    }
   ],
   "source": [
    "model = ensemble_CNN_BiGRU(input_dim=word_vectors.vectors.shape[0], output_dim=100, max_length=max_length, emb_matrix=word_vectors.vectors, num_classes=3)\n",
    "model.summary()"
   ]
  },
  {
   "cell_type": "markdown",
   "id": "6ea9dbdd",
   "metadata": {},
   "source": [
    "##### 5) Training Model"
   ]
  },
  {
   "cell_type": "code",
   "execution_count": 13,
   "id": "1a3407cf",
   "metadata": {},
   "outputs": [
    {
     "name": "stdout",
     "output_type": "stream",
     "text": [
      "Epoch 1/100\n",
      "WARNING:tensorflow:From D:\\Users\\Suzan Hatem\\anaconda3\\lib\\site-packages\\keras\\src\\utils\\tf_utils.py:492: The name tf.ragged.RaggedTensorValue is deprecated. Please use tf.compat.v1.ragged.RaggedTensorValue instead.\n",
      "\n",
      "WARNING:tensorflow:From D:\\Users\\Suzan Hatem\\anaconda3\\lib\\site-packages\\keras\\src\\engine\\base_layer_utils.py:384: The name tf.executing_eagerly_outside_functions is deprecated. Please use tf.compat.v1.executing_eagerly_outside_functions instead.\n",
      "\n",
      "117/117 [==============================] - 11s 38ms/step - loss: 0.9058 - accuracy: 0.6256 - val_loss: 0.8686 - val_accuracy: 0.6304\n",
      "Epoch 2/100\n",
      "117/117 [==============================] - 2s 21ms/step - loss: 0.8400 - accuracy: 0.6286 - val_loss: 0.8348 - val_accuracy: 0.6191\n",
      "Epoch 3/100\n",
      "117/117 [==============================] - 2s 21ms/step - loss: 0.8175 - accuracy: 0.6358 - val_loss: 0.8159 - val_accuracy: 0.6660\n",
      "Epoch 4/100\n",
      "117/117 [==============================] - 2s 21ms/step - loss: 0.7992 - accuracy: 0.6699 - val_loss: 0.8112 - val_accuracy: 0.6684\n",
      "Epoch 5/100\n",
      "117/117 [==============================] - 2s 21ms/step - loss: 0.7925 - accuracy: 0.6741 - val_loss: 0.8232 - val_accuracy: 0.6670\n",
      "Epoch 6/100\n",
      "117/117 [==============================] - 3s 22ms/step - loss: 0.7864 - accuracy: 0.6787 - val_loss: 0.8062 - val_accuracy: 0.6615\n",
      "Epoch 7/100\n",
      "117/117 [==============================] - 3s 22ms/step - loss: 0.7814 - accuracy: 0.6836 - val_loss: 0.7962 - val_accuracy: 0.6639\n",
      "Epoch 8/100\n",
      "117/117 [==============================] - 3s 22ms/step - loss: 0.7778 - accuracy: 0.6866 - val_loss: 0.7885 - val_accuracy: 0.6742\n",
      "Epoch 9/100\n",
      "117/117 [==============================] - 3s 23ms/step - loss: 0.7739 - accuracy: 0.6906 - val_loss: 0.7960 - val_accuracy: 0.6762\n",
      "Epoch 10/100\n",
      "117/117 [==============================] - 3s 23ms/step - loss: 0.7696 - accuracy: 0.6883 - val_loss: 0.7869 - val_accuracy: 0.6766\n",
      "Epoch 11/100\n",
      "117/117 [==============================] - 3s 22ms/step - loss: 0.7674 - accuracy: 0.6879 - val_loss: 0.7838 - val_accuracy: 0.6752\n",
      "Epoch 12/100\n",
      "117/117 [==============================] - 3s 22ms/step - loss: 0.7648 - accuracy: 0.6885 - val_loss: 0.7879 - val_accuracy: 0.6711\n",
      "Epoch 13/100\n",
      "117/117 [==============================] - 3s 23ms/step - loss: 0.7626 - accuracy: 0.6904 - val_loss: 0.7864 - val_accuracy: 0.6680\n",
      "Epoch 14/100\n",
      "117/117 [==============================] - 3s 22ms/step - loss: 0.7592 - accuracy: 0.6938 - val_loss: 0.7851 - val_accuracy: 0.6756\n",
      "Epoch 15/100\n",
      "117/117 [==============================] - 3s 22ms/step - loss: 0.7575 - accuracy: 0.6953 - val_loss: 0.7882 - val_accuracy: 0.6766\n",
      "Epoch 16/100\n",
      "117/117 [==============================] - 3s 23ms/step - loss: 0.7583 - accuracy: 0.6904 - val_loss: 0.7886 - val_accuracy: 0.6667\n",
      "Epoch 17/100\n",
      "117/117 [==============================] - 3s 23ms/step - loss: 0.7562 - accuracy: 0.6883 - val_loss: 0.7844 - val_accuracy: 0.6670\n",
      "Epoch 18/100\n",
      "117/117 [==============================] - 3s 22ms/step - loss: 0.7546 - accuracy: 0.6920 - val_loss: 0.7858 - val_accuracy: 0.6783\n",
      "Epoch 19/100\n",
      "117/117 [==============================] - 3s 23ms/step - loss: 0.7491 - accuracy: 0.6958 - val_loss: 0.7849 - val_accuracy: 0.6704\n",
      "Epoch 20/100\n",
      "117/117 [==============================] - 3s 22ms/step - loss: 0.7457 - accuracy: 0.6944 - val_loss: 0.7865 - val_accuracy: 0.6670\n",
      "Epoch 21/100\n",
      "117/117 [==============================] - 3s 22ms/step - loss: 0.7487 - accuracy: 0.6931 - val_loss: 0.7827 - val_accuracy: 0.6704\n",
      "Epoch 22/100\n",
      "117/117 [==============================] - 3s 22ms/step - loss: 0.7459 - accuracy: 0.6948 - val_loss: 0.7854 - val_accuracy: 0.6732\n",
      "Epoch 23/100\n",
      "117/117 [==============================] - 3s 22ms/step - loss: 0.7385 - accuracy: 0.6970 - val_loss: 0.7839 - val_accuracy: 0.6694\n",
      "Epoch 24/100\n",
      "117/117 [==============================] - 3s 22ms/step - loss: 0.7394 - accuracy: 0.6986 - val_loss: 0.7845 - val_accuracy: 0.6745\n",
      "Epoch 25/100\n",
      "117/117 [==============================] - 3s 22ms/step - loss: 0.7406 - accuracy: 0.6970 - val_loss: 0.7784 - val_accuracy: 0.6708\n",
      "Epoch 26/100\n",
      "117/117 [==============================] - 3s 22ms/step - loss: 0.7370 - accuracy: 0.6967 - val_loss: 0.7831 - val_accuracy: 0.6725\n",
      "Epoch 27/100\n",
      "117/117 [==============================] - 3s 22ms/step - loss: 0.7334 - accuracy: 0.7003 - val_loss: 0.7814 - val_accuracy: 0.6701\n",
      "Epoch 28/100\n",
      "117/117 [==============================] - 3s 23ms/step - loss: 0.7328 - accuracy: 0.7000 - val_loss: 0.7831 - val_accuracy: 0.6769\n",
      "Epoch 29/100\n",
      "117/117 [==============================] - 3s 22ms/step - loss: 0.7300 - accuracy: 0.6993 - val_loss: 0.7877 - val_accuracy: 0.6660\n",
      "Epoch 30/100\n",
      "117/117 [==============================] - 3s 22ms/step - loss: 0.7280 - accuracy: 0.7041 - val_loss: 0.7909 - val_accuracy: 0.6738\n",
      "Epoch 31/100\n",
      "117/117 [==============================] - 3s 22ms/step - loss: 0.7269 - accuracy: 0.7004 - val_loss: 0.7815 - val_accuracy: 0.6769\n",
      "Epoch 32/100\n",
      "117/117 [==============================] - 3s 22ms/step - loss: 0.7249 - accuracy: 0.7032 - val_loss: 0.7845 - val_accuracy: 0.6738\n",
      "Epoch 33/100\n",
      "117/117 [==============================] - 3s 22ms/step - loss: 0.7220 - accuracy: 0.7017 - val_loss: 0.7838 - val_accuracy: 0.6759\n",
      "Epoch 34/100\n",
      "117/117 [==============================] - 3s 22ms/step - loss: 0.7206 - accuracy: 0.7043 - val_loss: 0.7871 - val_accuracy: 0.6773\n",
      "Epoch 35/100\n",
      "117/117 [==============================] - 3s 22ms/step - loss: 0.7176 - accuracy: 0.7069 - val_loss: 0.7985 - val_accuracy: 0.6759\n",
      "Epoch 36/100\n",
      "117/117 [==============================] - 3s 22ms/step - loss: 0.7156 - accuracy: 0.7078 - val_loss: 0.7869 - val_accuracy: 0.6749\n",
      "Epoch 37/100\n",
      "117/117 [==============================] - 3s 22ms/step - loss: 0.7110 - accuracy: 0.7060 - val_loss: 0.7932 - val_accuracy: 0.6762\n",
      "Epoch 38/100\n",
      "117/117 [==============================] - 3s 22ms/step - loss: 0.7100 - accuracy: 0.7063 - val_loss: 0.7953 - val_accuracy: 0.6711\n",
      "Epoch 39/100\n",
      "117/117 [==============================] - 3s 23ms/step - loss: 0.7069 - accuracy: 0.7082 - val_loss: 0.7927 - val_accuracy: 0.6756\n",
      "Epoch 40/100\n",
      "117/117 [==============================] - 3s 23ms/step - loss: 0.7096 - accuracy: 0.7102 - val_loss: 0.7882 - val_accuracy: 0.6670\n",
      "Epoch 41/100\n",
      "117/117 [==============================] - 3s 23ms/step - loss: 0.7033 - accuracy: 0.7111 - val_loss: 0.7914 - val_accuracy: 0.6732\n",
      "Epoch 42/100\n",
      "117/117 [==============================] - 3s 22ms/step - loss: 0.6998 - accuracy: 0.7136 - val_loss: 0.8042 - val_accuracy: 0.6742\n",
      "Epoch 43/100\n",
      "117/117 [==============================] - 3s 23ms/step - loss: 0.7000 - accuracy: 0.7115 - val_loss: 0.7958 - val_accuracy: 0.6773\n",
      "Epoch 44/100\n",
      "117/117 [==============================] - 3s 23ms/step - loss: 0.6908 - accuracy: 0.7148 - val_loss: 0.7988 - val_accuracy: 0.6735\n",
      "Epoch 45/100\n",
      "117/117 [==============================] - 3s 23ms/step - loss: 0.6880 - accuracy: 0.7161 - val_loss: 0.7989 - val_accuracy: 0.6728\n",
      "Epoch 46/100\n",
      "117/117 [==============================] - 3s 23ms/step - loss: 0.6897 - accuracy: 0.7176 - val_loss: 0.8006 - val_accuracy: 0.6694\n",
      "Epoch 47/100\n",
      "117/117 [==============================] - 3s 23ms/step - loss: 0.6839 - accuracy: 0.7191 - val_loss: 0.8082 - val_accuracy: 0.6684\n",
      "Epoch 48/100\n",
      "117/117 [==============================] - 3s 22ms/step - loss: 0.6805 - accuracy: 0.7206 - val_loss: 0.8030 - val_accuracy: 0.6725\n",
      "Epoch 49/100\n",
      "117/117 [==============================] - 3s 23ms/step - loss: 0.6750 - accuracy: 0.7260 - val_loss: 0.8211 - val_accuracy: 0.6482\n",
      "Epoch 50/100\n",
      "117/117 [==============================] - 3s 22ms/step - loss: 0.6698 - accuracy: 0.7264 - val_loss: 0.8205 - val_accuracy: 0.6677\n",
      "Epoch 51/100\n",
      "117/117 [==============================] - 3s 22ms/step - loss: 0.6660 - accuracy: 0.7266 - val_loss: 0.8127 - val_accuracy: 0.6674\n",
      "Epoch 52/100\n",
      "117/117 [==============================] - 3s 22ms/step - loss: 0.6654 - accuracy: 0.7278 - val_loss: 0.8324 - val_accuracy: 0.6687\n",
      "Epoch 53/100\n",
      "117/117 [==============================] - 3s 21ms/step - loss: 0.6623 - accuracy: 0.7317 - val_loss: 0.8278 - val_accuracy: 0.6591\n",
      "Epoch 54/100\n"
     ]
    },
    {
     "name": "stdout",
     "output_type": "stream",
     "text": [
      "117/117 [==============================] - 3s 22ms/step - loss: 0.6544 - accuracy: 0.7339 - val_loss: 0.8339 - val_accuracy: 0.6496\n",
      "Epoch 55/100\n",
      "117/117 [==============================] - 3s 22ms/step - loss: 0.6540 - accuracy: 0.7342 - val_loss: 0.8284 - val_accuracy: 0.6595\n",
      "Epoch 56/100\n",
      "117/117 [==============================] - 3s 22ms/step - loss: 0.6456 - accuracy: 0.7407 - val_loss: 0.8526 - val_accuracy: 0.6581\n",
      "Epoch 57/100\n",
      "117/117 [==============================] - 3s 26ms/step - loss: 0.6432 - accuracy: 0.7389 - val_loss: 0.8559 - val_accuracy: 0.6568\n",
      "Epoch 58/100\n",
      "117/117 [==============================] - 3s 25ms/step - loss: 0.6387 - accuracy: 0.7406 - val_loss: 0.8443 - val_accuracy: 0.6458\n",
      "Epoch 59/100\n",
      "117/117 [==============================] - 3s 24ms/step - loss: 0.6385 - accuracy: 0.7401 - val_loss: 0.8412 - val_accuracy: 0.6612\n",
      "Epoch 60/100\n",
      "117/117 [==============================] - 3s 25ms/step - loss: 0.6313 - accuracy: 0.7432 - val_loss: 0.8358 - val_accuracy: 0.6492\n",
      "Epoch 61/100\n",
      "117/117 [==============================] - 3s 24ms/step - loss: 0.6280 - accuracy: 0.7449 - val_loss: 0.8510 - val_accuracy: 0.6526\n",
      "Epoch 62/100\n",
      "117/117 [==============================] - 3s 23ms/step - loss: 0.6210 - accuracy: 0.7494 - val_loss: 0.8549 - val_accuracy: 0.6503\n",
      "Epoch 63/100\n",
      "117/117 [==============================] - 3s 23ms/step - loss: 0.6104 - accuracy: 0.7562 - val_loss: 0.8718 - val_accuracy: 0.6438\n",
      "Epoch 64/100\n",
      "117/117 [==============================] - 3s 22ms/step - loss: 0.6062 - accuracy: 0.7573 - val_loss: 0.8761 - val_accuracy: 0.6475\n",
      "Epoch 65/100\n",
      "117/117 [==============================] - 3s 23ms/step - loss: 0.6079 - accuracy: 0.7566 - val_loss: 0.8729 - val_accuracy: 0.6287\n",
      "Epoch 66/100\n",
      "117/117 [==============================] - 3s 23ms/step - loss: 0.6046 - accuracy: 0.7559 - val_loss: 0.8847 - val_accuracy: 0.6335\n",
      "Epoch 67/100\n",
      "117/117 [==============================] - 3s 22ms/step - loss: 0.5958 - accuracy: 0.7624 - val_loss: 0.8780 - val_accuracy: 0.6287\n",
      "Epoch 68/100\n",
      "117/117 [==============================] - 3s 22ms/step - loss: 0.5871 - accuracy: 0.7685 - val_loss: 0.8833 - val_accuracy: 0.6516\n",
      "Epoch 69/100\n",
      "117/117 [==============================] - 3s 22ms/step - loss: 0.5880 - accuracy: 0.7676 - val_loss: 0.8963 - val_accuracy: 0.6390\n",
      "Epoch 70/100\n",
      "117/117 [==============================] - 3s 22ms/step - loss: 0.5805 - accuracy: 0.7685 - val_loss: 0.9037 - val_accuracy: 0.6294\n",
      "Epoch 71/100\n",
      "117/117 [==============================] - 3s 23ms/step - loss: 0.5774 - accuracy: 0.7693 - val_loss: 0.9104 - val_accuracy: 0.6342\n",
      "Epoch 72/100\n",
      "117/117 [==============================] - 3s 23ms/step - loss: 0.5790 - accuracy: 0.7712 - val_loss: 0.8974 - val_accuracy: 0.6349\n",
      "Epoch 73/100\n",
      "117/117 [==============================] - 3s 22ms/step - loss: 0.5625 - accuracy: 0.7799 - val_loss: 0.9254 - val_accuracy: 0.6403\n",
      "Epoch 74/100\n",
      "117/117 [==============================] - 3s 23ms/step - loss: 0.5613 - accuracy: 0.7784 - val_loss: 0.9102 - val_accuracy: 0.6304\n",
      "Epoch 75/100\n",
      "117/117 [==============================] - 3s 23ms/step - loss: 0.5532 - accuracy: 0.7798 - val_loss: 0.9248 - val_accuracy: 0.6171\n",
      "Epoch 76/100\n",
      "117/117 [==============================] - 3s 22ms/step - loss: 0.5507 - accuracy: 0.7808 - val_loss: 0.9311 - val_accuracy: 0.6352\n",
      "Epoch 77/100\n",
      "117/117 [==============================] - 3s 23ms/step - loss: 0.5439 - accuracy: 0.7912 - val_loss: 0.9433 - val_accuracy: 0.6379\n",
      "Epoch 78/100\n",
      "117/117 [==============================] - 3s 22ms/step - loss: 0.5402 - accuracy: 0.7915 - val_loss: 0.9345 - val_accuracy: 0.6174\n",
      "Epoch 79/100\n",
      "117/117 [==============================] - 3s 23ms/step - loss: 0.5370 - accuracy: 0.7904 - val_loss: 0.9380 - val_accuracy: 0.6287\n",
      "Epoch 80/100\n",
      "117/117 [==============================] - 3s 23ms/step - loss: 0.5273 - accuracy: 0.7928 - val_loss: 0.9516 - val_accuracy: 0.6366\n",
      "Epoch 81/100\n",
      "117/117 [==============================] - 3s 23ms/step - loss: 0.5263 - accuracy: 0.7971 - val_loss: 0.9902 - val_accuracy: 0.6181\n",
      "Epoch 82/100\n",
      "117/117 [==============================] - 3s 22ms/step - loss: 0.5283 - accuracy: 0.7939 - val_loss: 0.9404 - val_accuracy: 0.6232\n",
      "Epoch 83/100\n",
      "117/117 [==============================] - 3s 22ms/step - loss: 0.5138 - accuracy: 0.8011 - val_loss: 0.9712 - val_accuracy: 0.6144\n",
      "Epoch 84/100\n",
      "117/117 [==============================] - 3s 22ms/step - loss: 0.5170 - accuracy: 0.7975 - val_loss: 0.9593 - val_accuracy: 0.6256\n",
      "Epoch 85/100\n",
      "117/117 [==============================] - 3s 22ms/step - loss: 0.5108 - accuracy: 0.8036 - val_loss: 0.9848 - val_accuracy: 0.6209\n",
      "Epoch 86/100\n",
      "117/117 [==============================] - 3s 22ms/step - loss: 0.5016 - accuracy: 0.8074 - val_loss: 0.9863 - val_accuracy: 0.6089\n",
      "Epoch 87/100\n",
      "117/117 [==============================] - 3s 22ms/step - loss: 0.5032 - accuracy: 0.8079 - val_loss: 0.9722 - val_accuracy: 0.6291\n",
      "Epoch 88/100\n",
      "117/117 [==============================] - 3s 22ms/step - loss: 0.4933 - accuracy: 0.8118 - val_loss: 1.0078 - val_accuracy: 0.6147\n",
      "Epoch 89/100\n",
      "117/117 [==============================] - 3s 22ms/step - loss: 0.4931 - accuracy: 0.8118 - val_loss: 1.0123 - val_accuracy: 0.6250\n",
      "Epoch 90/100\n",
      "117/117 [==============================] - 3s 22ms/step - loss: 0.4913 - accuracy: 0.8149 - val_loss: 1.0042 - val_accuracy: 0.6205\n",
      "Epoch 91/100\n",
      "117/117 [==============================] - 3s 23ms/step - loss: 0.4881 - accuracy: 0.8131 - val_loss: 1.0086 - val_accuracy: 0.6205\n",
      "Epoch 92/100\n",
      "117/117 [==============================] - 3s 23ms/step - loss: 0.4796 - accuracy: 0.8219 - val_loss: 1.0019 - val_accuracy: 0.6089\n",
      "Epoch 93/100\n",
      "117/117 [==============================] - 3s 23ms/step - loss: 0.4895 - accuracy: 0.8130 - val_loss: 1.0079 - val_accuracy: 0.6092\n",
      "Epoch 94/100\n",
      "117/117 [==============================] - 3s 23ms/step - loss: 0.4803 - accuracy: 0.8159 - val_loss: 1.0151 - val_accuracy: 0.6144\n",
      "Epoch 95/100\n",
      "117/117 [==============================] - 3s 23ms/step - loss: 0.4714 - accuracy: 0.8229 - val_loss: 1.0131 - val_accuracy: 0.6126\n",
      "Epoch 96/100\n",
      "117/117 [==============================] - 3s 23ms/step - loss: 0.4714 - accuracy: 0.8213 - val_loss: 1.0346 - val_accuracy: 0.6325\n",
      "Epoch 97/100\n",
      "117/117 [==============================] - 3s 23ms/step - loss: 0.4707 - accuracy: 0.8232 - val_loss: 1.0287 - val_accuracy: 0.6219\n",
      "Epoch 98/100\n",
      "117/117 [==============================] - 3s 22ms/step - loss: 0.4683 - accuracy: 0.8206 - val_loss: 1.0315 - val_accuracy: 0.6168\n",
      "Epoch 99/100\n",
      "117/117 [==============================] - 3s 22ms/step - loss: 0.4600 - accuracy: 0.8278 - val_loss: 1.0353 - val_accuracy: 0.6198\n",
      "Epoch 100/100\n",
      "117/117 [==============================] - 3s 23ms/step - loss: 0.4694 - accuracy: 0.8233 - val_loss: 1.0479 - val_accuracy: 0.6256\n"
     ]
    },
    {
     "data": {
      "text/plain": [
       "<keras.src.callbacks.History at 0x23fc21eddf0>"
      ]
     },
     "execution_count": 13,
     "metadata": {},
     "output_type": "execute_result"
    }
   ],
   "source": [
    "history=model.fit([padded_docs_train, padded_docs_train], y_train, epochs=100, batch_size=100, validation_data=([padded_docs_test,padded_docs_test], y_test))\n",
    "history"
   ]
  },
  {
   "cell_type": "markdown",
   "id": "5d00c466",
   "metadata": {},
   "source": [
    "##### 6) Finding Training and Testing Accuracy"
   ]
  },
  {
   "cell_type": "code",
   "execution_count": 14,
   "id": "6d517703",
   "metadata": {},
   "outputs": [
    {
     "data": {
      "image/png": "[encoded data removed]",
      "text/plain": [
       "<Figure size 432x288 with 1 Axes>"
      ]
     },
     "metadata": {
      "needs_background": "light"
     },
     "output_type": "display_data"
    }
   ],
   "source": [
    "# Plot the training and testing accuracy\n",
    "plt.plot(history.history['accuracy'])\n",
    "plt.plot(history.history['val_accuracy'])\n",
    "plt.title('Model Accuracy')\n",
    "plt.ylabel('Accuracy')\n",
    "plt.xlabel('Epoch')\n",
    "plt.ylim([0, 1])\n",
    "plt.legend(['Train', 'Test'], loc='upper left')\n",
    "plt.show()"
   ]
  },
  {
   "cell_type": "code",
   "execution_count": 15,
   "id": "516fe5b8",
   "metadata": {},
   "outputs": [
    {
     "name": "stdout",
     "output_type": "stream",
     "text": [
      "92/92 [==============================] - 1s 6ms/step - loss: 1.0479 - accuracy: 0.6256\n"
     ]
    },
    {
     "data": {
      "text/plain": [
       "(1.0478781461715698, 0.6256410479545593)"
      ]
     },
     "execution_count": 15,
     "metadata": {},
     "output_type": "execute_result"
    }
   ],
   "source": [
    "test_loss,test_acc=model.evaluate([padded_docs_test,padded_docs_test],y_test)\n",
    "test_loss,test_acc"
   ]
  },
  {
   "cell_type": "markdown",
   "id": "80a47670",
   "metadata": {},
   "source": [
    "##### 7) Compute and plot the confusion matrix for the three classes"
   ]
  },
  {
   "cell_type": "code",
   "execution_count": 16,
   "id": "7eb7ef1b",
   "metadata": {},
   "outputs": [
    {
     "name": "stdout",
     "output_type": "stream",
     "text": [
      "92/92 [==============================] - 3s 6ms/step\n",
      "              precision    recall  f1-score   support\n",
      "\n",
      "    negative       0.74      0.77      0.75      1835\n",
      "     neutral       0.38      0.48      0.42       617\n",
      "    positive       0.52      0.26      0.35       473\n",
      "\n",
      "    accuracy                           0.63      2925\n",
      "   macro avg       0.55      0.50      0.51      2925\n",
      "weighted avg       0.63      0.63      0.62      2925\n",
      "\n"
     ]
    }
   ],
   "source": [
    "predictions=model.predict([padded_docs_test,padded_docs_test])\n",
    "class_labels = ['negative', 'positive','neutral']\n",
    "predicted_class_labels = [class_labels[np.argmax(pred)] for pred in predictions]\n",
    "actual_class_labels=[class_labels[actual] for actual in y_test]\n",
    "print(classification_report(actual_class_labels, predicted_class_labels))"
   ]
  },
  {
   "cell_type": "code",
   "execution_count": 17,
   "id": "9208658a",
   "metadata": {},
   "outputs": [
    {
     "data": {
      "image/png": "[encoded data removed]",
      "text/plain": [
       "<Figure size 576x432 with 2 Axes>"
      ]
     },
     "metadata": {
      "needs_background": "light"
     },
     "output_type": "display_data"
    }
   ],
   "source": [
    "conf_matrix = confusion_matrix(actual_class_labels, predicted_class_labels, labels=class_labels)\n",
    "plt.figure(figsize=(8, 6))\n",
    "sns.heatmap(conf_matrix, annot=True, fmt=\"d\", cmap=\"Purples\", xticklabels=class_labels, yticklabels=class_labels)\n",
    "plt.title('Confusion Matrix')\n",
    "plt.xlabel('Predicted Labels')\n",
    "plt.ylabel('True Labels')\n",
    "plt.show()"
   ]
  },
  {
   "cell_type": "markdown",
   "id": "dd974772",
   "metadata": {},
   "source": [
    "##### 8) Saving the final results in Excel sheet"
   ]
  },
  {
   "cell_type": "code",
   "execution_count": 18,
   "id": "a0081b41",
   "metadata": {},
   "outputs": [
    {
     "name": "stdout",
     "output_type": "stream",
     "text": [
      "Precision per class: [0.7357999  0.3833116  0.51882845]\n",
      "Recall per class: [0.76948229 0.47649919 0.26215645]\n"
     ]
    }
   ],
   "source": [
    "precision_per_class = precision_score(actual_class_labels, predicted_class_labels, average=None)\n",
    "recall_per_class = recall_score(actual_class_labels, predicted_class_labels, average=None)\n",
    "\n",
    "print(\"Precision per class:\", precision_per_class)\n",
    "print(\"Recall per class:\", recall_per_class)"
   ]
  },
  {
   "cell_type": "code",
   "execution_count": 19,
   "id": "7df0d2f2",
   "metadata": {},
   "outputs": [
    {
     "name": "stdout",
     "output_type": "stream",
     "text": [
      "Micro F1 Score: 0.6256410256410256\n",
      "Macro F1 Score: 0.5084781165120522\n"
     ]
    }
   ],
   "source": [
    "f1_micro = f1_score(actual_class_labels, predicted_class_labels, average='micro')\n",
    "f1_macro = f1_score(actual_class_labels, predicted_class_labels, average='macro')\n",
    "\n",
    "print(\"Micro F1 Score:\", f1_micro)\n",
    "print(\"Macro F1 Score:\", f1_macro)"
   ]
  },
  {
   "cell_type": "code",
   "execution_count": 22,
   "id": "713cef8d",
   "metadata": {},
   "outputs": [
    {
     "data": {
      "text/html": [
       "<div>\n",
       "<style scoped>\n",
       "    .dataframe tbody tr th:only-of-type {\n",
       "        vertical-align: middle;\n",
       "    }\n",
       "\n",
       "    .dataframe tbody tr th {\n",
       "        vertical-align: top;\n",
       "    }\n",
       "\n",
       "    .dataframe thead th {\n",
       "        text-align: right;\n",
       "    }\n",
       "</style>\n",
       "<table border=\"1\" class=\"dataframe\">\n",
       "  <thead>\n",
       "    <tr style=\"text-align: right;\">\n",
       "      <th></th>\n",
       "      <th>Original_Dataset</th>\n",
       "    </tr>\n",
       "  </thead>\n",
       "  <tbody>\n",
       "    <tr>\n",
       "      <th>Training Accuracy</th>\n",
       "      <td>0.827834</td>\n",
       "    </tr>\n",
       "    <tr>\n",
       "      <th>Testing Accuracy</th>\n",
       "      <td>0.625641</td>\n",
       "    </tr>\n",
       "    <tr>\n",
       "      <th>Micro F1 Score</th>\n",
       "      <td>0.625641</td>\n",
       "    </tr>\n",
       "    <tr>\n",
       "      <th>Macro F1 Score</th>\n",
       "      <td>0.508478</td>\n",
       "    </tr>\n",
       "    <tr>\n",
       "      <th>Precision for Negative sentiment</th>\n",
       "      <td>0.735800</td>\n",
       "    </tr>\n",
       "    <tr>\n",
       "      <th>Precision for Positive sentiment</th>\n",
       "      <td>0.383312</td>\n",
       "    </tr>\n",
       "    <tr>\n",
       "      <th>Precision for Neutral sentiment</th>\n",
       "      <td>0.518828</td>\n",
       "    </tr>\n",
       "    <tr>\n",
       "      <th>Recall for Negative sentiment</th>\n",
       "      <td>0.769482</td>\n",
       "    </tr>\n",
       "    <tr>\n",
       "      <th>Recall for Positive sentiment</th>\n",
       "      <td>0.476499</td>\n",
       "    </tr>\n",
       "    <tr>\n",
       "      <th>Recall for Neutral sentiment</th>\n",
       "      <td>0.262156</td>\n",
       "    </tr>\n",
       "  </tbody>\n",
       "</table>\n",
       "</div>"
      ],
      "text/plain": [
       "                                  Original_Dataset\n",
       "Training Accuracy                         0.827834\n",
       "Testing Accuracy                          0.625641\n",
       "Micro F1 Score                            0.625641\n",
       "Macro F1 Score                            0.508478\n",
       "Precision for Negative sentiment          0.735800\n",
       "Precision for Positive sentiment          0.383312\n",
       "Precision for Neutral sentiment           0.518828\n",
       "Recall for Negative sentiment             0.769482\n",
       "Recall for Positive sentiment             0.476499\n",
       "Recall for Neutral sentiment              0.262156"
      ]
     },
     "execution_count": 22,
     "metadata": {},
     "output_type": "execute_result"
    }
   ],
   "source": [
    "data={'Original_Dataset':[max(history.history['accuracy']),test_acc,f1_micro,f1_macro,precision_per_class[0],precision_per_class[1],precision_per_class[2],recall_per_class[0],recall_per_class[1],recall_per_class[2]]}\n",
    "result=pd.DataFrame(data,index=['Training Accuracy','Testing Accuracy','Micro F1 Score','Macro F1 Score','Precision for Negative sentiment','Precision for Positive sentiment','Precision for Neutral sentiment','Recall for Negative sentiment','Recall for Positive sentiment','Recall for Neutral sentiment'])\n",
    "result"
   ]
  },
  {
   "cell_type": "code",
   "execution_count": 23,
   "id": "63ff94a0",
   "metadata": {},
   "outputs": [],
   "source": [
    "result.to_csv('Ensemble_CNN-GRU_ModelResults.csv', index=True)"
   ]
  }
 ],
 "metadata": {
  "kernelspec": {
   "display_name": "Python 3 (ipykernel)",
   "language": "python",
   "name": "python3"
  },
  "language_info": {
   "codemirror_mode": {
    "name": "ipython",
    "version": 3
   },
   "file_extension": ".py",
   "mimetype": "text/x-python",
   "name": "python",
   "nbconvert_exporter": "python",
   "pygments_lexer": "ipython3",
   "version": "3.9.7"
  }
 },
 "nbformat": 4,
 "nbformat_minor": 5
}
