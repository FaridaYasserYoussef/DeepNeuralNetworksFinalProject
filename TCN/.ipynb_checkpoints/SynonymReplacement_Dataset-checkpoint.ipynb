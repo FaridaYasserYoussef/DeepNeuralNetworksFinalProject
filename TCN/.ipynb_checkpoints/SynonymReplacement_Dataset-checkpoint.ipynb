{
 "cells": [
  {
   "cell_type": "markdown",
   "id": "c6575869",
   "metadata": {},
   "source": [
    "# TCN Model"
   ]
  },
  {
   "cell_type": "code",
   "execution_count": 1,
   "id": "934847a5",
   "metadata": {},
   "outputs": [
    {
     "name": "stdout",
     "output_type": "stream",
     "text": [
      "WARNING:tensorflow:From D:\\Users\\Suzan Hatem\\anaconda3\\lib\\site-packages\\keras\\src\\losses.py:2976: The name tf.losses.sparse_softmax_cross_entropy is deprecated. Please use tf.compat.v1.losses.sparse_softmax_cross_entropy instead.\n",
      "\n"
     ]
    }
   ],
   "source": [
    "#Imports\n",
    "import pandas as pd\n",
    "import numpy as np\n",
    "\n",
    "from gensim.models import Word2Vec\n",
    "from sklearn.model_selection import train_test_split\n",
    "from keras.preprocessing.text import Tokenizer\n",
    "from keras.utils import pad_sequences\n",
    "\n",
    "from tcn import TCN, tcn_full_summary\n",
    "from keras.layers import Input, Embedding, Dense, Dropout, SpatialDropout1D\n",
    "from keras.layers import concatenate, GlobalAveragePooling1D, GlobalMaxPooling1D\n",
    "from keras.models import Model\n",
    "from keras.optimizers import Adam\n",
    "\n",
    "import matplotlib.pyplot as plt\n",
    "import seaborn as sns\n",
    "from sklearn.metrics import confusion_matrix\n",
    "from sklearn.metrics import confusion_matrix, ConfusionMatrixDisplay\n",
    "from sklearn.metrics import classification_report\n",
    "from sklearn.metrics import precision_score, recall_score\n",
    "from sklearn.metrics import f1_score"
   ]
  },
  {
   "cell_type": "markdown",
   "id": "978ceb42",
   "metadata": {},
   "source": [
    "##### 1)Loading Dataset"
   ]
  },
  {
   "cell_type": "code",
   "execution_count": 2,
   "id": "272b56c0",
   "metadata": {},
   "outputs": [
    {
     "data": {
      "text/html": [
       "<div>\n",
       "<style scoped>\n",
       "    .dataframe tbody tr th:only-of-type {\n",
       "        vertical-align: middle;\n",
       "    }\n",
       "\n",
       "    .dataframe tbody tr th {\n",
       "        vertical-align: top;\n",
       "    }\n",
       "\n",
       "    .dataframe thead th {\n",
       "        text-align: right;\n",
       "    }\n",
       "</style>\n",
       "<table border=\"1\" class=\"dataframe\">\n",
       "  <thead>\n",
       "    <tr style=\"text-align: right;\">\n",
       "      <th></th>\n",
       "      <th>Unnamed: 0.1</th>\n",
       "      <th>Unnamed: 0</th>\n",
       "      <th>text</th>\n",
       "      <th>label</th>\n",
       "      <th>length</th>\n",
       "      <th>preprocessed_abstract</th>\n",
       "      <th>length_after_cleaning</th>\n",
       "      <th>tokenized_text</th>\n",
       "    </tr>\n",
       "  </thead>\n",
       "  <tbody>\n",
       "    <tr>\n",
       "      <th>0</th>\n",
       "      <td>0</td>\n",
       "      <td>0</td>\n",
       "      <td>@VirginAmerica What @dhepburn said.</td>\n",
       "      <td>2</td>\n",
       "      <td>35</td>\n",
       "      <td>what say</td>\n",
       "      <td>8</td>\n",
       "      <td>['what', 'say']</td>\n",
       "    </tr>\n",
       "    <tr>\n",
       "      <th>1</th>\n",
       "      <td>1</td>\n",
       "      <td>1</td>\n",
       "      <td>@VirginAmerica plus you've added commercials t...</td>\n",
       "      <td>1</td>\n",
       "      <td>72</td>\n",
       "      <td>plus add commercial experience tacky</td>\n",
       "      <td>36</td>\n",
       "      <td>['plus', 'add', 'commercial', 'experience', 't...</td>\n",
       "    </tr>\n",
       "    <tr>\n",
       "      <th>2</th>\n",
       "      <td>2</td>\n",
       "      <td>2</td>\n",
       "      <td>@VirginAmerica I didn't today... Must mean I n...</td>\n",
       "      <td>2</td>\n",
       "      <td>71</td>\n",
       "      <td>i today must mean i need take another trip</td>\n",
       "      <td>42</td>\n",
       "      <td>['i', 'today', 'must', 'mean', 'i', 'need', 't...</td>\n",
       "    </tr>\n",
       "    <tr>\n",
       "      <th>3</th>\n",
       "      <td>3</td>\n",
       "      <td>3</td>\n",
       "      <td>@VirginAmerica it's really aggressive to blast...</td>\n",
       "      <td>0</td>\n",
       "      <td>126</td>\n",
       "      <td>really aggressive blast obnoxious entertainmen...</td>\n",
       "      <td>78</td>\n",
       "      <td>['really', 'aggressive', 'blast', 'obnoxious',...</td>\n",
       "    </tr>\n",
       "    <tr>\n",
       "      <th>4</th>\n",
       "      <td>4</td>\n",
       "      <td>4</td>\n",
       "      <td>@VirginAmerica and it's a really big bad thing...</td>\n",
       "      <td>0</td>\n",
       "      <td>55</td>\n",
       "      <td>really big bad thing</td>\n",
       "      <td>20</td>\n",
       "      <td>['really', 'big', 'bad', 'thing']</td>\n",
       "    </tr>\n",
       "  </tbody>\n",
       "</table>\n",
       "</div>"
      ],
      "text/plain": [
       "   Unnamed: 0.1  Unnamed: 0  \\\n",
       "0             0           0   \n",
       "1             1           1   \n",
       "2             2           2   \n",
       "3             3           3   \n",
       "4             4           4   \n",
       "\n",
       "                                                text  label  length  \\\n",
       "0                @VirginAmerica What @dhepburn said.      2      35   \n",
       "1  @VirginAmerica plus you've added commercials t...      1      72   \n",
       "2  @VirginAmerica I didn't today... Must mean I n...      2      71   \n",
       "3  @VirginAmerica it's really aggressive to blast...      0     126   \n",
       "4  @VirginAmerica and it's a really big bad thing...      0      55   \n",
       "\n",
       "                               preprocessed_abstract  length_after_cleaning  \\\n",
       "0                                           what say                      8   \n",
       "1               plus add commercial experience tacky                     36   \n",
       "2         i today must mean i need take another trip                     42   \n",
       "3  really aggressive blast obnoxious entertainmen...                     78   \n",
       "4                               really big bad thing                     20   \n",
       "\n",
       "                                      tokenized_text  \n",
       "0                                    ['what', 'say']  \n",
       "1  ['plus', 'add', 'commercial', 'experience', 't...  \n",
       "2  ['i', 'today', 'must', 'mean', 'i', 'need', 't...  \n",
       "3  ['really', 'aggressive', 'blast', 'obnoxious',...  \n",
       "4                  ['really', 'big', 'bad', 'thing']  "
      ]
     },
     "execution_count": 2,
     "metadata": {},
     "output_type": "execute_result"
    }
   ],
   "source": [
    "df=pd.read_csv(\"df_SynonymReplacement.csv\")\n",
    "df.head()"
   ]
  },
  {
   "cell_type": "code",
   "execution_count": 3,
   "id": "17c756b8",
   "metadata": {},
   "outputs": [
    {
     "data": {
      "text/plain": [
       "Unnamed: 0.1              0\n",
       "Unnamed: 0                0\n",
       "text                      0\n",
       "label                     0\n",
       "length                    0\n",
       "preprocessed_abstract    49\n",
       "length_after_cleaning     0\n",
       "tokenized_text            0\n",
       "dtype: int64"
      ]
     },
     "execution_count": 3,
     "metadata": {},
     "output_type": "execute_result"
    }
   ],
   "source": [
    "df.isnull().sum()"
   ]
  },
  {
   "cell_type": "code",
   "execution_count": 4,
   "id": "34e6d18c",
   "metadata": {},
   "outputs": [],
   "source": [
    "df = df.dropna()"
   ]
  },
  {
   "cell_type": "markdown",
   "id": "46c4f1f4",
   "metadata": {},
   "source": [
    "##### 2)Preparing Data"
   ]
  },
  {
   "cell_type": "markdown",
   "id": "1130b37b",
   "metadata": {},
   "source": [
    "- Word2Vec model (pre-trained word embeddings) for embedding layer in the model"
   ]
  },
  {
   "cell_type": "code",
   "execution_count": 5,
   "id": "029601c1",
   "metadata": {},
   "outputs": [
    {
     "data": {
      "text/plain": [
       "array([[ 3.86642158e-01,  1.04571365e-01,  6.56935990e-01, ...,\n",
       "        -1.38916278e+00, -6.31467178e-02,  8.78255665e-01],\n",
       "       [-6.40527129e-01,  5.53926408e-01,  5.09942234e-01, ...,\n",
       "        -2.16738060e-01, -2.29627237e-01,  6.62651539e-01],\n",
       "       [-2.57283300e-01,  9.17562544e-01,  2.74502367e-01, ...,\n",
       "        -5.62478244e-01,  2.67214686e-01, -5.06540388e-02],\n",
       "       ...,\n",
       "       [-8.54875147e-03,  1.78505536e-02,  1.75932341e-03, ...,\n",
       "        -1.32413143e-02,  1.00442674e-03, -6.01570029e-03],\n",
       "       [-5.53311687e-03,  7.87773076e-03,  1.57676288e-03, ...,\n",
       "        -2.12594960e-02,  9.21920221e-03,  5.72005147e-03],\n",
       "       [ 8.11337493e-03, -5.72096091e-03,  7.44685577e-03, ...,\n",
       "        -8.62914976e-03, -4.18378226e-03, -3.64054111e-03]], dtype=float32)"
      ]
     },
     "execution_count": 5,
     "metadata": {},
     "output_type": "execute_result"
    }
   ],
   "source": [
    "sentences = [sentence.split() for sentence in df['preprocessed_abstract']]\n",
    "# Create and train the Word2Vec model\n",
    "model_2= Word2Vec(sentences, vector_size=100, window=5, min_count=1, workers=4)\n",
    "# Access the word vectors\n",
    "word_vectors = model_2.wv\n",
    "word_vectors.vectors"
   ]
  },
  {
   "cell_type": "code",
   "execution_count": 6,
   "id": "08dd43f6",
   "metadata": {},
   "outputs": [
    {
     "data": {
      "text/plain": [
       "(11631, 100)"
      ]
     },
     "execution_count": 6,
     "metadata": {},
     "output_type": "execute_result"
    }
   ],
   "source": [
    "word_vectors.vectors.shape"
   ]
  },
  {
   "cell_type": "markdown",
   "id": "4e03b6a9",
   "metadata": {},
   "source": [
    "#####  3) Split , into Training and Validation Sets (80:20)"
   ]
  },
  {
   "cell_type": "code",
   "execution_count": 7,
   "id": "d8741840",
   "metadata": {},
   "outputs": [
    {
     "name": "stdout",
     "output_type": "stream",
     "text": [
      "Train data: (21988,) (21988,)\n",
      "Test data: (5497,) (5497,)\n"
     ]
    }
   ],
   "source": [
    "X_train, X_test, y_train, y_test = train_test_split(df['preprocessed_abstract'], df['label'], test_size=0.2, stratify=df['label'], random_state=42)\n",
    "print(\"Train data:\",  X_train.shape, y_train.shape)\n",
    "print(\"Test data:\",  X_test.shape, y_test.shape)"
   ]
  },
  {
   "cell_type": "code",
   "execution_count": 8,
   "id": "9d5b7f7d",
   "metadata": {},
   "outputs": [
    {
     "data": {
      "image/png": "[encoded data removed]",
      "text/plain": [
       "<Figure size 1008x432 with 1 Axes>"
      ]
     },
     "metadata": {},
     "output_type": "display_data"
    }
   ],
   "source": [
    "plt.figure(figsize=(14,6))\n",
    "colors = ['#4285f4', '#ea4335', '#fbbc05', '#34a853']\n",
    "plt.rcParams.update({'font.size': 14})\n",
    "plt.pie([len(y_train), len(y_test)],\n",
    "        labels=['Train','Test'],\n",
    "        colors=colors, autopct='%.1f%%', explode=(0.05,0.05),\n",
    "        startangle=30);"
   ]
  },
  {
   "cell_type": "code",
   "execution_count": 9,
   "id": "7b70c66f",
   "metadata": {},
   "outputs": [
    {
     "name": "stdout",
     "output_type": "stream",
     "text": [
      "[[4325  230  774 ...    0    0    0]\n",
      " [1911  445  164 ...    0    0    0]\n",
      " [ 203 4326  107 ...    0    0    0]\n",
      " ...\n",
      " [   3   47   36 ...    0    0    0]\n",
      " [ 430  163   10 ...    0    0    0]\n",
      " [  79  198  201 ...    0    0    0]]\n"
     ]
    }
   ],
   "source": [
    "corp=X_train\n",
    "t = Tokenizer()\n",
    "t.fit_on_texts(corp)\n",
    "vocab_size = len(t.word_index) + 1\n",
    "# integer encode the documents\n",
    "encoded_docs = t.texts_to_sequences(corp)\n",
    "# print(encoded_docs)\n",
    "max_length=max(len(d) for d in encoded_docs)\n",
    "padded_docs_train = pad_sequences(encoded_docs, maxlen=max_length, padding='post')\n",
    "print(padded_docs_train)"
   ]
  },
  {
   "cell_type": "code",
   "execution_count": 10,
   "id": "16c1cbc2",
   "metadata": {},
   "outputs": [
    {
     "name": "stdout",
     "output_type": "stream",
     "text": [
      "[[   1  122   32 ...    0    0    0]\n",
      " [   6   16    7 ...    0    0    0]\n",
      " [1732  401  240 ...    0    0    0]\n",
      " ...\n",
      " [ 143   20    7 ...    0    0    0]\n",
      " [ 218  932  884 ...    0    0    0]\n",
      " [6213  114  126 ...    0    0    0]]\n"
     ]
    }
   ],
   "source": [
    "corp=X_test\n",
    "t = Tokenizer()\n",
    "t.fit_on_texts(corp)\n",
    "vocab_size = len(t.word_index) + 1\n",
    "# integer encode the documents\n",
    "encoded_docs = t.texts_to_sequences(corp)\n",
    "# print(encoded_docs)\n",
    "padded_docs_test = pad_sequences(encoded_docs, maxlen=max_length, padding='post')\n",
    "print(padded_docs_test)"
   ]
  },
  {
   "cell_type": "markdown",
   "id": "c2ffb115",
   "metadata": {},
   "source": [
    "##### 4)Model Architecture"
   ]
  },
  {
   "cell_type": "code",
   "execution_count": 11,
   "id": "1a556ad9",
   "metadata": {},
   "outputs": [],
   "source": [
    "def tcn_model(kernel_size = 1, activation='relu', input_dim = None, \n",
    "                   output_dim=100, max_length = None, emb_matrix = None):\n",
    "    \n",
    "    inp = Input( shape=(max_length,))\n",
    "    x = Embedding(input_dim=input_dim, \n",
    "                  output_dim=output_dim, \n",
    "                  input_length=max_length,\n",
    "                  # Assign the embedding weight with word2vec embedding marix\n",
    "                  weights = [emb_matrix],\n",
    "                  # Set the weight to be not trainable (static)\n",
    "                  trainable = False)(inp)\n",
    "    \n",
    "    x = SpatialDropout1D(0.1)(x)\n",
    "    \n",
    "    x = TCN(128,dilations = [1, 2, 4], return_sequences=True, activation = activation, name = 'tcn1')(x)\n",
    "    x = TCN(32,dilations = [1, 2, 4], return_sequences=True, activation = activation, name = 'tcn2')(x)\n",
    "    \n",
    "    avg_pool = GlobalAveragePooling1D()(x)\n",
    "    max_pool = GlobalMaxPooling1D()(x)\n",
    "    \n",
    "    conc = concatenate([avg_pool, max_pool])\n",
    "    conc = Dense(16, activation=\"relu\")(conc)\n",
    "    conc = Dropout(0.5)(conc)\n",
    "    outp = Dense(3, activation=\"softmax\")(conc)    \n",
    "\n",
    "    model = Model(inputs=inp, outputs=outp)\n",
    "    model.compile(loss='sparse_categorical_crossentropy', optimizer=Adam(), metrics=['accuracy'])\n",
    "    \n",
    "    return model"
   ]
  },
  {
   "cell_type": "code",
   "execution_count": 12,
   "id": "abfb9a9f",
   "metadata": {},
   "outputs": [
    {
     "name": "stdout",
     "output_type": "stream",
     "text": [
      "WARNING:tensorflow:From D:\\Users\\Suzan Hatem\\anaconda3\\lib\\site-packages\\keras\\src\\backend.py:1398: The name tf.executing_eagerly_outside_functions is deprecated. Please use tf.compat.v1.executing_eagerly_outside_functions instead.\n",
      "\n",
      "WARNING:tensorflow:From D:\\Users\\Suzan Hatem\\anaconda3\\lib\\site-packages\\keras\\src\\backend.py:6642: The name tf.nn.max_pool is deprecated. Please use tf.nn.max_pool2d instead.\n",
      "\n",
      "Model: \"model\"\n",
      "__________________________________________________________________________________________________\n",
      " Layer (type)                Output Shape                 Param #   Connected to                  \n",
      "==================================================================================================\n",
      " input_1 (InputLayer)        [(None, 26)]                 0         []                            \n",
      "                                                                                                  \n",
      " embedding (Embedding)       (None, 26, 100)              1163100   ['input_1[0][0]']             \n",
      "                                                                                                  \n",
      " conv1d (Conv1D)             (None, 24, 100)              30100     ['embedding[0][0]']           \n",
      "                                                                                                  \n",
      " max_pooling1d (MaxPooling1  (None, 12, 100)              0         ['conv1d[0][0]']              \n",
      " D)                                                                                               \n",
      "                                                                                                  \n",
      " flatten (Flatten)           (None, 1200)                 0         ['max_pooling1d[0][0]']       \n",
      "                                                                                                  \n",
      " input_2 (InputLayer)        [(None, 26)]                 0         []                            \n",
      "                                                                                                  \n",
      " dropout (Dropout)           (None, 1200)                 0         ['flatten[0][0]']             \n",
      "                                                                                                  \n",
      " embedding_1 (Embedding)     (None, 26, 100)              1163100   ['input_2[0][0]']             \n",
      "                                                                                                  \n",
      " dense (Dense)               (None, 10)                   12010     ['dropout[0][0]']             \n",
      "                                                                                                  \n",
      " bidirectional (Bidirection  (None, 128)                  63744     ['embedding_1[0][0]']         \n",
      " al)                                                                                              \n",
      "                                                                                                  \n",
      " dropout_1 (Dropout)         (None, 10)                   0         ['dense[0][0]']               \n",
      "                                                                                                  \n",
      " dropout_2 (Dropout)         (None, 128)                  0         ['bidirectional[0][0]']       \n",
      "                                                                                                  \n",
      " dense_1 (Dense)             (None, 3)                    33        ['dropout_1[0][0]']           \n",
      "                                                                                                  \n",
      " dense_2 (Dense)             (None, 3)                    387       ['dropout_2[0][0]']           \n",
      "                                                                                                  \n",
      " concatenate (Concatenate)   (None, 6)                    0         ['dense_1[0][0]',             \n",
      "                                                                     'dense_2[0][0]']             \n",
      "                                                                                                  \n",
      " dense_3 (Dense)             (None, 3)                    21        ['concatenate[0][0]']         \n",
      "                                                                                                  \n",
      "==================================================================================================\n",
      "Total params: 2432495 (9.28 MB)\n",
      "Trainable params: 106295 (415.21 KB)\n",
      "Non-trainable params: 2326200 (8.87 MB)\n",
      "__________________________________________________________________________________________________\n"
     ]
    }
   ],
   "source": [
    "model =tcn_model(input_dim=word_vectors.vectors.shape[0], output_dim=100, max_length=max_length, emb_matrix=word_vectors.vectors)\n",
    "model.summary()"
   ]
  },
  {
   "cell_type": "markdown",
   "id": "6ea9dbdd",
   "metadata": {},
   "source": [
    "##### 5) Training Model"
   ]
  },
  {
   "cell_type": "code",
   "execution_count": 13,
   "id": "1a3407cf",
   "metadata": {},
   "outputs": [
    {
     "name": "stdout",
     "output_type": "stream",
     "text": [
      "Epoch 1/100\n",
      "WARNING:tensorflow:From D:\\Users\\Suzan Hatem\\anaconda3\\lib\\site-packages\\keras\\src\\utils\\tf_utils.py:492: The name tf.ragged.RaggedTensorValue is deprecated. Please use tf.compat.v1.ragged.RaggedTensorValue instead.\n",
      "\n",
      "WARNING:tensorflow:From D:\\Users\\Suzan Hatem\\anaconda3\\lib\\site-packages\\keras\\src\\engine\\base_layer_utils.py:384: The name tf.executing_eagerly_outside_functions is deprecated. Please use tf.compat.v1.executing_eagerly_outside_functions instead.\n",
      "\n",
      "220/220 [==============================] - 16s 35ms/step - loss: 1.0317 - accuracy: 0.4735 - val_loss: 0.9841 - val_accuracy: 0.5592\n",
      "Epoch 2/100\n",
      "220/220 [==============================] - 5s 25ms/step - loss: 0.9407 - accuracy: 0.5721 - val_loss: 0.9340 - val_accuracy: 0.5616\n",
      "Epoch 3/100\n",
      "220/220 [==============================] - 5s 24ms/step - loss: 0.9041 - accuracy: 0.5944 - val_loss: 0.9301 - val_accuracy: 0.5625\n",
      "Epoch 4/100\n",
      "220/220 [==============================] - 5s 25ms/step - loss: 0.8782 - accuracy: 0.6100 - val_loss: 0.9236 - val_accuracy: 0.5792\n",
      "Epoch 5/100\n",
      "220/220 [==============================] - 5s 24ms/step - loss: 0.8592 - accuracy: 0.6206 - val_loss: 0.9328 - val_accuracy: 0.5741\n",
      "Epoch 6/100\n",
      "220/220 [==============================] - 5s 24ms/step - loss: 0.8437 - accuracy: 0.6286 - val_loss: 0.9493 - val_accuracy: 0.5596\n",
      "Epoch 7/100\n",
      "220/220 [==============================] - 5s 25ms/step - loss: 0.8259 - accuracy: 0.6404 - val_loss: 0.9561 - val_accuracy: 0.5501\n",
      "Epoch 8/100\n",
      "220/220 [==============================] - 5s 24ms/step - loss: 0.8158 - accuracy: 0.6491 - val_loss: 0.9620 - val_accuracy: 0.5516\n",
      "Epoch 9/100\n",
      "220/220 [==============================] - 5s 24ms/step - loss: 0.8010 - accuracy: 0.6536 - val_loss: 0.9713 - val_accuracy: 0.5472\n",
      "Epoch 10/100\n",
      "220/220 [==============================] - 5s 24ms/step - loss: 0.7888 - accuracy: 0.6619 - val_loss: 0.9740 - val_accuracy: 0.5570\n",
      "Epoch 11/100\n",
      "220/220 [==============================] - 5s 25ms/step - loss: 0.7769 - accuracy: 0.6694 - val_loss: 0.9922 - val_accuracy: 0.5483\n",
      "Epoch 12/100\n",
      "220/220 [==============================] - 5s 25ms/step - loss: 0.7635 - accuracy: 0.6791 - val_loss: 0.9986 - val_accuracy: 0.5443\n",
      "Epoch 13/100\n",
      "220/220 [==============================] - 5s 24ms/step - loss: 0.7482 - accuracy: 0.6881 - val_loss: 1.0184 - val_accuracy: 0.5256\n",
      "Epoch 14/100\n",
      "220/220 [==============================] - 5s 24ms/step - loss: 0.7378 - accuracy: 0.6922 - val_loss: 1.0387 - val_accuracy: 0.5379\n",
      "Epoch 15/100\n",
      "220/220 [==============================] - 5s 25ms/step - loss: 0.7216 - accuracy: 0.7024 - val_loss: 1.0367 - val_accuracy: 0.5327\n",
      "Epoch 16/100\n",
      "220/220 [==============================] - 6s 27ms/step - loss: 0.7039 - accuracy: 0.7143 - val_loss: 1.0568 - val_accuracy: 0.5383\n",
      "Epoch 17/100\n",
      "220/220 [==============================] - 6s 26ms/step - loss: 0.6918 - accuracy: 0.7187 - val_loss: 1.0687 - val_accuracy: 0.5250\n",
      "Epoch 18/100\n",
      "220/220 [==============================] - 5s 23ms/step - loss: 0.6710 - accuracy: 0.7300 - val_loss: 1.0802 - val_accuracy: 0.5205\n",
      "Epoch 19/100\n",
      "220/220 [==============================] - 6s 28ms/step - loss: 0.6595 - accuracy: 0.7371 - val_loss: 1.0795 - val_accuracy: 0.5154\n",
      "Epoch 20/100\n",
      "220/220 [==============================] - 6s 28ms/step - loss: 0.6436 - accuracy: 0.7452 - val_loss: 1.1078 - val_accuracy: 0.5307\n",
      "Epoch 21/100\n",
      "220/220 [==============================] - 6s 27ms/step - loss: 0.6283 - accuracy: 0.7560 - val_loss: 1.1119 - val_accuracy: 0.5161\n",
      "Epoch 22/100\n",
      "220/220 [==============================] - 6s 26ms/step - loss: 0.6173 - accuracy: 0.7579 - val_loss: 1.1171 - val_accuracy: 0.5348\n",
      "Epoch 23/100\n",
      "220/220 [==============================] - 6s 25ms/step - loss: 0.6057 - accuracy: 0.7671 - val_loss: 1.1834 - val_accuracy: 0.5221\n",
      "Epoch 24/100\n",
      "220/220 [==============================] - 6s 26ms/step - loss: 0.5937 - accuracy: 0.7714 - val_loss: 1.1495 - val_accuracy: 0.5292\n",
      "Epoch 25/100\n",
      "220/220 [==============================] - 5s 25ms/step - loss: 0.5806 - accuracy: 0.7777 - val_loss: 1.1566 - val_accuracy: 0.5254\n",
      "Epoch 26/100\n",
      "220/220 [==============================] - 6s 26ms/step - loss: 0.5656 - accuracy: 0.7849 - val_loss: 1.2056 - val_accuracy: 0.5176\n",
      "Epoch 27/100\n",
      "220/220 [==============================] - 6s 25ms/step - loss: 0.5554 - accuracy: 0.7905 - val_loss: 1.1761 - val_accuracy: 0.5192\n",
      "Epoch 28/100\n",
      "220/220 [==============================] - 7s 32ms/step - loss: 0.5437 - accuracy: 0.7965 - val_loss: 1.2117 - val_accuracy: 0.5101\n",
      "Epoch 29/100\n",
      "220/220 [==============================] - 7s 30ms/step - loss: 0.5331 - accuracy: 0.8009 - val_loss: 1.2247 - val_accuracy: 0.5288\n",
      "Epoch 30/100\n",
      "220/220 [==============================] - 6s 26ms/step - loss: 0.5288 - accuracy: 0.8032 - val_loss: 1.2323 - val_accuracy: 0.5145\n",
      "Epoch 31/100\n",
      "220/220 [==============================] - 8s 37ms/step - loss: 0.5085 - accuracy: 0.8120 - val_loss: 1.2409 - val_accuracy: 0.5230\n",
      "Epoch 32/100\n",
      "220/220 [==============================] - 8s 37ms/step - loss: 0.5088 - accuracy: 0.8133 - val_loss: 1.2508 - val_accuracy: 0.5292\n",
      "Epoch 33/100\n",
      "220/220 [==============================] - 8s 37ms/step - loss: 0.4976 - accuracy: 0.8135 - val_loss: 1.2860 - val_accuracy: 0.5212\n",
      "Epoch 34/100\n",
      "220/220 [==============================] - 8s 36ms/step - loss: 0.4792 - accuracy: 0.8260 - val_loss: 1.2683 - val_accuracy: 0.5130\n",
      "Epoch 35/100\n",
      "220/220 [==============================] - 8s 36ms/step - loss: 0.4769 - accuracy: 0.8263 - val_loss: 1.3008 - val_accuracy: 0.5223\n",
      "Epoch 36/100\n",
      "220/220 [==============================] - 8s 38ms/step - loss: 0.4686 - accuracy: 0.8285 - val_loss: 1.3318 - val_accuracy: 0.5199\n",
      "Epoch 37/100\n",
      "220/220 [==============================] - 8s 36ms/step - loss: 0.4660 - accuracy: 0.8319 - val_loss: 1.3125 - val_accuracy: 0.5154\n",
      "Epoch 38/100\n",
      "220/220 [==============================] - 8s 37ms/step - loss: 0.4551 - accuracy: 0.8347 - val_loss: 1.3224 - val_accuracy: 0.5199\n",
      "Epoch 39/100\n",
      "220/220 [==============================] - 8s 37ms/step - loss: 0.4426 - accuracy: 0.8423 - val_loss: 1.3381 - val_accuracy: 0.5154\n",
      "Epoch 40/100\n",
      "220/220 [==============================] - 8s 36ms/step - loss: 0.4381 - accuracy: 0.8449 - val_loss: 1.3867 - val_accuracy: 0.5174\n",
      "Epoch 41/100\n",
      "220/220 [==============================] - 8s 36ms/step - loss: 0.4360 - accuracy: 0.8438 - val_loss: 1.3715 - val_accuracy: 0.5214\n",
      "Epoch 42/100\n",
      "220/220 [==============================] - 8s 37ms/step - loss: 0.4185 - accuracy: 0.8529 - val_loss: 1.3759 - val_accuracy: 0.5256\n",
      "Epoch 43/100\n",
      "220/220 [==============================] - 8s 35ms/step - loss: 0.4216 - accuracy: 0.8521 - val_loss: 1.3571 - val_accuracy: 0.5103\n",
      "Epoch 44/100\n",
      "220/220 [==============================] - 8s 37ms/step - loss: 0.4124 - accuracy: 0.8547 - val_loss: 1.4125 - val_accuracy: 0.5154\n",
      "Epoch 45/100\n",
      "220/220 [==============================] - 9s 40ms/step - loss: 0.4079 - accuracy: 0.8579 - val_loss: 1.4172 - val_accuracy: 0.5068\n",
      "Epoch 46/100\n",
      "220/220 [==============================] - 8s 36ms/step - loss: 0.4003 - accuracy: 0.8607 - val_loss: 1.4162 - val_accuracy: 0.5146\n",
      "Epoch 47/100\n",
      "220/220 [==============================] - 8s 37ms/step - loss: 0.3971 - accuracy: 0.8613 - val_loss: 1.4161 - val_accuracy: 0.5159\n",
      "Epoch 48/100\n",
      "220/220 [==============================] - 8s 36ms/step - loss: 0.3915 - accuracy: 0.8650 - val_loss: 1.4262 - val_accuracy: 0.5055\n",
      "Epoch 49/100\n",
      "220/220 [==============================] - 8s 36ms/step - loss: 0.3877 - accuracy: 0.8653 - val_loss: 1.4403 - val_accuracy: 0.5203\n",
      "Epoch 50/100\n",
      "220/220 [==============================] - 8s 36ms/step - loss: 0.3812 - accuracy: 0.8664 - val_loss: 1.4201 - val_accuracy: 0.5197\n",
      "Epoch 51/100\n",
      "220/220 [==============================] - 8s 35ms/step - loss: 0.3795 - accuracy: 0.8674 - val_loss: 1.4655 - val_accuracy: 0.5181\n",
      "Epoch 52/100\n",
      "220/220 [==============================] - 8s 35ms/step - loss: 0.3795 - accuracy: 0.8682 - val_loss: 1.4344 - val_accuracy: 0.5197\n",
      "Epoch 53/100\n",
      "220/220 [==============================] - 8s 36ms/step - loss: 0.3689 - accuracy: 0.8728 - val_loss: 1.4584 - val_accuracy: 0.5034\n",
      "Epoch 54/100\n",
      "220/220 [==============================] - 8s 35ms/step - loss: 0.3613 - accuracy: 0.8741 - val_loss: 1.4853 - val_accuracy: 0.5221\n",
      "Epoch 55/100\n",
      "220/220 [==============================] - 8s 35ms/step - loss: 0.3643 - accuracy: 0.8747 - val_loss: 1.4983 - val_accuracy: 0.5192\n",
      "Epoch 56/100\n",
      "220/220 [==============================] - 8s 35ms/step - loss: 0.3518 - accuracy: 0.8798 - val_loss: 1.5083 - val_accuracy: 0.5201\n",
      "Epoch 57/100\n",
      "220/220 [==============================] - 8s 36ms/step - loss: 0.3566 - accuracy: 0.8768 - val_loss: 1.4733 - val_accuracy: 0.5141\n",
      "Epoch 58/100\n",
      "220/220 [==============================] - 8s 36ms/step - loss: 0.3493 - accuracy: 0.8792 - val_loss: 1.5404 - val_accuracy: 0.5297\n",
      "Epoch 59/100\n",
      "220/220 [==============================] - 10s 48ms/step - loss: 0.3404 - accuracy: 0.8841 - val_loss: 1.5450 - val_accuracy: 0.5188\n",
      "Epoch 60/100\n",
      "220/220 [==============================] - 8s 34ms/step - loss: 0.3399 - accuracy: 0.8845 - val_loss: 1.5164 - val_accuracy: 0.5208\n",
      "Epoch 61/100\n",
      "220/220 [==============================] - 8s 34ms/step - loss: 0.3336 - accuracy: 0.8850 - val_loss: 1.5535 - val_accuracy: 0.5226\n",
      "Epoch 62/100\n",
      "220/220 [==============================] - 8s 34ms/step - loss: 0.3350 - accuracy: 0.8839 - val_loss: 1.5229 - val_accuracy: 0.5165\n",
      "Epoch 63/100\n",
      "220/220 [==============================] - 10s 47ms/step - loss: 0.3322 - accuracy: 0.8872 - val_loss: 1.5217 - val_accuracy: 0.5188\n",
      "Epoch 64/100\n",
      "220/220 [==============================] - 11s 49ms/step - loss: 0.3282 - accuracy: 0.8881 - val_loss: 1.5762 - val_accuracy: 0.5148\n",
      "Epoch 65/100\n",
      "220/220 [==============================] - 10s 48ms/step - loss: 0.3254 - accuracy: 0.8891 - val_loss: 1.5758 - val_accuracy: 0.5161\n",
      "Epoch 66/100\n",
      "220/220 [==============================] - 10s 48ms/step - loss: 0.3237 - accuracy: 0.8905 - val_loss: 1.5533 - val_accuracy: 0.5146\n",
      "Epoch 67/100\n",
      "220/220 [==============================] - 11s 49ms/step - loss: 0.3118 - accuracy: 0.8947 - val_loss: 1.5872 - val_accuracy: 0.5134\n",
      "Epoch 68/100\n",
      "220/220 [==============================] - 11s 48ms/step - loss: 0.3133 - accuracy: 0.8943 - val_loss: 1.6304 - val_accuracy: 0.5257\n",
      "Epoch 69/100\n",
      "220/220 [==============================] - 11s 50ms/step - loss: 0.3253 - accuracy: 0.8881 - val_loss: 1.5846 - val_accuracy: 0.5179\n",
      "Epoch 70/100\n",
      "220/220 [==============================] - 11s 51ms/step - loss: 0.3113 - accuracy: 0.8935 - val_loss: 1.6172 - val_accuracy: 0.5212\n",
      "Epoch 71/100\n",
      "220/220 [==============================] - 11s 50ms/step - loss: 0.3121 - accuracy: 0.8956 - val_loss: 1.5626 - val_accuracy: 0.5097\n",
      "Epoch 72/100\n",
      "220/220 [==============================] - 11s 49ms/step - loss: 0.3005 - accuracy: 0.8978 - val_loss: 1.5994 - val_accuracy: 0.5099\n",
      "Epoch 73/100\n",
      "220/220 [==============================] - 11s 49ms/step - loss: 0.3046 - accuracy: 0.8966 - val_loss: 1.5973 - val_accuracy: 0.5157\n",
      "Epoch 74/100\n",
      "220/220 [==============================] - 11s 51ms/step - loss: 0.3028 - accuracy: 0.8968 - val_loss: 1.6170 - val_accuracy: 0.5123\n",
      "Epoch 75/100\n",
      "220/220 [==============================] - 11s 49ms/step - loss: 0.2966 - accuracy: 0.8989 - val_loss: 1.6407 - val_accuracy: 0.5186\n",
      "Epoch 76/100\n",
      "220/220 [==============================] - 11s 49ms/step - loss: 0.3084 - accuracy: 0.8942 - val_loss: 1.6278 - val_accuracy: 0.5163\n",
      "Epoch 77/100\n",
      "220/220 [==============================] - 11s 49ms/step - loss: 0.3005 - accuracy: 0.8968 - val_loss: 1.6442 - val_accuracy: 0.5156\n",
      "Epoch 78/100\n",
      "220/220 [==============================] - 11s 50ms/step - loss: 0.2900 - accuracy: 0.9023 - val_loss: 1.6196 - val_accuracy: 0.5212\n",
      "Epoch 79/100\n",
      "220/220 [==============================] - 11s 50ms/step - loss: 0.2909 - accuracy: 0.9021 - val_loss: 1.6174 - val_accuracy: 0.5170\n",
      "Epoch 80/100\n",
      "220/220 [==============================] - 11s 49ms/step - loss: 0.2802 - accuracy: 0.9059 - val_loss: 1.6610 - val_accuracy: 0.5125\n",
      "Epoch 81/100\n",
      "220/220 [==============================] - 11s 49ms/step - loss: 0.2822 - accuracy: 0.9056 - val_loss: 1.6712 - val_accuracy: 0.5152\n",
      "Epoch 82/100\n",
      "220/220 [==============================] - 11s 49ms/step - loss: 0.2893 - accuracy: 0.9016 - val_loss: 1.6632 - val_accuracy: 0.5075\n",
      "Epoch 83/100\n",
      "220/220 [==============================] - 11s 49ms/step - loss: 0.2800 - accuracy: 0.9055 - val_loss: 1.6603 - val_accuracy: 0.5181\n",
      "Epoch 84/100\n",
      "220/220 [==============================] - 11s 50ms/step - loss: 0.2816 - accuracy: 0.9052 - val_loss: 1.6735 - val_accuracy: 0.5143\n",
      "Epoch 85/100\n",
      "220/220 [==============================] - 12s 54ms/step - loss: 0.2796 - accuracy: 0.9047 - val_loss: 1.6945 - val_accuracy: 0.5128\n",
      "Epoch 86/100\n",
      "220/220 [==============================] - 11s 51ms/step - loss: 0.2770 - accuracy: 0.9065 - val_loss: 1.6838 - val_accuracy: 0.5108\n",
      "Epoch 87/100\n",
      "220/220 [==============================] - 11s 50ms/step - loss: 0.2794 - accuracy: 0.9058 - val_loss: 1.6787 - val_accuracy: 0.5208\n",
      "Epoch 88/100\n",
      "220/220 [==============================] - 11s 52ms/step - loss: 0.2732 - accuracy: 0.9079 - val_loss: 1.6886 - val_accuracy: 0.5192\n",
      "Epoch 89/100\n",
      "220/220 [==============================] - 12s 52ms/step - loss: 0.2650 - accuracy: 0.9115 - val_loss: 1.6638 - val_accuracy: 0.5121\n",
      "Epoch 90/100\n",
      "220/220 [==============================] - 11s 51ms/step - loss: 0.2747 - accuracy: 0.9074 - val_loss: 1.6725 - val_accuracy: 0.5117\n",
      "Epoch 91/100\n",
      "220/220 [==============================] - 11s 48ms/step - loss: 0.2683 - accuracy: 0.9101 - val_loss: 1.6799 - val_accuracy: 0.5186\n",
      "Epoch 92/100\n",
      "220/220 [==============================] - 10s 48ms/step - loss: 0.2696 - accuracy: 0.9085 - val_loss: 1.7087 - val_accuracy: 0.5134\n",
      "Epoch 93/100\n",
      "220/220 [==============================] - 10s 47ms/step - loss: 0.2628 - accuracy: 0.9120 - val_loss: 1.6919 - val_accuracy: 0.5105\n",
      "Epoch 94/100\n",
      "220/220 [==============================] - 10s 46ms/step - loss: 0.2697 - accuracy: 0.9078 - val_loss: 1.7387 - val_accuracy: 0.5126\n",
      "Epoch 95/100\n",
      "220/220 [==============================] - 10s 46ms/step - loss: 0.2579 - accuracy: 0.9128 - val_loss: 1.7468 - val_accuracy: 0.5197\n",
      "Epoch 96/100\n",
      "220/220 [==============================] - 10s 46ms/step - loss: 0.2499 - accuracy: 0.9175 - val_loss: 1.7225 - val_accuracy: 0.5096\n",
      "Epoch 97/100\n",
      "220/220 [==============================] - 10s 46ms/step - loss: 0.2601 - accuracy: 0.9119 - val_loss: 1.7443 - val_accuracy: 0.5179\n",
      "Epoch 98/100\n",
      "220/220 [==============================] - 10s 47ms/step - loss: 0.2558 - accuracy: 0.9140 - val_loss: 1.7415 - val_accuracy: 0.5128\n",
      "Epoch 99/100\n",
      "220/220 [==============================] - 10s 46ms/step - loss: 0.2579 - accuracy: 0.9116 - val_loss: 1.7232 - val_accuracy: 0.5161\n",
      "Epoch 100/100\n",
      "220/220 [==============================] - 10s 46ms/step - loss: 0.2562 - accuracy: 0.9138 - val_loss: 1.7011 - val_accuracy: 0.5112\n"
     ]
    },
    {
     "data": {
      "text/plain": [
       "<keras.src.callbacks.History at 0x2672d4dda60>"
      ]
     },
     "execution_count": 13,
     "metadata": {},
     "output_type": "execute_result"
    }
   ],
   "source": [
    "history=model.fit(padded_docs_train, y_train, epochs=100, batch_size=100, validation_data=(padded_docs_test, y_test))\n",
    "history"
   ]
  },
  {
   "cell_type": "markdown",
   "id": "5d00c466",
   "metadata": {},
   "source": [
    "##### 6) Finding Training and Testing Accuracy"
   ]
  },
  {
   "cell_type": "code",
   "execution_count": 14,
   "id": "6d517703",
   "metadata": {},
   "outputs": [
    {
     "data": {
      "image/png": "[encoded data removed]",
      "text/plain": [
       "<Figure size 432x288 with 1 Axes>"
      ]
     },
     "metadata": {
      "needs_background": "light"
     },
     "output_type": "display_data"
    }
   ],
   "source": [
    "# Plot the training and testing accuracy\n",
    "plt.plot(history.history['accuracy'])\n",
    "plt.plot(history.history['val_accuracy'])\n",
    "plt.title('Model Accuracy')\n",
    "plt.ylabel('Accuracy')\n",
    "plt.xlabel('Epoch')\n",
    "plt.ylim([0, 1])\n",
    "plt.legend(['Train', 'Test'], loc='upper left')\n",
    "plt.show()"
   ]
  },
  {
   "cell_type": "code",
   "execution_count": 15,
   "id": "516fe5b8",
   "metadata": {},
   "outputs": [
    {
     "name": "stdout",
     "output_type": "stream",
     "text": [
      "172/172 [==============================] - 3s 14ms/step - loss: 1.7011 - accuracy: 0.5112\n"
     ]
    },
    {
     "data": {
      "text/plain": [
       "(1.7011228799819946, 0.5111879110336304)"
      ]
     },
     "execution_count": 15,
     "metadata": {},
     "output_type": "execute_result"
    }
   ],
   "source": [
    "test_loss,test_acc=model.evaluate(padded_docs_test,y_test)\n",
    "test_loss,test_acc"
   ]
  },
  {
   "cell_type": "markdown",
   "id": "80a47670",
   "metadata": {},
   "source": [
    "##### 7) Compute and plot the confusion matrix for the three classes"
   ]
  },
  {
   "cell_type": "code",
   "execution_count": 16,
   "id": "7eb7ef1b",
   "metadata": {},
   "outputs": [
    {
     "name": "stdout",
     "output_type": "stream",
     "text": [
      "172/172 [==============================] - 31s 14ms/step\n",
      "              precision    recall  f1-score   support\n",
      "\n",
      "    negative       0.51      0.54      0.53      1835\n",
      "     neutral       0.48      0.50      0.49      1827\n",
      "    positive       0.55      0.50      0.52      1835\n",
      "\n",
      "    accuracy                           0.51      5497\n",
      "   macro avg       0.51      0.51      0.51      5497\n",
      "weighted avg       0.51      0.51      0.51      5497\n",
      "\n"
     ]
    }
   ],
   "source": [
    "predictions=model.predict(padded_docs_test)\n",
    "class_labels = ['negative', 'positive','neutral']\n",
    "predicted_class_labels = [class_labels[np.argmax(pred)] for pred in predictions]\n",
    "actual_class_labels=[class_labels[actual] for actual in y_test]\n",
    "print(classification_report(actual_class_labels, predicted_class_labels))"
   ]
  },
  {
   "cell_type": "code",
   "execution_count": 17,
   "id": "9208658a",
   "metadata": {},
   "outputs": [
    {
     "data": {
      "image/png": "[encoded data removed]",
      "text/plain": [
       "<Figure size 576x432 with 2 Axes>"
      ]
     },
     "metadata": {
      "needs_background": "light"
     },
     "output_type": "display_data"
    }
   ],
   "source": [
    "conf_matrix = confusion_matrix(actual_class_labels, predicted_class_labels, labels=class_labels)\n",
    "plt.figure(figsize=(8, 6))\n",
    "sns.heatmap(conf_matrix, annot=True, fmt=\"d\", cmap=\"Purples\", xticklabels=class_labels, yticklabels=class_labels)\n",
    "plt.title('Confusion Matrix')\n",
    "plt.xlabel('Predicted Labels')\n",
    "plt.ylabel('True Labels')\n",
    "plt.show()"
   ]
  },
  {
   "cell_type": "markdown",
   "id": "dd974772",
   "metadata": {},
   "source": [
    "##### 8) Saving the final results in Excel sheet"
   ]
  },
  {
   "cell_type": "code",
   "execution_count": 18,
   "id": "a0081b41",
   "metadata": {},
   "outputs": [
    {
     "name": "stdout",
     "output_type": "stream",
     "text": [
      "Precision per class: [0.51216986 0.4751439  0.55166163]\n",
      "Recall per class: [0.53896458 0.4969896  0.49754768]\n"
     ]
    }
   ],
   "source": [
    "precision_per_class = precision_score(actual_class_labels, predicted_class_labels, average=None)\n",
    "recall_per_class = recall_score(actual_class_labels, predicted_class_labels, average=None)\n",
    "\n",
    "print(\"Precision per class:\", precision_per_class)\n",
    "print(\"Recall per class:\", recall_per_class)"
   ]
  },
  {
   "cell_type": "code",
   "execution_count": 19,
   "id": "7df0d2f2",
   "metadata": {},
   "outputs": [
    {
     "name": "stdout",
     "output_type": "stream",
     "text": [
      "Micro F1 Score: 0.5111879206840094\n",
      "Macro F1 Score: 0.5114187225096218\n"
     ]
    }
   ],
   "source": [
    "f1_micro = f1_score(actual_class_labels, predicted_class_labels, average='micro')\n",
    "f1_macro = f1_score(actual_class_labels, predicted_class_labels, average='macro')\n",
    "\n",
    "print(\"Micro F1 Score:\", f1_micro)\n",
    "print(\"Macro F1 Score:\", f1_macro)"
   ]
  },
  {
   "cell_type": "code",
   "execution_count": 20,
   "id": "713cef8d",
   "metadata": {},
   "outputs": [
    {
     "data": {
      "text/html": [
       "<div>\n",
       "<style scoped>\n",
       "    .dataframe tbody tr th:only-of-type {\n",
       "        vertical-align: middle;\n",
       "    }\n",
       "\n",
       "    .dataframe tbody tr th {\n",
       "        vertical-align: top;\n",
       "    }\n",
       "\n",
       "    .dataframe thead th {\n",
       "        text-align: right;\n",
       "    }\n",
       "</style>\n",
       "<table border=\"1\" class=\"dataframe\">\n",
       "  <thead>\n",
       "    <tr style=\"text-align: right;\">\n",
       "      <th></th>\n",
       "      <th>SynonymReplacement_Dataset</th>\n",
       "    </tr>\n",
       "  </thead>\n",
       "  <tbody>\n",
       "    <tr>\n",
       "      <th>Training Accuracy</th>\n",
       "      <td>0.917500</td>\n",
       "    </tr>\n",
       "    <tr>\n",
       "      <th>Testing Accuracy</th>\n",
       "      <td>0.511188</td>\n",
       "    </tr>\n",
       "    <tr>\n",
       "      <th>Micro F1 Score</th>\n",
       "      <td>0.511188</td>\n",
       "    </tr>\n",
       "    <tr>\n",
       "      <th>Macro F1 Score</th>\n",
       "      <td>0.511419</td>\n",
       "    </tr>\n",
       "    <tr>\n",
       "      <th>Precision for Negative sentiment</th>\n",
       "      <td>0.512170</td>\n",
       "    </tr>\n",
       "    <tr>\n",
       "      <th>Precision for Positive sentiment</th>\n",
       "      <td>0.475144</td>\n",
       "    </tr>\n",
       "    <tr>\n",
       "      <th>Precision for Neutral sentiment</th>\n",
       "      <td>0.551662</td>\n",
       "    </tr>\n",
       "    <tr>\n",
       "      <th>Recall for Negative sentiment</th>\n",
       "      <td>0.538965</td>\n",
       "    </tr>\n",
       "    <tr>\n",
       "      <th>Recall for Positive sentiment</th>\n",
       "      <td>0.496990</td>\n",
       "    </tr>\n",
       "    <tr>\n",
       "      <th>Recall for Neutral sentiment</th>\n",
       "      <td>0.497548</td>\n",
       "    </tr>\n",
       "  </tbody>\n",
       "</table>\n",
       "</div>"
      ],
      "text/plain": [
       "                                  SynonymReplacement_Dataset\n",
       "Training Accuracy                                   0.917500\n",
       "Testing Accuracy                                    0.511188\n",
       "Micro F1 Score                                      0.511188\n",
       "Macro F1 Score                                      0.511419\n",
       "Precision for Negative sentiment                    0.512170\n",
       "Precision for Positive sentiment                    0.475144\n",
       "Precision for Neutral sentiment                     0.551662\n",
       "Recall for Negative sentiment                       0.538965\n",
       "Recall for Positive sentiment                       0.496990\n",
       "Recall for Neutral sentiment                        0.497548"
      ]
     },
     "execution_count": 20,
     "metadata": {},
     "output_type": "execute_result"
    }
   ],
   "source": [
    "data={'SynonymReplacement_Dataset':[max(history.history['accuracy']),test_acc,f1_micro,f1_macro,precision_per_class[0],precision_per_class[1],precision_per_class[2],recall_per_class[0],recall_per_class[1],recall_per_class[2]]}\n",
    "result=pd.DataFrame(data,index=['Training Accuracy','Testing Accuracy','Micro F1 Score','Macro F1 Score','Precision for Negative sentiment','Precision for Positive sentiment','Precision for Neutral sentiment','Recall for Negative sentiment','Recall for Positive sentiment','Recall for Neutral sentiment'])\n",
    "result"
   ]
  },
  {
   "cell_type": "code",
   "execution_count": 21,
   "id": "20abf6f0",
   "metadata": {},
   "outputs": [],
   "source": [
    "result.to_csv('Ensemble_CNN-GRU_ModelResults.csv', index=True)"
   ]
  }
 ],
 "metadata": {
  "kernelspec": {
   "display_name": "Python 3 (ipykernel)",
   "language": "python",
   "name": "python3"
  },
  "language_info": {
   "codemirror_mode": {
    "name": "ipython",
    "version": 3
   },
   "file_extension": ".py",
   "mimetype": "text/x-python",
   "name": "python",
   "nbconvert_exporter": "python",
   "pygments_lexer": "ipython3",
   "version": "3.9.7"
  }
 },
 "nbformat": 4,
 "nbformat_minor": 5
}
