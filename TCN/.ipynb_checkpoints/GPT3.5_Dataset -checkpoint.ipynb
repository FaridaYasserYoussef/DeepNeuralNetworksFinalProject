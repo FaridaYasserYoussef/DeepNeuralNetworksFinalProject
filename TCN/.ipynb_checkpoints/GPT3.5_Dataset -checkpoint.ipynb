{
 "cells": [
  {
   "cell_type": "markdown",
   "id": "c6575869",
   "metadata": {},
   "source": [
    "# TCN Model"
   ]
  },
  {
   "cell_type": "code",
   "execution_count": 1,
   "id": "934847a5",
   "metadata": {},
   "outputs": [
    {
     "name": "stdout",
     "output_type": "stream",
     "text": [
      "WARNING:tensorflow:From D:\\Users\\Suzan Hatem\\anaconda3\\lib\\site-packages\\keras\\src\\losses.py:2976: The name tf.losses.sparse_softmax_cross_entropy is deprecated. Please use tf.compat.v1.losses.sparse_softmax_cross_entropy instead.\n",
      "\n"
     ]
    }
   ],
   "source": [
    "#Imports\n",
    "import pandas as pd\n",
    "import numpy as np\n",
    "\n",
    "from gensim.models import Word2Vec\n",
    "from sklearn.model_selection import train_test_split\n",
    "from keras.preprocessing.text import Tokenizer\n",
    "from keras.utils import pad_sequences\n",
    "\n",
    "from tcn import TCN, tcn_full_summary\n",
    "from keras.layers import Input, Embedding, Dense, Dropout, SpatialDropout1D\n",
    "from keras.layers import concatenate, GlobalAveragePooling1D, GlobalMaxPooling1D\n",
    "from keras.models import Model\n",
    "from keras.optimizers import Adam\n",
    "\n",
    "import matplotlib.pyplot as plt\n",
    "import seaborn as sns\n",
    "from sklearn.metrics import confusion_matrix\n",
    "from sklearn.metrics import confusion_matrix, ConfusionMatrixDisplay\n",
    "from sklearn.metrics import classification_report\n",
    "from sklearn.metrics import precision_score, recall_score\n",
    "from sklearn.metrics import f1_score"
   ]
  },
  {
   "cell_type": "markdown",
   "id": "978ceb42",
   "metadata": {},
   "source": [
    "##### 1)Loading Dataset"
   ]
  },
  {
   "cell_type": "code",
   "execution_count": 2,
   "id": "272b56c0",
   "metadata": {},
   "outputs": [],
   "source": [
    "df_train=pd.read_csv(\"training_GPT.csv\")\n",
    "df_test=pd.read_csv(\"testing_GPT.csv\")"
   ]
  },
  {
   "cell_type": "code",
   "execution_count": 3,
   "id": "17c756b8",
   "metadata": {},
   "outputs": [
    {
     "data": {
      "text/plain": [
       "Unnamed: 0.2              0\n",
       "Unnamed: 0.1              0\n",
       "Unnamed: 0                0\n",
       "text                      0\n",
       "label                     0\n",
       "length                    0\n",
       "preprocessed_abstract    11\n",
       "length_after_cleaning     0\n",
       "tokenized_text            0\n",
       "dtype: int64"
      ]
     },
     "execution_count": 3,
     "metadata": {},
     "output_type": "execute_result"
    }
   ],
   "source": [
    "df_train.isnull().sum()"
   ]
  },
  {
   "cell_type": "code",
   "execution_count": 4,
   "id": "e9986802",
   "metadata": {},
   "outputs": [
    {
     "data": {
      "text/plain": [
       "Unnamed: 0.2             0\n",
       "Unnamed: 0.1             0\n",
       "Unnamed: 0               0\n",
       "text                     0\n",
       "label                    0\n",
       "length                   0\n",
       "preprocessed_abstract    6\n",
       "length_after_cleaning    0\n",
       "tokenized_text           0\n",
       "dtype: int64"
      ]
     },
     "execution_count": 4,
     "metadata": {},
     "output_type": "execute_result"
    }
   ],
   "source": [
    "df_test.isnull().sum()"
   ]
  },
  {
   "cell_type": "code",
   "execution_count": 5,
   "id": "34e6d18c",
   "metadata": {},
   "outputs": [],
   "source": [
    "df_train=df_train.dropna()\n",
    "df_test=df_test.dropna()"
   ]
  },
  {
   "cell_type": "markdown",
   "id": "46c4f1f4",
   "metadata": {},
   "source": [
    "##### 2)Preparing Data"
   ]
  },
  {
   "cell_type": "markdown",
   "id": "1130b37b",
   "metadata": {},
   "source": [
    "- Word2Vec model (pre-trained word embeddings) for embedding layer in the model"
   ]
  },
  {
   "cell_type": "code",
   "execution_count": 6,
   "id": "1587f9a1",
   "metadata": {},
   "outputs": [],
   "source": [
    "preprocessed_abstract=pd.concat([df_train['preprocessed_abstract'],df_test['preprocessed_abstract']], axis=0, ignore_index=True)"
   ]
  },
  {
   "cell_type": "code",
   "execution_count": 7,
   "id": "029601c1",
   "metadata": {},
   "outputs": [
    {
     "data": {
      "text/plain": [
       "array([[-3.2813287e-01, -1.3321002e-01,  5.1794361e-02, ...,\n",
       "        -1.0779568e+00, -3.0389723e-01,  6.3872916e-01],\n",
       "       [-7.6179755e-01,  3.6605928e-02,  1.3517871e+00, ...,\n",
       "        -7.4820316e-01, -2.6155117e-01, -1.0062957e+00],\n",
       "       [ 2.2397276e-02,  3.9203331e-01, -3.6385689e-02, ...,\n",
       "        -1.1848098e-01,  4.9251431e-01, -1.0588682e+00],\n",
       "       ...,\n",
       "       [-1.9806260e-02,  2.8302872e-03, -4.2421990e-03, ...,\n",
       "        -1.0526844e-02, -2.9338733e-03, -1.0431047e-02],\n",
       "       [-1.3887937e-02,  1.0915992e-03, -4.0683597e-03, ...,\n",
       "         4.8204805e-03, -6.2062996e-03,  1.2155857e-02],\n",
       "       [-1.2370254e-03,  8.9350035e-03,  1.0679620e-02, ...,\n",
       "        -9.2865750e-03,  1.2445954e-03, -1.8278655e-02]], dtype=float32)"
      ]
     },
     "execution_count": 7,
     "metadata": {},
     "output_type": "execute_result"
    }
   ],
   "source": [
    "sentences = [sentence.split() for sentence in preprocessed_abstract]\n",
    "# Create and train the Word2Vec model\n",
    "model_2= Word2Vec(sentences, vector_size=100, window=5, min_count=1, workers=4)\n",
    "# Access the word vectors\n",
    "word_vectors = model_2.wv\n",
    "word_vectors.vectors"
   ]
  },
  {
   "cell_type": "code",
   "execution_count": 8,
   "id": "08dd43f6",
   "metadata": {},
   "outputs": [
    {
     "data": {
      "text/plain": [
       "(14336, 100)"
      ]
     },
     "execution_count": 8,
     "metadata": {},
     "output_type": "execute_result"
    }
   ],
   "source": [
    "word_vectors.vectors.shape"
   ]
  },
  {
   "cell_type": "markdown",
   "id": "4e03b6a9",
   "metadata": {},
   "source": [
    "#####  3) Split , into Training and Validation Sets (80:20)"
   ]
  },
  {
   "cell_type": "code",
   "execution_count": 9,
   "id": "5be7ca78",
   "metadata": {},
   "outputs": [],
   "source": [
    "X_train=df_train['preprocessed_abstract']\n",
    "X_test=df_test['preprocessed_abstract']\n",
    "y_train=df_train['label']\n",
    "y_test=df_test['label']"
   ]
  },
  {
   "cell_type": "code",
   "execution_count": 10,
   "id": "d8741840",
   "metadata": {},
   "outputs": [
    {
     "name": "stdout",
     "output_type": "stream",
     "text": [
      "Train data: (21978,) (21978,)\n",
      "Test data: (5501,) (5501,)\n"
     ]
    }
   ],
   "source": [
    "print(\"Train data:\",  X_train.shape, y_train.shape)\n",
    "print(\"Test data:\",  X_test.shape, y_test.shape)"
   ]
  },
  {
   "cell_type": "code",
   "execution_count": 11,
   "id": "9d5b7f7d",
   "metadata": {},
   "outputs": [
    {
     "data": {
      "image/png": "[encoded data removed]",
      "text/plain": [
       "<Figure size 1008x432 with 1 Axes>"
      ]
     },
     "metadata": {},
     "output_type": "display_data"
    }
   ],
   "source": [
    "plt.figure(figsize=(14,6))\n",
    "colors = ['#4285f4', '#ea4335', '#fbbc05', '#34a853']\n",
    "plt.rcParams.update({'font.size': 14})\n",
    "plt.pie([len(y_train), len(y_test)],\n",
    "        labels=['Train','Test'],\n",
    "        colors=colors, autopct='%.1f%%', explode=(0.05,0.05),\n",
    "        startangle=30);"
   ]
  },
  {
   "cell_type": "code",
   "execution_count": 12,
   "id": "7b70c66f",
   "metadata": {},
   "outputs": [
    {
     "name": "stdout",
     "output_type": "stream",
     "text": [
      "[[ 329  358 2650 ...    0    0    0]\n",
      " [   8 6457  289 ...    0    0    0]\n",
      " [ 489  146 1762 ...    0    0    0]\n",
      " ...\n",
      " [ 176  278 2514 ...    0    0    0]\n",
      " [  28  157   22 ...    0    0    0]\n",
      " [1135   21    4 ...    0    0    0]]\n"
     ]
    }
   ],
   "source": [
    "corp=X_train\n",
    "t = Tokenizer()\n",
    "t.fit_on_texts(corp)\n",
    "vocab_size = len(t.word_index) + 1\n",
    "# integer encode the documents\n",
    "encoded_docs = t.texts_to_sequences(corp)\n",
    "# print(encoded_docs)\n",
    "max_length=max(len(d) for d in encoded_docs)\n",
    "padded_docs_train = pad_sequences(encoded_docs, maxlen=max_length, padding='post')\n",
    "print(padded_docs_train)"
   ]
  },
  {
   "cell_type": "code",
   "execution_count": 13,
   "id": "16c1cbc2",
   "metadata": {},
   "outputs": [
    {
     "name": "stdout",
     "output_type": "stream",
     "text": [
      "[[  57   51    0 ...    0    0    0]\n",
      " [ 275  187 1222 ...    0    0    0]\n",
      " [   1   54  586 ...    0    0    0]\n",
      " ...\n",
      " [5669   48    1 ...    0    0    0]\n",
      " [1646  355 2049 ...    0    0    0]\n",
      " [2835   87   42 ...    0    0    0]]\n"
     ]
    }
   ],
   "source": [
    "corp=X_test\n",
    "t = Tokenizer()\n",
    "t.fit_on_texts(corp)\n",
    "vocab_size = len(t.word_index) + 1\n",
    "# integer encode the documents\n",
    "encoded_docs = t.texts_to_sequences(corp)\n",
    "# print(encoded_docs)\n",
    "padded_docs_test = pad_sequences(encoded_docs, maxlen=max_length, padding='post')\n",
    "print(padded_docs_test)"
   ]
  },
  {
   "cell_type": "markdown",
   "id": "c2ffb115",
   "metadata": {},
   "source": [
    "##### 4)Model Architecture"
   ]
  },
  {
   "cell_type": "code",
   "execution_count": 14,
   "id": "1a556ad9",
   "metadata": {},
   "outputs": [],
   "source": [
    "def tcn_model(kernel_size = 1, activation='relu', input_dim = None, \n",
    "                   output_dim=100, max_length = None, emb_matrix = None):\n",
    "    \n",
    "    inp = Input( shape=(max_length,))\n",
    "    x = Embedding(input_dim=input_dim, \n",
    "                  output_dim=output_dim, \n",
    "                  input_length=max_length,\n",
    "                  # Assign the embedding weight with word2vec embedding marix\n",
    "                  weights = [emb_matrix],\n",
    "                  # Set the weight to be not trainable (static)\n",
    "                  trainable = False)(inp)\n",
    "    \n",
    "    x = SpatialDropout1D(0.1)(x)\n",
    "    \n",
    "    x = TCN(128,dilations = [1, 2, 4], return_sequences=True, activation = activation, name = 'tcn1')(x)\n",
    "    x = TCN(32,dilations = [1, 2, 4], return_sequences=True, activation = activation, name = 'tcn2')(x)\n",
    "    \n",
    "    avg_pool = GlobalAveragePooling1D()(x)\n",
    "    max_pool = GlobalMaxPooling1D()(x)\n",
    "    \n",
    "    conc = concatenate([avg_pool, max_pool])\n",
    "    conc = Dense(16, activation=\"relu\")(conc)\n",
    "    conc = Dropout(0.5)(conc)\n",
    "    outp = Dense(3, activation=\"softmax\")(conc)    \n",
    "\n",
    "    model = Model(inputs=inp, outputs=outp)\n",
    "    model.compile(loss='sparse_categorical_crossentropy', optimizer=Adam(), metrics=['accuracy'])\n",
    "    \n",
    "    return model"
   ]
  },
  {
   "cell_type": "code",
   "execution_count": 15,
   "id": "abfb9a9f",
   "metadata": {},
   "outputs": [
    {
     "name": "stdout",
     "output_type": "stream",
     "text": [
      "WARNING:tensorflow:From D:\\Users\\Suzan Hatem\\anaconda3\\lib\\site-packages\\keras\\src\\backend.py:1398: The name tf.executing_eagerly_outside_functions is deprecated. Please use tf.compat.v1.executing_eagerly_outside_functions instead.\n",
      "\n",
      "Model: \"model\"\n",
      "__________________________________________________________________________________________________\n",
      " Layer (type)                Output Shape                 Param #   Connected to                  \n",
      "==================================================================================================\n",
      " input_1 (InputLayer)        [(None, 26)]                 0         []                            \n",
      "                                                                                                  \n",
      " embedding (Embedding)       (None, 26, 100)              1433600   ['input_1[0][0]']             \n",
      "                                                                                                  \n",
      " spatial_dropout1d (Spatial  (None, 26, 100)              0         ['embedding[0][0]']           \n",
      " Dropout1D)                                                                                       \n",
      "                                                                                                  \n",
      " tcn1 (TCN)                  (None, 26, 128)              297856    ['spatial_dropout1d[0][0]']   \n",
      "                                                                                                  \n",
      " tcn2 (TCN)                  (None, 26, 32)               31968     ['tcn1[0][0]']                \n",
      "                                                                                                  \n",
      " global_average_pooling1d (  (None, 32)                   0         ['tcn2[0][0]']                \n",
      " GlobalAveragePooling1D)                                                                          \n",
      "                                                                                                  \n",
      " global_max_pooling1d (Glob  (None, 32)                   0         ['tcn2[0][0]']                \n",
      " alMaxPooling1D)                                                                                  \n",
      "                                                                                                  \n",
      " concatenate (Concatenate)   (None, 64)                   0         ['global_average_pooling1d[0][\n",
      "                                                                    0]',                          \n",
      "                                                                     'global_max_pooling1d[0][0]']\n",
      "                                                                                                  \n",
      " dense (Dense)               (None, 16)                   1040      ['concatenate[0][0]']         \n",
      "                                                                                                  \n",
      " dropout (Dropout)           (None, 16)                   0         ['dense[0][0]']               \n",
      "                                                                                                  \n",
      " dense_1 (Dense)             (None, 3)                    51        ['dropout[0][0]']             \n",
      "                                                                                                  \n",
      "==================================================================================================\n",
      "Total params: 1764515 (6.73 MB)\n",
      "Trainable params: 330915 (1.26 MB)\n",
      "Non-trainable params: 1433600 (5.47 MB)\n",
      "__________________________________________________________________________________________________\n"
     ]
    }
   ],
   "source": [
    "model =tcn_model(input_dim=word_vectors.vectors.shape[0], output_dim=100, max_length=max_length, emb_matrix=word_vectors.vectors)\n",
    "model.summary()"
   ]
  },
  {
   "cell_type": "markdown",
   "id": "6ea9dbdd",
   "metadata": {},
   "source": [
    "##### 5) Training Model"
   ]
  },
  {
   "cell_type": "code",
   "execution_count": 16,
   "id": "1a3407cf",
   "metadata": {},
   "outputs": [
    {
     "name": "stdout",
     "output_type": "stream",
     "text": [
      "Epoch 1/100\n",
      "WARNING:tensorflow:From D:\\Users\\Suzan Hatem\\anaconda3\\lib\\site-packages\\keras\\src\\utils\\tf_utils.py:492: The name tf.ragged.RaggedTensorValue is deprecated. Please use tf.compat.v1.ragged.RaggedTensorValue instead.\n",
      "\n",
      "WARNING:tensorflow:From D:\\Users\\Suzan Hatem\\anaconda3\\lib\\site-packages\\keras\\src\\engine\\base_layer_utils.py:384: The name tf.executing_eagerly_outside_functions is deprecated. Please use tf.compat.v1.executing_eagerly_outside_functions instead.\n",
      "\n",
      "220/220 [==============================] - 149s 259ms/step - loss: 1.1167 - accuracy: 0.4510 - val_loss: 1.2212 - val_accuracy: 0.2027\n",
      "Epoch 2/100\n",
      "220/220 [==============================] - 44s 201ms/step - loss: 0.9545 - accuracy: 0.4999 - val_loss: 1.2443 - val_accuracy: 0.2087\n",
      "Epoch 3/100\n",
      "220/220 [==============================] - 44s 198ms/step - loss: 0.8866 - accuracy: 0.5495 - val_loss: 1.3888 - val_accuracy: 0.2083\n",
      "Epoch 4/100\n",
      "220/220 [==============================] - 45s 204ms/step - loss: 0.8254 - accuracy: 0.5757 - val_loss: 1.3983 - val_accuracy: 0.2092\n",
      "Epoch 5/100\n",
      "220/220 [==============================] - 44s 200ms/step - loss: 0.7537 - accuracy: 0.6430 - val_loss: 1.4458 - val_accuracy: 0.2999\n",
      "Epoch 6/100\n",
      "220/220 [==============================] - 44s 203ms/step - loss: 0.6905 - accuracy: 0.7002 - val_loss: 1.7733 - val_accuracy: 0.3109\n",
      "Epoch 7/100\n",
      "220/220 [==============================] - 48s 219ms/step - loss: 0.6519 - accuracy: 0.7190 - val_loss: 1.6851 - val_accuracy: 0.2987\n",
      "Epoch 8/100\n",
      "220/220 [==============================] - 39s 175ms/step - loss: 0.6161 - accuracy: 0.7391 - val_loss: 1.6775 - val_accuracy: 0.3236\n",
      "Epoch 9/100\n",
      "220/220 [==============================] - 39s 176ms/step - loss: 0.5949 - accuracy: 0.7462 - val_loss: 1.5202 - val_accuracy: 0.3372\n",
      "Epoch 10/100\n",
      "220/220 [==============================] - 39s 178ms/step - loss: 0.5649 - accuracy: 0.7663 - val_loss: 1.9952 - val_accuracy: 0.3016\n",
      "Epoch 11/100\n",
      "220/220 [==============================] - 38s 175ms/step - loss: 0.5496 - accuracy: 0.7696 - val_loss: 1.8727 - val_accuracy: 0.3696\n",
      "Epoch 12/100\n",
      "220/220 [==============================] - 39s 178ms/step - loss: 0.5294 - accuracy: 0.7775 - val_loss: 1.6519 - val_accuracy: 0.3832\n",
      "Epoch 13/100\n",
      "220/220 [==============================] - 41s 187ms/step - loss: 0.5186 - accuracy: 0.7836 - val_loss: 1.9217 - val_accuracy: 0.3441\n",
      "Epoch 14/100\n",
      "220/220 [==============================] - 39s 178ms/step - loss: 0.5018 - accuracy: 0.7936 - val_loss: 2.4210 - val_accuracy: 0.3576\n",
      "Epoch 15/100\n",
      "220/220 [==============================] - 39s 176ms/step - loss: 0.4881 - accuracy: 0.7964 - val_loss: 1.8045 - val_accuracy: 0.4036\n",
      "Epoch 16/100\n",
      "220/220 [==============================] - 39s 175ms/step - loss: 0.4863 - accuracy: 0.7962 - val_loss: 1.8802 - val_accuracy: 0.4159\n",
      "Epoch 17/100\n",
      "220/220 [==============================] - 37s 167ms/step - loss: 0.4699 - accuracy: 0.8052 - val_loss: 2.2286 - val_accuracy: 0.3863\n",
      "Epoch 18/100\n",
      "220/220 [==============================] - 35s 161ms/step - loss: 0.4576 - accuracy: 0.8088 - val_loss: 2.1387 - val_accuracy: 0.3532\n",
      "Epoch 19/100\n",
      "220/220 [==============================] - 38s 172ms/step - loss: 0.4548 - accuracy: 0.8133 - val_loss: 2.2295 - val_accuracy: 0.3439\n",
      "Epoch 20/100\n",
      "220/220 [==============================] - 35s 160ms/step - loss: 0.4378 - accuracy: 0.8201 - val_loss: 2.2155 - val_accuracy: 0.3270\n",
      "Epoch 21/100\n",
      "220/220 [==============================] - 34s 155ms/step - loss: 0.4229 - accuracy: 0.8240 - val_loss: 2.5455 - val_accuracy: 0.3698\n",
      "Epoch 22/100\n",
      "220/220 [==============================] - 35s 161ms/step - loss: 0.4169 - accuracy: 0.8332 - val_loss: 3.2136 - val_accuracy: 0.3285\n",
      "Epoch 23/100\n",
      "220/220 [==============================] - 35s 159ms/step - loss: 0.4043 - accuracy: 0.8400 - val_loss: 2.3541 - val_accuracy: 0.4207\n",
      "Epoch 24/100\n",
      "220/220 [==============================] - 36s 163ms/step - loss: 0.3907 - accuracy: 0.8446 - val_loss: 2.9066 - val_accuracy: 0.3787\n",
      "Epoch 25/100\n",
      "220/220 [==============================] - 38s 172ms/step - loss: 0.3789 - accuracy: 0.8502 - val_loss: 2.7009 - val_accuracy: 0.3348\n",
      "Epoch 26/100\n",
      "220/220 [==============================] - 38s 174ms/step - loss: 0.3720 - accuracy: 0.8540 - val_loss: 2.0629 - val_accuracy: 0.4374\n",
      "Epoch 27/100\n",
      "220/220 [==============================] - 37s 167ms/step - loss: 0.3566 - accuracy: 0.8609 - val_loss: 3.1174 - val_accuracy: 0.3216\n",
      "Epoch 28/100\n",
      "220/220 [==============================] - 36s 163ms/step - loss: 0.3618 - accuracy: 0.8582 - val_loss: 3.2004 - val_accuracy: 0.2914\n",
      "Epoch 29/100\n",
      "220/220 [==============================] - 37s 167ms/step - loss: 0.3525 - accuracy: 0.8621 - val_loss: 2.9107 - val_accuracy: 0.4276\n",
      "Epoch 30/100\n",
      "220/220 [==============================] - 36s 166ms/step - loss: 0.3361 - accuracy: 0.8687 - val_loss: 3.0463 - val_accuracy: 0.3650\n",
      "Epoch 31/100\n",
      "220/220 [==============================] - 37s 168ms/step - loss: 0.3205 - accuracy: 0.8746 - val_loss: 3.9485 - val_accuracy: 0.3263\n",
      "Epoch 32/100\n",
      "220/220 [==============================] - 37s 168ms/step - loss: 0.3191 - accuracy: 0.8741 - val_loss: 2.5430 - val_accuracy: 0.4488\n",
      "Epoch 33/100\n",
      "220/220 [==============================] - 36s 165ms/step - loss: 0.3186 - accuracy: 0.8767 - val_loss: 3.0315 - val_accuracy: 0.4032\n",
      "Epoch 34/100\n",
      "220/220 [==============================] - 37s 168ms/step - loss: 0.3093 - accuracy: 0.8820 - val_loss: 3.7017 - val_accuracy: 0.3530\n",
      "Epoch 35/100\n",
      "220/220 [==============================] - 37s 170ms/step - loss: 0.3055 - accuracy: 0.8812 - val_loss: 2.8197 - val_accuracy: 0.3747\n",
      "Epoch 36/100\n",
      "220/220 [==============================] - 38s 171ms/step - loss: 0.3167 - accuracy: 0.8780 - val_loss: 2.5213 - val_accuracy: 0.3952\n",
      "Epoch 37/100\n",
      "220/220 [==============================] - 37s 168ms/step - loss: 0.3106 - accuracy: 0.8821 - val_loss: 2.5490 - val_accuracy: 0.4383\n",
      "Epoch 38/100\n",
      "220/220 [==============================] - 37s 168ms/step - loss: 0.2907 - accuracy: 0.8893 - val_loss: 4.9854 - val_accuracy: 0.2929\n",
      "Epoch 39/100\n",
      "220/220 [==============================] - 36s 163ms/step - loss: 0.2967 - accuracy: 0.8889 - val_loss: 3.9135 - val_accuracy: 0.3521\n",
      "Epoch 40/100\n",
      "220/220 [==============================] - 38s 173ms/step - loss: 0.2751 - accuracy: 0.8949 - val_loss: 4.2184 - val_accuracy: 0.3221\n",
      "Epoch 41/100\n",
      "220/220 [==============================] - 38s 174ms/step - loss: 0.2765 - accuracy: 0.8954 - val_loss: 3.6328 - val_accuracy: 0.3741\n",
      "Epoch 42/100\n",
      "220/220 [==============================] - 38s 174ms/step - loss: 0.2541 - accuracy: 0.9059 - val_loss: 4.3011 - val_accuracy: 0.3358\n",
      "Epoch 43/100\n",
      "220/220 [==============================] - 36s 165ms/step - loss: 0.2588 - accuracy: 0.9023 - val_loss: 3.7045 - val_accuracy: 0.3581\n",
      "Epoch 44/100\n",
      "220/220 [==============================] - 35s 161ms/step - loss: 0.2623 - accuracy: 0.8996 - val_loss: 4.5012 - val_accuracy: 0.3189\n",
      "Epoch 45/100\n",
      "220/220 [==============================] - 35s 159ms/step - loss: 0.2685 - accuracy: 0.8984 - val_loss: 3.8652 - val_accuracy: 0.3610\n",
      "Epoch 46/100\n",
      "220/220 [==============================] - 34s 157ms/step - loss: 0.2528 - accuracy: 0.9027 - val_loss: 4.3633 - val_accuracy: 0.3590\n",
      "Epoch 47/100\n",
      "220/220 [==============================] - 35s 159ms/step - loss: 0.2557 - accuracy: 0.9044 - val_loss: 3.4305 - val_accuracy: 0.3567\n",
      "Epoch 48/100\n",
      "220/220 [==============================] - 36s 164ms/step - loss: 0.2491 - accuracy: 0.9048 - val_loss: 5.1964 - val_accuracy: 0.3379\n",
      "Epoch 49/100\n",
      "220/220 [==============================] - 34s 154ms/step - loss: 0.2396 - accuracy: 0.9088 - val_loss: 4.6018 - val_accuracy: 0.3861\n",
      "Epoch 50/100\n",
      "220/220 [==============================] - 34s 156ms/step - loss: 0.2545 - accuracy: 0.9041 - val_loss: 3.9271 - val_accuracy: 0.3647\n",
      "Epoch 51/100\n",
      "220/220 [==============================] - 34s 153ms/step - loss: 0.2541 - accuracy: 0.9040 - val_loss: 4.1318 - val_accuracy: 0.3834\n",
      "Epoch 52/100\n",
      "220/220 [==============================] - 34s 153ms/step - loss: 0.2372 - accuracy: 0.9095 - val_loss: 4.8842 - val_accuracy: 0.3559\n",
      "Epoch 53/100\n"
     ]
    },
    {
     "name": "stdout",
     "output_type": "stream",
     "text": [
      "220/220 [==============================] - 34s 154ms/step - loss: 0.2313 - accuracy: 0.9142 - val_loss: 5.3644 - val_accuracy: 0.3690\n",
      "Epoch 54/100\n",
      "220/220 [==============================] - 34s 156ms/step - loss: 0.2338 - accuracy: 0.9119 - val_loss: 3.4049 - val_accuracy: 0.3741\n",
      "Epoch 55/100\n",
      "220/220 [==============================] - 34s 154ms/step - loss: 0.2332 - accuracy: 0.9140 - val_loss: 3.4995 - val_accuracy: 0.4127\n",
      "Epoch 56/100\n",
      "220/220 [==============================] - 33s 150ms/step - loss: 0.2325 - accuracy: 0.9103 - val_loss: 5.2074 - val_accuracy: 0.3310\n",
      "Epoch 57/100\n",
      "220/220 [==============================] - 34s 155ms/step - loss: 0.2386 - accuracy: 0.9116 - val_loss: 5.6449 - val_accuracy: 0.3181\n",
      "Epoch 58/100\n",
      "220/220 [==============================] - 34s 155ms/step - loss: 0.2223 - accuracy: 0.9139 - val_loss: 4.3640 - val_accuracy: 0.3916\n",
      "Epoch 59/100\n",
      "220/220 [==============================] - 31s 139ms/step - loss: 0.2108 - accuracy: 0.9149 - val_loss: 4.3550 - val_accuracy: 0.4119\n",
      "Epoch 60/100\n",
      "220/220 [==============================] - 29s 131ms/step - loss: 0.2112 - accuracy: 0.9176 - val_loss: 4.6343 - val_accuracy: 0.3576\n",
      "Epoch 61/100\n",
      "220/220 [==============================] - 29s 130ms/step - loss: 0.2035 - accuracy: 0.9163 - val_loss: 5.0664 - val_accuracy: 0.3748\n",
      "Epoch 62/100\n",
      "220/220 [==============================] - 29s 133ms/step - loss: 0.1947 - accuracy: 0.9210 - val_loss: 5.6198 - val_accuracy: 0.3552\n",
      "Epoch 63/100\n",
      "220/220 [==============================] - 29s 130ms/step - loss: 0.1979 - accuracy: 0.9201 - val_loss: 5.2727 - val_accuracy: 0.3496\n",
      "Epoch 64/100\n",
      "220/220 [==============================] - 30s 134ms/step - loss: 0.1993 - accuracy: 0.9208 - val_loss: 4.1941 - val_accuracy: 0.3948\n",
      "Epoch 65/100\n",
      "220/220 [==============================] - 28s 129ms/step - loss: 0.1913 - accuracy: 0.9231 - val_loss: 5.7596 - val_accuracy: 0.3448\n",
      "Epoch 66/100\n",
      "220/220 [==============================] - 29s 134ms/step - loss: 0.1984 - accuracy: 0.9221 - val_loss: 5.5206 - val_accuracy: 0.3567\n",
      "Epoch 67/100\n",
      "220/220 [==============================] - 28s 129ms/step - loss: 0.1876 - accuracy: 0.9240 - val_loss: 7.1784 - val_accuracy: 0.3361\n",
      "Epoch 68/100\n",
      "220/220 [==============================] - 28s 127ms/step - loss: 0.1955 - accuracy: 0.9218 - val_loss: 4.9524 - val_accuracy: 0.3399\n",
      "Epoch 69/100\n",
      "220/220 [==============================] - 29s 131ms/step - loss: 0.1891 - accuracy: 0.9227 - val_loss: 5.7934 - val_accuracy: 0.3339\n",
      "Epoch 70/100\n",
      "220/220 [==============================] - 28s 130ms/step - loss: 0.1834 - accuracy: 0.9257 - val_loss: 4.5281 - val_accuracy: 0.3552\n",
      "Epoch 71/100\n",
      "220/220 [==============================] - 28s 129ms/step - loss: 0.1942 - accuracy: 0.9216 - val_loss: 3.4595 - val_accuracy: 0.4097\n",
      "Epoch 72/100\n",
      "220/220 [==============================] - 30s 139ms/step - loss: 0.1941 - accuracy: 0.9222 - val_loss: 5.1254 - val_accuracy: 0.3638\n",
      "Epoch 73/100\n",
      "220/220 [==============================] - 30s 135ms/step - loss: 0.1745 - accuracy: 0.9306 - val_loss: 4.5393 - val_accuracy: 0.3932\n",
      "Epoch 74/100\n",
      "220/220 [==============================] - 28s 130ms/step - loss: 0.1802 - accuracy: 0.9268 - val_loss: 4.0814 - val_accuracy: 0.3667\n",
      "Epoch 75/100\n",
      "220/220 [==============================] - 26s 119ms/step - loss: 0.1770 - accuracy: 0.9289 - val_loss: 5.2297 - val_accuracy: 0.3621\n",
      "Epoch 76/100\n",
      "220/220 [==============================] - 23s 106ms/step - loss: 0.1829 - accuracy: 0.9250 - val_loss: 5.0427 - val_accuracy: 0.3510\n",
      "Epoch 77/100\n",
      "220/220 [==============================] - 23s 105ms/step - loss: 0.1805 - accuracy: 0.9259 - val_loss: 4.5989 - val_accuracy: 0.3567\n",
      "Epoch 78/100\n",
      "220/220 [==============================] - 23s 105ms/step - loss: 0.1747 - accuracy: 0.9278 - val_loss: 4.8105 - val_accuracy: 0.3790\n",
      "Epoch 79/100\n",
      "220/220 [==============================] - 23s 104ms/step - loss: 0.1838 - accuracy: 0.9255 - val_loss: 5.8527 - val_accuracy: 0.3399\n",
      "Epoch 80/100\n",
      "220/220 [==============================] - 22s 101ms/step - loss: 0.1751 - accuracy: 0.9294 - val_loss: 6.1745 - val_accuracy: 0.3628\n",
      "Epoch 81/100\n",
      "220/220 [==============================] - 22s 100ms/step - loss: 0.1671 - accuracy: 0.9297 - val_loss: 4.7978 - val_accuracy: 0.3599\n",
      "Epoch 82/100\n",
      "220/220 [==============================] - 23s 104ms/step - loss: 0.1580 - accuracy: 0.9344 - val_loss: 6.2277 - val_accuracy: 0.3345\n",
      "Epoch 83/100\n",
      "220/220 [==============================] - 23s 103ms/step - loss: 0.1739 - accuracy: 0.9298 - val_loss: 6.1548 - val_accuracy: 0.3650\n",
      "Epoch 84/100\n",
      "220/220 [==============================] - 23s 103ms/step - loss: 0.1668 - accuracy: 0.9320 - val_loss: 6.0930 - val_accuracy: 0.3430\n",
      "Epoch 85/100\n",
      "220/220 [==============================] - 22s 101ms/step - loss: 0.1694 - accuracy: 0.9302 - val_loss: 5.1059 - val_accuracy: 0.3865\n",
      "Epoch 86/100\n",
      "220/220 [==============================] - 23s 104ms/step - loss: 0.1726 - accuracy: 0.9296 - val_loss: 4.8491 - val_accuracy: 0.3937\n",
      "Epoch 87/100\n",
      "220/220 [==============================] - 23s 102ms/step - loss: 0.1687 - accuracy: 0.9310 - val_loss: 5.2257 - val_accuracy: 0.3614\n",
      "Epoch 88/100\n",
      "220/220 [==============================] - 23s 104ms/step - loss: 0.1616 - accuracy: 0.9333 - val_loss: 5.8664 - val_accuracy: 0.3294\n",
      "Epoch 89/100\n",
      "220/220 [==============================] - 23s 103ms/step - loss: 0.1562 - accuracy: 0.9339 - val_loss: 6.3767 - val_accuracy: 0.3328\n",
      "Epoch 90/100\n",
      "220/220 [==============================] - 22s 102ms/step - loss: 0.1589 - accuracy: 0.9350 - val_loss: 5.1030 - val_accuracy: 0.3890\n",
      "Epoch 91/100\n",
      "220/220 [==============================] - 22s 98ms/step - loss: 0.1672 - accuracy: 0.9311 - val_loss: 5.6545 - val_accuracy: 0.3567\n",
      "Epoch 92/100\n",
      "220/220 [==============================] - 23s 104ms/step - loss: 0.1671 - accuracy: 0.9330 - val_loss: 4.9614 - val_accuracy: 0.3970\n",
      "Epoch 93/100\n",
      "220/220 [==============================] - 23s 104ms/step - loss: 0.1811 - accuracy: 0.9264 - val_loss: 4.8537 - val_accuracy: 0.3565\n",
      "Epoch 94/100\n",
      "220/220 [==============================] - 23s 106ms/step - loss: 0.1551 - accuracy: 0.9339 - val_loss: 5.7888 - val_accuracy: 0.3768\n",
      "Epoch 95/100\n",
      "220/220 [==============================] - 23s 105ms/step - loss: 0.1563 - accuracy: 0.9340 - val_loss: 6.7937 - val_accuracy: 0.3470\n",
      "Epoch 96/100\n",
      "220/220 [==============================] - 23s 103ms/step - loss: 0.1516 - accuracy: 0.9370 - val_loss: 7.0859 - val_accuracy: 0.3478\n",
      "Epoch 97/100\n",
      "220/220 [==============================] - 22s 99ms/step - loss: 0.1631 - accuracy: 0.9324 - val_loss: 5.4759 - val_accuracy: 0.3963\n",
      "Epoch 98/100\n",
      "220/220 [==============================] - 22s 101ms/step - loss: 0.1740 - accuracy: 0.9287 - val_loss: 5.3411 - val_accuracy: 0.3845\n",
      "Epoch 99/100\n",
      "220/220 [==============================] - 22s 101ms/step - loss: 0.1553 - accuracy: 0.9359 - val_loss: 5.0994 - val_accuracy: 0.4107\n",
      "Epoch 100/100\n",
      "220/220 [==============================] - 22s 102ms/step - loss: 0.1521 - accuracy: 0.9355 - val_loss: 6.5277 - val_accuracy: 0.3797\n"
     ]
    },
    {
     "data": {
      "text/plain": [
       "<keras.src.callbacks.History at 0x1ef673a9070>"
      ]
     },
     "execution_count": 16,
     "metadata": {},
     "output_type": "execute_result"
    }
   ],
   "source": [
    "history=model.fit(padded_docs_train, y_train, epochs=100, batch_size=100, validation_data=(padded_docs_test, y_test))\n",
    "history"
   ]
  },
  {
   "cell_type": "markdown",
   "id": "5d00c466",
   "metadata": {},
   "source": [
    "##### 6) Finding Training and Testing Accuracy"
   ]
  },
  {
   "cell_type": "code",
   "execution_count": 17,
   "id": "6d517703",
   "metadata": {},
   "outputs": [
    {
     "data": {
      "image/png": "[encoded data removed]",
      "text/plain": [
       "<Figure size 432x288 with 1 Axes>"
      ]
     },
     "metadata": {
      "needs_background": "light"
     },
     "output_type": "display_data"
    }
   ],
   "source": [
    "# Plot the training and testing accuracy\n",
    "plt.plot(history.history['accuracy'])\n",
    "plt.plot(history.history['val_accuracy'])\n",
    "plt.title('Model Accuracy')\n",
    "plt.ylabel('Accuracy')\n",
    "plt.xlabel('Epoch')\n",
    "plt.ylim([0, 1])\n",
    "plt.legend(['Train', 'Test'], loc='upper left')\n",
    "plt.show()"
   ]
  },
  {
   "cell_type": "code",
   "execution_count": 18,
   "id": "516fe5b8",
   "metadata": {},
   "outputs": [
    {
     "name": "stdout",
     "output_type": "stream",
     "text": [
      "172/172 [==============================] - 4s 20ms/step - loss: 6.5277 - accuracy: 0.3797\n"
     ]
    },
    {
     "data": {
      "text/plain": [
       "(6.527683258056641, 0.3797491490840912)"
      ]
     },
     "execution_count": 18,
     "metadata": {},
     "output_type": "execute_result"
    }
   ],
   "source": [
    "test_loss,test_acc=model.evaluate(padded_docs_test,y_test)\n",
    "test_loss,test_acc"
   ]
  },
  {
   "cell_type": "markdown",
   "id": "80a47670",
   "metadata": {},
   "source": [
    "##### 7) Compute and plot the confusion matrix for the three classes"
   ]
  },
  {
   "cell_type": "code",
   "execution_count": 19,
   "id": "7eb7ef1b",
   "metadata": {},
   "outputs": [
    {
     "name": "stdout",
     "output_type": "stream",
     "text": [
      "172/172 [==============================] - 5s 19ms/step\n",
      "              precision    recall  f1-score   support\n",
      "\n",
      "    negative       0.69      0.40      0.51      3447\n",
      "     neutral       0.24      0.51      0.32      1154\n",
      "    positive       0.12      0.13      0.12       900\n",
      "\n",
      "    accuracy                           0.38      5501\n",
      "   macro avg       0.35      0.35      0.32      5501\n",
      "weighted avg       0.50      0.38      0.41      5501\n",
      "\n"
     ]
    }
   ],
   "source": [
    "predictions=model.predict(padded_docs_test)\n",
    "class_labels = ['negative', 'positive','neutral']\n",
    "predicted_class_labels = [class_labels[np.argmax(pred)] for pred in predictions]\n",
    "actual_class_labels=[class_labels[actual] for actual in y_test]\n",
    "print(classification_report(actual_class_labels, predicted_class_labels))"
   ]
  },
  {
   "cell_type": "code",
   "execution_count": 20,
   "id": "9208658a",
   "metadata": {},
   "outputs": [
    {
     "data": {
      "image/png": "[encoded data removed]",
      "text/plain": [
       "<Figure size 576x432 with 2 Axes>"
      ]
     },
     "metadata": {
      "needs_background": "light"
     },
     "output_type": "display_data"
    }
   ],
   "source": [
    "conf_matrix = confusion_matrix(actual_class_labels, predicted_class_labels, labels=class_labels)\n",
    "plt.figure(figsize=(8, 6))\n",
    "sns.heatmap(conf_matrix, annot=True, fmt=\"d\", cmap=\"Purples\", xticklabels=class_labels, yticklabels=class_labels)\n",
    "plt.title('Confusion Matrix')\n",
    "plt.xlabel('Predicted Labels')\n",
    "plt.ylabel('True Labels')\n",
    "plt.show()"
   ]
  },
  {
   "cell_type": "markdown",
   "id": "dd974772",
   "metadata": {},
   "source": [
    "##### 8) Saving the final results in Excel sheet"
   ]
  },
  {
   "cell_type": "code",
   "execution_count": 21,
   "id": "a0081b41",
   "metadata": {},
   "outputs": [
    {
     "name": "stdout",
     "output_type": "stream",
     "text": [
      "Precision per class: [0.68793619 0.23771152 0.11747285]\n",
      "Recall per class: [0.40034813 0.51126516 0.13222222]\n"
     ]
    }
   ],
   "source": [
    "precision_per_class = precision_score(actual_class_labels, predicted_class_labels, average=None)\n",
    "recall_per_class = recall_score(actual_class_labels, predicted_class_labels, average=None)\n",
    "\n",
    "print(\"Precision per class:\", precision_per_class)\n",
    "print(\"Recall per class:\", recall_per_class)"
   ]
  },
  {
   "cell_type": "code",
   "execution_count": 22,
   "id": "7df0d2f2",
   "metadata": {},
   "outputs": [
    {
     "name": "stdout",
     "output_type": "stream",
     "text": [
      "Micro F1 Score: 0.37974913652063264\n",
      "Macro F1 Score: 0.31836259299891717\n"
     ]
    }
   ],
   "source": [
    "f1_micro = f1_score(actual_class_labels, predicted_class_labels, average='micro')\n",
    "f1_macro = f1_score(actual_class_labels, predicted_class_labels, average='macro')\n",
    "\n",
    "print(\"Micro F1 Score:\", f1_micro)\n",
    "print(\"Macro F1 Score:\", f1_macro)"
   ]
  },
  {
   "cell_type": "code",
   "execution_count": 23,
   "id": "8efaeb49",
   "metadata": {},
   "outputs": [
    {
     "data": {
      "text/html": [
       "<div>\n",
       "<style scoped>\n",
       "    .dataframe tbody tr th:only-of-type {\n",
       "        vertical-align: middle;\n",
       "    }\n",
       "\n",
       "    .dataframe tbody tr th {\n",
       "        vertical-align: top;\n",
       "    }\n",
       "\n",
       "    .dataframe thead th {\n",
       "        text-align: right;\n",
       "    }\n",
       "</style>\n",
       "<table border=\"1\" class=\"dataframe\">\n",
       "  <thead>\n",
       "    <tr style=\"text-align: right;\">\n",
       "      <th></th>\n",
       "      <th>Unnamed: 0</th>\n",
       "      <th>GPT3.5_Dataset</th>\n",
       "    </tr>\n",
       "  </thead>\n",
       "  <tbody>\n",
       "    <tr>\n",
       "      <th>0</th>\n",
       "      <td>Training Accuracy</td>\n",
       "      <td>0.936982</td>\n",
       "    </tr>\n",
       "    <tr>\n",
       "      <th>1</th>\n",
       "      <td>Testing Accuracy</td>\n",
       "      <td>0.379749</td>\n",
       "    </tr>\n",
       "    <tr>\n",
       "      <th>2</th>\n",
       "      <td>Micro F1 Score</td>\n",
       "      <td>0.379749</td>\n",
       "    </tr>\n",
       "    <tr>\n",
       "      <th>3</th>\n",
       "      <td>Macro F1 Score</td>\n",
       "      <td>0.318363</td>\n",
       "    </tr>\n",
       "    <tr>\n",
       "      <th>4</th>\n",
       "      <td>Precision for Negative sentiment</td>\n",
       "      <td>0.687936</td>\n",
       "    </tr>\n",
       "    <tr>\n",
       "      <th>5</th>\n",
       "      <td>Precision for Positive sentiment</td>\n",
       "      <td>0.237712</td>\n",
       "    </tr>\n",
       "    <tr>\n",
       "      <th>6</th>\n",
       "      <td>Precision for Neutral sentiment</td>\n",
       "      <td>0.117473</td>\n",
       "    </tr>\n",
       "    <tr>\n",
       "      <th>7</th>\n",
       "      <td>Recall for Negative sentiment</td>\n",
       "      <td>0.400348</td>\n",
       "    </tr>\n",
       "    <tr>\n",
       "      <th>8</th>\n",
       "      <td>Recall for Positive sentiment</td>\n",
       "      <td>0.511265</td>\n",
       "    </tr>\n",
       "    <tr>\n",
       "      <th>9</th>\n",
       "      <td>Recall for Neutral sentiment</td>\n",
       "      <td>0.132222</td>\n",
       "    </tr>\n",
       "  </tbody>\n",
       "</table>\n",
       "</div>"
      ],
      "text/plain": [
       "                         Unnamed: 0  GPT3.5_Dataset\n",
       "0                 Training Accuracy        0.936982\n",
       "1                  Testing Accuracy        0.379749\n",
       "2                    Micro F1 Score        0.379749\n",
       "3                    Macro F1 Score        0.318363\n",
       "4  Precision for Negative sentiment        0.687936\n",
       "5  Precision for Positive sentiment        0.237712\n",
       "6   Precision for Neutral sentiment        0.117473\n",
       "7     Recall for Negative sentiment        0.400348\n",
       "8     Recall for Positive sentiment        0.511265\n",
       "9      Recall for Neutral sentiment        0.132222"
      ]
     },
     "execution_count": 23,
     "metadata": {},
     "output_type": "execute_result"
    }
   ],
   "source": [
    "result=pd.read_csv('TCNModelResults.csv')\n",
    "result['GPT3.5_Dataset']=[max(history.history['accuracy']),test_acc,f1_micro,f1_macro,precision_per_class[0],precision_per_class[1],precision_per_class[2],recall_per_class[0],recall_per_class[1],recall_per_class[2]]\n",
    "result[['Unnamed: 0','GPT3.5_Dataset']]"
   ]
  },
  {
   "cell_type": "code",
   "execution_count": 24,
   "id": "7fd5e277",
   "metadata": {},
   "outputs": [],
   "source": [
    "result.to_csv('TCNModelResults.csv', index=False)"
   ]
  }
 ],
 "metadata": {
  "kernelspec": {
   "display_name": "Python 3 (ipykernel)",
   "language": "python",
   "name": "python3"
  },
  "language_info": {
   "codemirror_mode": {
    "name": "ipython",
    "version": 3
   },
   "file_extension": ".py",
   "mimetype": "text/x-python",
   "name": "python",
   "nbconvert_exporter": "python",
   "pygments_lexer": "ipython3",
   "version": "3.9.7"
  }
 },
 "nbformat": 4,
 "nbformat_minor": 5
}
