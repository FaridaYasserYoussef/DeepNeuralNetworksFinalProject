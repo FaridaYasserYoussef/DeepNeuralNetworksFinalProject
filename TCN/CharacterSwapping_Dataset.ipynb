{
 "cells": [
  {
   "cell_type": "markdown",
   "id": "c6575869",
   "metadata": {},
   "source": [
    "# TCN Model"
   ]
  },
  {
   "cell_type": "code",
   "execution_count": 1,
   "id": "934847a5",
   "metadata": {},
   "outputs": [
    {
     "name": "stdout",
     "output_type": "stream",
     "text": [
      "WARNING:tensorflow:From D:\\Users\\Suzan Hatem\\anaconda3\\lib\\site-packages\\keras\\src\\losses.py:2976: The name tf.losses.sparse_softmax_cross_entropy is deprecated. Please use tf.compat.v1.losses.sparse_softmax_cross_entropy instead.\n",
      "\n"
     ]
    }
   ],
   "source": [
    "#Imports\n",
    "import pandas as pd\n",
    "import numpy as np\n",
    "\n",
    "from gensim.models import Word2Vec\n",
    "from sklearn.model_selection import train_test_split\n",
    "from keras.preprocessing.text import Tokenizer\n",
    "from keras.utils import pad_sequences\n",
    "\n",
    "from tcn import TCN, tcn_full_summary\n",
    "from keras.layers import Input, Embedding, Dense, Dropout, SpatialDropout1D\n",
    "from keras.layers import concatenate, GlobalAveragePooling1D, GlobalMaxPooling1D\n",
    "from keras.models import Model\n",
    "from keras.optimizers import Adam\n",
    "\n",
    "import matplotlib.pyplot as plt\n",
    "import seaborn as sns\n",
    "from sklearn.metrics import confusion_matrix\n",
    "from sklearn.metrics import confusion_matrix, ConfusionMatrixDisplay\n",
    "from sklearn.metrics import classification_report\n",
    "from sklearn.metrics import precision_score, recall_score\n",
    "from sklearn.metrics import f1_score"
   ]
  },
  {
   "cell_type": "markdown",
   "id": "978ceb42",
   "metadata": {},
   "source": [
    "##### 1)Loading Dataset"
   ]
  },
  {
   "cell_type": "code",
   "execution_count": 2,
   "id": "272b56c0",
   "metadata": {},
   "outputs": [
    {
     "data": {
      "text/html": [
       "<div>\n",
       "<style scoped>\n",
       "    .dataframe tbody tr th:only-of-type {\n",
       "        vertical-align: middle;\n",
       "    }\n",
       "\n",
       "    .dataframe tbody tr th {\n",
       "        vertical-align: top;\n",
       "    }\n",
       "\n",
       "    .dataframe thead th {\n",
       "        text-align: right;\n",
       "    }\n",
       "</style>\n",
       "<table border=\"1\" class=\"dataframe\">\n",
       "  <thead>\n",
       "    <tr style=\"text-align: right;\">\n",
       "      <th></th>\n",
       "      <th>Unnamed: 0.1</th>\n",
       "      <th>Unnamed: 0</th>\n",
       "      <th>label</th>\n",
       "      <th>text</th>\n",
       "      <th>length</th>\n",
       "      <th>preprocessed_abstract</th>\n",
       "      <th>length_after_cleaning</th>\n",
       "      <th>tokenized_text</th>\n",
       "    </tr>\n",
       "  </thead>\n",
       "  <tbody>\n",
       "    <tr>\n",
       "      <th>0</th>\n",
       "      <td>0</td>\n",
       "      <td>0</td>\n",
       "      <td>2</td>\n",
       "      <td>@VirginAmerica What @dhepburn said.</td>\n",
       "      <td>35</td>\n",
       "      <td>what say</td>\n",
       "      <td>8</td>\n",
       "      <td>['what', 'say']</td>\n",
       "    </tr>\n",
       "    <tr>\n",
       "      <th>1</th>\n",
       "      <td>1</td>\n",
       "      <td>1</td>\n",
       "      <td>1</td>\n",
       "      <td>@VirginAmerica plus you've added commercials t...</td>\n",
       "      <td>72</td>\n",
       "      <td>plus add commercial experience tacky</td>\n",
       "      <td>36</td>\n",
       "      <td>['plus', 'add', 'commercial', 'experience', 't...</td>\n",
       "    </tr>\n",
       "    <tr>\n",
       "      <th>2</th>\n",
       "      <td>2</td>\n",
       "      <td>2</td>\n",
       "      <td>2</td>\n",
       "      <td>@VirginAmerica I didn't today... Must mean I n...</td>\n",
       "      <td>71</td>\n",
       "      <td>i today must mean i need take another trip</td>\n",
       "      <td>42</td>\n",
       "      <td>['i', 'today', 'must', 'mean', 'i', 'need', 't...</td>\n",
       "    </tr>\n",
       "    <tr>\n",
       "      <th>3</th>\n",
       "      <td>3</td>\n",
       "      <td>3</td>\n",
       "      <td>0</td>\n",
       "      <td>@VirginAmerica it's really aggressive to blast...</td>\n",
       "      <td>126</td>\n",
       "      <td>really aggressive blast obnoxious entertainmen...</td>\n",
       "      <td>78</td>\n",
       "      <td>['really', 'aggressive', 'blast', 'obnoxious',...</td>\n",
       "    </tr>\n",
       "    <tr>\n",
       "      <th>4</th>\n",
       "      <td>4</td>\n",
       "      <td>4</td>\n",
       "      <td>0</td>\n",
       "      <td>@VirginAmerica and it's a really big bad thing...</td>\n",
       "      <td>55</td>\n",
       "      <td>really big bad thing</td>\n",
       "      <td>20</td>\n",
       "      <td>['really', 'big', 'bad', 'thing']</td>\n",
       "    </tr>\n",
       "  </tbody>\n",
       "</table>\n",
       "</div>"
      ],
      "text/plain": [
       "   Unnamed: 0.1  Unnamed: 0  label  \\\n",
       "0             0           0      2   \n",
       "1             1           1      1   \n",
       "2             2           2      2   \n",
       "3             3           3      0   \n",
       "4             4           4      0   \n",
       "\n",
       "                                                text  length  \\\n",
       "0                @VirginAmerica What @dhepburn said.      35   \n",
       "1  @VirginAmerica plus you've added commercials t...      72   \n",
       "2  @VirginAmerica I didn't today... Must mean I n...      71   \n",
       "3  @VirginAmerica it's really aggressive to blast...     126   \n",
       "4  @VirginAmerica and it's a really big bad thing...      55   \n",
       "\n",
       "                               preprocessed_abstract  length_after_cleaning  \\\n",
       "0                                           what say                      8   \n",
       "1               plus add commercial experience tacky                     36   \n",
       "2         i today must mean i need take another trip                     42   \n",
       "3  really aggressive blast obnoxious entertainmen...                     78   \n",
       "4                               really big bad thing                     20   \n",
       "\n",
       "                                      tokenized_text  \n",
       "0                                    ['what', 'say']  \n",
       "1  ['plus', 'add', 'commercial', 'experience', 't...  \n",
       "2  ['i', 'today', 'must', 'mean', 'i', 'need', 't...  \n",
       "3  ['really', 'aggressive', 'blast', 'obnoxious',...  \n",
       "4                  ['really', 'big', 'bad', 'thing']  "
      ]
     },
     "execution_count": 2,
     "metadata": {},
     "output_type": "execute_result"
    }
   ],
   "source": [
    "df=pd.read_csv(\"df_CharacterSwapping.csv\")\n",
    "df.head()"
   ]
  },
  {
   "cell_type": "code",
   "execution_count": 3,
   "id": "17c756b8",
   "metadata": {},
   "outputs": [
    {
     "data": {
      "text/plain": [
       "Unnamed: 0.1              0\n",
       "Unnamed: 0                0\n",
       "label                     0\n",
       "text                      0\n",
       "length                    0\n",
       "preprocessed_abstract    43\n",
       "length_after_cleaning     0\n",
       "tokenized_text            0\n",
       "dtype: int64"
      ]
     },
     "execution_count": 3,
     "metadata": {},
     "output_type": "execute_result"
    }
   ],
   "source": [
    "df.isnull().sum()"
   ]
  },
  {
   "cell_type": "code",
   "execution_count": 4,
   "id": "34e6d18c",
   "metadata": {},
   "outputs": [],
   "source": [
    "df = df.dropna()"
   ]
  },
  {
   "cell_type": "markdown",
   "id": "46c4f1f4",
   "metadata": {},
   "source": [
    "##### 2)Preparing Data"
   ]
  },
  {
   "cell_type": "markdown",
   "id": "1130b37b",
   "metadata": {},
   "source": [
    "- Word2Vec model (pre-trained word embeddings) for embedding layer in the model"
   ]
  },
  {
   "cell_type": "code",
   "execution_count": 5,
   "id": "029601c1",
   "metadata": {},
   "outputs": [
    {
     "data": {
      "text/plain": [
       "array([[ 4.25048202e-01,  5.55243969e-01,  9.13951039e-01, ...,\n",
       "        -8.59043360e-01, -1.83328569e-01,  3.14089119e-01],\n",
       "       [-6.45027518e-01,  1.30281150e+00,  7.89197385e-01, ...,\n",
       "        -9.72274784e-03,  1.20601796e-01,  6.12966828e-02],\n",
       "       [-3.56926829e-01,  7.74526417e-01,  5.37467539e-01, ...,\n",
       "        -1.17448366e+00,  4.54942463e-03, -8.22491273e-02],\n",
       "       ...,\n",
       "       [-9.78682539e-04,  6.64609997e-03,  1.15103824e-02, ...,\n",
       "        -1.19244289e-02, -5.92272123e-03, -2.89593281e-05],\n",
       "       [-7.63344392e-03, -3.33635625e-03,  1.25075607e-02, ...,\n",
       "        -1.45367533e-03, -4.05012025e-03,  2.97522428e-03],\n",
       "       [-1.48880407e-02,  1.05357012e-02,  1.65185221e-02, ...,\n",
       "        -9.57922824e-03,  1.00741610e-02, -6.55007828e-03]], dtype=float32)"
      ]
     },
     "execution_count": 5,
     "metadata": {},
     "output_type": "execute_result"
    }
   ],
   "source": [
    "sentences = [sentence.split() for sentence in df['preprocessed_abstract']]\n",
    "# Create and train the Word2Vec model\n",
    "model_2= Word2Vec(sentences, vector_size=100, window=5, min_count=1, workers=4)\n",
    "# Access the word vectors\n",
    "word_vectors = model_2.wv\n",
    "word_vectors.vectors"
   ]
  },
  {
   "cell_type": "code",
   "execution_count": 6,
   "id": "08dd43f6",
   "metadata": {},
   "outputs": [
    {
     "data": {
      "text/plain": [
       "(18600, 100)"
      ]
     },
     "execution_count": 6,
     "metadata": {},
     "output_type": "execute_result"
    }
   ],
   "source": [
    "word_vectors.vectors.shape"
   ]
  },
  {
   "cell_type": "markdown",
   "id": "4e03b6a9",
   "metadata": {},
   "source": [
    "#####  3) Split , into Training and Validation Sets (80:20)"
   ]
  },
  {
   "cell_type": "code",
   "execution_count": 7,
   "id": "d8741840",
   "metadata": {},
   "outputs": [
    {
     "name": "stdout",
     "output_type": "stream",
     "text": [
      "Train data: (21992,) (21992,)\n",
      "Test data: (5499,) (5499,)\n"
     ]
    }
   ],
   "source": [
    "X_train, X_test, y_train, y_test = train_test_split(df['preprocessed_abstract'], df['label'], test_size=0.2, stratify=df['label'], random_state=42)\n",
    "print(\"Train data:\",  X_train.shape, y_train.shape)\n",
    "print(\"Test data:\",  X_test.shape, y_test.shape)"
   ]
  },
  {
   "cell_type": "code",
   "execution_count": 8,
   "id": "9d5b7f7d",
   "metadata": {},
   "outputs": [
    {
     "data": {
      "image/png": "[encoded data removed]",
      "text/plain": [
       "<Figure size 1008x432 with 1 Axes>"
      ]
     },
     "metadata": {},
     "output_type": "display_data"
    }
   ],
   "source": [
    "plt.figure(figsize=(14,6))\n",
    "colors = ['#4285f4', '#ea4335', '#fbbc05', '#34a853']\n",
    "plt.rcParams.update({'font.size': 14})\n",
    "plt.pie([len(y_train), len(y_test)],\n",
    "        labels=['Train','Test'],\n",
    "        colors=colors, autopct='%.1f%%', explode=(0.05,0.05),\n",
    "        startangle=30);"
   ]
  },
  {
   "cell_type": "code",
   "execution_count": 9,
   "id": "7b70c66f",
   "metadata": {},
   "outputs": [
    {
     "name": "stdout",
     "output_type": "stream",
     "text": [
      "[[1416  243  350 ...    0    0    0]\n",
      " [ 384 1417   25 ...    0    0    0]\n",
      " [ 247  343 3851 ...    0    0    0]\n",
      " ...\n",
      " [   3   94   50 ...    0    0    0]\n",
      " [  98  112  117 ...    0    0    0]\n",
      " [   3   36   31 ...    0    0    0]]\n"
     ]
    }
   ],
   "source": [
    "corp=X_train\n",
    "t = Tokenizer()\n",
    "t.fit_on_texts(corp)\n",
    "vocab_size = len(t.word_index) + 1\n",
    "# integer encode the documents\n",
    "encoded_docs = t.texts_to_sequences(corp)\n",
    "# print(encoded_docs)\n",
    "max_length=max(len(d) for d in encoded_docs)\n",
    "padded_docs_train = pad_sequences(encoded_docs, maxlen=max_length, padding='post')\n",
    "print(padded_docs_train)"
   ]
  },
  {
   "cell_type": "code",
   "execution_count": 10,
   "id": "16c1cbc2",
   "metadata": {},
   "outputs": [
    {
     "name": "stdout",
     "output_type": "stream",
     "text": [
      "[[  58  206 1150 ...    0    0    0]\n",
      " [  13    1    5 ...    0    0    0]\n",
      " [ 134  141 2994 ...    0    0    0]\n",
      " ...\n",
      " [ 640    1   51 ...    0    0    0]\n",
      " [   3 7310  175 ...    0    0    0]\n",
      " [  48  106  157 ...    0    0    0]]\n"
     ]
    }
   ],
   "source": [
    "corp=X_test\n",
    "t = Tokenizer()\n",
    "t.fit_on_texts(corp)\n",
    "vocab_size = len(t.word_index) + 1\n",
    "# integer encode the documents\n",
    "encoded_docs = t.texts_to_sequences(corp)\n",
    "# print(encoded_docs)\n",
    "padded_docs_test = pad_sequences(encoded_docs, maxlen=max_length, padding='post')\n",
    "print(padded_docs_test)"
   ]
  },
  {
   "cell_type": "markdown",
   "id": "c2ffb115",
   "metadata": {},
   "source": [
    "##### 4)Model Architecture"
   ]
  },
  {
   "cell_type": "code",
   "execution_count": 11,
   "id": "1a556ad9",
   "metadata": {},
   "outputs": [],
   "source": [
    "def tcn_model(kernel_size = 1, activation='relu', input_dim = None, \n",
    "                   output_dim=100, max_length = None, emb_matrix = None):\n",
    "    \n",
    "    inp = Input( shape=(max_length,))\n",
    "    x = Embedding(input_dim=input_dim, \n",
    "                  output_dim=output_dim, \n",
    "                  input_length=max_length,\n",
    "                  # Assign the embedding weight with word2vec embedding marix\n",
    "                  weights = [emb_matrix],\n",
    "                  # Set the weight to be not trainable (static)\n",
    "                  trainable = False)(inp)\n",
    "    \n",
    "    x = SpatialDropout1D(0.1)(x)\n",
    "    \n",
    "    x = TCN(128,dilations = [1, 2, 4], return_sequences=True, activation = activation, name = 'tcn1')(x)\n",
    "    x = TCN(32,dilations = [1, 2, 4], return_sequences=True, activation = activation, name = 'tcn2')(x)\n",
    "    \n",
    "    avg_pool = GlobalAveragePooling1D()(x)\n",
    "    max_pool = GlobalMaxPooling1D()(x)\n",
    "    \n",
    "    conc = concatenate([avg_pool, max_pool])\n",
    "    conc = Dense(16, activation=\"relu\")(conc)\n",
    "    conc = Dropout(0.5)(conc)\n",
    "    outp = Dense(3, activation=\"softmax\")(conc)    \n",
    "\n",
    "    model = Model(inputs=inp, outputs=outp)\n",
    "    model.compile(loss='sparse_categorical_crossentropy', optimizer=Adam(), metrics=['accuracy'])\n",
    "    \n",
    "    return model"
   ]
  },
  {
   "cell_type": "code",
   "execution_count": 12,
   "id": "abfb9a9f",
   "metadata": {},
   "outputs": [
    {
     "name": "stdout",
     "output_type": "stream",
     "text": [
      "WARNING:tensorflow:From D:\\Users\\Suzan Hatem\\anaconda3\\lib\\site-packages\\keras\\src\\backend.py:1398: The name tf.executing_eagerly_outside_functions is deprecated. Please use tf.compat.v1.executing_eagerly_outside_functions instead.\n",
      "\n",
      "Model: \"model\"\n",
      "__________________________________________________________________________________________________\n",
      " Layer (type)                Output Shape                 Param #   Connected to                  \n",
      "==================================================================================================\n",
      " input_1 (InputLayer)        [(None, 26)]                 0         []                            \n",
      "                                                                                                  \n",
      " embedding (Embedding)       (None, 26, 100)              1860000   ['input_1[0][0]']             \n",
      "                                                                                                  \n",
      " spatial_dropout1d (Spatial  (None, 26, 100)              0         ['embedding[0][0]']           \n",
      " Dropout1D)                                                                                       \n",
      "                                                                                                  \n",
      " tcn1 (TCN)                  (None, 26, 128)              297856    ['spatial_dropout1d[0][0]']   \n",
      "                                                                                                  \n",
      " tcn2 (TCN)                  (None, 26, 32)               31968     ['tcn1[0][0]']                \n",
      "                                                                                                  \n",
      " global_average_pooling1d (  (None, 32)                   0         ['tcn2[0][0]']                \n",
      " GlobalAveragePooling1D)                                                                          \n",
      "                                                                                                  \n",
      " global_max_pooling1d (Glob  (None, 32)                   0         ['tcn2[0][0]']                \n",
      " alMaxPooling1D)                                                                                  \n",
      "                                                                                                  \n",
      " concatenate (Concatenate)   (None, 64)                   0         ['global_average_pooling1d[0][\n",
      "                                                                    0]',                          \n",
      "                                                                     'global_max_pooling1d[0][0]']\n",
      "                                                                                                  \n",
      " dense (Dense)               (None, 16)                   1040      ['concatenate[0][0]']         \n",
      "                                                                                                  \n",
      " dropout (Dropout)           (None, 16)                   0         ['dense[0][0]']               \n",
      "                                                                                                  \n",
      " dense_1 (Dense)             (None, 3)                    51        ['dropout[0][0]']             \n",
      "                                                                                                  \n",
      "==================================================================================================\n",
      "Total params: 2190915 (8.36 MB)\n",
      "Trainable params: 330915 (1.26 MB)\n",
      "Non-trainable params: 1860000 (7.10 MB)\n",
      "__________________________________________________________________________________________________\n"
     ]
    }
   ],
   "source": [
    "model =tcn_model(input_dim=word_vectors.vectors.shape[0], output_dim=100, max_length=max_length, emb_matrix=word_vectors.vectors)\n",
    "model.summary()"
   ]
  },
  {
   "cell_type": "markdown",
   "id": "6ea9dbdd",
   "metadata": {},
   "source": [
    "##### 5) Training Model"
   ]
  },
  {
   "cell_type": "code",
   "execution_count": 13,
   "id": "1a3407cf",
   "metadata": {},
   "outputs": [
    {
     "name": "stdout",
     "output_type": "stream",
     "text": [
      "Epoch 1/100\n",
      "WARNING:tensorflow:From D:\\Users\\Suzan Hatem\\anaconda3\\lib\\site-packages\\keras\\src\\utils\\tf_utils.py:492: The name tf.ragged.RaggedTensorValue is deprecated. Please use tf.compat.v1.ragged.RaggedTensorValue instead.\n",
      "\n",
      "WARNING:tensorflow:From D:\\Users\\Suzan Hatem\\anaconda3\\lib\\site-packages\\keras\\src\\engine\\base_layer_utils.py:384: The name tf.executing_eagerly_outside_functions is deprecated. Please use tf.compat.v1.executing_eagerly_outside_functions instead.\n",
      "\n",
      "220/220 [==============================] - 34s 96ms/step - loss: 1.1617 - accuracy: 0.3388 - val_loss: 1.0772 - val_accuracy: 0.4457\n",
      "Epoch 2/100\n",
      "220/220 [==============================] - 19s 86ms/step - loss: 1.0773 - accuracy: 0.3935 - val_loss: 1.0518 - val_accuracy: 0.4583\n",
      "Epoch 3/100\n",
      "220/220 [==============================] - 18s 82ms/step - loss: 1.0748 - accuracy: 0.3907 - val_loss: 1.0552 - val_accuracy: 0.4454\n",
      "Epoch 4/100\n",
      "220/220 [==============================] - 18s 82ms/step - loss: 1.0553 - accuracy: 0.4205 - val_loss: 1.0046 - val_accuracy: 0.4826\n",
      "Epoch 5/100\n",
      "220/220 [==============================] - 18s 83ms/step - loss: 1.0173 - accuracy: 0.4775 - val_loss: 0.9762 - val_accuracy: 0.5443\n",
      "Epoch 6/100\n",
      "220/220 [==============================] - 18s 84ms/step - loss: 1.0074 - accuracy: 0.4909 - val_loss: 0.9855 - val_accuracy: 0.5310\n",
      "Epoch 7/100\n",
      "220/220 [==============================] - 18s 82ms/step - loss: 0.9984 - accuracy: 0.5006 - val_loss: 0.9746 - val_accuracy: 0.5481\n",
      "Epoch 8/100\n",
      "220/220 [==============================] - 18s 82ms/step - loss: 0.9919 - accuracy: 0.5092 - val_loss: 0.9717 - val_accuracy: 0.5481\n",
      "Epoch 9/100\n",
      "220/220 [==============================] - 18s 84ms/step - loss: 0.9871 - accuracy: 0.5139 - val_loss: 1.0232 - val_accuracy: 0.4817\n",
      "Epoch 10/100\n",
      "220/220 [==============================] - 19s 87ms/step - loss: 0.9813 - accuracy: 0.5188 - val_loss: 0.9887 - val_accuracy: 0.5268\n",
      "Epoch 11/100\n",
      "220/220 [==============================] - 19s 88ms/step - loss: 0.9703 - accuracy: 0.5269 - val_loss: 1.0160 - val_accuracy: 0.5241\n",
      "Epoch 12/100\n",
      "220/220 [==============================] - 18s 84ms/step - loss: 0.9681 - accuracy: 0.5326 - val_loss: 1.0017 - val_accuracy: 0.5148\n",
      "Epoch 13/100\n",
      "220/220 [==============================] - 19s 88ms/step - loss: 0.9448 - accuracy: 0.5432 - val_loss: 0.9959 - val_accuracy: 0.5299\n",
      "Epoch 14/100\n",
      "220/220 [==============================] - 21s 94ms/step - loss: 0.9275 - accuracy: 0.5478 - val_loss: 0.9786 - val_accuracy: 0.5297\n",
      "Epoch 15/100\n",
      "220/220 [==============================] - 19s 84ms/step - loss: 0.9052 - accuracy: 0.5574 - val_loss: 0.9994 - val_accuracy: 0.5252\n",
      "Epoch 16/100\n",
      "220/220 [==============================] - 19s 88ms/step - loss: 0.8914 - accuracy: 0.5708 - val_loss: 1.0254 - val_accuracy: 0.5237\n",
      "Epoch 17/100\n",
      "220/220 [==============================] - 25s 114ms/step - loss: 0.8720 - accuracy: 0.5941 - val_loss: 1.0282 - val_accuracy: 0.5239\n",
      "Epoch 18/100\n",
      "220/220 [==============================] - 23s 107ms/step - loss: 0.8576 - accuracy: 0.6045 - val_loss: 1.0178 - val_accuracy: 0.5157\n",
      "Epoch 19/100\n",
      "220/220 [==============================] - 26s 118ms/step - loss: 0.8395 - accuracy: 0.6115 - val_loss: 1.0360 - val_accuracy: 0.5268\n",
      "Epoch 20/100\n",
      "220/220 [==============================] - 26s 116ms/step - loss: 0.8272 - accuracy: 0.6179 - val_loss: 1.0426 - val_accuracy: 0.5195\n",
      "Epoch 21/100\n",
      "220/220 [==============================] - 25s 115ms/step - loss: 0.8076 - accuracy: 0.6315 - val_loss: 1.1402 - val_accuracy: 0.5125\n",
      "Epoch 22/100\n",
      "220/220 [==============================] - 26s 116ms/step - loss: 0.7867 - accuracy: 0.6405 - val_loss: 1.1287 - val_accuracy: 0.5170\n",
      "Epoch 23/100\n",
      "220/220 [==============================] - 26s 116ms/step - loss: 0.7738 - accuracy: 0.6504 - val_loss: 1.0847 - val_accuracy: 0.5219\n",
      "Epoch 24/100\n",
      "220/220 [==============================] - 25s 116ms/step - loss: 0.7533 - accuracy: 0.6591 - val_loss: 1.1666 - val_accuracy: 0.5186\n",
      "Epoch 25/100\n",
      "220/220 [==============================] - 25s 115ms/step - loss: 0.7325 - accuracy: 0.6800 - val_loss: 1.2239 - val_accuracy: 0.5119\n",
      "Epoch 26/100\n",
      "220/220 [==============================] - 26s 120ms/step - loss: 0.7052 - accuracy: 0.6928 - val_loss: 1.2272 - val_accuracy: 0.4937\n",
      "Epoch 27/100\n",
      "220/220 [==============================] - 26s 120ms/step - loss: 0.6938 - accuracy: 0.7052 - val_loss: 1.2619 - val_accuracy: 0.5057\n",
      "Epoch 28/100\n",
      "220/220 [==============================] - 25s 115ms/step - loss: 0.6757 - accuracy: 0.7097 - val_loss: 1.4734 - val_accuracy: 0.5217\n",
      "Epoch 29/100\n",
      "220/220 [==============================] - 28s 128ms/step - loss: 0.6489 - accuracy: 0.7214 - val_loss: 1.5819 - val_accuracy: 0.5166\n",
      "Epoch 30/100\n",
      "220/220 [==============================] - 32s 144ms/step - loss: 0.6287 - accuracy: 0.7337 - val_loss: 1.5409 - val_accuracy: 0.5092\n",
      "Epoch 31/100\n",
      "220/220 [==============================] - 29s 131ms/step - loss: 0.6212 - accuracy: 0.7385 - val_loss: 1.5500 - val_accuracy: 0.5037\n",
      "Epoch 32/100\n",
      "220/220 [==============================] - 26s 119ms/step - loss: 0.5943 - accuracy: 0.7528 - val_loss: 1.6167 - val_accuracy: 0.5030\n",
      "Epoch 33/100\n",
      "220/220 [==============================] - 26s 120ms/step - loss: 0.5876 - accuracy: 0.7555 - val_loss: 1.6652 - val_accuracy: 0.5095\n",
      "Epoch 34/100\n",
      "220/220 [==============================] - 28s 125ms/step - loss: 0.5780 - accuracy: 0.7614 - val_loss: 1.7442 - val_accuracy: 0.5092\n",
      "Epoch 35/100\n",
      "220/220 [==============================] - 26s 120ms/step - loss: 0.5593 - accuracy: 0.7725 - val_loss: 1.7215 - val_accuracy: 0.5059\n",
      "Epoch 36/100\n",
      "220/220 [==============================] - 27s 122ms/step - loss: 0.5579 - accuracy: 0.7725 - val_loss: 1.9076 - val_accuracy: 0.5045\n",
      "Epoch 37/100\n",
      "220/220 [==============================] - 28s 127ms/step - loss: 0.5444 - accuracy: 0.7780 - val_loss: 2.0552 - val_accuracy: 0.5168\n",
      "Epoch 38/100\n",
      "220/220 [==============================] - 36s 164ms/step - loss: 0.5317 - accuracy: 0.7871 - val_loss: 1.9192 - val_accuracy: 0.5028\n",
      "Epoch 39/100\n",
      "220/220 [==============================] - 37s 168ms/step - loss: 0.5213 - accuracy: 0.7939 - val_loss: 2.1481 - val_accuracy: 0.5194\n",
      "Epoch 40/100\n",
      "220/220 [==============================] - 41s 187ms/step - loss: 0.5040 - accuracy: 0.8016 - val_loss: 2.1547 - val_accuracy: 0.5066\n",
      "Epoch 41/100\n",
      "220/220 [==============================] - 46s 208ms/step - loss: 0.4855 - accuracy: 0.8089 - val_loss: 2.1830 - val_accuracy: 0.5041\n",
      "Epoch 42/100\n",
      "220/220 [==============================] - 41s 187ms/step - loss: 0.4867 - accuracy: 0.8104 - val_loss: 2.3498 - val_accuracy: 0.5170\n",
      "Epoch 43/100\n",
      "220/220 [==============================] - 41s 186ms/step - loss: 0.4972 - accuracy: 0.8053 - val_loss: 2.1853 - val_accuracy: 0.5059\n",
      "Epoch 44/100\n",
      "220/220 [==============================] - 44s 200ms/step - loss: 0.4693 - accuracy: 0.8187 - val_loss: 1.9543 - val_accuracy: 0.4825\n",
      "Epoch 45/100\n",
      "220/220 [==============================] - 44s 201ms/step - loss: 0.4589 - accuracy: 0.8247 - val_loss: 2.2985 - val_accuracy: 0.5175\n",
      "Epoch 46/100\n",
      "220/220 [==============================] - 44s 198ms/step - loss: 0.4588 - accuracy: 0.8242 - val_loss: 2.7056 - val_accuracy: 0.5123\n",
      "Epoch 47/100\n",
      "220/220 [==============================] - 44s 201ms/step - loss: 0.4635 - accuracy: 0.8220 - val_loss: 2.4072 - val_accuracy: 0.5099\n",
      "Epoch 48/100\n",
      "220/220 [==============================] - 45s 204ms/step - loss: 0.4663 - accuracy: 0.8233 - val_loss: 2.2328 - val_accuracy: 0.5039\n",
      "Epoch 49/100\n",
      "220/220 [==============================] - 49s 222ms/step - loss: 0.4323 - accuracy: 0.8424 - val_loss: 2.3441 - val_accuracy: 0.4999\n",
      "Epoch 50/100\n",
      "220/220 [==============================] - 39s 176ms/step - loss: 0.4339 - accuracy: 0.8408 - val_loss: 3.2615 - val_accuracy: 0.5046\n",
      "Epoch 51/100\n",
      "220/220 [==============================] - 39s 178ms/step - loss: 0.4188 - accuracy: 0.8465 - val_loss: 2.5344 - val_accuracy: 0.5070\n",
      "Epoch 52/100\n",
      "220/220 [==============================] - 39s 177ms/step - loss: 0.4450 - accuracy: 0.8349 - val_loss: 2.4983 - val_accuracy: 0.5001\n",
      "Epoch 53/100\n",
      "220/220 [==============================] - 39s 176ms/step - loss: 0.4421 - accuracy: 0.8355 - val_loss: 2.6932 - val_accuracy: 0.5139\n"
     ]
    },
    {
     "name": "stdout",
     "output_type": "stream",
     "text": [
      "Epoch 54/100\n",
      "220/220 [==============================] - 39s 178ms/step - loss: 0.4466 - accuracy: 0.8346 - val_loss: 2.4890 - val_accuracy: 0.5161\n",
      "Epoch 55/100\n",
      "220/220 [==============================] - 40s 182ms/step - loss: 0.4051 - accuracy: 0.8529 - val_loss: 2.4846 - val_accuracy: 0.5086\n",
      "Epoch 56/100\n",
      "220/220 [==============================] - 39s 176ms/step - loss: 0.4076 - accuracy: 0.8539 - val_loss: 2.2979 - val_accuracy: 0.4966\n",
      "Epoch 57/100\n",
      "220/220 [==============================] - 38s 174ms/step - loss: 0.4065 - accuracy: 0.8520 - val_loss: 2.6232 - val_accuracy: 0.5110\n",
      "Epoch 58/100\n",
      "220/220 [==============================] - 39s 176ms/step - loss: 0.3894 - accuracy: 0.8599 - val_loss: 2.7466 - val_accuracy: 0.4945\n",
      "Epoch 59/100\n",
      "220/220 [==============================] - 36s 162ms/step - loss: 0.4111 - accuracy: 0.8512 - val_loss: 3.1618 - val_accuracy: 0.5054\n",
      "Epoch 60/100\n",
      "220/220 [==============================] - 35s 160ms/step - loss: 0.3921 - accuracy: 0.8579 - val_loss: 3.0309 - val_accuracy: 0.5095\n",
      "Epoch 61/100\n",
      "220/220 [==============================] - 37s 168ms/step - loss: 0.3792 - accuracy: 0.8663 - val_loss: 2.7525 - val_accuracy: 0.5061\n",
      "Epoch 62/100\n",
      "220/220 [==============================] - 36s 162ms/step - loss: 0.3855 - accuracy: 0.8617 - val_loss: 3.2444 - val_accuracy: 0.5034\n",
      "Epoch 63/100\n",
      "220/220 [==============================] - 34s 154ms/step - loss: 0.4062 - accuracy: 0.8552 - val_loss: 3.0972 - val_accuracy: 0.4983\n",
      "Epoch 64/100\n",
      "220/220 [==============================] - 35s 158ms/step - loss: 0.3933 - accuracy: 0.8607 - val_loss: 2.9395 - val_accuracy: 0.5005\n",
      "Epoch 65/100\n",
      "220/220 [==============================] - 35s 161ms/step - loss: 0.3744 - accuracy: 0.8700 - val_loss: 3.0235 - val_accuracy: 0.4995\n",
      "Epoch 66/100\n",
      "220/220 [==============================] - 35s 160ms/step - loss: 0.3954 - accuracy: 0.8609 - val_loss: 2.8167 - val_accuracy: 0.5055\n",
      "Epoch 67/100\n",
      "220/220 [==============================] - 38s 174ms/step - loss: 0.3722 - accuracy: 0.8691 - val_loss: 3.1086 - val_accuracy: 0.5046\n",
      "Epoch 68/100\n",
      "220/220 [==============================] - 38s 171ms/step - loss: 0.3692 - accuracy: 0.8700 - val_loss: 3.1675 - val_accuracy: 0.5135\n",
      "Epoch 69/100\n",
      "220/220 [==============================] - 37s 169ms/step - loss: 0.3729 - accuracy: 0.8703 - val_loss: 3.4961 - val_accuracy: 0.4997\n",
      "Epoch 70/100\n",
      "220/220 [==============================] - 36s 166ms/step - loss: 0.3791 - accuracy: 0.8674 - val_loss: 2.7704 - val_accuracy: 0.5057\n",
      "Epoch 71/100\n",
      "220/220 [==============================] - 37s 167ms/step - loss: 0.3912 - accuracy: 0.8614 - val_loss: 2.7435 - val_accuracy: 0.5068\n",
      "Epoch 72/100\n",
      "220/220 [==============================] - 37s 167ms/step - loss: 0.3626 - accuracy: 0.8757 - val_loss: 3.1351 - val_accuracy: 0.5168\n",
      "Epoch 73/100\n",
      "220/220 [==============================] - 36s 166ms/step - loss: 0.3659 - accuracy: 0.8745 - val_loss: 3.2845 - val_accuracy: 0.5075\n",
      "Epoch 74/100\n",
      "220/220 [==============================] - 37s 166ms/step - loss: 0.3548 - accuracy: 0.8783 - val_loss: 3.4460 - val_accuracy: 0.5205\n",
      "Epoch 75/100\n",
      "220/220 [==============================] - 37s 170ms/step - loss: 0.3401 - accuracy: 0.8849 - val_loss: 3.4656 - val_accuracy: 0.5152\n",
      "Epoch 76/100\n",
      "220/220 [==============================] - 38s 171ms/step - loss: 0.3607 - accuracy: 0.8762 - val_loss: 3.4172 - val_accuracy: 0.5083\n",
      "Epoch 77/100\n",
      "220/220 [==============================] - 37s 170ms/step - loss: 0.3507 - accuracy: 0.8802 - val_loss: 3.1565 - val_accuracy: 0.5097\n",
      "Epoch 78/100\n",
      "220/220 [==============================] - 37s 170ms/step - loss: 0.3494 - accuracy: 0.8813 - val_loss: 2.7947 - val_accuracy: 0.5043\n",
      "Epoch 79/100\n",
      "220/220 [==============================] - 37s 168ms/step - loss: 0.3567 - accuracy: 0.8794 - val_loss: 2.9629 - val_accuracy: 0.5110\n",
      "Epoch 80/100\n",
      "220/220 [==============================] - 37s 167ms/step - loss: 0.3550 - accuracy: 0.8796 - val_loss: 2.8629 - val_accuracy: 0.5086\n",
      "Epoch 81/100\n",
      "220/220 [==============================] - 37s 166ms/step - loss: 0.3541 - accuracy: 0.8810 - val_loss: 3.2134 - val_accuracy: 0.5146\n",
      "Epoch 82/100\n",
      "220/220 [==============================] - 39s 177ms/step - loss: 0.3516 - accuracy: 0.8775 - val_loss: 3.6890 - val_accuracy: 0.5063\n",
      "Epoch 83/100\n",
      "220/220 [==============================] - 39s 175ms/step - loss: 0.3359 - accuracy: 0.8888 - val_loss: 3.4982 - val_accuracy: 0.5032\n",
      "Epoch 84/100\n",
      "220/220 [==============================] - 38s 174ms/step - loss: 0.3395 - accuracy: 0.8864 - val_loss: 3.2647 - val_accuracy: 0.5061\n",
      "Epoch 85/100\n",
      "220/220 [==============================] - 35s 161ms/step - loss: 0.3426 - accuracy: 0.8840 - val_loss: 3.4802 - val_accuracy: 0.5090\n",
      "Epoch 86/100\n",
      "220/220 [==============================] - 35s 159ms/step - loss: 0.3478 - accuracy: 0.8832 - val_loss: 3.0017 - val_accuracy: 0.5066\n",
      "Epoch 87/100\n",
      "220/220 [==============================] - 35s 158ms/step - loss: 0.3406 - accuracy: 0.8858 - val_loss: 3.5041 - val_accuracy: 0.5101\n",
      "Epoch 88/100\n",
      "220/220 [==============================] - 35s 158ms/step - loss: 0.3248 - accuracy: 0.8926 - val_loss: 3.0757 - val_accuracy: 0.5210\n",
      "Epoch 89/100\n",
      "220/220 [==============================] - 34s 156ms/step - loss: 0.3278 - accuracy: 0.8899 - val_loss: 3.0519 - val_accuracy: 0.5101\n",
      "Epoch 90/100\n",
      "220/220 [==============================] - 37s 166ms/step - loss: 0.3413 - accuracy: 0.8863 - val_loss: 2.3403 - val_accuracy: 0.5025\n",
      "Epoch 91/100\n",
      "220/220 [==============================] - 34s 156ms/step - loss: 0.3452 - accuracy: 0.8837 - val_loss: 3.0271 - val_accuracy: 0.5155\n",
      "Epoch 92/100\n",
      "220/220 [==============================] - 34s 157ms/step - loss: 0.3338 - accuracy: 0.8887 - val_loss: 3.6792 - val_accuracy: 0.5145\n",
      "Epoch 93/100\n",
      "220/220 [==============================] - 34s 154ms/step - loss: 0.3246 - accuracy: 0.8948 - val_loss: 3.2863 - val_accuracy: 0.5150\n",
      "Epoch 94/100\n",
      "220/220 [==============================] - 34s 154ms/step - loss: 0.3140 - accuracy: 0.8968 - val_loss: 3.7612 - val_accuracy: 0.5108\n",
      "Epoch 95/100\n",
      "220/220 [==============================] - 35s 158ms/step - loss: 0.3152 - accuracy: 0.8974 - val_loss: 3.3698 - val_accuracy: 0.5143\n",
      "Epoch 96/100\n",
      "220/220 [==============================] - 34s 153ms/step - loss: 0.3254 - accuracy: 0.8930 - val_loss: 4.0648 - val_accuracy: 0.5181\n",
      "Epoch 97/100\n",
      "220/220 [==============================] - 34s 156ms/step - loss: 0.3235 - accuracy: 0.8925 - val_loss: 3.6274 - val_accuracy: 0.5150\n",
      "Epoch 98/100\n",
      "220/220 [==============================] - 34s 153ms/step - loss: 0.3206 - accuracy: 0.8946 - val_loss: 4.0768 - val_accuracy: 0.5066\n",
      "Epoch 99/100\n",
      "220/220 [==============================] - 34s 155ms/step - loss: 0.3155 - accuracy: 0.8959 - val_loss: 3.4038 - val_accuracy: 0.5134\n",
      "Epoch 100/100\n",
      "220/220 [==============================] - 34s 153ms/step - loss: 0.3219 - accuracy: 0.8944 - val_loss: 3.7059 - val_accuracy: 0.5117\n"
     ]
    },
    {
     "data": {
      "text/plain": [
       "<keras.src.callbacks.History at 0x15a090c5e20>"
      ]
     },
     "execution_count": 13,
     "metadata": {},
     "output_type": "execute_result"
    }
   ],
   "source": [
    "history=model.fit(padded_docs_train, y_train, epochs=100, batch_size=100, validation_data=(padded_docs_test, y_test))\n",
    "history"
   ]
  },
  {
   "cell_type": "markdown",
   "id": "5d00c466",
   "metadata": {},
   "source": [
    "##### 6) Finding Training and Testing Accuracy"
   ]
  },
  {
   "cell_type": "code",
   "execution_count": 14,
   "id": "6d517703",
   "metadata": {},
   "outputs": [
    {
     "data": {
      "image/png": "[encoded data removed]",
      "text/plain": [
       "<Figure size 432x288 with 1 Axes>"
      ]
     },
     "metadata": {
      "needs_background": "light"
     },
     "output_type": "display_data"
    }
   ],
   "source": [
    "# Plot the training and testing accuracy\n",
    "plt.plot(history.history['accuracy'])\n",
    "plt.plot(history.history['val_accuracy'])\n",
    "plt.title('Model Accuracy')\n",
    "plt.ylabel('Accuracy')\n",
    "plt.xlabel('Epoch')\n",
    "plt.ylim([0, 1])\n",
    "plt.legend(['Train', 'Test'], loc='upper left')\n",
    "plt.show()"
   ]
  },
  {
   "cell_type": "code",
   "execution_count": 15,
   "id": "516fe5b8",
   "metadata": {},
   "outputs": [
    {
     "name": "stdout",
     "output_type": "stream",
     "text": [
      "172/172 [==============================] - 7s 38ms/step - loss: 3.7059 - accuracy: 0.5117\n"
     ]
    },
    {
     "data": {
      "text/plain": [
       "(3.705930471420288, 0.5117294192314148)"
      ]
     },
     "execution_count": 15,
     "metadata": {},
     "output_type": "execute_result"
    }
   ],
   "source": [
    "test_loss,test_acc=model.evaluate(padded_docs_test,y_test)\n",
    "test_loss,test_acc"
   ]
  },
  {
   "cell_type": "markdown",
   "id": "80a47670",
   "metadata": {},
   "source": [
    "##### 7) Compute and plot the confusion matrix for the three classes"
   ]
  },
  {
   "cell_type": "code",
   "execution_count": 16,
   "id": "7eb7ef1b",
   "metadata": {},
   "outputs": [
    {
     "name": "stdout",
     "output_type": "stream",
     "text": [
      "172/172 [==============================] - 15s 33ms/step\n",
      "              precision    recall  f1-score   support\n",
      "\n",
      "    negative       0.50      0.60      0.55      1835\n",
      "     neutral       0.46      0.51      0.49      1828\n",
      "    positive       0.60      0.43      0.50      1836\n",
      "\n",
      "    accuracy                           0.51      5499\n",
      "   macro avg       0.52      0.51      0.51      5499\n",
      "weighted avg       0.52      0.51      0.51      5499\n",
      "\n"
     ]
    }
   ],
   "source": [
    "predictions=model.predict(padded_docs_test)\n",
    "class_labels = ['negative', 'positive','neutral']\n",
    "predicted_class_labels = [class_labels[np.argmax(pred)] for pred in predictions]\n",
    "actual_class_labels=[class_labels[actual] for actual in y_test]\n",
    "print(classification_report(actual_class_labels, predicted_class_labels))"
   ]
  },
  {
   "cell_type": "code",
   "execution_count": 17,
   "id": "9208658a",
   "metadata": {},
   "outputs": [
    {
     "data": {
      "image/png": "[encoded data removed]",
      "text/plain": [
       "<Figure size 576x432 with 2 Axes>"
      ]
     },
     "metadata": {
      "needs_background": "light"
     },
     "output_type": "display_data"
    }
   ],
   "source": [
    "conf_matrix = confusion_matrix(actual_class_labels, predicted_class_labels, labels=class_labels)\n",
    "plt.figure(figsize=(8, 6))\n",
    "sns.heatmap(conf_matrix, annot=True, fmt=\"d\", cmap=\"Purples\", xticklabels=class_labels, yticklabels=class_labels)\n",
    "plt.title('Confusion Matrix')\n",
    "plt.xlabel('Predicted Labels')\n",
    "plt.ylabel('True Labels')\n",
    "plt.show()"
   ]
  },
  {
   "cell_type": "markdown",
   "id": "dd974772",
   "metadata": {},
   "source": [
    "##### 8) Saving the final results in Excel sheet"
   ]
  },
  {
   "cell_type": "code",
   "execution_count": 18,
   "id": "a0081b41",
   "metadata": {},
   "outputs": [
    {
     "name": "stdout",
     "output_type": "stream",
     "text": [
      "Precision per class: [0.5043598  0.46276068 0.59954058]\n",
      "Recall per class: [0.59891008 0.50984683 0.42647059]\n"
     ]
    }
   ],
   "source": [
    "precision_per_class = precision_score(actual_class_labels, predicted_class_labels, average=None)\n",
    "recall_per_class = recall_score(actual_class_labels, predicted_class_labels, average=None)\n",
    "\n",
    "print(\"Precision per class:\", precision_per_class)\n",
    "print(\"Recall per class:\", recall_per_class)"
   ]
  },
  {
   "cell_type": "code",
   "execution_count": 19,
   "id": "7df0d2f2",
   "metadata": {},
   "outputs": [
    {
     "name": "stdout",
     "output_type": "stream",
     "text": [
      "Micro F1 Score: 0.5117294053464266\n",
      "Macro F1 Score: 0.5103853639663504\n"
     ]
    }
   ],
   "source": [
    "f1_micro = f1_score(actual_class_labels, predicted_class_labels, average='micro')\n",
    "f1_macro = f1_score(actual_class_labels, predicted_class_labels, average='macro')\n",
    "\n",
    "print(\"Micro F1 Score:\", f1_micro)\n",
    "print(\"Macro F1 Score:\", f1_macro)"
   ]
  },
  {
   "cell_type": "code",
   "execution_count": 21,
   "id": "4c914537",
   "metadata": {},
   "outputs": [
    {
     "data": {
      "text/html": [
       "<div>\n",
       "<style scoped>\n",
       "    .dataframe tbody tr th:only-of-type {\n",
       "        vertical-align: middle;\n",
       "    }\n",
       "\n",
       "    .dataframe tbody tr th {\n",
       "        vertical-align: top;\n",
       "    }\n",
       "\n",
       "    .dataframe thead th {\n",
       "        text-align: right;\n",
       "    }\n",
       "</style>\n",
       "<table border=\"1\" class=\"dataframe\">\n",
       "  <thead>\n",
       "    <tr style=\"text-align: right;\">\n",
       "      <th></th>\n",
       "      <th>Unnamed: 0</th>\n",
       "      <th>CharacterSwapping_Dataset</th>\n",
       "    </tr>\n",
       "  </thead>\n",
       "  <tbody>\n",
       "    <tr>\n",
       "      <th>0</th>\n",
       "      <td>Training Accuracy</td>\n",
       "      <td>0.897372</td>\n",
       "    </tr>\n",
       "    <tr>\n",
       "      <th>1</th>\n",
       "      <td>Testing Accuracy</td>\n",
       "      <td>0.511729</td>\n",
       "    </tr>\n",
       "    <tr>\n",
       "      <th>2</th>\n",
       "      <td>Micro F1 Score</td>\n",
       "      <td>0.511729</td>\n",
       "    </tr>\n",
       "    <tr>\n",
       "      <th>3</th>\n",
       "      <td>Macro F1 Score</td>\n",
       "      <td>0.510385</td>\n",
       "    </tr>\n",
       "    <tr>\n",
       "      <th>4</th>\n",
       "      <td>Precision for Negative sentiment</td>\n",
       "      <td>0.504360</td>\n",
       "    </tr>\n",
       "    <tr>\n",
       "      <th>5</th>\n",
       "      <td>Precision for Positive sentiment</td>\n",
       "      <td>0.462761</td>\n",
       "    </tr>\n",
       "    <tr>\n",
       "      <th>6</th>\n",
       "      <td>Precision for Neutral sentiment</td>\n",
       "      <td>0.599541</td>\n",
       "    </tr>\n",
       "    <tr>\n",
       "      <th>7</th>\n",
       "      <td>Recall for Negative sentiment</td>\n",
       "      <td>0.598910</td>\n",
       "    </tr>\n",
       "    <tr>\n",
       "      <th>8</th>\n",
       "      <td>Recall for Positive sentiment</td>\n",
       "      <td>0.509847</td>\n",
       "    </tr>\n",
       "    <tr>\n",
       "      <th>9</th>\n",
       "      <td>Recall for Neutral sentiment</td>\n",
       "      <td>0.426471</td>\n",
       "    </tr>\n",
       "  </tbody>\n",
       "</table>\n",
       "</div>"
      ],
      "text/plain": [
       "                         Unnamed: 0  CharacterSwapping_Dataset\n",
       "0                 Training Accuracy                   0.897372\n",
       "1                  Testing Accuracy                   0.511729\n",
       "2                    Micro F1 Score                   0.511729\n",
       "3                    Macro F1 Score                   0.510385\n",
       "4  Precision for Negative sentiment                   0.504360\n",
       "5  Precision for Positive sentiment                   0.462761\n",
       "6   Precision for Neutral sentiment                   0.599541\n",
       "7     Recall for Negative sentiment                   0.598910\n",
       "8     Recall for Positive sentiment                   0.509847\n",
       "9      Recall for Neutral sentiment                   0.426471"
      ]
     },
     "execution_count": 21,
     "metadata": {},
     "output_type": "execute_result"
    }
   ],
   "source": [
    "result=pd.read_csv('TCNModelResults.csv')\n",
    "result['CharacterSwapping_Dataset']=[max(history.history['accuracy']),test_acc,f1_micro,f1_macro,precision_per_class[0],precision_per_class[1],precision_per_class[2],recall_per_class[0],recall_per_class[1],recall_per_class[2]]\n",
    "result[['Unnamed: 0','CharacterSwapping_Dataset']]"
   ]
  },
  {
   "cell_type": "code",
   "execution_count": 22,
   "id": "35796333",
   "metadata": {},
   "outputs": [],
   "source": [
    "result.to_csv('TCNModelResults.csv', index=False)"
   ]
  }
 ],
 "metadata": {
  "kernelspec": {
   "display_name": "Python 3 (ipykernel)",
   "language": "python",
   "name": "python3"
  },
  "language_info": {
   "codemirror_mode": {
    "name": "ipython",
    "version": 3
   },
   "file_extension": ".py",
   "mimetype": "text/x-python",
   "name": "python",
   "nbconvert_exporter": "python",
   "pygments_lexer": "ipython3",
   "version": "3.9.7"
  }
 },
 "nbformat": 4,
 "nbformat_minor": 5
}
