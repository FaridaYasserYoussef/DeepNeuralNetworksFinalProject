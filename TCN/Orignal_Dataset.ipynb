{
 "cells": [
  {
   "cell_type": "markdown",
   "id": "c6575869",
   "metadata": {},
   "source": [
    "# TCN Model"
   ]
  },
  {
   "cell_type": "code",
   "execution_count": 1,
   "id": "934847a5",
   "metadata": {},
   "outputs": [
    {
     "name": "stdout",
     "output_type": "stream",
     "text": [
      "WARNING:tensorflow:From D:\\Users\\Suzan Hatem\\anaconda3\\lib\\site-packages\\keras\\src\\losses.py:2976: The name tf.losses.sparse_softmax_cross_entropy is deprecated. Please use tf.compat.v1.losses.sparse_softmax_cross_entropy instead.\n",
      "\n"
     ]
    }
   ],
   "source": [
    "#Imports\n",
    "import pandas as pd\n",
    "import numpy as np\n",
    "\n",
    "from gensim.models import Word2Vec\n",
    "from sklearn.model_selection import train_test_split\n",
    "from keras.preprocessing.text import Tokenizer\n",
    "from keras.utils import pad_sequences\n",
    "\n",
    "from tcn import TCN, tcn_full_summary\n",
    "from keras.layers import Input, Embedding, Dense, Dropout, SpatialDropout1D\n",
    "from keras.layers import concatenate, GlobalAveragePooling1D, GlobalMaxPooling1D\n",
    "from keras.models import Model\n",
    "from keras.optimizers import Adam\n",
    "\n",
    "import matplotlib.pyplot as plt\n",
    "import seaborn as sns\n",
    "from sklearn.metrics import confusion_matrix\n",
    "from sklearn.metrics import confusion_matrix, ConfusionMatrixDisplay\n",
    "from sklearn.metrics import classification_report\n",
    "from sklearn.metrics import precision_score, recall_score\n",
    "from sklearn.metrics import f1_score"
   ]
  },
  {
   "cell_type": "markdown",
   "id": "978ceb42",
   "metadata": {},
   "source": [
    "##### 1)Loading Dataset"
   ]
  },
  {
   "cell_type": "code",
   "execution_count": 2,
   "id": "272b56c0",
   "metadata": {},
   "outputs": [
    {
     "data": {
      "text/html": [
       "<div>\n",
       "<style scoped>\n",
       "    .dataframe tbody tr th:only-of-type {\n",
       "        vertical-align: middle;\n",
       "    }\n",
       "\n",
       "    .dataframe tbody tr th {\n",
       "        vertical-align: top;\n",
       "    }\n",
       "\n",
       "    .dataframe thead th {\n",
       "        text-align: right;\n",
       "    }\n",
       "</style>\n",
       "<table border=\"1\" class=\"dataframe\">\n",
       "  <thead>\n",
       "    <tr style=\"text-align: right;\">\n",
       "      <th></th>\n",
       "      <th>tweet_id</th>\n",
       "      <th>label</th>\n",
       "      <th>text</th>\n",
       "      <th>length</th>\n",
       "      <th>preprocessed_abstract</th>\n",
       "      <th>length_after_cleaning</th>\n",
       "      <th>tokenized_text</th>\n",
       "    </tr>\n",
       "  </thead>\n",
       "  <tbody>\n",
       "    <tr>\n",
       "      <th>0</th>\n",
       "      <td>570306133677760513</td>\n",
       "      <td>2</td>\n",
       "      <td>@VirginAmerica What @dhepburn said.</td>\n",
       "      <td>35</td>\n",
       "      <td>what say</td>\n",
       "      <td>8</td>\n",
       "      <td>['what', 'say']</td>\n",
       "    </tr>\n",
       "    <tr>\n",
       "      <th>1</th>\n",
       "      <td>570301130888122368</td>\n",
       "      <td>1</td>\n",
       "      <td>@VirginAmerica plus you've added commercials t...</td>\n",
       "      <td>72</td>\n",
       "      <td>plus add commercial experience tacky</td>\n",
       "      <td>36</td>\n",
       "      <td>['plus', 'add', 'commercial', 'experience', 't...</td>\n",
       "    </tr>\n",
       "    <tr>\n",
       "      <th>2</th>\n",
       "      <td>570301083672813571</td>\n",
       "      <td>2</td>\n",
       "      <td>@VirginAmerica I didn't today... Must mean I n...</td>\n",
       "      <td>71</td>\n",
       "      <td>i today must mean i need take another trip</td>\n",
       "      <td>42</td>\n",
       "      <td>['i', 'today', 'must', 'mean', 'i', 'need', 't...</td>\n",
       "    </tr>\n",
       "    <tr>\n",
       "      <th>3</th>\n",
       "      <td>570301031407624196</td>\n",
       "      <td>0</td>\n",
       "      <td>@VirginAmerica it's really aggressive to blast...</td>\n",
       "      <td>126</td>\n",
       "      <td>really aggressive blast obnoxious entertainmen...</td>\n",
       "      <td>78</td>\n",
       "      <td>['really', 'aggressive', 'blast', 'obnoxious',...</td>\n",
       "    </tr>\n",
       "    <tr>\n",
       "      <th>4</th>\n",
       "      <td>570300817074462722</td>\n",
       "      <td>0</td>\n",
       "      <td>@VirginAmerica and it's a really big bad thing...</td>\n",
       "      <td>55</td>\n",
       "      <td>really big bad thing</td>\n",
       "      <td>20</td>\n",
       "      <td>['really', 'big', 'bad', 'thing']</td>\n",
       "    </tr>\n",
       "  </tbody>\n",
       "</table>\n",
       "</div>"
      ],
      "text/plain": [
       "             tweet_id  label  \\\n",
       "0  570306133677760513      2   \n",
       "1  570301130888122368      1   \n",
       "2  570301083672813571      2   \n",
       "3  570301031407624196      0   \n",
       "4  570300817074462722      0   \n",
       "\n",
       "                                                text  length  \\\n",
       "0                @VirginAmerica What @dhepburn said.      35   \n",
       "1  @VirginAmerica plus you've added commercials t...      72   \n",
       "2  @VirginAmerica I didn't today... Must mean I n...      71   \n",
       "3  @VirginAmerica it's really aggressive to blast...     126   \n",
       "4  @VirginAmerica and it's a really big bad thing...      55   \n",
       "\n",
       "                               preprocessed_abstract  length_after_cleaning  \\\n",
       "0                                           what say                      8   \n",
       "1               plus add commercial experience tacky                     36   \n",
       "2         i today must mean i need take another trip                     42   \n",
       "3  really aggressive blast obnoxious entertainmen...                     78   \n",
       "4                               really big bad thing                     20   \n",
       "\n",
       "                                      tokenized_text  \n",
       "0                                    ['what', 'say']  \n",
       "1  ['plus', 'add', 'commercial', 'experience', 't...  \n",
       "2  ['i', 'today', 'must', 'mean', 'i', 'need', 't...  \n",
       "3  ['really', 'aggressive', 'blast', 'obnoxious',...  \n",
       "4                  ['really', 'big', 'bad', 'thing']  "
      ]
     },
     "execution_count": 2,
     "metadata": {},
     "output_type": "execute_result"
    }
   ],
   "source": [
    "df=pd.read_csv(\"df_Original.csv\")\n",
    "df.head()"
   ]
  },
  {
   "cell_type": "code",
   "execution_count": 3,
   "id": "5fc2dbfe",
   "metadata": {},
   "outputs": [
    {
     "data": {
      "text/plain": [
       "tweet_id                  0\n",
       "label                     0\n",
       "text                      0\n",
       "length                    0\n",
       "preprocessed_abstract    17\n",
       "length_after_cleaning     0\n",
       "tokenized_text            0\n",
       "dtype: int64"
      ]
     },
     "execution_count": 3,
     "metadata": {},
     "output_type": "execute_result"
    }
   ],
   "source": [
    "df.isnull().sum()"
   ]
  },
  {
   "cell_type": "code",
   "execution_count": 4,
   "id": "f4ad58fa",
   "metadata": {},
   "outputs": [],
   "source": [
    "df = df.dropna()"
   ]
  },
  {
   "cell_type": "markdown",
   "id": "46c4f1f4",
   "metadata": {},
   "source": [
    "##### 2)Preparing Data"
   ]
  },
  {
   "cell_type": "markdown",
   "id": "1130b37b",
   "metadata": {},
   "source": [
    "- Word2Vec model (pre-trained word embeddings) for embedding layer in the model"
   ]
  },
  {
   "cell_type": "code",
   "execution_count": 5,
   "id": "029601c1",
   "metadata": {},
   "outputs": [
    {
     "data": {
      "text/plain": [
       "array([[-3.72568876e-01,  4.46902394e-01,  3.62366252e-02, ...,\n",
       "        -5.99462032e-01, -1.60616130e-01, -1.46761745e-01],\n",
       "       [-8.95371258e-01,  7.28352010e-01,  1.00490585e-01, ...,\n",
       "        -1.07304478e+00,  3.55727702e-01, -8.45657051e-01],\n",
       "       [-2.36410841e-01,  5.54484010e-01, -8.91624689e-02, ...,\n",
       "        -5.48562229e-01,  9.66106206e-02, -1.39762908e-01],\n",
       "       ...,\n",
       "       [ 5.94435353e-03,  9.22280177e-03, -1.09863526e-03, ...,\n",
       "        -6.34492282e-03, -1.19147100e-03, -6.32755691e-03],\n",
       "       [ 5.92717063e-03, -1.43440280e-04,  4.75345273e-03, ...,\n",
       "        -9.86697804e-03,  7.31127150e-03, -7.56773446e-03],\n",
       "       [-8.70730355e-03, -9.75005096e-04,  8.02892353e-03, ...,\n",
       "        -1.53629556e-02, -4.53643413e-04, -1.07408930e-02]], dtype=float32)"
      ]
     },
     "execution_count": 5,
     "metadata": {},
     "output_type": "execute_result"
    }
   ],
   "source": [
    "sentences = [sentence.split() for sentence in df['preprocessed_abstract']]\n",
    "# Create and train the Word2Vec model\n",
    "model_2= Word2Vec(sentences, vector_size=100, window=5, min_count=1, workers=4)\n",
    "# Access the word vectors\n",
    "word_vectors = model_2.wv\n",
    "word_vectors.vectors"
   ]
  },
  {
   "cell_type": "code",
   "execution_count": 6,
   "id": "08dd43f6",
   "metadata": {},
   "outputs": [
    {
     "data": {
      "text/plain": [
       "(9314, 100)"
      ]
     },
     "execution_count": 6,
     "metadata": {},
     "output_type": "execute_result"
    }
   ],
   "source": [
    "word_vectors.vectors.shape"
   ]
  },
  {
   "cell_type": "markdown",
   "id": "4e03b6a9",
   "metadata": {},
   "source": [
    "#####  3) Split , into Training and Validation Sets (80:20)"
   ]
  },
  {
   "cell_type": "code",
   "execution_count": 7,
   "id": "d8741840",
   "metadata": {},
   "outputs": [
    {
     "name": "stdout",
     "output_type": "stream",
     "text": [
      "Train data: (11698,) (11698,)\n",
      "Test data: (2925,) (2925,)\n"
     ]
    }
   ],
   "source": [
    "X_train, X_test, y_train, y_test = train_test_split(df['preprocessed_abstract'], df['label'], test_size=0.2, stratify=df['label'], random_state=42)\n",
    "print(\"Train data:\",  X_train.shape, y_train.shape)\n",
    "print(\"Test data:\",  X_test.shape, y_test.shape)"
   ]
  },
  {
   "cell_type": "code",
   "execution_count": 8,
   "id": "9d5b7f7d",
   "metadata": {},
   "outputs": [
    {
     "data": {
      "image/png": "[encoded data removed]",
      "text/plain": [
       "<Figure size 1008x432 with 1 Axes>"
      ]
     },
     "metadata": {},
     "output_type": "display_data"
    }
   ],
   "source": [
    "plt.figure(figsize=(14,6))\n",
    "colors = ['#4285f4', '#ea4335', '#fbbc05', '#34a853']\n",
    "plt.rcParams.update({'font.size': 14})\n",
    "plt.pie([len(y_train), len(y_test)],\n",
    "        labels=['Train','Test'],\n",
    "        colors=colors, autopct='%.1f%%', explode=(0.05,0.05),\n",
    "        startangle=30);"
   ]
  },
  {
   "cell_type": "code",
   "execution_count": 9,
   "id": "1a2e2405",
   "metadata": {},
   "outputs": [
    {
     "name": "stdout",
     "output_type": "stream",
     "text": [
      "[[ 218   38 1064 ...    0    0    0]\n",
      " [ 360  225   99 ...    0    0    0]\n",
      " [   2  334  599 ...    0    0    0]\n",
      " ...\n",
      " [  53  278   11 ...    0    0    0]\n",
      " [ 218 1150  251 ...    0    0    0]\n",
      " [  84  199    2 ...    0    0    0]]\n"
     ]
    }
   ],
   "source": [
    "corp=X_train\n",
    "t = Tokenizer()\n",
    "t.fit_on_texts(corp)\n",
    "vocab_size = len(t.word_index) + 1\n",
    "# integer encode the documents\n",
    "encoded_docs = t.texts_to_sequences(corp)\n",
    "# print(encoded_docs)\n",
    "max_length=max(len(d) for d in encoded_docs)\n",
    "padded_docs_train = pad_sequences(encoded_docs, maxlen=max_length, padding='post')\n",
    "print(padded_docs_train)"
   ]
  },
  {
   "cell_type": "code",
   "execution_count": 10,
   "id": "16c1cbc2",
   "metadata": {},
   "outputs": [
    {
     "name": "stdout",
     "output_type": "stream",
     "text": [
      "[[524  14  13 ...   0   0   0]\n",
      " [  1   3  17 ...   0   0   0]\n",
      " [ 34  33   4 ...   0   0   0]\n",
      " ...\n",
      " [ 85 241  44 ...   0   0   0]\n",
      " [481   8 850 ...   0   0   0]\n",
      " [  1  16   7 ...   0   0   0]]\n"
     ]
    }
   ],
   "source": [
    "corp=X_test\n",
    "t = Tokenizer()\n",
    "t.fit_on_texts(corp)\n",
    "vocab_size = len(t.word_index) + 1\n",
    "# integer encode the documents\n",
    "encoded_docs = t.texts_to_sequences(corp)\n",
    "# print(encoded_docs)\n",
    "padded_docs_test = pad_sequences(encoded_docs, maxlen=max_length, padding='post')\n",
    "print(padded_docs_test)"
   ]
  },
  {
   "cell_type": "markdown",
   "id": "c2ffb115",
   "metadata": {},
   "source": [
    "##### 4)Model Architecture"
   ]
  },
  {
   "cell_type": "code",
   "execution_count": 11,
   "id": "1a556ad9",
   "metadata": {},
   "outputs": [],
   "source": [
    "def tcn_model(kernel_size = 1, activation='relu', input_dim = None, \n",
    "                   output_dim=100, max_length = None, emb_matrix = None):\n",
    "    \n",
    "    inp = Input( shape=(max_length,))\n",
    "    x = Embedding(input_dim=input_dim, \n",
    "                  output_dim=output_dim, \n",
    "                  input_length=max_length,\n",
    "                  # Assign the embedding weight with word2vec embedding marix\n",
    "                  weights = [emb_matrix],\n",
    "                  # Set the weight to be not trainable (static)\n",
    "                  trainable = False)(inp)\n",
    "    \n",
    "    x = SpatialDropout1D(0.1)(x)\n",
    "    \n",
    "    x = TCN(128,dilations = [1, 2, 4], return_sequences=True, activation = activation, name = 'tcn1')(x)\n",
    "    x = TCN(32,dilations = [1, 2, 4], return_sequences=True, activation = activation, name = 'tcn2')(x)\n",
    "    \n",
    "    avg_pool = GlobalAveragePooling1D()(x)\n",
    "    max_pool = GlobalMaxPooling1D()(x)\n",
    "    \n",
    "    conc = concatenate([avg_pool, max_pool])\n",
    "    conc = Dense(16, activation=\"relu\")(conc)\n",
    "    conc = Dropout(0.5)(conc)\n",
    "    outp = Dense(3, activation=\"softmax\")(conc)    \n",
    "\n",
    "    model = Model(inputs=inp, outputs=outp)\n",
    "    model.compile(loss='sparse_categorical_crossentropy', optimizer=Adam(), metrics=['accuracy'])\n",
    "    \n",
    "    return model"
   ]
  },
  {
   "cell_type": "code",
   "execution_count": 12,
   "id": "abfb9a9f",
   "metadata": {},
   "outputs": [
    {
     "name": "stdout",
     "output_type": "stream",
     "text": [
      "WARNING:tensorflow:From D:\\Users\\Suzan Hatem\\anaconda3\\lib\\site-packages\\keras\\src\\backend.py:1398: The name tf.executing_eagerly_outside_functions is deprecated. Please use tf.compat.v1.executing_eagerly_outside_functions instead.\n",
      "\n",
      "Model: \"model\"\n",
      "__________________________________________________________________________________________________\n",
      " Layer (type)                Output Shape                 Param #   Connected to                  \n",
      "==================================================================================================\n",
      " input_1 (InputLayer)        [(None, 26)]                 0         []                            \n",
      "                                                                                                  \n",
      " embedding (Embedding)       (None, 26, 100)              931400    ['input_1[0][0]']             \n",
      "                                                                                                  \n",
      " spatial_dropout1d (Spatial  (None, 26, 100)              0         ['embedding[0][0]']           \n",
      " Dropout1D)                                                                                       \n",
      "                                                                                                  \n",
      " tcn1 (TCN)                  (None, 26, 128)              297856    ['spatial_dropout1d[0][0]']   \n",
      "                                                                                                  \n",
      " tcn2 (TCN)                  (None, 26, 32)               31968     ['tcn1[0][0]']                \n",
      "                                                                                                  \n",
      " global_average_pooling1d (  (None, 32)                   0         ['tcn2[0][0]']                \n",
      " GlobalAveragePooling1D)                                                                          \n",
      "                                                                                                  \n",
      " global_max_pooling1d (Glob  (None, 32)                   0         ['tcn2[0][0]']                \n",
      " alMaxPooling1D)                                                                                  \n",
      "                                                                                                  \n",
      " concatenate (Concatenate)   (None, 64)                   0         ['global_average_pooling1d[0][\n",
      "                                                                    0]',                          \n",
      "                                                                     'global_max_pooling1d[0][0]']\n",
      "                                                                                                  \n",
      " dense (Dense)               (None, 16)                   1040      ['concatenate[0][0]']         \n",
      "                                                                                                  \n",
      " dropout (Dropout)           (None, 16)                   0         ['dense[0][0]']               \n",
      "                                                                                                  \n",
      " dense_1 (Dense)             (None, 3)                    51        ['dropout[0][0]']             \n",
      "                                                                                                  \n",
      "==================================================================================================\n",
      "Total params: 1262315 (4.82 MB)\n",
      "Trainable params: 330915 (1.26 MB)\n",
      "Non-trainable params: 931400 (3.55 MB)\n",
      "__________________________________________________________________________________________________\n"
     ]
    }
   ],
   "source": [
    "model =tcn_model(input_dim=word_vectors.vectors.shape[0], output_dim=100, max_length=max_length, emb_matrix=word_vectors.vectors)\n",
    "model.summary()"
   ]
  },
  {
   "cell_type": "markdown",
   "id": "6ea9dbdd",
   "metadata": {},
   "source": [
    "##### 5) Training Model"
   ]
  },
  {
   "cell_type": "code",
   "execution_count": 13,
   "id": "1a3407cf",
   "metadata": {},
   "outputs": [
    {
     "name": "stdout",
     "output_type": "stream",
     "text": [
      "Epoch 1/100\n",
      "WARNING:tensorflow:From D:\\Users\\Suzan Hatem\\anaconda3\\lib\\site-packages\\keras\\src\\utils\\tf_utils.py:492: The name tf.ragged.RaggedTensorValue is deprecated. Please use tf.compat.v1.ragged.RaggedTensorValue instead.\n",
      "\n",
      "WARNING:tensorflow:From D:\\Users\\Suzan Hatem\\anaconda3\\lib\\site-packages\\keras\\src\\engine\\base_layer_utils.py:384: The name tf.executing_eagerly_outside_functions is deprecated. Please use tf.compat.v1.executing_eagerly_outside_functions instead.\n",
      "\n",
      "117/117 [==============================] - 11s 57ms/step - loss: 1.0083 - accuracy: 0.6184 - val_loss: 0.8640 - val_accuracy: 0.6274\n",
      "Epoch 2/100\n",
      "117/117 [==============================] - 6s 51ms/step - loss: 0.9171 - accuracy: 0.6263 - val_loss: 0.8483 - val_accuracy: 0.6274\n",
      "Epoch 3/100\n",
      "117/117 [==============================] - 6s 54ms/step - loss: 0.8832 - accuracy: 0.6416 - val_loss: 0.8122 - val_accuracy: 0.6639\n",
      "Epoch 4/100\n",
      "117/117 [==============================] - 6s 52ms/step - loss: 0.8396 - accuracy: 0.6622 - val_loss: 0.8031 - val_accuracy: 0.6670\n",
      "Epoch 5/100\n",
      "117/117 [==============================] - 6s 51ms/step - loss: 0.8299 - accuracy: 0.6634 - val_loss: 0.8067 - val_accuracy: 0.6588\n",
      "Epoch 6/100\n",
      "117/117 [==============================] - 6s 51ms/step - loss: 0.8266 - accuracy: 0.6614 - val_loss: 0.8050 - val_accuracy: 0.6677\n",
      "Epoch 7/100\n",
      "117/117 [==============================] - 6s 51ms/step - loss: 0.8217 - accuracy: 0.6598 - val_loss: 0.8044 - val_accuracy: 0.6663\n",
      "Epoch 8/100\n",
      "117/117 [==============================] - 6s 52ms/step - loss: 0.8169 - accuracy: 0.6622 - val_loss: 0.8088 - val_accuracy: 0.6653\n",
      "Epoch 9/100\n",
      "117/117 [==============================] - 6s 52ms/step - loss: 0.8203 - accuracy: 0.6579 - val_loss: 0.8253 - val_accuracy: 0.6670\n",
      "Epoch 10/100\n",
      "117/117 [==============================] - 6s 55ms/step - loss: 0.8183 - accuracy: 0.6584 - val_loss: 0.7881 - val_accuracy: 0.6663\n",
      "Epoch 11/100\n",
      "117/117 [==============================] - 6s 53ms/step - loss: 0.8185 - accuracy: 0.6602 - val_loss: 0.7926 - val_accuracy: 0.6639\n",
      "Epoch 12/100\n",
      "117/117 [==============================] - 6s 50ms/step - loss: 0.8071 - accuracy: 0.6620 - val_loss: 0.7974 - val_accuracy: 0.6636\n",
      "Epoch 13/100\n",
      "117/117 [==============================] - 6s 52ms/step - loss: 0.8046 - accuracy: 0.6612 - val_loss: 0.7906 - val_accuracy: 0.6650\n",
      "Epoch 14/100\n",
      "117/117 [==============================] - 6s 51ms/step - loss: 0.8039 - accuracy: 0.6623 - val_loss: 0.7970 - val_accuracy: 0.6667\n",
      "Epoch 15/100\n",
      "117/117 [==============================] - 6s 52ms/step - loss: 0.8011 - accuracy: 0.6632 - val_loss: 0.7970 - val_accuracy: 0.6615\n",
      "Epoch 16/100\n",
      "117/117 [==============================] - 6s 52ms/step - loss: 0.7983 - accuracy: 0.6644 - val_loss: 0.7805 - val_accuracy: 0.6674\n",
      "Epoch 17/100\n",
      "117/117 [==============================] - 7s 58ms/step - loss: 0.7944 - accuracy: 0.6644 - val_loss: 0.7848 - val_accuracy: 0.6708\n",
      "Epoch 18/100\n",
      "117/117 [==============================] - 7s 62ms/step - loss: 0.7910 - accuracy: 0.6709 - val_loss: 0.7891 - val_accuracy: 0.6598\n",
      "Epoch 19/100\n",
      "117/117 [==============================] - 7s 56ms/step - loss: 0.7855 - accuracy: 0.6709 - val_loss: 0.7817 - val_accuracy: 0.6674\n",
      "Epoch 20/100\n",
      "117/117 [==============================] - 6s 51ms/step - loss: 0.7911 - accuracy: 0.6737 - val_loss: 0.8208 - val_accuracy: 0.6485\n",
      "Epoch 21/100\n",
      "117/117 [==============================] - 6s 52ms/step - loss: 0.7806 - accuracy: 0.6758 - val_loss: 0.8009 - val_accuracy: 0.6660\n",
      "Epoch 22/100\n",
      "117/117 [==============================] - 6s 53ms/step - loss: 0.7798 - accuracy: 0.6794 - val_loss: 0.8143 - val_accuracy: 0.6626\n",
      "Epoch 23/100\n",
      "117/117 [==============================] - 6s 55ms/step - loss: 0.7769 - accuracy: 0.6799 - val_loss: 0.7928 - val_accuracy: 0.6646\n",
      "Epoch 24/100\n",
      "117/117 [==============================] - 7s 57ms/step - loss: 0.7726 - accuracy: 0.6796 - val_loss: 0.7998 - val_accuracy: 0.6632\n",
      "Epoch 25/100\n",
      "117/117 [==============================] - 6s 51ms/step - loss: 0.7706 - accuracy: 0.6817 - val_loss: 0.7927 - val_accuracy: 0.6745\n",
      "Epoch 26/100\n",
      "117/117 [==============================] - 6s 53ms/step - loss: 0.7650 - accuracy: 0.6804 - val_loss: 0.8224 - val_accuracy: 0.6650\n",
      "Epoch 27/100\n",
      "117/117 [==============================] - 6s 53ms/step - loss: 0.7638 - accuracy: 0.6824 - val_loss: 0.8086 - val_accuracy: 0.6677\n",
      "Epoch 28/100\n",
      "117/117 [==============================] - 6s 50ms/step - loss: 0.7506 - accuracy: 0.6871 - val_loss: 0.8148 - val_accuracy: 0.6530\n",
      "Epoch 29/100\n",
      "117/117 [==============================] - 6s 50ms/step - loss: 0.7506 - accuracy: 0.6852 - val_loss: 0.8089 - val_accuracy: 0.6598\n",
      "Epoch 30/100\n",
      "117/117 [==============================] - 6s 52ms/step - loss: 0.7486 - accuracy: 0.6849 - val_loss: 0.8002 - val_accuracy: 0.6660\n",
      "Epoch 31/100\n",
      "117/117 [==============================] - 6s 52ms/step - loss: 0.7325 - accuracy: 0.6933 - val_loss: 0.8092 - val_accuracy: 0.6639\n",
      "Epoch 32/100\n",
      "117/117 [==============================] - 6s 50ms/step - loss: 0.7272 - accuracy: 0.6934 - val_loss: 0.8059 - val_accuracy: 0.6797\n",
      "Epoch 33/100\n",
      "117/117 [==============================] - 6s 50ms/step - loss: 0.7166 - accuracy: 0.6953 - val_loss: 0.8493 - val_accuracy: 0.6605\n",
      "Epoch 34/100\n",
      "117/117 [==============================] - 6s 51ms/step - loss: 0.7095 - accuracy: 0.6988 - val_loss: 0.8286 - val_accuracy: 0.6639\n",
      "Epoch 35/100\n",
      "117/117 [==============================] - 7s 56ms/step - loss: 0.6965 - accuracy: 0.7055 - val_loss: 0.9192 - val_accuracy: 0.6523\n",
      "Epoch 36/100\n",
      "117/117 [==============================] - 7s 56ms/step - loss: 0.6968 - accuracy: 0.6978 - val_loss: 0.8889 - val_accuracy: 0.6530\n",
      "Epoch 37/100\n",
      "117/117 [==============================] - 6s 54ms/step - loss: 0.6838 - accuracy: 0.7071 - val_loss: 0.8575 - val_accuracy: 0.6660\n",
      "Epoch 38/100\n",
      "117/117 [==============================] - 7s 56ms/step - loss: 0.6700 - accuracy: 0.7128 - val_loss: 0.8892 - val_accuracy: 0.6615\n",
      "Epoch 39/100\n",
      "117/117 [==============================] - 6s 53ms/step - loss: 0.6629 - accuracy: 0.7183 - val_loss: 0.8708 - val_accuracy: 0.6472\n",
      "Epoch 40/100\n",
      "117/117 [==============================] - 6s 52ms/step - loss: 0.6489 - accuracy: 0.7193 - val_loss: 0.9501 - val_accuracy: 0.6526\n",
      "Epoch 41/100\n",
      "117/117 [==============================] - 6s 50ms/step - loss: 0.6398 - accuracy: 0.7171 - val_loss: 0.9322 - val_accuracy: 0.6458\n",
      "Epoch 42/100\n",
      "117/117 [==============================] - 6s 50ms/step - loss: 0.6271 - accuracy: 0.7258 - val_loss: 1.0221 - val_accuracy: 0.6304\n",
      "Epoch 43/100\n",
      "117/117 [==============================] - 6s 49ms/step - loss: 0.6062 - accuracy: 0.7342 - val_loss: 0.9918 - val_accuracy: 0.6523\n",
      "Epoch 44/100\n",
      "117/117 [==============================] - 6s 50ms/step - loss: 0.5983 - accuracy: 0.7359 - val_loss: 1.1053 - val_accuracy: 0.6485\n",
      "Epoch 45/100\n",
      "117/117 [==============================] - 6s 50ms/step - loss: 0.5768 - accuracy: 0.7446 - val_loss: 1.0481 - val_accuracy: 0.6485\n",
      "Epoch 46/100\n",
      "117/117 [==============================] - 6s 50ms/step - loss: 0.5760 - accuracy: 0.7462 - val_loss: 1.1012 - val_accuracy: 0.6393\n",
      "Epoch 47/100\n",
      "117/117 [==============================] - 6s 49ms/step - loss: 0.5604 - accuracy: 0.7524 - val_loss: 1.0980 - val_accuracy: 0.6297\n",
      "Epoch 48/100\n",
      "117/117 [==============================] - 6s 50ms/step - loss: 0.5469 - accuracy: 0.7584 - val_loss: 1.1011 - val_accuracy: 0.5826\n",
      "Epoch 49/100\n",
      "117/117 [==============================] - 6s 49ms/step - loss: 0.5374 - accuracy: 0.7631 - val_loss: 1.1505 - val_accuracy: 0.5973\n",
      "Epoch 50/100\n",
      "117/117 [==============================] - 6s 49ms/step - loss: 0.5226 - accuracy: 0.7712 - val_loss: 1.2037 - val_accuracy: 0.6144\n",
      "Epoch 51/100\n",
      "117/117 [==============================] - 6s 49ms/step - loss: 0.5168 - accuracy: 0.7693 - val_loss: 1.2595 - val_accuracy: 0.6232\n",
      "Epoch 52/100\n",
      "117/117 [==============================] - 6s 50ms/step - loss: 0.4928 - accuracy: 0.7822 - val_loss: 1.3583 - val_accuracy: 0.6253\n",
      "Epoch 53/100\n",
      "117/117 [==============================] - 6s 49ms/step - loss: 0.5099 - accuracy: 0.7806 - val_loss: 1.2950 - val_accuracy: 0.5846\n",
      "Epoch 54/100\n"
     ]
    },
    {
     "name": "stdout",
     "output_type": "stream",
     "text": [
      "117/117 [==============================] - 6s 49ms/step - loss: 0.4819 - accuracy: 0.7867 - val_loss: 1.3177 - val_accuracy: 0.5897\n",
      "Epoch 55/100\n",
      "117/117 [==============================] - 6s 50ms/step - loss: 0.4540 - accuracy: 0.7971 - val_loss: 1.5486 - val_accuracy: 0.6260\n",
      "Epoch 56/100\n",
      "117/117 [==============================] - 6s 50ms/step - loss: 0.4665 - accuracy: 0.7940 - val_loss: 1.4883 - val_accuracy: 0.6024\n",
      "Epoch 57/100\n",
      "117/117 [==============================] - 6s 50ms/step - loss: 0.4416 - accuracy: 0.8067 - val_loss: 1.6130 - val_accuracy: 0.6164\n",
      "Epoch 58/100\n",
      "117/117 [==============================] - 6s 51ms/step - loss: 0.4438 - accuracy: 0.7990 - val_loss: 1.4737 - val_accuracy: 0.5556\n",
      "Epoch 59/100\n",
      "117/117 [==============================] - 6s 49ms/step - loss: 0.4429 - accuracy: 0.8063 - val_loss: 1.7339 - val_accuracy: 0.6188\n",
      "Epoch 60/100\n",
      "117/117 [==============================] - 6s 49ms/step - loss: 0.4177 - accuracy: 0.8161 - val_loss: 1.8326 - val_accuracy: 0.6126\n",
      "Epoch 61/100\n",
      "117/117 [==============================] - 6s 50ms/step - loss: 0.4078 - accuracy: 0.8267 - val_loss: 1.6526 - val_accuracy: 0.5627\n",
      "Epoch 62/100\n",
      "117/117 [==============================] - 6s 50ms/step - loss: 0.3942 - accuracy: 0.8254 - val_loss: 1.7011 - val_accuracy: 0.5969\n",
      "Epoch 63/100\n",
      "117/117 [==============================] - 6s 50ms/step - loss: 0.4053 - accuracy: 0.8213 - val_loss: 1.8853 - val_accuracy: 0.5870\n",
      "Epoch 64/100\n",
      "117/117 [==============================] - 6s 51ms/step - loss: 0.3865 - accuracy: 0.8356 - val_loss: 2.0469 - val_accuracy: 0.6174\n",
      "Epoch 65/100\n",
      "117/117 [==============================] - 6s 51ms/step - loss: 0.3887 - accuracy: 0.8351 - val_loss: 2.0547 - val_accuracy: 0.6123\n",
      "Epoch 66/100\n",
      "117/117 [==============================] - 6s 51ms/step - loss: 0.3807 - accuracy: 0.8366 - val_loss: 1.7451 - val_accuracy: 0.6010\n",
      "Epoch 67/100\n",
      "117/117 [==============================] - 6s 51ms/step - loss: 0.3749 - accuracy: 0.8367 - val_loss: 1.9556 - val_accuracy: 0.6120\n",
      "Epoch 68/100\n",
      "117/117 [==============================] - 6s 51ms/step - loss: 0.3529 - accuracy: 0.8517 - val_loss: 2.2153 - val_accuracy: 0.6113\n",
      "Epoch 69/100\n",
      "117/117 [==============================] - 6s 51ms/step - loss: 0.3843 - accuracy: 0.8333 - val_loss: 2.0494 - val_accuracy: 0.6072\n",
      "Epoch 70/100\n",
      "117/117 [==============================] - 6s 52ms/step - loss: 0.3624 - accuracy: 0.8494 - val_loss: 1.8465 - val_accuracy: 0.5798\n",
      "Epoch 71/100\n",
      "117/117 [==============================] - 6s 51ms/step - loss: 0.3373 - accuracy: 0.8539 - val_loss: 1.9474 - val_accuracy: 0.6168\n",
      "Epoch 72/100\n",
      "117/117 [==============================] - 6s 51ms/step - loss: 0.3411 - accuracy: 0.8527 - val_loss: 2.0409 - val_accuracy: 0.5713\n",
      "Epoch 73/100\n",
      "117/117 [==============================] - 6s 52ms/step - loss: 0.3240 - accuracy: 0.8611 - val_loss: 2.0843 - val_accuracy: 0.6017\n",
      "Epoch 74/100\n",
      "117/117 [==============================] - 6s 51ms/step - loss: 0.3376 - accuracy: 0.8593 - val_loss: 2.1044 - val_accuracy: 0.5832\n",
      "Epoch 75/100\n",
      "117/117 [==============================] - 6s 53ms/step - loss: 0.3390 - accuracy: 0.8597 - val_loss: 2.0279 - val_accuracy: 0.6000\n",
      "Epoch 76/100\n",
      "117/117 [==============================] - 6s 52ms/step - loss: 0.3186 - accuracy: 0.8640 - val_loss: 2.1581 - val_accuracy: 0.6003\n",
      "Epoch 77/100\n",
      "117/117 [==============================] - 6s 52ms/step - loss: 0.3264 - accuracy: 0.8621 - val_loss: 2.3156 - val_accuracy: 0.5997\n",
      "Epoch 78/100\n",
      "117/117 [==============================] - 6s 52ms/step - loss: 0.3189 - accuracy: 0.8649 - val_loss: 2.4127 - val_accuracy: 0.6027\n",
      "Epoch 79/100\n",
      "117/117 [==============================] - 6s 52ms/step - loss: 0.3267 - accuracy: 0.8652 - val_loss: 2.5761 - val_accuracy: 0.5997\n",
      "Epoch 80/100\n",
      "117/117 [==============================] - 6s 51ms/step - loss: 0.3263 - accuracy: 0.8677 - val_loss: 2.3963 - val_accuracy: 0.5935\n",
      "Epoch 81/100\n",
      "117/117 [==============================] - 6s 51ms/step - loss: 0.3441 - accuracy: 0.8576 - val_loss: 2.0168 - val_accuracy: 0.5795\n",
      "Epoch 82/100\n",
      "117/117 [==============================] - 6s 51ms/step - loss: 0.3195 - accuracy: 0.8701 - val_loss: 2.1457 - val_accuracy: 0.6062\n",
      "Epoch 83/100\n",
      "117/117 [==============================] - 6s 52ms/step - loss: 0.3278 - accuracy: 0.8618 - val_loss: 2.2177 - val_accuracy: 0.6123\n",
      "Epoch 84/100\n",
      "117/117 [==============================] - 6s 54ms/step - loss: 0.2968 - accuracy: 0.8743 - val_loss: 2.6723 - val_accuracy: 0.5942\n",
      "Epoch 85/100\n",
      "117/117 [==============================] - 6s 52ms/step - loss: 0.2952 - accuracy: 0.8742 - val_loss: 2.5720 - val_accuracy: 0.6034\n",
      "Epoch 86/100\n",
      "117/117 [==============================] - 6s 51ms/step - loss: 0.3012 - accuracy: 0.8737 - val_loss: 2.5184 - val_accuracy: 0.6103\n",
      "Epoch 87/100\n",
      "117/117 [==============================] - 6s 51ms/step - loss: 0.3061 - accuracy: 0.8744 - val_loss: 2.3367 - val_accuracy: 0.6034\n",
      "Epoch 88/100\n",
      "117/117 [==============================] - 6s 53ms/step - loss: 0.3077 - accuracy: 0.8739 - val_loss: 2.1804 - val_accuracy: 0.5843\n",
      "Epoch 89/100\n",
      "117/117 [==============================] - 6s 53ms/step - loss: 0.2974 - accuracy: 0.8789 - val_loss: 2.5240 - val_accuracy: 0.6048\n",
      "Epoch 90/100\n",
      "117/117 [==============================] - 6s 56ms/step - loss: 0.2929 - accuracy: 0.8795 - val_loss: 2.7798 - val_accuracy: 0.5962\n",
      "Epoch 91/100\n",
      "117/117 [==============================] - 6s 55ms/step - loss: 0.2873 - accuracy: 0.8809 - val_loss: 2.4871 - val_accuracy: 0.6010\n",
      "Epoch 92/100\n",
      "117/117 [==============================] - 6s 54ms/step - loss: 0.2705 - accuracy: 0.8884 - val_loss: 2.8676 - val_accuracy: 0.5952\n",
      "Epoch 93/100\n",
      "117/117 [==============================] - 6s 53ms/step - loss: 0.2862 - accuracy: 0.8852 - val_loss: 2.3060 - val_accuracy: 0.5627\n",
      "Epoch 94/100\n",
      "117/117 [==============================] - 6s 54ms/step - loss: 0.2915 - accuracy: 0.8809 - val_loss: 2.6359 - val_accuracy: 0.6051\n",
      "Epoch 95/100\n",
      "117/117 [==============================] - 6s 51ms/step - loss: 0.2856 - accuracy: 0.8807 - val_loss: 2.4951 - val_accuracy: 0.6171\n",
      "Epoch 96/100\n",
      "117/117 [==============================] - 6s 52ms/step - loss: 0.2713 - accuracy: 0.8896 - val_loss: 2.5959 - val_accuracy: 0.5877\n",
      "Epoch 97/100\n",
      "117/117 [==============================] - 6s 53ms/step - loss: 0.2742 - accuracy: 0.8912 - val_loss: 2.9269 - val_accuracy: 0.5990\n",
      "Epoch 98/100\n",
      "117/117 [==============================] - 6s 50ms/step - loss: 0.2825 - accuracy: 0.8855 - val_loss: 2.3212 - val_accuracy: 0.5682\n",
      "Epoch 99/100\n",
      "117/117 [==============================] - 6s 51ms/step - loss: 0.2839 - accuracy: 0.8851 - val_loss: 2.7706 - val_accuracy: 0.6044\n",
      "Epoch 100/100\n",
      "117/117 [==============================] - 6s 51ms/step - loss: 0.2746 - accuracy: 0.8903 - val_loss: 2.4811 - val_accuracy: 0.5856\n"
     ]
    },
    {
     "data": {
      "text/plain": [
       "<keras.src.callbacks.History at 0x1db39773f70>"
      ]
     },
     "execution_count": 13,
     "metadata": {},
     "output_type": "execute_result"
    }
   ],
   "source": [
    "history=model.fit(padded_docs_train, y_train, epochs=100, batch_size=100, validation_data=(padded_docs_test, y_test))\n",
    "history"
   ]
  },
  {
   "cell_type": "markdown",
   "id": "5d00c466",
   "metadata": {},
   "source": [
    "##### 6) Finding Training and Testing Accuracy"
   ]
  },
  {
   "cell_type": "code",
   "execution_count": 14,
   "id": "6d517703",
   "metadata": {},
   "outputs": [
    {
     "data": {
      "image/png": "[encoded data removed]",
      "text/plain": [
       "<Figure size 432x288 with 1 Axes>"
      ]
     },
     "metadata": {
      "needs_background": "light"
     },
     "output_type": "display_data"
    }
   ],
   "source": [
    "# Plot the training and testing accuracy\n",
    "plt.plot(history.history['accuracy'])\n",
    "plt.plot(history.history['val_accuracy'])\n",
    "plt.title('Model Accuracy')\n",
    "plt.ylabel('Accuracy')\n",
    "plt.xlabel('Epoch')\n",
    "plt.ylim([0, 1])\n",
    "plt.legend(['Train', 'Test'], loc='upper left')\n",
    "plt.show()"
   ]
  },
  {
   "cell_type": "code",
   "execution_count": 16,
   "id": "516fe5b8",
   "metadata": {},
   "outputs": [
    {
     "name": "stdout",
     "output_type": "stream",
     "text": [
      "92/92 [==============================] - 1s 10ms/step - loss: 2.4811 - accuracy: 0.5856\n"
     ]
    },
    {
     "data": {
      "text/plain": [
       "(2.481083631515503, 0.5856410264968872)"
      ]
     },
     "execution_count": 16,
     "metadata": {},
     "output_type": "execute_result"
    }
   ],
   "source": [
    "test_loss,test_acc=model.evaluate(padded_docs_test,y_test)\n",
    "test_loss,test_acc"
   ]
  },
  {
   "cell_type": "markdown",
   "id": "80a47670",
   "metadata": {},
   "source": [
    "##### 7) Compute and plot the confusion matrix for the three classes"
   ]
  },
  {
   "cell_type": "code",
   "execution_count": 18,
   "id": "7eb7ef1b",
   "metadata": {},
   "outputs": [
    {
     "name": "stdout",
     "output_type": "stream",
     "text": [
      "92/92 [==============================] - 1s 9ms/step\n",
      "              precision    recall  f1-score   support\n",
      "\n",
      "    negative       0.71      0.71      0.71      1835\n",
      "     neutral       0.33      0.42      0.37       617\n",
      "    positive       0.49      0.32      0.39       473\n",
      "\n",
      "    accuracy                           0.59      2925\n",
      "   macro avg       0.51      0.48      0.49      2925\n",
      "weighted avg       0.60      0.59      0.59      2925\n",
      "\n"
     ]
    }
   ],
   "source": [
    "predictions=model.predict(padded_docs_test)\n",
    "class_labels = ['negative', 'positive','neutral']\n",
    "predicted_class_labels = [class_labels[np.argmax(pred)] for pred in predictions]\n",
    "actual_class_labels=[class_labels[actual] for actual in y_test]\n",
    "print(classification_report(actual_class_labels, predicted_class_labels))"
   ]
  },
  {
   "cell_type": "code",
   "execution_count": 19,
   "id": "9208658a",
   "metadata": {},
   "outputs": [
    {
     "data": {
      "image/png": "[encoded data removed]",
      "text/plain": [
       "<Figure size 576x432 with 2 Axes>"
      ]
     },
     "metadata": {
      "needs_background": "light"
     },
     "output_type": "display_data"
    }
   ],
   "source": [
    "conf_matrix = confusion_matrix(actual_class_labels, predicted_class_labels, labels=class_labels)\n",
    "plt.figure(figsize=(8, 6))\n",
    "sns.heatmap(conf_matrix, annot=True, fmt=\"d\", cmap=\"Purples\", xticklabels=class_labels, yticklabels=class_labels)\n",
    "plt.title('Confusion Matrix')\n",
    "plt.xlabel('Predicted Labels')\n",
    "plt.ylabel('True Labels')\n",
    "plt.show()"
   ]
  },
  {
   "cell_type": "markdown",
   "id": "dd974772",
   "metadata": {},
   "source": [
    "##### 8) Saving the final results in Excel sheet"
   ]
  },
  {
   "cell_type": "code",
   "execution_count": 20,
   "id": "a0081b41",
   "metadata": {},
   "outputs": [
    {
     "name": "stdout",
     "output_type": "stream",
     "text": [
      "Precision per class: [0.71459934 0.32747804 0.49019608]\n",
      "Recall per class: [0.70953678 0.42301459 0.31712474]\n"
     ]
    }
   ],
   "source": [
    "precision_per_class = precision_score(actual_class_labels, predicted_class_labels, average=None)\n",
    "recall_per_class = recall_score(actual_class_labels, predicted_class_labels, average=None)\n",
    "\n",
    "print(\"Precision per class:\", precision_per_class)\n",
    "print(\"Recall per class:\", recall_per_class)"
   ]
  },
  {
   "cell_type": "code",
   "execution_count": 21,
   "id": "7df0d2f2",
   "metadata": {},
   "outputs": [
    {
     "name": "stdout",
     "output_type": "stream",
     "text": [
      "Micro F1 Score: 0.5856410256410256\n",
      "Macro F1 Score: 0.48877788901120844\n"
     ]
    }
   ],
   "source": [
    "f1_micro = f1_score(actual_class_labels, predicted_class_labels, average='micro')\n",
    "f1_macro = f1_score(actual_class_labels, predicted_class_labels, average='macro')\n",
    "\n",
    "print(\"Micro F1 Score:\", f1_micro)\n",
    "print(\"Macro F1 Score:\", f1_macro)"
   ]
  },
  {
   "cell_type": "code",
   "execution_count": 22,
   "id": "713cef8d",
   "metadata": {},
   "outputs": [
    {
     "data": {
      "text/html": [
       "<div>\n",
       "<style scoped>\n",
       "    .dataframe tbody tr th:only-of-type {\n",
       "        vertical-align: middle;\n",
       "    }\n",
       "\n",
       "    .dataframe tbody tr th {\n",
       "        vertical-align: top;\n",
       "    }\n",
       "\n",
       "    .dataframe thead th {\n",
       "        text-align: right;\n",
       "    }\n",
       "</style>\n",
       "<table border=\"1\" class=\"dataframe\">\n",
       "  <thead>\n",
       "    <tr style=\"text-align: right;\">\n",
       "      <th></th>\n",
       "      <th>Original_Dataset</th>\n",
       "    </tr>\n",
       "  </thead>\n",
       "  <tbody>\n",
       "    <tr>\n",
       "      <th>Training Accuracy</th>\n",
       "      <td>0.891178</td>\n",
       "    </tr>\n",
       "    <tr>\n",
       "      <th>Testing Accuracy</th>\n",
       "      <td>0.585641</td>\n",
       "    </tr>\n",
       "    <tr>\n",
       "      <th>Micro F1 Score</th>\n",
       "      <td>0.585641</td>\n",
       "    </tr>\n",
       "    <tr>\n",
       "      <th>Macro F1 Score</th>\n",
       "      <td>0.488778</td>\n",
       "    </tr>\n",
       "    <tr>\n",
       "      <th>Precision for Negative sentiment</th>\n",
       "      <td>0.714599</td>\n",
       "    </tr>\n",
       "    <tr>\n",
       "      <th>Precision for Positive sentiment</th>\n",
       "      <td>0.327478</td>\n",
       "    </tr>\n",
       "    <tr>\n",
       "      <th>Precision for Neutral sentiment</th>\n",
       "      <td>0.490196</td>\n",
       "    </tr>\n",
       "    <tr>\n",
       "      <th>Recall for Negative sentiment</th>\n",
       "      <td>0.709537</td>\n",
       "    </tr>\n",
       "    <tr>\n",
       "      <th>Recall for Positive sentiment</th>\n",
       "      <td>0.423015</td>\n",
       "    </tr>\n",
       "    <tr>\n",
       "      <th>Recall for Neutral sentiment</th>\n",
       "      <td>0.317125</td>\n",
       "    </tr>\n",
       "  </tbody>\n",
       "</table>\n",
       "</div>"
      ],
      "text/plain": [
       "                                  Original_Dataset\n",
       "Training Accuracy                         0.891178\n",
       "Testing Accuracy                          0.585641\n",
       "Micro F1 Score                            0.585641\n",
       "Macro F1 Score                            0.488778\n",
       "Precision for Negative sentiment          0.714599\n",
       "Precision for Positive sentiment          0.327478\n",
       "Precision for Neutral sentiment           0.490196\n",
       "Recall for Negative sentiment             0.709537\n",
       "Recall for Positive sentiment             0.423015\n",
       "Recall for Neutral sentiment              0.317125"
      ]
     },
     "execution_count": 22,
     "metadata": {},
     "output_type": "execute_result"
    }
   ],
   "source": [
    "data={'Original_Dataset':[max(history.history['accuracy']),test_acc,f1_micro,f1_macro,precision_per_class[0],precision_per_class[1],precision_per_class[2],recall_per_class[0],recall_per_class[1],recall_per_class[2]]}\n",
    "result=pd.DataFrame(data,index=['Training Accuracy','Testing Accuracy','Micro F1 Score','Macro F1 Score','Precision for Negative sentiment','Precision for Positive sentiment','Precision for Neutral sentiment','Recall for Negative sentiment','Recall for Positive sentiment','Recall for Neutral sentiment'])\n",
    "result"
   ]
  },
  {
   "cell_type": "code",
   "execution_count": 23,
   "id": "448e60d8",
   "metadata": {},
   "outputs": [],
   "source": [
    "result.to_csv('TCNModelResults.csv', index=True)"
   ]
  }
 ],
 "metadata": {
  "kernelspec": {
   "display_name": "Python 3 (ipykernel)",
   "language": "python",
   "name": "python3"
  },
  "language_info": {
   "codemirror_mode": {
    "name": "ipython",
    "version": 3
   },
   "file_extension": ".py",
   "mimetype": "text/x-python",
   "name": "python",
   "nbconvert_exporter": "python",
   "pygments_lexer": "ipython3",
   "version": "3.9.7"
  }
 },
 "nbformat": 4,
 "nbformat_minor": 5
}
