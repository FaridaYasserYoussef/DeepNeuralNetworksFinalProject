{
 "cells": [
  {
   "cell_type": "markdown",
   "id": "c6575869",
   "metadata": {},
   "source": [
    "# TCN Model"
   ]
  },
  {
   "cell_type": "code",
   "execution_count": 1,
   "id": "934847a5",
   "metadata": {},
   "outputs": [
    {
     "name": "stdout",
     "output_type": "stream",
     "text": [
      "WARNING:tensorflow:From D:\\Users\\Suzan Hatem\\anaconda3\\lib\\site-packages\\keras\\src\\losses.py:2976: The name tf.losses.sparse_softmax_cross_entropy is deprecated. Please use tf.compat.v1.losses.sparse_softmax_cross_entropy instead.\n",
      "\n"
     ]
    }
   ],
   "source": [
    "#Imports\n",
    "import pandas as pd\n",
    "import numpy as np\n",
    "\n",
    "from gensim.models import Word2Vec\n",
    "from sklearn.model_selection import train_test_split\n",
    "from keras.preprocessing.text import Tokenizer\n",
    "from keras.utils import pad_sequences\n",
    "\n",
    "from tcn import TCN, tcn_full_summary\n",
    "from keras.layers import Input, Embedding, Dense, Dropout, SpatialDropout1D\n",
    "from keras.layers import concatenate, GlobalAveragePooling1D, GlobalMaxPooling1D\n",
    "from keras.models import Model\n",
    "from keras.optimizers import Adam\n",
    "\n",
    "import matplotlib.pyplot as plt\n",
    "import seaborn as sns\n",
    "from sklearn.metrics import confusion_matrix\n",
    "from sklearn.metrics import confusion_matrix, ConfusionMatrixDisplay\n",
    "from sklearn.metrics import classification_report\n",
    "from sklearn.metrics import precision_score, recall_score\n",
    "from sklearn.metrics import f1_score"
   ]
  },
  {
   "cell_type": "markdown",
   "id": "978ceb42",
   "metadata": {},
   "source": [
    "##### 1)Loading Dataset"
   ]
  },
  {
   "cell_type": "code",
   "execution_count": 2,
   "id": "272b56c0",
   "metadata": {},
   "outputs": [
    {
     "data": {
      "text/html": [
       "<div>\n",
       "<style scoped>\n",
       "    .dataframe tbody tr th:only-of-type {\n",
       "        vertical-align: middle;\n",
       "    }\n",
       "\n",
       "    .dataframe tbody tr th {\n",
       "        vertical-align: top;\n",
       "    }\n",
       "\n",
       "    .dataframe thead th {\n",
       "        text-align: right;\n",
       "    }\n",
       "</style>\n",
       "<table border=\"1\" class=\"dataframe\">\n",
       "  <thead>\n",
       "    <tr style=\"text-align: right;\">\n",
       "      <th></th>\n",
       "      <th>Unnamed: 0.1</th>\n",
       "      <th>Unnamed: 0</th>\n",
       "      <th>label</th>\n",
       "      <th>text</th>\n",
       "      <th>length</th>\n",
       "      <th>preprocessed_abstract</th>\n",
       "      <th>length_after_cleaning</th>\n",
       "      <th>tokenized_text</th>\n",
       "    </tr>\n",
       "  </thead>\n",
       "  <tbody>\n",
       "    <tr>\n",
       "      <th>0</th>\n",
       "      <td>0</td>\n",
       "      <td>0</td>\n",
       "      <td>2</td>\n",
       "      <td>@VirginAmerica What @dhepburn said.</td>\n",
       "      <td>35</td>\n",
       "      <td>what say</td>\n",
       "      <td>8</td>\n",
       "      <td>['what', 'say']</td>\n",
       "    </tr>\n",
       "    <tr>\n",
       "      <th>1</th>\n",
       "      <td>1</td>\n",
       "      <td>1</td>\n",
       "      <td>1</td>\n",
       "      <td>@VirginAmerica plus you've added commercials t...</td>\n",
       "      <td>72</td>\n",
       "      <td>plus add commercial experience tacky</td>\n",
       "      <td>36</td>\n",
       "      <td>['plus', 'add', 'commercial', 'experience', 't...</td>\n",
       "    </tr>\n",
       "    <tr>\n",
       "      <th>2</th>\n",
       "      <td>2</td>\n",
       "      <td>2</td>\n",
       "      <td>2</td>\n",
       "      <td>@VirginAmerica I didn't today... Must mean I n...</td>\n",
       "      <td>71</td>\n",
       "      <td>i today must mean i need take another trip</td>\n",
       "      <td>42</td>\n",
       "      <td>['i', 'today', 'must', 'mean', 'i', 'need', 't...</td>\n",
       "    </tr>\n",
       "    <tr>\n",
       "      <th>3</th>\n",
       "      <td>3</td>\n",
       "      <td>3</td>\n",
       "      <td>0</td>\n",
       "      <td>@VirginAmerica it's really aggressive to blast...</td>\n",
       "      <td>126</td>\n",
       "      <td>really aggressive blast obnoxious entertainmen...</td>\n",
       "      <td>78</td>\n",
       "      <td>['really', 'aggressive', 'blast', 'obnoxious',...</td>\n",
       "    </tr>\n",
       "    <tr>\n",
       "      <th>4</th>\n",
       "      <td>4</td>\n",
       "      <td>4</td>\n",
       "      <td>0</td>\n",
       "      <td>@VirginAmerica and it's a really big bad thing...</td>\n",
       "      <td>55</td>\n",
       "      <td>really big bad thing</td>\n",
       "      <td>20</td>\n",
       "      <td>['really', 'big', 'bad', 'thing']</td>\n",
       "    </tr>\n",
       "  </tbody>\n",
       "</table>\n",
       "</div>"
      ],
      "text/plain": [
       "   Unnamed: 0.1  Unnamed: 0  label  \\\n",
       "0             0           0      2   \n",
       "1             1           1      1   \n",
       "2             2           2      2   \n",
       "3             3           3      0   \n",
       "4             4           4      0   \n",
       "\n",
       "                                                text  length  \\\n",
       "0                @VirginAmerica What @dhepburn said.      35   \n",
       "1  @VirginAmerica plus you've added commercials t...      72   \n",
       "2  @VirginAmerica I didn't today... Must mean I n...      71   \n",
       "3  @VirginAmerica it's really aggressive to blast...     126   \n",
       "4  @VirginAmerica and it's a really big bad thing...      55   \n",
       "\n",
       "                               preprocessed_abstract  length_after_cleaning  \\\n",
       "0                                           what say                      8   \n",
       "1               plus add commercial experience tacky                     36   \n",
       "2         i today must mean i need take another trip                     42   \n",
       "3  really aggressive blast obnoxious entertainmen...                     78   \n",
       "4                               really big bad thing                     20   \n",
       "\n",
       "                                      tokenized_text  \n",
       "0                                    ['what', 'say']  \n",
       "1  ['plus', 'add', 'commercial', 'experience', 't...  \n",
       "2  ['i', 'today', 'must', 'mean', 'i', 'need', 't...  \n",
       "3  ['really', 'aggressive', 'blast', 'obnoxious',...  \n",
       "4                  ['really', 'big', 'bad', 'thing']  "
      ]
     },
     "execution_count": 2,
     "metadata": {},
     "output_type": "execute_result"
    }
   ],
   "source": [
    "df=pd.read_csv(\"df_RandomDeletion.csv\")\n",
    "df.head()"
   ]
  },
  {
   "cell_type": "code",
   "execution_count": 3,
   "id": "17c756b8",
   "metadata": {},
   "outputs": [
    {
     "data": {
      "text/plain": [
       "Unnamed: 0.1               0\n",
       "Unnamed: 0                 0\n",
       "label                      0\n",
       "text                       0\n",
       "length                     0\n",
       "preprocessed_abstract    408\n",
       "length_after_cleaning      0\n",
       "tokenized_text             0\n",
       "dtype: int64"
      ]
     },
     "execution_count": 3,
     "metadata": {},
     "output_type": "execute_result"
    }
   ],
   "source": [
    "df.isnull().sum()"
   ]
  },
  {
   "cell_type": "code",
   "execution_count": 4,
   "id": "34e6d18c",
   "metadata": {},
   "outputs": [],
   "source": [
    "df = df.dropna()"
   ]
  },
  {
   "cell_type": "markdown",
   "id": "46c4f1f4",
   "metadata": {},
   "source": [
    "##### 2)Preparing Data"
   ]
  },
  {
   "cell_type": "markdown",
   "id": "1130b37b",
   "metadata": {},
   "source": [
    "- Word2Vec model (pre-trained word embeddings) for embedding layer in the model"
   ]
  },
  {
   "cell_type": "code",
   "execution_count": 5,
   "id": "029601c1",
   "metadata": {},
   "outputs": [
    {
     "data": {
      "text/plain": [
       "array([[ 8.24054480e-01, -1.36041880e-01,  9.30989325e-01, ...,\n",
       "        -9.15328503e-01,  4.24782820e-02,  4.67544585e-01],\n",
       "       [-9.29348648e-01,  5.58769941e-01,  1.17156053e+00, ...,\n",
       "        -6.65023565e-01, -7.66549170e-01,  2.86977440e-01],\n",
       "       [-2.56893843e-01,  5.06953299e-01, -1.59894392e-01, ...,\n",
       "        -5.02697229e-01,  3.49582881e-02, -1.15022436e-01],\n",
       "       ...,\n",
       "       [ 1.05826592e-03,  1.07450588e-02,  1.11207068e-02, ...,\n",
       "        -2.16330569e-02, -4.49017761e-03,  1.35887479e-02],\n",
       "       [-8.89532827e-03,  1.16638876e-02, -6.67034369e-03, ...,\n",
       "         1.13531644e-03,  2.06076563e-03,  6.90164138e-03],\n",
       "       [-1.14885457e-02, -1.62015075e-03,  9.12617054e-03, ...,\n",
       "        -6.98121684e-03,  9.66603123e-03,  5.96686266e-03]], dtype=float32)"
      ]
     },
     "execution_count": 5,
     "metadata": {},
     "output_type": "execute_result"
    }
   ],
   "source": [
    "sentences = [sentence.split() for sentence in df['preprocessed_abstract']]\n",
    "# Create and train the Word2Vec model\n",
    "model_2= Word2Vec(sentences, vector_size=100, window=5, min_count=1, workers=4)\n",
    "# Access the word vectors\n",
    "word_vectors = model_2.wv\n",
    "word_vectors.vectors"
   ]
  },
  {
   "cell_type": "code",
   "execution_count": 6,
   "id": "08dd43f6",
   "metadata": {},
   "outputs": [
    {
     "data": {
      "text/plain": [
       "(9391, 100)"
      ]
     },
     "execution_count": 6,
     "metadata": {},
     "output_type": "execute_result"
    }
   ],
   "source": [
    "word_vectors.vectors.shape"
   ]
  },
  {
   "cell_type": "markdown",
   "id": "4e03b6a9",
   "metadata": {},
   "source": [
    "#####  3) Split , into Training and Validation Sets (80:20)"
   ]
  },
  {
   "cell_type": "code",
   "execution_count": 7,
   "id": "d8741840",
   "metadata": {},
   "outputs": [
    {
     "name": "stdout",
     "output_type": "stream",
     "text": [
      "Train data: (21700,) (21700,)\n",
      "Test data: (5426,) (5426,)\n"
     ]
    }
   ],
   "source": [
    "X_train, X_test, y_train, y_test = train_test_split(df['preprocessed_abstract'], df['label'], test_size=0.2, stratify=df['label'], random_state=42)\n",
    "print(\"Train data:\",  X_train.shape, y_train.shape)\n",
    "print(\"Test data:\",  X_test.shape, y_test.shape)"
   ]
  },
  {
   "cell_type": "code",
   "execution_count": 8,
   "id": "9d5b7f7d",
   "metadata": {},
   "outputs": [
    {
     "data": {
      "image/png": "[encoded data removed]",
      "text/plain": [
       "<Figure size 1008x432 with 1 Axes>"
      ]
     },
     "metadata": {},
     "output_type": "display_data"
    }
   ],
   "source": [
    "plt.figure(figsize=(14,6))\n",
    "colors = ['#4285f4', '#ea4335', '#fbbc05', '#34a853']\n",
    "plt.rcParams.update({'font.size': 14})\n",
    "plt.pie([len(y_train), len(y_test)],\n",
    "        labels=['Train','Test'],\n",
    "        colors=colors, autopct='%.1f%%', explode=(0.05,0.05),\n",
    "        startangle=30);"
   ]
  },
  {
   "cell_type": "code",
   "execution_count": 9,
   "id": "7b70c66f",
   "metadata": {},
   "outputs": [
    {
     "name": "stdout",
     "output_type": "stream",
     "text": [
      "[[  90   26    3 ...    0    0    0]\n",
      " [1268  658  206 ...    0    0    0]\n",
      " [  75  425 2057 ...    0    0    0]\n",
      " ...\n",
      " [   4    1 8737 ...    0    0    0]\n",
      " [  47   47   47 ...    0    0    0]\n",
      " [  59 2720  980 ...    0    0    0]]\n"
     ]
    }
   ],
   "source": [
    "corp=X_train\n",
    "t = Tokenizer()\n",
    "t.fit_on_texts(corp)\n",
    "vocab_size = len(t.word_index) + 1\n",
    "# integer encode the documents\n",
    "encoded_docs = t.texts_to_sequences(corp)\n",
    "# print(encoded_docs)\n",
    "max_length=max(len(d) for d in encoded_docs)\n",
    "padded_docs_train = pad_sequences(encoded_docs, maxlen=max_length, padding='post')\n",
    "print(padded_docs_train)"
   ]
  },
  {
   "cell_type": "code",
   "execution_count": 10,
   "id": "16c1cbc2",
   "metadata": {},
   "outputs": [
    {
     "name": "stdout",
     "output_type": "stream",
     "text": [
      "[[   3 1340 2003 ...    0    0    0]\n",
      " [  13 1581  213 ...    0    0    0]\n",
      " [ 159  260   11 ...    0    0    0]\n",
      " ...\n",
      " [  51  603 1577 ...    0    0    0]\n",
      " [   4    0    0 ...    0    0    0]\n",
      " [  20  485    0 ...    0    0    0]]\n"
     ]
    }
   ],
   "source": [
    "corp=X_test\n",
    "t = Tokenizer()\n",
    "t.fit_on_texts(corp)\n",
    "vocab_size = len(t.word_index) + 1\n",
    "# integer encode the documents\n",
    "encoded_docs = t.texts_to_sequences(corp)\n",
    "# print(encoded_docs)\n",
    "padded_docs_test = pad_sequences(encoded_docs, maxlen=max_length, padding='post')\n",
    "print(padded_docs_test)"
   ]
  },
  {
   "cell_type": "markdown",
   "id": "c2ffb115",
   "metadata": {},
   "source": [
    "##### 4)Model Architecture"
   ]
  },
  {
   "cell_type": "code",
   "execution_count": 11,
   "id": "1a556ad9",
   "metadata": {},
   "outputs": [],
   "source": [
    "def tcn_model(kernel_size = 1, activation='relu', input_dim = None, \n",
    "                   output_dim=100, max_length = None, emb_matrix = None):\n",
    "    \n",
    "    inp = Input( shape=(max_length,))\n",
    "    x = Embedding(input_dim=input_dim, \n",
    "                  output_dim=output_dim, \n",
    "                  input_length=max_length,\n",
    "                  # Assign the embedding weight with word2vec embedding marix\n",
    "                  weights = [emb_matrix],\n",
    "                  # Set the weight to be not trainable (static)\n",
    "                  trainable = False)(inp)\n",
    "    \n",
    "    x = SpatialDropout1D(0.1)(x)\n",
    "    \n",
    "    x = TCN(128,dilations = [1, 2, 4], return_sequences=True, activation = activation, name = 'tcn1')(x)\n",
    "    x = TCN(32,dilations = [1, 2, 4], return_sequences=True, activation = activation, name = 'tcn2')(x)\n",
    "    \n",
    "    avg_pool = GlobalAveragePooling1D()(x)\n",
    "    max_pool = GlobalMaxPooling1D()(x)\n",
    "    \n",
    "    conc = concatenate([avg_pool, max_pool])\n",
    "    conc = Dense(16, activation=\"relu\")(conc)\n",
    "    conc = Dropout(0.5)(conc)\n",
    "    outp = Dense(3, activation=\"softmax\")(conc)    \n",
    "\n",
    "    model = Model(inputs=inp, outputs=outp)\n",
    "    model.compile(loss='sparse_categorical_crossentropy', optimizer=Adam(), metrics=['accuracy'])\n",
    "    \n",
    "    return model"
   ]
  },
  {
   "cell_type": "code",
   "execution_count": 12,
   "id": "abfb9a9f",
   "metadata": {},
   "outputs": [
    {
     "name": "stdout",
     "output_type": "stream",
     "text": [
      "WARNING:tensorflow:From D:\\Users\\Suzan Hatem\\anaconda3\\lib\\site-packages\\keras\\src\\backend.py:1398: The name tf.executing_eagerly_outside_functions is deprecated. Please use tf.compat.v1.executing_eagerly_outside_functions instead.\n",
      "\n",
      "Model: \"model\"\n",
      "__________________________________________________________________________________________________\n",
      " Layer (type)                Output Shape                 Param #   Connected to                  \n",
      "==================================================================================================\n",
      " input_1 (InputLayer)        [(None, 26)]                 0         []                            \n",
      "                                                                                                  \n",
      " embedding (Embedding)       (None, 26, 100)              939100    ['input_1[0][0]']             \n",
      "                                                                                                  \n",
      " spatial_dropout1d (Spatial  (None, 26, 100)              0         ['embedding[0][0]']           \n",
      " Dropout1D)                                                                                       \n",
      "                                                                                                  \n",
      " tcn1 (TCN)                  (None, 26, 128)              297856    ['spatial_dropout1d[0][0]']   \n",
      "                                                                                                  \n",
      " tcn2 (TCN)                  (None, 26, 32)               31968     ['tcn1[0][0]']                \n",
      "                                                                                                  \n",
      " global_average_pooling1d (  (None, 32)                   0         ['tcn2[0][0]']                \n",
      " GlobalAveragePooling1D)                                                                          \n",
      "                                                                                                  \n",
      " global_max_pooling1d (Glob  (None, 32)                   0         ['tcn2[0][0]']                \n",
      " alMaxPooling1D)                                                                                  \n",
      "                                                                                                  \n",
      " concatenate (Concatenate)   (None, 64)                   0         ['global_average_pooling1d[0][\n",
      "                                                                    0]',                          \n",
      "                                                                     'global_max_pooling1d[0][0]']\n",
      "                                                                                                  \n",
      " dense (Dense)               (None, 16)                   1040      ['concatenate[0][0]']         \n",
      "                                                                                                  \n",
      " dropout (Dropout)           (None, 16)                   0         ['dense[0][0]']               \n",
      "                                                                                                  \n",
      " dense_1 (Dense)             (None, 3)                    51        ['dropout[0][0]']             \n",
      "                                                                                                  \n",
      "==================================================================================================\n",
      "Total params: 1270015 (4.84 MB)\n",
      "Trainable params: 330915 (1.26 MB)\n",
      "Non-trainable params: 939100 (3.58 MB)\n",
      "__________________________________________________________________________________________________\n"
     ]
    }
   ],
   "source": [
    "model =tcn_model(input_dim=word_vectors.vectors.shape[0], output_dim=100, max_length=max_length, emb_matrix=word_vectors.vectors)\n",
    "model.summary()"
   ]
  },
  {
   "cell_type": "markdown",
   "id": "6ea9dbdd",
   "metadata": {},
   "source": [
    "##### 5) Training Model"
   ]
  },
  {
   "cell_type": "code",
   "execution_count": 13,
   "id": "1a3407cf",
   "metadata": {},
   "outputs": [
    {
     "name": "stdout",
     "output_type": "stream",
     "text": [
      "Epoch 1/100\n",
      "WARNING:tensorflow:From D:\\Users\\Suzan Hatem\\anaconda3\\lib\\site-packages\\keras\\src\\utils\\tf_utils.py:492: The name tf.ragged.RaggedTensorValue is deprecated. Please use tf.compat.v1.ragged.RaggedTensorValue instead.\n",
      "\n",
      "WARNING:tensorflow:From D:\\Users\\Suzan Hatem\\anaconda3\\lib\\site-packages\\keras\\src\\engine\\base_layer_utils.py:384: The name tf.executing_eagerly_outside_functions is deprecated. Please use tf.compat.v1.executing_eagerly_outside_functions instead.\n",
      "\n",
      "217/217 [==============================] - 15s 54ms/step - loss: 1.1152 - accuracy: 0.3847 - val_loss: 1.0682 - val_accuracy: 0.4449\n",
      "Epoch 2/100\n",
      "217/217 [==============================] - 11s 52ms/step - loss: 1.0671 - accuracy: 0.4129 - val_loss: 1.0166 - val_accuracy: 0.4878\n",
      "Epoch 3/100\n",
      "217/217 [==============================] - 11s 51ms/step - loss: 1.0169 - accuracy: 0.4853 - val_loss: 1.0030 - val_accuracy: 0.4934\n",
      "Epoch 4/100\n",
      "217/217 [==============================] - 11s 50ms/step - loss: 0.9913 - accuracy: 0.5177 - val_loss: 0.9876 - val_accuracy: 0.5282\n",
      "Epoch 5/100\n",
      "217/217 [==============================] - 11s 50ms/step - loss: 0.9710 - accuracy: 0.5337 - val_loss: 1.0465 - val_accuracy: 0.4646\n",
      "Epoch 6/100\n",
      "217/217 [==============================] - 11s 51ms/step - loss: 0.9506 - accuracy: 0.5439 - val_loss: 0.9962 - val_accuracy: 0.5304\n",
      "Epoch 7/100\n",
      "217/217 [==============================] - 11s 50ms/step - loss: 0.9274 - accuracy: 0.5571 - val_loss: 1.0140 - val_accuracy: 0.5258\n",
      "Epoch 8/100\n",
      "217/217 [==============================] - 11s 51ms/step - loss: 0.9110 - accuracy: 0.5637 - val_loss: 1.0285 - val_accuracy: 0.5094\n",
      "Epoch 9/100\n",
      "217/217 [==============================] - 11s 51ms/step - loss: 0.8922 - accuracy: 0.5762 - val_loss: 1.0154 - val_accuracy: 0.5271\n",
      "Epoch 10/100\n",
      "217/217 [==============================] - 11s 51ms/step - loss: 0.8836 - accuracy: 0.5824 - val_loss: 1.0144 - val_accuracy: 0.5092\n",
      "Epoch 11/100\n",
      "217/217 [==============================] - 11s 50ms/step - loss: 0.8573 - accuracy: 0.6084 - val_loss: 1.0824 - val_accuracy: 0.5018\n",
      "Epoch 12/100\n",
      "217/217 [==============================] - 11s 51ms/step - loss: 0.8470 - accuracy: 0.6149 - val_loss: 1.0683 - val_accuracy: 0.5241\n",
      "Epoch 13/100\n",
      "217/217 [==============================] - 11s 52ms/step - loss: 0.8317 - accuracy: 0.6242 - val_loss: 1.1117 - val_accuracy: 0.5123\n",
      "Epoch 14/100\n",
      "217/217 [==============================] - 11s 52ms/step - loss: 0.8054 - accuracy: 0.6402 - val_loss: 1.1067 - val_accuracy: 0.4888\n",
      "Epoch 15/100\n",
      "217/217 [==============================] - 12s 56ms/step - loss: 0.7921 - accuracy: 0.6476 - val_loss: 1.0978 - val_accuracy: 0.5046\n",
      "Epoch 16/100\n",
      "217/217 [==============================] - 11s 51ms/step - loss: 0.7752 - accuracy: 0.6566 - val_loss: 1.1626 - val_accuracy: 0.5039\n",
      "Epoch 17/100\n",
      "217/217 [==============================] - 11s 53ms/step - loss: 0.7594 - accuracy: 0.6700 - val_loss: 1.1633 - val_accuracy: 0.4930\n",
      "Epoch 18/100\n",
      "217/217 [==============================] - 12s 56ms/step - loss: 0.7371 - accuracy: 0.6780 - val_loss: 1.2598 - val_accuracy: 0.5103\n",
      "Epoch 19/100\n",
      "217/217 [==============================] - 11s 50ms/step - loss: 0.7184 - accuracy: 0.6857 - val_loss: 1.1514 - val_accuracy: 0.4956\n",
      "Epoch 20/100\n",
      "217/217 [==============================] - 11s 50ms/step - loss: 0.7116 - accuracy: 0.6959 - val_loss: 1.2025 - val_accuracy: 0.4993\n",
      "Epoch 21/100\n",
      "217/217 [==============================] - 11s 50ms/step - loss: 0.6840 - accuracy: 0.7068 - val_loss: 1.2265 - val_accuracy: 0.4939\n",
      "Epoch 22/100\n",
      "217/217 [==============================] - 11s 52ms/step - loss: 0.6694 - accuracy: 0.7141 - val_loss: 1.2952 - val_accuracy: 0.4843\n",
      "Epoch 23/100\n",
      "217/217 [==============================] - 11s 51ms/step - loss: 0.6514 - accuracy: 0.7228 - val_loss: 1.3585 - val_accuracy: 0.4954\n",
      "Epoch 24/100\n",
      "217/217 [==============================] - 11s 53ms/step - loss: 0.6359 - accuracy: 0.7321 - val_loss: 1.4057 - val_accuracy: 0.4788\n",
      "Epoch 25/100\n",
      "217/217 [==============================] - 11s 51ms/step - loss: 0.6207 - accuracy: 0.7403 - val_loss: 1.4163 - val_accuracy: 0.4878\n",
      "Epoch 26/100\n",
      "217/217 [==============================] - 11s 50ms/step - loss: 0.5973 - accuracy: 0.7540 - val_loss: 1.5034 - val_accuracy: 0.4864\n",
      "Epoch 27/100\n",
      "217/217 [==============================] - 11s 51ms/step - loss: 0.5875 - accuracy: 0.7594 - val_loss: 1.6530 - val_accuracy: 0.5024\n",
      "Epoch 28/100\n",
      "217/217 [==============================] - 12s 55ms/step - loss: 0.5722 - accuracy: 0.7654 - val_loss: 1.6179 - val_accuracy: 0.4799\n",
      "Epoch 29/100\n",
      "217/217 [==============================] - 12s 54ms/step - loss: 0.5603 - accuracy: 0.7730 - val_loss: 1.7121 - val_accuracy: 0.4910\n",
      "Epoch 30/100\n",
      "217/217 [==============================] - 11s 52ms/step - loss: 0.5491 - accuracy: 0.7765 - val_loss: 1.7493 - val_accuracy: 0.4854\n",
      "Epoch 31/100\n",
      "217/217 [==============================] - 11s 51ms/step - loss: 0.5384 - accuracy: 0.7820 - val_loss: 1.6129 - val_accuracy: 0.4862\n",
      "Epoch 32/100\n",
      "217/217 [==============================] - 11s 53ms/step - loss: 0.5270 - accuracy: 0.7850 - val_loss: 1.6694 - val_accuracy: 0.4842\n",
      "Epoch 33/100\n",
      "217/217 [==============================] - 11s 50ms/step - loss: 0.5276 - accuracy: 0.7883 - val_loss: 1.7546 - val_accuracy: 0.4982\n",
      "Epoch 34/100\n",
      "217/217 [==============================] - 11s 50ms/step - loss: 0.5033 - accuracy: 0.7980 - val_loss: 1.7856 - val_accuracy: 0.4897\n",
      "Epoch 35/100\n",
      "217/217 [==============================] - 11s 50ms/step - loss: 0.4968 - accuracy: 0.8004 - val_loss: 1.9290 - val_accuracy: 0.4829\n",
      "Epoch 36/100\n",
      "217/217 [==============================] - 11s 50ms/step - loss: 0.4974 - accuracy: 0.8029 - val_loss: 2.0317 - val_accuracy: 0.5074\n",
      "Epoch 37/100\n",
      "217/217 [==============================] - 11s 50ms/step - loss: 0.4746 - accuracy: 0.8105 - val_loss: 2.1756 - val_accuracy: 0.4904\n",
      "Epoch 38/100\n",
      "217/217 [==============================] - 11s 50ms/step - loss: 0.4652 - accuracy: 0.8151 - val_loss: 2.3789 - val_accuracy: 0.5033\n",
      "Epoch 39/100\n",
      "217/217 [==============================] - 11s 53ms/step - loss: 0.4450 - accuracy: 0.8312 - val_loss: 1.9111 - val_accuracy: 0.4783\n",
      "Epoch 40/100\n",
      "217/217 [==============================] - 11s 50ms/step - loss: 0.4620 - accuracy: 0.8214 - val_loss: 2.1427 - val_accuracy: 0.5009\n",
      "Epoch 41/100\n",
      "217/217 [==============================] - 11s 51ms/step - loss: 0.4419 - accuracy: 0.8297 - val_loss: 2.0731 - val_accuracy: 0.4840\n",
      "Epoch 42/100\n",
      "217/217 [==============================] - 11s 50ms/step - loss: 0.4315 - accuracy: 0.8353 - val_loss: 2.4380 - val_accuracy: 0.4893\n",
      "Epoch 43/100\n",
      "217/217 [==============================] - 11s 51ms/step - loss: 0.4323 - accuracy: 0.8361 - val_loss: 1.9458 - val_accuracy: 0.4849\n",
      "Epoch 44/100\n",
      "217/217 [==============================] - 11s 51ms/step - loss: 0.4257 - accuracy: 0.8412 - val_loss: 1.9508 - val_accuracy: 0.4912\n",
      "Epoch 45/100\n",
      "217/217 [==============================] - 11s 51ms/step - loss: 0.4015 - accuracy: 0.8486 - val_loss: 2.3507 - val_accuracy: 0.4908\n",
      "Epoch 46/100\n",
      "217/217 [==============================] - 12s 54ms/step - loss: 0.3874 - accuracy: 0.8535 - val_loss: 2.5569 - val_accuracy: 0.4838\n",
      "Epoch 47/100\n",
      "217/217 [==============================] - 13s 59ms/step - loss: 0.4051 - accuracy: 0.8474 - val_loss: 2.6311 - val_accuracy: 0.4893\n",
      "Epoch 48/100\n",
      "217/217 [==============================] - 12s 56ms/step - loss: 0.3948 - accuracy: 0.8518 - val_loss: 2.5070 - val_accuracy: 0.4969\n",
      "Epoch 49/100\n",
      "217/217 [==============================] - 12s 55ms/step - loss: 0.3884 - accuracy: 0.8558 - val_loss: 2.8396 - val_accuracy: 0.4919\n",
      "Epoch 50/100\n",
      "217/217 [==============================] - 17s 79ms/step - loss: 0.3832 - accuracy: 0.8580 - val_loss: 2.5124 - val_accuracy: 0.4871\n",
      "Epoch 51/100\n",
      "217/217 [==============================] - 18s 81ms/step - loss: 0.3770 - accuracy: 0.8582 - val_loss: 2.5016 - val_accuracy: 0.4886\n",
      "Epoch 52/100\n",
      "217/217 [==============================] - 18s 83ms/step - loss: 0.3875 - accuracy: 0.8566 - val_loss: 2.4608 - val_accuracy: 0.5011\n",
      "Epoch 53/100\n",
      "217/217 [==============================] - 17s 80ms/step - loss: 0.3695 - accuracy: 0.8607 - val_loss: 2.8671 - val_accuracy: 0.4982\n"
     ]
    },
    {
     "name": "stdout",
     "output_type": "stream",
     "text": [
      "Epoch 54/100\n",
      "217/217 [==============================] - 17s 79ms/step - loss: 0.3746 - accuracy: 0.8614 - val_loss: 2.6150 - val_accuracy: 0.4889\n",
      "Epoch 55/100\n",
      "217/217 [==============================] - 18s 83ms/step - loss: 0.3665 - accuracy: 0.8648 - val_loss: 2.3201 - val_accuracy: 0.4818\n",
      "Epoch 56/100\n",
      "217/217 [==============================] - 18s 81ms/step - loss: 0.3621 - accuracy: 0.8675 - val_loss: 2.4234 - val_accuracy: 0.4971\n",
      "Epoch 57/100\n",
      "217/217 [==============================] - 18s 81ms/step - loss: 0.3593 - accuracy: 0.8679 - val_loss: 2.6990 - val_accuracy: 0.4958\n",
      "Epoch 58/100\n",
      "217/217 [==============================] - 18s 81ms/step - loss: 0.3532 - accuracy: 0.8705 - val_loss: 2.8732 - val_accuracy: 0.4941\n",
      "Epoch 59/100\n",
      "217/217 [==============================] - 18s 83ms/step - loss: 0.3568 - accuracy: 0.8681 - val_loss: 2.8579 - val_accuracy: 0.4832\n",
      "Epoch 60/100\n",
      "217/217 [==============================] - 19s 86ms/step - loss: 0.3359 - accuracy: 0.8744 - val_loss: 2.8105 - val_accuracy: 0.4888\n",
      "Epoch 61/100\n",
      "217/217 [==============================] - 19s 85ms/step - loss: 0.3565 - accuracy: 0.8693 - val_loss: 2.5796 - val_accuracy: 0.4816\n",
      "Epoch 62/100\n",
      "217/217 [==============================] - 18s 82ms/step - loss: 0.3432 - accuracy: 0.8732 - val_loss: 2.8881 - val_accuracy: 0.4908\n",
      "Epoch 63/100\n",
      "217/217 [==============================] - 19s 88ms/step - loss: 0.3718 - accuracy: 0.8639 - val_loss: 2.6302 - val_accuracy: 0.4821\n",
      "Epoch 64/100\n",
      "217/217 [==============================] - 20s 91ms/step - loss: 0.3365 - accuracy: 0.8775 - val_loss: 3.0525 - val_accuracy: 0.4886\n",
      "Epoch 65/100\n",
      "217/217 [==============================] - 18s 82ms/step - loss: 0.3328 - accuracy: 0.8795 - val_loss: 2.6222 - val_accuracy: 0.4873\n",
      "Epoch 66/100\n",
      "217/217 [==============================] - 19s 88ms/step - loss: 0.3561 - accuracy: 0.8716 - val_loss: 2.7872 - val_accuracy: 0.4919\n",
      "Epoch 67/100\n",
      "217/217 [==============================] - 25s 115ms/step - loss: 0.3292 - accuracy: 0.8815 - val_loss: 2.9163 - val_accuracy: 0.4783\n",
      "Epoch 68/100\n",
      "217/217 [==============================] - 23s 104ms/step - loss: 0.3214 - accuracy: 0.8824 - val_loss: 2.9065 - val_accuracy: 0.4921\n",
      "Epoch 69/100\n",
      "217/217 [==============================] - 25s 116ms/step - loss: 0.3458 - accuracy: 0.8735 - val_loss: 2.7684 - val_accuracy: 0.4910\n",
      "Epoch 70/100\n",
      "217/217 [==============================] - 25s 115ms/step - loss: 0.3426 - accuracy: 0.8741 - val_loss: 2.4531 - val_accuracy: 0.4849\n",
      "Epoch 71/100\n",
      "217/217 [==============================] - 25s 114ms/step - loss: 0.3123 - accuracy: 0.8859 - val_loss: 2.7379 - val_accuracy: 0.4864\n",
      "Epoch 72/100\n",
      "217/217 [==============================] - 25s 116ms/step - loss: 0.3231 - accuracy: 0.8822 - val_loss: 2.8310 - val_accuracy: 0.4853\n",
      "Epoch 73/100\n",
      "217/217 [==============================] - 25s 115ms/step - loss: 0.3157 - accuracy: 0.8864 - val_loss: 3.1745 - val_accuracy: 0.4748\n",
      "Epoch 74/100\n",
      "217/217 [==============================] - 25s 114ms/step - loss: 0.3141 - accuracy: 0.8841 - val_loss: 2.9185 - val_accuracy: 0.4873\n",
      "Epoch 75/100\n",
      "217/217 [==============================] - 25s 115ms/step - loss: 0.3270 - accuracy: 0.8821 - val_loss: 2.5954 - val_accuracy: 0.4794\n",
      "Epoch 76/100\n",
      "217/217 [==============================] - 26s 119ms/step - loss: 0.3151 - accuracy: 0.8851 - val_loss: 3.0376 - val_accuracy: 0.4840\n",
      "Epoch 77/100\n",
      "217/217 [==============================] - 25s 117ms/step - loss: 0.3105 - accuracy: 0.8887 - val_loss: 3.0999 - val_accuracy: 0.4935\n",
      "Epoch 78/100\n",
      "217/217 [==============================] - 25s 116ms/step - loss: 0.3152 - accuracy: 0.8860 - val_loss: 2.9744 - val_accuracy: 0.4742\n",
      "Epoch 79/100\n",
      "217/217 [==============================] - 26s 121ms/step - loss: 0.3274 - accuracy: 0.8828 - val_loss: 2.8305 - val_accuracy: 0.4967\n",
      "Epoch 80/100\n",
      "217/217 [==============================] - 30s 137ms/step - loss: 0.3186 - accuracy: 0.8855 - val_loss: 2.5542 - val_accuracy: 0.4878\n",
      "Epoch 81/100\n",
      "217/217 [==============================] - 30s 136ms/step - loss: 0.3180 - accuracy: 0.8842 - val_loss: 3.1010 - val_accuracy: 0.4766\n",
      "Epoch 82/100\n",
      "217/217 [==============================] - 25s 116ms/step - loss: 0.2986 - accuracy: 0.8921 - val_loss: 3.3294 - val_accuracy: 0.4801\n",
      "Epoch 83/100\n",
      "217/217 [==============================] - 26s 119ms/step - loss: 0.3059 - accuracy: 0.8877 - val_loss: 2.7810 - val_accuracy: 0.4777\n",
      "Epoch 84/100\n",
      "217/217 [==============================] - 26s 122ms/step - loss: 0.3067 - accuracy: 0.8908 - val_loss: 2.7110 - val_accuracy: 0.4823\n",
      "Epoch 85/100\n",
      "217/217 [==============================] - 25s 116ms/step - loss: 0.3037 - accuracy: 0.8912 - val_loss: 3.2316 - val_accuracy: 0.4764\n",
      "Epoch 86/100\n",
      "217/217 [==============================] - 26s 121ms/step - loss: 0.3193 - accuracy: 0.8843 - val_loss: 2.7836 - val_accuracy: 0.4906\n",
      "Epoch 87/100\n",
      "217/217 [==============================] - 27s 124ms/step - loss: 0.3000 - accuracy: 0.8935 - val_loss: 3.1164 - val_accuracy: 0.4843\n",
      "Epoch 88/100\n",
      "217/217 [==============================] - 30s 137ms/step - loss: 0.2904 - accuracy: 0.8962 - val_loss: 2.8089 - val_accuracy: 0.4878\n",
      "Epoch 89/100\n",
      "217/217 [==============================] - 37s 171ms/step - loss: 0.2900 - accuracy: 0.8953 - val_loss: 3.1700 - val_accuracy: 0.4773\n",
      "Epoch 90/100\n",
      "217/217 [==============================] - 36s 169ms/step - loss: 0.3067 - accuracy: 0.8915 - val_loss: 2.8761 - val_accuracy: 0.4889\n",
      "Epoch 91/100\n",
      "217/217 [==============================] - 41s 188ms/step - loss: 0.2995 - accuracy: 0.8933 - val_loss: 3.1965 - val_accuracy: 0.4967\n",
      "Epoch 92/100\n",
      "217/217 [==============================] - 43s 200ms/step - loss: 0.3031 - accuracy: 0.8900 - val_loss: 3.0669 - val_accuracy: 0.4823\n",
      "Epoch 93/100\n",
      "217/217 [==============================] - 41s 190ms/step - loss: 0.2917 - accuracy: 0.8937 - val_loss: 3.1872 - val_accuracy: 0.4865\n",
      "Epoch 94/100\n",
      "217/217 [==============================] - 41s 189ms/step - loss: 0.3015 - accuracy: 0.8903 - val_loss: 2.6845 - val_accuracy: 0.4707\n",
      "Epoch 95/100\n",
      "217/217 [==============================] - 42s 193ms/step - loss: 0.3086 - accuracy: 0.8900 - val_loss: 3.0910 - val_accuracy: 0.4864\n",
      "Epoch 96/100\n",
      "217/217 [==============================] - 43s 199ms/step - loss: 0.2975 - accuracy: 0.8927 - val_loss: 3.2786 - val_accuracy: 0.4967\n",
      "Epoch 97/100\n",
      "217/217 [==============================] - 43s 198ms/step - loss: 0.2943 - accuracy: 0.8924 - val_loss: 3.1776 - val_accuracy: 0.4926\n",
      "Epoch 98/100\n",
      "217/217 [==============================] - 43s 198ms/step - loss: 0.2872 - accuracy: 0.8954 - val_loss: 3.7339 - val_accuracy: 0.4724\n",
      "Epoch 99/100\n",
      "217/217 [==============================] - 45s 208ms/step - loss: 0.2821 - accuracy: 0.9000 - val_loss: 3.3690 - val_accuracy: 0.4937\n",
      "Epoch 100/100\n",
      "217/217 [==============================] - 48s 221ms/step - loss: 0.2957 - accuracy: 0.8935 - val_loss: 3.2530 - val_accuracy: 0.4880\n"
     ]
    },
    {
     "data": {
      "text/plain": [
       "<keras.src.callbacks.History at 0x229368c8d00>"
      ]
     },
     "execution_count": 13,
     "metadata": {},
     "output_type": "execute_result"
    }
   ],
   "source": [
    "history=model.fit(padded_docs_train, y_train, epochs=100, batch_size=100, validation_data=(padded_docs_test, y_test))\n",
    "history"
   ]
  },
  {
   "cell_type": "markdown",
   "id": "5d00c466",
   "metadata": {},
   "source": [
    "##### 6) Finding Training and Testing Accuracy"
   ]
  },
  {
   "cell_type": "code",
   "execution_count": 14,
   "id": "6d517703",
   "metadata": {},
   "outputs": [
    {
     "data": {
      "image/png": "[encoded data removed]",
      "text/plain": [
       "<Figure size 432x288 with 1 Axes>"
      ]
     },
     "metadata": {
      "needs_background": "light"
     },
     "output_type": "display_data"
    }
   ],
   "source": [
    "# Plot the training and testing accuracy\n",
    "plt.plot(history.history['accuracy'])\n",
    "plt.plot(history.history['val_accuracy'])\n",
    "plt.title('Model Accuracy')\n",
    "plt.ylabel('Accuracy')\n",
    "plt.xlabel('Epoch')\n",
    "plt.ylim([0, 1])\n",
    "plt.legend(['Train', 'Test'], loc='upper left')\n",
    "plt.show()"
   ]
  },
  {
   "cell_type": "code",
   "execution_count": 15,
   "id": "516fe5b8",
   "metadata": {},
   "outputs": [
    {
     "name": "stdout",
     "output_type": "stream",
     "text": [
      "170/170 [==============================] - 9s 49ms/step - loss: 3.2530 - accuracy: 0.4880\n"
     ]
    },
    {
     "data": {
      "text/plain": [
       "(3.252952814102173, 0.4880206286907196)"
      ]
     },
     "execution_count": 15,
     "metadata": {},
     "output_type": "execute_result"
    }
   ],
   "source": [
    "test_loss,test_acc=model.evaluate(padded_docs_test,y_test)\n",
    "test_loss,test_acc"
   ]
  },
  {
   "cell_type": "markdown",
   "id": "80a47670",
   "metadata": {},
   "source": [
    "##### 7) Compute and plot the confusion matrix for the three classes"
   ]
  },
  {
   "cell_type": "code",
   "execution_count": 16,
   "id": "7eb7ef1b",
   "metadata": {},
   "outputs": [
    {
     "name": "stdout",
     "output_type": "stream",
     "text": [
      "170/170 [==============================] - 15s 36ms/step\n",
      "              precision    recall  f1-score   support\n",
      "\n",
      "    negative       0.49      0.52      0.50      1835\n",
      "     neutral       0.45      0.47      0.46      1801\n",
      "    positive       0.53      0.48      0.50      1790\n",
      "\n",
      "    accuracy                           0.49      5426\n",
      "   macro avg       0.49      0.49      0.49      5426\n",
      "weighted avg       0.49      0.49      0.49      5426\n",
      "\n"
     ]
    }
   ],
   "source": [
    "predictions=model.predict(padded_docs_test)\n",
    "class_labels = ['negative', 'positive','neutral']\n",
    "predicted_class_labels = [class_labels[np.argmax(pred)] for pred in predictions]\n",
    "actual_class_labels=[class_labels[actual] for actual in y_test]\n",
    "print(classification_report(actual_class_labels, predicted_class_labels))"
   ]
  },
  {
   "cell_type": "code",
   "execution_count": 17,
   "id": "9208658a",
   "metadata": {},
   "outputs": [
    {
     "data": {
      "image/png": "[encoded data removed]",
      "text/plain": [
       "<Figure size 576x432 with 2 Axes>"
      ]
     },
     "metadata": {
      "needs_background": "light"
     },
     "output_type": "display_data"
    }
   ],
   "source": [
    "conf_matrix = confusion_matrix(actual_class_labels, predicted_class_labels, labels=class_labels)\n",
    "plt.figure(figsize=(8, 6))\n",
    "sns.heatmap(conf_matrix, annot=True, fmt=\"d\", cmap=\"Purples\", xticklabels=class_labels, yticklabels=class_labels)\n",
    "plt.title('Confusion Matrix')\n",
    "plt.xlabel('Predicted Labels')\n",
    "plt.ylabel('True Labels')\n",
    "plt.show()"
   ]
  },
  {
   "cell_type": "markdown",
   "id": "dd974772",
   "metadata": {},
   "source": [
    "##### 8) Saving the final results in Excel sheet"
   ]
  },
  {
   "cell_type": "code",
   "execution_count": 18,
   "id": "a0081b41",
   "metadata": {},
   "outputs": [
    {
     "name": "stdout",
     "output_type": "stream",
     "text": [
      "Precision per class: [0.48964803 0.45396146 0.52521525]\n",
      "Recall per class: [0.51553134 0.47084953 0.47709497]\n"
     ]
    }
   ],
   "source": [
    "precision_per_class = precision_score(actual_class_labels, predicted_class_labels, average=None)\n",
    "recall_per_class = recall_score(actual_class_labels, predicted_class_labels, average=None)\n",
    "\n",
    "print(\"Precision per class:\", precision_per_class)\n",
    "print(\"Recall per class:\", recall_per_class)"
   ]
  },
  {
   "cell_type": "code",
   "execution_count": 19,
   "id": "7df0d2f2",
   "metadata": {},
   "outputs": [
    {
     "name": "stdout",
     "output_type": "stream",
     "text": [
      "Micro F1 Score: 0.488020641356432\n",
      "Macro F1 Score: 0.4881692440380327\n"
     ]
    }
   ],
   "source": [
    "f1_micro = f1_score(actual_class_labels, predicted_class_labels, average='micro')\n",
    "f1_macro = f1_score(actual_class_labels, predicted_class_labels, average='macro')\n",
    "\n",
    "print(\"Micro F1 Score:\", f1_micro)\n",
    "print(\"Macro F1 Score:\", f1_macro)"
   ]
  },
  {
   "cell_type": "code",
   "execution_count": 21,
   "id": "0fda9b17",
   "metadata": {},
   "outputs": [
    {
     "data": {
      "text/html": [
       "<div>\n",
       "<style scoped>\n",
       "    .dataframe tbody tr th:only-of-type {\n",
       "        vertical-align: middle;\n",
       "    }\n",
       "\n",
       "    .dataframe tbody tr th {\n",
       "        vertical-align: top;\n",
       "    }\n",
       "\n",
       "    .dataframe thead th {\n",
       "        text-align: right;\n",
       "    }\n",
       "</style>\n",
       "<table border=\"1\" class=\"dataframe\">\n",
       "  <thead>\n",
       "    <tr style=\"text-align: right;\">\n",
       "      <th></th>\n",
       "      <th>Unnamed: 0</th>\n",
       "      <th>RandomDeletion_Dataset</th>\n",
       "    </tr>\n",
       "  </thead>\n",
       "  <tbody>\n",
       "    <tr>\n",
       "      <th>0</th>\n",
       "      <td>Training Accuracy</td>\n",
       "      <td>0.900000</td>\n",
       "    </tr>\n",
       "    <tr>\n",
       "      <th>1</th>\n",
       "      <td>Testing Accuracy</td>\n",
       "      <td>0.488021</td>\n",
       "    </tr>\n",
       "    <tr>\n",
       "      <th>2</th>\n",
       "      <td>Micro F1 Score</td>\n",
       "      <td>0.488021</td>\n",
       "    </tr>\n",
       "    <tr>\n",
       "      <th>3</th>\n",
       "      <td>Macro F1 Score</td>\n",
       "      <td>0.488169</td>\n",
       "    </tr>\n",
       "    <tr>\n",
       "      <th>4</th>\n",
       "      <td>Precision for Negative sentiment</td>\n",
       "      <td>0.489648</td>\n",
       "    </tr>\n",
       "    <tr>\n",
       "      <th>5</th>\n",
       "      <td>Precision for Positive sentiment</td>\n",
       "      <td>0.453961</td>\n",
       "    </tr>\n",
       "    <tr>\n",
       "      <th>6</th>\n",
       "      <td>Precision for Neutral sentiment</td>\n",
       "      <td>0.525215</td>\n",
       "    </tr>\n",
       "    <tr>\n",
       "      <th>7</th>\n",
       "      <td>Recall for Negative sentiment</td>\n",
       "      <td>0.515531</td>\n",
       "    </tr>\n",
       "    <tr>\n",
       "      <th>8</th>\n",
       "      <td>Recall for Positive sentiment</td>\n",
       "      <td>0.470850</td>\n",
       "    </tr>\n",
       "    <tr>\n",
       "      <th>9</th>\n",
       "      <td>Recall for Neutral sentiment</td>\n",
       "      <td>0.477095</td>\n",
       "    </tr>\n",
       "  </tbody>\n",
       "</table>\n",
       "</div>"
      ],
      "text/plain": [
       "                         Unnamed: 0  RandomDeletion_Dataset\n",
       "0                 Training Accuracy                0.900000\n",
       "1                  Testing Accuracy                0.488021\n",
       "2                    Micro F1 Score                0.488021\n",
       "3                    Macro F1 Score                0.488169\n",
       "4  Precision for Negative sentiment                0.489648\n",
       "5  Precision for Positive sentiment                0.453961\n",
       "6   Precision for Neutral sentiment                0.525215\n",
       "7     Recall for Negative sentiment                0.515531\n",
       "8     Recall for Positive sentiment                0.470850\n",
       "9      Recall for Neutral sentiment                0.477095"
      ]
     },
     "execution_count": 21,
     "metadata": {},
     "output_type": "execute_result"
    }
   ],
   "source": [
    "result=pd.read_csv('TCNModelResults.csv')\n",
    "result['RandomDeletion_Dataset']=[max(history.history['accuracy']),test_acc,f1_micro,f1_macro,precision_per_class[0],precision_per_class[1],precision_per_class[2],recall_per_class[0],recall_per_class[1],recall_per_class[2]]\n",
    "result[['Unnamed: 0','RandomDeletion_Dataset']]"
   ]
  },
  {
   "cell_type": "code",
   "execution_count": 22,
   "id": "bb070e77",
   "metadata": {},
   "outputs": [],
   "source": [
    "result.to_csv('TCNModelResults.csv', index=False)"
   ]
  }
 ],
 "metadata": {
  "kernelspec": {
   "display_name": "Python 3 (ipykernel)",
   "language": "python",
   "name": "python3"
  },
  "language_info": {
   "codemirror_mode": {
    "name": "ipython",
    "version": 3
   },
   "file_extension": ".py",
   "mimetype": "text/x-python",
   "name": "python",
   "nbconvert_exporter": "python",
   "pygments_lexer": "ipython3",
   "version": "3.9.7"
  }
 },
 "nbformat": 4,
 "nbformat_minor": 5
}
