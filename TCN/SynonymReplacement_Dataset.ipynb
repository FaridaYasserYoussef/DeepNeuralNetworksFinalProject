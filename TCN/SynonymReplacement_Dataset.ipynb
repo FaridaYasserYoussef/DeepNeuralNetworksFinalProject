{
 "cells": [
  {
   "cell_type": "markdown",
   "id": "c6575869",
   "metadata": {},
   "source": [
    "# TCN Model"
   ]
  },
  {
   "cell_type": "code",
   "execution_count": 1,
   "id": "934847a5",
   "metadata": {},
   "outputs": [
    {
     "name": "stdout",
     "output_type": "stream",
     "text": [
      "WARNING:tensorflow:From D:\\Users\\Suzan Hatem\\anaconda3\\lib\\site-packages\\keras\\src\\losses.py:2976: The name tf.losses.sparse_softmax_cross_entropy is deprecated. Please use tf.compat.v1.losses.sparse_softmax_cross_entropy instead.\n",
      "\n"
     ]
    }
   ],
   "source": [
    "#Imports\n",
    "import pandas as pd\n",
    "import numpy as np\n",
    "\n",
    "from gensim.models import Word2Vec\n",
    "from sklearn.model_selection import train_test_split\n",
    "from keras.preprocessing.text import Tokenizer\n",
    "from keras.utils import pad_sequences\n",
    "\n",
    "from tcn import TCN, tcn_full_summary\n",
    "from keras.layers import Input, Embedding, Dense, Dropout, SpatialDropout1D\n",
    "from keras.layers import concatenate, GlobalAveragePooling1D, GlobalMaxPooling1D\n",
    "from keras.models import Model\n",
    "from keras.optimizers import Adam\n",
    "\n",
    "import matplotlib.pyplot as plt\n",
    "import seaborn as sns\n",
    "from sklearn.metrics import confusion_matrix\n",
    "from sklearn.metrics import confusion_matrix, ConfusionMatrixDisplay\n",
    "from sklearn.metrics import classification_report\n",
    "from sklearn.metrics import precision_score, recall_score\n",
    "from sklearn.metrics import f1_score"
   ]
  },
  {
   "cell_type": "markdown",
   "id": "978ceb42",
   "metadata": {},
   "source": [
    "##### 1)Loading Dataset"
   ]
  },
  {
   "cell_type": "code",
   "execution_count": 2,
   "id": "272b56c0",
   "metadata": {},
   "outputs": [
    {
     "data": {
      "text/html": [
       "<div>\n",
       "<style scoped>\n",
       "    .dataframe tbody tr th:only-of-type {\n",
       "        vertical-align: middle;\n",
       "    }\n",
       "\n",
       "    .dataframe tbody tr th {\n",
       "        vertical-align: top;\n",
       "    }\n",
       "\n",
       "    .dataframe thead th {\n",
       "        text-align: right;\n",
       "    }\n",
       "</style>\n",
       "<table border=\"1\" class=\"dataframe\">\n",
       "  <thead>\n",
       "    <tr style=\"text-align: right;\">\n",
       "      <th></th>\n",
       "      <th>Unnamed: 0.1</th>\n",
       "      <th>Unnamed: 0</th>\n",
       "      <th>text</th>\n",
       "      <th>label</th>\n",
       "      <th>length</th>\n",
       "      <th>preprocessed_abstract</th>\n",
       "      <th>length_after_cleaning</th>\n",
       "      <th>tokenized_text</th>\n",
       "    </tr>\n",
       "  </thead>\n",
       "  <tbody>\n",
       "    <tr>\n",
       "      <th>0</th>\n",
       "      <td>0</td>\n",
       "      <td>0</td>\n",
       "      <td>@VirginAmerica What @dhepburn said.</td>\n",
       "      <td>2</td>\n",
       "      <td>35</td>\n",
       "      <td>what say</td>\n",
       "      <td>8</td>\n",
       "      <td>['what', 'say']</td>\n",
       "    </tr>\n",
       "    <tr>\n",
       "      <th>1</th>\n",
       "      <td>1</td>\n",
       "      <td>1</td>\n",
       "      <td>@VirginAmerica plus you've added commercials t...</td>\n",
       "      <td>1</td>\n",
       "      <td>72</td>\n",
       "      <td>plus add commercial experience tacky</td>\n",
       "      <td>36</td>\n",
       "      <td>['plus', 'add', 'commercial', 'experience', 't...</td>\n",
       "    </tr>\n",
       "    <tr>\n",
       "      <th>2</th>\n",
       "      <td>2</td>\n",
       "      <td>2</td>\n",
       "      <td>@VirginAmerica I didn't today... Must mean I n...</td>\n",
       "      <td>2</td>\n",
       "      <td>71</td>\n",
       "      <td>i today must mean i need take another trip</td>\n",
       "      <td>42</td>\n",
       "      <td>['i', 'today', 'must', 'mean', 'i', 'need', 't...</td>\n",
       "    </tr>\n",
       "    <tr>\n",
       "      <th>3</th>\n",
       "      <td>3</td>\n",
       "      <td>3</td>\n",
       "      <td>@VirginAmerica it's really aggressive to blast...</td>\n",
       "      <td>0</td>\n",
       "      <td>126</td>\n",
       "      <td>really aggressive blast obnoxious entertainmen...</td>\n",
       "      <td>78</td>\n",
       "      <td>['really', 'aggressive', 'blast', 'obnoxious',...</td>\n",
       "    </tr>\n",
       "    <tr>\n",
       "      <th>4</th>\n",
       "      <td>4</td>\n",
       "      <td>4</td>\n",
       "      <td>@VirginAmerica and it's a really big bad thing...</td>\n",
       "      <td>0</td>\n",
       "      <td>55</td>\n",
       "      <td>really big bad thing</td>\n",
       "      <td>20</td>\n",
       "      <td>['really', 'big', 'bad', 'thing']</td>\n",
       "    </tr>\n",
       "  </tbody>\n",
       "</table>\n",
       "</div>"
      ],
      "text/plain": [
       "   Unnamed: 0.1  Unnamed: 0  \\\n",
       "0             0           0   \n",
       "1             1           1   \n",
       "2             2           2   \n",
       "3             3           3   \n",
       "4             4           4   \n",
       "\n",
       "                                                text  label  length  \\\n",
       "0                @VirginAmerica What @dhepburn said.      2      35   \n",
       "1  @VirginAmerica plus you've added commercials t...      1      72   \n",
       "2  @VirginAmerica I didn't today... Must mean I n...      2      71   \n",
       "3  @VirginAmerica it's really aggressive to blast...      0     126   \n",
       "4  @VirginAmerica and it's a really big bad thing...      0      55   \n",
       "\n",
       "                               preprocessed_abstract  length_after_cleaning  \\\n",
       "0                                           what say                      8   \n",
       "1               plus add commercial experience tacky                     36   \n",
       "2         i today must mean i need take another trip                     42   \n",
       "3  really aggressive blast obnoxious entertainmen...                     78   \n",
       "4                               really big bad thing                     20   \n",
       "\n",
       "                                      tokenized_text  \n",
       "0                                    ['what', 'say']  \n",
       "1  ['plus', 'add', 'commercial', 'experience', 't...  \n",
       "2  ['i', 'today', 'must', 'mean', 'i', 'need', 't...  \n",
       "3  ['really', 'aggressive', 'blast', 'obnoxious',...  \n",
       "4                  ['really', 'big', 'bad', 'thing']  "
      ]
     },
     "execution_count": 2,
     "metadata": {},
     "output_type": "execute_result"
    }
   ],
   "source": [
    "df=pd.read_csv(\"df_SynonymReplacement.csv\")\n",
    "df.head()"
   ]
  },
  {
   "cell_type": "code",
   "execution_count": 3,
   "id": "17c756b8",
   "metadata": {},
   "outputs": [
    {
     "data": {
      "text/plain": [
       "Unnamed: 0.1              0\n",
       "Unnamed: 0                0\n",
       "text                      0\n",
       "label                     0\n",
       "length                    0\n",
       "preprocessed_abstract    49\n",
       "length_after_cleaning     0\n",
       "tokenized_text            0\n",
       "dtype: int64"
      ]
     },
     "execution_count": 3,
     "metadata": {},
     "output_type": "execute_result"
    }
   ],
   "source": [
    "df.isnull().sum()"
   ]
  },
  {
   "cell_type": "code",
   "execution_count": 4,
   "id": "34e6d18c",
   "metadata": {},
   "outputs": [],
   "source": [
    "df = df.dropna()"
   ]
  },
  {
   "cell_type": "markdown",
   "id": "46c4f1f4",
   "metadata": {},
   "source": [
    "##### 2)Preparing Data"
   ]
  },
  {
   "cell_type": "markdown",
   "id": "1130b37b",
   "metadata": {},
   "source": [
    "- Word2Vec model (pre-trained word embeddings) for embedding layer in the model"
   ]
  },
  {
   "cell_type": "code",
   "execution_count": 5,
   "id": "029601c1",
   "metadata": {},
   "outputs": [
    {
     "data": {
      "text/plain": [
       "array([[ 3.7668136e-01,  3.1893656e-02,  6.9664657e-01, ...,\n",
       "        -1.2173952e+00, -1.5581702e-01,  7.3652989e-01],\n",
       "       [-8.5875601e-01,  6.1384922e-01,  7.1957332e-01, ...,\n",
       "        -3.6619425e-01, -3.2294041e-01,  5.6843090e-01],\n",
       "       [-1.6865154e-01,  8.6970115e-01,  2.5487021e-01, ...,\n",
       "        -5.6053513e-01,  2.9676640e-01, -1.4163257e-01],\n",
       "       ...,\n",
       "       [-6.5204664e-03,  2.0952191e-02,  2.0480049e-03, ...,\n",
       "        -1.4585134e-02,  1.1623454e-03, -4.3916833e-03],\n",
       "       [-5.7625347e-03,  9.7435275e-03,  2.7550492e-04, ...,\n",
       "        -1.9910924e-02,  1.1635921e-02,  3.7549790e-03],\n",
       "       [ 2.6493601e-03, -7.3829186e-03,  8.3042206e-03, ...,\n",
       "        -7.1918615e-03, -4.6067499e-03,  4.1690440e-04]], dtype=float32)"
      ]
     },
     "execution_count": 5,
     "metadata": {},
     "output_type": "execute_result"
    }
   ],
   "source": [
    "sentences = [sentence.split() for sentence in df['preprocessed_abstract']]\n",
    "# Create and train the Word2Vec model\n",
    "model_2= Word2Vec(sentences, vector_size=100, window=5, min_count=1, workers=4)\n",
    "# Access the word vectors\n",
    "word_vectors = model_2.wv\n",
    "word_vectors.vectors"
   ]
  },
  {
   "cell_type": "code",
   "execution_count": 6,
   "id": "08dd43f6",
   "metadata": {},
   "outputs": [
    {
     "data": {
      "text/plain": [
       "(11631, 100)"
      ]
     },
     "execution_count": 6,
     "metadata": {},
     "output_type": "execute_result"
    }
   ],
   "source": [
    "word_vectors.vectors.shape"
   ]
  },
  {
   "cell_type": "markdown",
   "id": "4e03b6a9",
   "metadata": {},
   "source": [
    "#####  3) Split , into Training and Validation Sets (80:20)"
   ]
  },
  {
   "cell_type": "code",
   "execution_count": 7,
   "id": "d8741840",
   "metadata": {},
   "outputs": [
    {
     "name": "stdout",
     "output_type": "stream",
     "text": [
      "Train data: (21988,) (21988,)\n",
      "Test data: (5497,) (5497,)\n"
     ]
    }
   ],
   "source": [
    "X_train, X_test, y_train, y_test = train_test_split(df['preprocessed_abstract'], df['label'], test_size=0.2, stratify=df['label'], random_state=42)\n",
    "print(\"Train data:\",  X_train.shape, y_train.shape)\n",
    "print(\"Test data:\",  X_test.shape, y_test.shape)"
   ]
  },
  {
   "cell_type": "code",
   "execution_count": 8,
   "id": "9d5b7f7d",
   "metadata": {},
   "outputs": [
    {
     "data": {
      "image/png": "[encoded data removed]",
      "text/plain": [
       "<Figure size 1008x432 with 1 Axes>"
      ]
     },
     "metadata": {},
     "output_type": "display_data"
    }
   ],
   "source": [
    "plt.figure(figsize=(14,6))\n",
    "colors = ['#4285f4', '#ea4335', '#fbbc05', '#34a853']\n",
    "plt.rcParams.update({'font.size': 14})\n",
    "plt.pie([len(y_train), len(y_test)],\n",
    "        labels=['Train','Test'],\n",
    "        colors=colors, autopct='%.1f%%', explode=(0.05,0.05),\n",
    "        startangle=30);"
   ]
  },
  {
   "cell_type": "code",
   "execution_count": 9,
   "id": "7b70c66f",
   "metadata": {},
   "outputs": [
    {
     "name": "stdout",
     "output_type": "stream",
     "text": [
      "[[4325  230  774 ...    0    0    0]\n",
      " [1911  445  164 ...    0    0    0]\n",
      " [ 203 4326  107 ...    0    0    0]\n",
      " ...\n",
      " [   3   47   36 ...    0    0    0]\n",
      " [ 430  163   10 ...    0    0    0]\n",
      " [  79  198  201 ...    0    0    0]]\n"
     ]
    }
   ],
   "source": [
    "corp=X_train\n",
    "t = Tokenizer()\n",
    "t.fit_on_texts(corp)\n",
    "vocab_size = len(t.word_index) + 1\n",
    "# integer encode the documents\n",
    "encoded_docs = t.texts_to_sequences(corp)\n",
    "# print(encoded_docs)\n",
    "max_length=max(len(d) for d in encoded_docs)\n",
    "padded_docs_train = pad_sequences(encoded_docs, maxlen=max_length, padding='post')\n",
    "print(padded_docs_train)"
   ]
  },
  {
   "cell_type": "code",
   "execution_count": 10,
   "id": "16c1cbc2",
   "metadata": {},
   "outputs": [
    {
     "name": "stdout",
     "output_type": "stream",
     "text": [
      "[[   1  122   32 ...    0    0    0]\n",
      " [   6   16    7 ...    0    0    0]\n",
      " [1732  401  240 ...    0    0    0]\n",
      " ...\n",
      " [ 143   20    7 ...    0    0    0]\n",
      " [ 218  932  884 ...    0    0    0]\n",
      " [6213  114  126 ...    0    0    0]]\n"
     ]
    }
   ],
   "source": [
    "corp=X_test\n",
    "t = Tokenizer()\n",
    "t.fit_on_texts(corp)\n",
    "vocab_size = len(t.word_index) + 1\n",
    "# integer encode the documents\n",
    "encoded_docs = t.texts_to_sequences(corp)\n",
    "# print(encoded_docs)\n",
    "padded_docs_test = pad_sequences(encoded_docs, maxlen=max_length, padding='post')\n",
    "print(padded_docs_test)"
   ]
  },
  {
   "cell_type": "markdown",
   "id": "c2ffb115",
   "metadata": {},
   "source": [
    "##### 4)Model Architecture"
   ]
  },
  {
   "cell_type": "code",
   "execution_count": 11,
   "id": "1a556ad9",
   "metadata": {},
   "outputs": [],
   "source": [
    "def tcn_model(kernel_size = 1, activation='relu', input_dim = None, \n",
    "                   output_dim=100, max_length = None, emb_matrix = None):\n",
    "    \n",
    "    inp = Input( shape=(max_length,))\n",
    "    x = Embedding(input_dim=input_dim, \n",
    "                  output_dim=output_dim, \n",
    "                  input_length=max_length,\n",
    "                  # Assign the embedding weight with word2vec embedding marix\n",
    "                  weights = [emb_matrix],\n",
    "                  # Set the weight to be not trainable (static)\n",
    "                  trainable = False)(inp)\n",
    "    \n",
    "    x = SpatialDropout1D(0.1)(x)\n",
    "    \n",
    "    x = TCN(128,dilations = [1, 2, 4], return_sequences=True, activation = activation, name = 'tcn1')(x)\n",
    "    x = TCN(32,dilations = [1, 2, 4], return_sequences=True, activation = activation, name = 'tcn2')(x)\n",
    "    \n",
    "    avg_pool = GlobalAveragePooling1D()(x)\n",
    "    max_pool = GlobalMaxPooling1D()(x)\n",
    "    \n",
    "    conc = concatenate([avg_pool, max_pool])\n",
    "    conc = Dense(16, activation=\"relu\")(conc)\n",
    "    conc = Dropout(0.5)(conc)\n",
    "    outp = Dense(3, activation=\"softmax\")(conc)    \n",
    "\n",
    "    model = Model(inputs=inp, outputs=outp)\n",
    "    model.compile(loss='sparse_categorical_crossentropy', optimizer=Adam(), metrics=['accuracy'])\n",
    "    \n",
    "    return model"
   ]
  },
  {
   "cell_type": "code",
   "execution_count": 12,
   "id": "abfb9a9f",
   "metadata": {},
   "outputs": [
    {
     "name": "stdout",
     "output_type": "stream",
     "text": [
      "WARNING:tensorflow:From D:\\Users\\Suzan Hatem\\anaconda3\\lib\\site-packages\\keras\\src\\backend.py:1398: The name tf.executing_eagerly_outside_functions is deprecated. Please use tf.compat.v1.executing_eagerly_outside_functions instead.\n",
      "\n",
      "Model: \"model\"\n",
      "__________________________________________________________________________________________________\n",
      " Layer (type)                Output Shape                 Param #   Connected to                  \n",
      "==================================================================================================\n",
      " input_1 (InputLayer)        [(None, 26)]                 0         []                            \n",
      "                                                                                                  \n",
      " embedding (Embedding)       (None, 26, 100)              1163100   ['input_1[0][0]']             \n",
      "                                                                                                  \n",
      " spatial_dropout1d (Spatial  (None, 26, 100)              0         ['embedding[0][0]']           \n",
      " Dropout1D)                                                                                       \n",
      "                                                                                                  \n",
      " tcn1 (TCN)                  (None, 26, 128)              297856    ['spatial_dropout1d[0][0]']   \n",
      "                                                                                                  \n",
      " tcn2 (TCN)                  (None, 26, 32)               31968     ['tcn1[0][0]']                \n",
      "                                                                                                  \n",
      " global_average_pooling1d (  (None, 32)                   0         ['tcn2[0][0]']                \n",
      " GlobalAveragePooling1D)                                                                          \n",
      "                                                                                                  \n",
      " global_max_pooling1d (Glob  (None, 32)                   0         ['tcn2[0][0]']                \n",
      " alMaxPooling1D)                                                                                  \n",
      "                                                                                                  \n",
      " concatenate (Concatenate)   (None, 64)                   0         ['global_average_pooling1d[0][\n",
      "                                                                    0]',                          \n",
      "                                                                     'global_max_pooling1d[0][0]']\n",
      "                                                                                                  \n",
      " dense (Dense)               (None, 16)                   1040      ['concatenate[0][0]']         \n",
      "                                                                                                  \n",
      " dropout (Dropout)           (None, 16)                   0         ['dense[0][0]']               \n",
      "                                                                                                  \n",
      " dense_1 (Dense)             (None, 3)                    51        ['dropout[0][0]']             \n",
      "                                                                                                  \n",
      "==================================================================================================\n",
      "Total params: 1494015 (5.70 MB)\n",
      "Trainable params: 330915 (1.26 MB)\n",
      "Non-trainable params: 1163100 (4.44 MB)\n",
      "__________________________________________________________________________________________________\n"
     ]
    }
   ],
   "source": [
    "model =tcn_model(input_dim=word_vectors.vectors.shape[0], output_dim=100, max_length=max_length, emb_matrix=word_vectors.vectors)\n",
    "model.summary()"
   ]
  },
  {
   "cell_type": "markdown",
   "id": "6ea9dbdd",
   "metadata": {},
   "source": [
    "##### 5) Training Model"
   ]
  },
  {
   "cell_type": "code",
   "execution_count": 13,
   "id": "1a3407cf",
   "metadata": {},
   "outputs": [
    {
     "name": "stdout",
     "output_type": "stream",
     "text": [
      "Epoch 1/100\n",
      "WARNING:tensorflow:From D:\\Users\\Suzan Hatem\\anaconda3\\lib\\site-packages\\keras\\src\\utils\\tf_utils.py:492: The name tf.ragged.RaggedTensorValue is deprecated. Please use tf.compat.v1.ragged.RaggedTensorValue instead.\n",
      "\n",
      "WARNING:tensorflow:From D:\\Users\\Suzan Hatem\\anaconda3\\lib\\site-packages\\keras\\src\\engine\\base_layer_utils.py:384: The name tf.executing_eagerly_outside_functions is deprecated. Please use tf.compat.v1.executing_eagerly_outside_functions instead.\n",
      "\n",
      "220/220 [==============================] - 66s 143ms/step - loss: 1.1398 - accuracy: 0.4072 - val_loss: 0.9769 - val_accuracy: 0.5445\n",
      "Epoch 2/100\n",
      "220/220 [==============================] - 26s 118ms/step - loss: 0.9954 - accuracy: 0.4891 - val_loss: 0.9512 - val_accuracy: 0.5596\n",
      "Epoch 3/100\n",
      "220/220 [==============================] - 26s 116ms/step - loss: 0.9691 - accuracy: 0.5143 - val_loss: 0.9394 - val_accuracy: 0.5701\n",
      "Epoch 4/100\n",
      "220/220 [==============================] - 25s 116ms/step - loss: 0.9560 - accuracy: 0.5317 - val_loss: 0.9298 - val_accuracy: 0.5679\n",
      "Epoch 5/100\n",
      "220/220 [==============================] - 26s 118ms/step - loss: 0.9457 - accuracy: 0.5512 - val_loss: 0.9526 - val_accuracy: 0.5559\n",
      "Epoch 6/100\n",
      "220/220 [==============================] - 26s 117ms/step - loss: 0.9368 - accuracy: 0.5504 - val_loss: 0.9494 - val_accuracy: 0.5610\n",
      "Epoch 7/100\n",
      "220/220 [==============================] - 25s 115ms/step - loss: 0.9231 - accuracy: 0.5594 - val_loss: 0.9623 - val_accuracy: 0.5581\n",
      "Epoch 8/100\n",
      "220/220 [==============================] - 25s 115ms/step - loss: 0.9066 - accuracy: 0.5808 - val_loss: 1.0214 - val_accuracy: 0.5048\n",
      "Epoch 9/100\n",
      "220/220 [==============================] - 26s 120ms/step - loss: 0.8967 - accuracy: 0.5850 - val_loss: 0.9965 - val_accuracy: 0.5538\n",
      "Epoch 10/100\n",
      "220/220 [==============================] - 26s 118ms/step - loss: 0.8773 - accuracy: 0.5976 - val_loss: 0.9914 - val_accuracy: 0.5394\n",
      "Epoch 11/100\n",
      "220/220 [==============================] - 26s 118ms/step - loss: 0.8545 - accuracy: 0.6170 - val_loss: 1.0763 - val_accuracy: 0.5479\n",
      "Epoch 12/100\n",
      "220/220 [==============================] - 26s 119ms/step - loss: 0.8403 - accuracy: 0.6237 - val_loss: 1.0171 - val_accuracy: 0.5447\n",
      "Epoch 13/100\n",
      "220/220 [==============================] - 30s 137ms/step - loss: 0.8178 - accuracy: 0.6377 - val_loss: 0.9758 - val_accuracy: 0.5525\n",
      "Epoch 14/100\n",
      "220/220 [==============================] - 31s 143ms/step - loss: 0.7955 - accuracy: 0.6450 - val_loss: 1.1600 - val_accuracy: 0.5427\n",
      "Epoch 15/100\n",
      "220/220 [==============================] - 26s 119ms/step - loss: 0.7832 - accuracy: 0.6514 - val_loss: 1.0555 - val_accuracy: 0.5292\n",
      "Epoch 16/100\n",
      "220/220 [==============================] - 26s 119ms/step - loss: 0.7559 - accuracy: 0.6674 - val_loss: 1.2151 - val_accuracy: 0.5512\n",
      "Epoch 17/100\n",
      "220/220 [==============================] - 27s 123ms/step - loss: 0.7364 - accuracy: 0.6801 - val_loss: 1.1475 - val_accuracy: 0.5357\n",
      "Epoch 18/100\n",
      "220/220 [==============================] - 26s 119ms/step - loss: 0.7111 - accuracy: 0.6914 - val_loss: 1.2408 - val_accuracy: 0.5332\n",
      "Epoch 19/100\n",
      "220/220 [==============================] - 27s 122ms/step - loss: 0.6902 - accuracy: 0.7045 - val_loss: 1.2391 - val_accuracy: 0.5370\n",
      "Epoch 20/100\n",
      "220/220 [==============================] - 28s 126ms/step - loss: 0.6634 - accuracy: 0.7150 - val_loss: 1.2483 - val_accuracy: 0.5148\n",
      "Epoch 21/100\n",
      "220/220 [==============================] - 31s 141ms/step - loss: 0.6428 - accuracy: 0.7299 - val_loss: 1.3273 - val_accuracy: 0.5339\n",
      "Epoch 22/100\n",
      "220/220 [==============================] - 37s 170ms/step - loss: 0.6048 - accuracy: 0.7422 - val_loss: 1.3176 - val_accuracy: 0.5252\n",
      "Epoch 23/100\n",
      "220/220 [==============================] - 39s 175ms/step - loss: 0.5837 - accuracy: 0.7554 - val_loss: 1.5988 - val_accuracy: 0.5348\n",
      "Epoch 24/100\n",
      "220/220 [==============================] - 43s 193ms/step - loss: 0.5576 - accuracy: 0.7682 - val_loss: 1.6647 - val_accuracy: 0.5176\n",
      "Epoch 25/100\n",
      "220/220 [==============================] - 42s 192ms/step - loss: 0.5375 - accuracy: 0.7819 - val_loss: 1.5422 - val_accuracy: 0.5307\n",
      "Epoch 26/100\n",
      "220/220 [==============================] - 43s 197ms/step - loss: 0.5127 - accuracy: 0.7869 - val_loss: 1.5635 - val_accuracy: 0.5139\n",
      "Epoch 27/100\n",
      "220/220 [==============================] - 42s 189ms/step - loss: 0.5025 - accuracy: 0.7952 - val_loss: 1.6495 - val_accuracy: 0.5274\n",
      "Epoch 28/100\n",
      "220/220 [==============================] - 44s 199ms/step - loss: 0.4708 - accuracy: 0.8092 - val_loss: 1.9715 - val_accuracy: 0.5334\n",
      "Epoch 29/100\n",
      "220/220 [==============================] - 44s 201ms/step - loss: 0.4674 - accuracy: 0.8106 - val_loss: 2.1264 - val_accuracy: 0.5321\n",
      "Epoch 30/100\n",
      "220/220 [==============================] - 44s 198ms/step - loss: 0.4571 - accuracy: 0.8152 - val_loss: 2.2906 - val_accuracy: 0.5307\n",
      "Epoch 31/100\n",
      "220/220 [==============================] - 45s 204ms/step - loss: 0.4369 - accuracy: 0.8267 - val_loss: 2.1482 - val_accuracy: 0.5287\n",
      "Epoch 32/100\n",
      "220/220 [==============================] - 46s 209ms/step - loss: 0.4175 - accuracy: 0.8338 - val_loss: 1.8492 - val_accuracy: 0.5128\n",
      "Epoch 33/100\n",
      "220/220 [==============================] - 48s 218ms/step - loss: 0.4046 - accuracy: 0.8383 - val_loss: 2.2586 - val_accuracy: 0.5212\n",
      "Epoch 34/100\n",
      "220/220 [==============================] - 35s 161ms/step - loss: 0.3951 - accuracy: 0.8438 - val_loss: 2.2145 - val_accuracy: 0.5243\n",
      "Epoch 35/100\n",
      "220/220 [==============================] - 39s 175ms/step - loss: 0.3889 - accuracy: 0.8472 - val_loss: 2.3142 - val_accuracy: 0.5250\n",
      "Epoch 36/100\n",
      "220/220 [==============================] - 39s 179ms/step - loss: 0.3795 - accuracy: 0.8532 - val_loss: 2.3089 - val_accuracy: 0.5214\n",
      "Epoch 37/100\n",
      "220/220 [==============================] - 39s 176ms/step - loss: 0.3673 - accuracy: 0.8565 - val_loss: 2.5713 - val_accuracy: 0.5234\n",
      "Epoch 38/100\n",
      "220/220 [==============================] - 40s 184ms/step - loss: 0.3522 - accuracy: 0.8626 - val_loss: 2.4593 - val_accuracy: 0.5192\n",
      "Epoch 39/100\n",
      "220/220 [==============================] - 39s 176ms/step - loss: 0.3514 - accuracy: 0.8648 - val_loss: 2.4528 - val_accuracy: 0.5263\n",
      "Epoch 40/100\n",
      "220/220 [==============================] - 39s 175ms/step - loss: 0.3410 - accuracy: 0.8666 - val_loss: 3.1803 - val_accuracy: 0.5261\n",
      "Epoch 41/100\n",
      "220/220 [==============================] - 38s 175ms/step - loss: 0.3350 - accuracy: 0.8707 - val_loss: 2.5705 - val_accuracy: 0.5285\n",
      "Epoch 42/100\n",
      "220/220 [==============================] - 36s 165ms/step - loss: 0.3156 - accuracy: 0.8802 - val_loss: 3.1660 - val_accuracy: 0.5356\n",
      "Epoch 43/100\n",
      "220/220 [==============================] - 36s 163ms/step - loss: 0.3266 - accuracy: 0.8727 - val_loss: 2.7854 - val_accuracy: 0.5376\n",
      "Epoch 44/100\n",
      "220/220 [==============================] - 36s 163ms/step - loss: 0.3289 - accuracy: 0.8712 - val_loss: 2.9364 - val_accuracy: 0.5254\n",
      "Epoch 45/100\n",
      "220/220 [==============================] - 36s 165ms/step - loss: 0.3043 - accuracy: 0.8834 - val_loss: 2.8752 - val_accuracy: 0.5226\n",
      "Epoch 46/100\n",
      "220/220 [==============================] - 35s 157ms/step - loss: 0.3004 - accuracy: 0.8858 - val_loss: 2.7227 - val_accuracy: 0.5245\n",
      "Epoch 47/100\n",
      "220/220 [==============================] - 35s 159ms/step - loss: 0.3002 - accuracy: 0.8885 - val_loss: 3.2670 - val_accuracy: 0.5270\n",
      "Epoch 48/100\n",
      "220/220 [==============================] - 35s 159ms/step - loss: 0.2805 - accuracy: 0.8927 - val_loss: 2.8730 - val_accuracy: 0.5267\n",
      "Epoch 49/100\n",
      "220/220 [==============================] - 36s 162ms/step - loss: 0.2807 - accuracy: 0.8947 - val_loss: 3.0740 - val_accuracy: 0.5152\n",
      "Epoch 50/100\n",
      "220/220 [==============================] - 36s 166ms/step - loss: 0.2775 - accuracy: 0.8942 - val_loss: 3.1302 - val_accuracy: 0.5174\n",
      "Epoch 51/100\n",
      "220/220 [==============================] - 39s 177ms/step - loss: 0.2824 - accuracy: 0.8929 - val_loss: 3.1952 - val_accuracy: 0.5066\n",
      "Epoch 52/100\n",
      "220/220 [==============================] - 37s 170ms/step - loss: 0.2719 - accuracy: 0.8975 - val_loss: 3.2180 - val_accuracy: 0.5312\n",
      "Epoch 53/100\n"
     ]
    },
    {
     "name": "stdout",
     "output_type": "stream",
     "text": [
      "220/220 [==============================] - 37s 169ms/step - loss: 0.2668 - accuracy: 0.9007 - val_loss: 3.4853 - val_accuracy: 0.5090\n",
      "Epoch 54/100\n",
      "220/220 [==============================] - 36s 165ms/step - loss: 0.2551 - accuracy: 0.9037 - val_loss: 3.4787 - val_accuracy: 0.5092\n",
      "Epoch 55/100\n",
      "220/220 [==============================] - 38s 172ms/step - loss: 0.2505 - accuracy: 0.9043 - val_loss: 3.6948 - val_accuracy: 0.5097\n",
      "Epoch 56/100\n",
      "220/220 [==============================] - 36s 166ms/step - loss: 0.2531 - accuracy: 0.9041 - val_loss: 3.6581 - val_accuracy: 0.5219\n",
      "Epoch 57/100\n",
      "220/220 [==============================] - 36s 166ms/step - loss: 0.2487 - accuracy: 0.9062 - val_loss: 3.3338 - val_accuracy: 0.5236\n",
      "Epoch 58/100\n",
      "220/220 [==============================] - 37s 169ms/step - loss: 0.2413 - accuracy: 0.9094 - val_loss: 3.1752 - val_accuracy: 0.5179\n",
      "Epoch 59/100\n",
      "220/220 [==============================] - 37s 170ms/step - loss: 0.2581 - accuracy: 0.9045 - val_loss: 3.4909 - val_accuracy: 0.5143\n",
      "Epoch 60/100\n",
      "220/220 [==============================] - 37s 166ms/step - loss: 0.2432 - accuracy: 0.9079 - val_loss: 3.8128 - val_accuracy: 0.5188\n",
      "Epoch 61/100\n",
      "220/220 [==============================] - 38s 172ms/step - loss: 0.2233 - accuracy: 0.9158 - val_loss: 3.8375 - val_accuracy: 0.5257\n",
      "Epoch 62/100\n",
      "220/220 [==============================] - 38s 171ms/step - loss: 0.2316 - accuracy: 0.9109 - val_loss: 3.0934 - val_accuracy: 0.5123\n",
      "Epoch 63/100\n",
      "220/220 [==============================] - 36s 166ms/step - loss: 0.2373 - accuracy: 0.9104 - val_loss: 3.8113 - val_accuracy: 0.5205\n",
      "Epoch 64/100\n",
      "220/220 [==============================] - 36s 163ms/step - loss: 0.2316 - accuracy: 0.9139 - val_loss: 3.8867 - val_accuracy: 0.5206\n",
      "Epoch 65/100\n",
      "220/220 [==============================] - 37s 168ms/step - loss: 0.2299 - accuracy: 0.9141 - val_loss: 4.0334 - val_accuracy: 0.5217\n",
      "Epoch 66/100\n",
      "220/220 [==============================] - 38s 174ms/step - loss: 0.2262 - accuracy: 0.9182 - val_loss: 3.7523 - val_accuracy: 0.5256\n",
      "Epoch 67/100\n",
      "220/220 [==============================] - 38s 174ms/step - loss: 0.2114 - accuracy: 0.9223 - val_loss: 3.3590 - val_accuracy: 0.5101\n",
      "Epoch 68/100\n",
      "220/220 [==============================] - 37s 168ms/step - loss: 0.2209 - accuracy: 0.9181 - val_loss: 3.6360 - val_accuracy: 0.5154\n",
      "Epoch 69/100\n",
      "220/220 [==============================] - 36s 163ms/step - loss: 0.2263 - accuracy: 0.9160 - val_loss: 3.9591 - val_accuracy: 0.5214\n",
      "Epoch 70/100\n",
      "220/220 [==============================] - 36s 163ms/step - loss: 0.2051 - accuracy: 0.9245 - val_loss: 4.0089 - val_accuracy: 0.5190\n",
      "Epoch 71/100\n",
      "220/220 [==============================] - 34s 154ms/step - loss: 0.1979 - accuracy: 0.9288 - val_loss: 4.4103 - val_accuracy: 0.5230\n",
      "Epoch 72/100\n",
      "220/220 [==============================] - 34s 156ms/step - loss: 0.2174 - accuracy: 0.9216 - val_loss: 3.8934 - val_accuracy: 0.5254\n",
      "Epoch 73/100\n",
      "220/220 [==============================] - 36s 162ms/step - loss: 0.1987 - accuracy: 0.9268 - val_loss: 3.9491 - val_accuracy: 0.5288\n",
      "Epoch 74/100\n",
      "220/220 [==============================] - 34s 156ms/step - loss: 0.2045 - accuracy: 0.9263 - val_loss: 4.6108 - val_accuracy: 0.4955\n",
      "Epoch 75/100\n",
      "220/220 [==============================] - 34s 153ms/step - loss: 0.2204 - accuracy: 0.9203 - val_loss: 4.1629 - val_accuracy: 0.5236\n",
      "Epoch 76/100\n",
      "220/220 [==============================] - 34s 153ms/step - loss: 0.2076 - accuracy: 0.9211 - val_loss: 4.3763 - val_accuracy: 0.5179\n",
      "Epoch 77/100\n",
      "220/220 [==============================] - 33s 151ms/step - loss: 0.1945 - accuracy: 0.9276 - val_loss: 4.8239 - val_accuracy: 0.5134\n",
      "Epoch 78/100\n",
      "220/220 [==============================] - 33s 152ms/step - loss: 0.1995 - accuracy: 0.9276 - val_loss: 4.3381 - val_accuracy: 0.5090\n",
      "Epoch 79/100\n",
      "220/220 [==============================] - 34s 157ms/step - loss: 0.1959 - accuracy: 0.9284 - val_loss: 4.5491 - val_accuracy: 0.5123\n",
      "Epoch 80/100\n",
      "220/220 [==============================] - 34s 155ms/step - loss: 0.2029 - accuracy: 0.9257 - val_loss: 4.5379 - val_accuracy: 0.5203\n",
      "Epoch 81/100\n",
      "220/220 [==============================] - 33s 152ms/step - loss: 0.1927 - accuracy: 0.9298 - val_loss: 4.1923 - val_accuracy: 0.5125\n",
      "Epoch 82/100\n",
      "220/220 [==============================] - 34s 156ms/step - loss: 0.2144 - accuracy: 0.9206 - val_loss: 4.4718 - val_accuracy: 0.5137\n",
      "Epoch 83/100\n",
      "220/220 [==============================] - 34s 154ms/step - loss: 0.1875 - accuracy: 0.9339 - val_loss: 4.6589 - val_accuracy: 0.5172\n",
      "Epoch 84/100\n",
      "220/220 [==============================] - 33s 148ms/step - loss: 0.1858 - accuracy: 0.9330 - val_loss: 4.2570 - val_accuracy: 0.5159\n",
      "Epoch 85/100\n",
      "220/220 [==============================] - 30s 136ms/step - loss: 0.1805 - accuracy: 0.9351 - val_loss: 4.1564 - val_accuracy: 0.5097\n",
      "Epoch 86/100\n",
      "220/220 [==============================] - 29s 130ms/step - loss: 0.1900 - accuracy: 0.9302 - val_loss: 4.7498 - val_accuracy: 0.5146\n",
      "Epoch 87/100\n",
      "220/220 [==============================] - 29s 131ms/step - loss: 0.1938 - accuracy: 0.9290 - val_loss: 4.2246 - val_accuracy: 0.5170\n",
      "Epoch 88/100\n",
      "220/220 [==============================] - 29s 130ms/step - loss: 0.1772 - accuracy: 0.9367 - val_loss: 4.7553 - val_accuracy: 0.5128\n",
      "Epoch 89/100\n",
      "220/220 [==============================] - 30s 136ms/step - loss: 0.1790 - accuracy: 0.9355 - val_loss: 4.4225 - val_accuracy: 0.5243\n",
      "Epoch 90/100\n",
      "220/220 [==============================] - 29s 131ms/step - loss: 0.1832 - accuracy: 0.9328 - val_loss: 5.4858 - val_accuracy: 0.5125\n",
      "Epoch 91/100\n",
      "220/220 [==============================] - 28s 129ms/step - loss: 0.1819 - accuracy: 0.9341 - val_loss: 5.3411 - val_accuracy: 0.5116\n",
      "Epoch 92/100\n",
      "220/220 [==============================] - 30s 135ms/step - loss: 0.2024 - accuracy: 0.9284 - val_loss: 4.2122 - val_accuracy: 0.5026\n",
      "Epoch 93/100\n",
      "220/220 [==============================] - 28s 127ms/step - loss: 0.1914 - accuracy: 0.9323 - val_loss: 4.1227 - val_accuracy: 0.5154\n",
      "Epoch 94/100\n",
      "220/220 [==============================] - 29s 131ms/step - loss: 0.1746 - accuracy: 0.9371 - val_loss: 4.0273 - val_accuracy: 0.5068\n",
      "Epoch 95/100\n",
      "220/220 [==============================] - 29s 132ms/step - loss: 0.1818 - accuracy: 0.9325 - val_loss: 4.5144 - val_accuracy: 0.5125\n",
      "Epoch 96/100\n",
      "220/220 [==============================] - 28s 129ms/step - loss: 0.1813 - accuracy: 0.9359 - val_loss: 4.3083 - val_accuracy: 0.5197\n",
      "Epoch 97/100\n",
      "220/220 [==============================] - 30s 134ms/step - loss: 0.1754 - accuracy: 0.9361 - val_loss: 4.4685 - val_accuracy: 0.5177\n",
      "Epoch 98/100\n",
      "220/220 [==============================] - 30s 135ms/step - loss: 0.1739 - accuracy: 0.9362 - val_loss: 4.3829 - val_accuracy: 0.5141\n",
      "Epoch 99/100\n",
      "220/220 [==============================] - 29s 132ms/step - loss: 0.1878 - accuracy: 0.9323 - val_loss: 4.3642 - val_accuracy: 0.5203\n",
      "Epoch 100/100\n",
      "220/220 [==============================] - 29s 132ms/step - loss: 0.1785 - accuracy: 0.9352 - val_loss: 4.0723 - val_accuracy: 0.5123\n"
     ]
    },
    {
     "data": {
      "text/plain": [
       "<keras.src.callbacks.History at 0x28fd5223490>"
      ]
     },
     "execution_count": 13,
     "metadata": {},
     "output_type": "execute_result"
    }
   ],
   "source": [
    "history=model.fit(padded_docs_train, y_train, epochs=100, batch_size=100, validation_data=(padded_docs_test, y_test))\n",
    "history"
   ]
  },
  {
   "cell_type": "markdown",
   "id": "5d00c466",
   "metadata": {},
   "source": [
    "##### 6) Finding Training and Testing Accuracy"
   ]
  },
  {
   "cell_type": "code",
   "execution_count": 14,
   "id": "6d517703",
   "metadata": {},
   "outputs": [
    {
     "data": {
      "image/png": "[encoded data removed]",
      "text/plain": [
       "<Figure size 432x288 with 1 Axes>"
      ]
     },
     "metadata": {
      "needs_background": "light"
     },
     "output_type": "display_data"
    }
   ],
   "source": [
    "# Plot the training and testing accuracy\n",
    "plt.plot(history.history['accuracy'])\n",
    "plt.plot(history.history['val_accuracy'])\n",
    "plt.title('Model Accuracy')\n",
    "plt.ylabel('Accuracy')\n",
    "plt.xlabel('Epoch')\n",
    "plt.ylim([0, 1])\n",
    "plt.legend(['Train', 'Test'], loc='upper left')\n",
    "plt.show()"
   ]
  },
  {
   "cell_type": "code",
   "execution_count": 15,
   "id": "516fe5b8",
   "metadata": {},
   "outputs": [
    {
     "name": "stdout",
     "output_type": "stream",
     "text": [
      "172/172 [==============================] - 5s 26ms/step - loss: 4.0723 - accuracy: 0.5123\n"
     ]
    },
    {
     "data": {
      "text/plain": [
       "(4.072320461273193, 0.5122794508934021)"
      ]
     },
     "execution_count": 15,
     "metadata": {},
     "output_type": "execute_result"
    }
   ],
   "source": [
    "test_loss,test_acc=model.evaluate(padded_docs_test,y_test)\n",
    "test_loss,test_acc"
   ]
  },
  {
   "cell_type": "markdown",
   "id": "80a47670",
   "metadata": {},
   "source": [
    "##### 7) Compute and plot the confusion matrix for the three classes"
   ]
  },
  {
   "cell_type": "code",
   "execution_count": 16,
   "id": "7eb7ef1b",
   "metadata": {},
   "outputs": [
    {
     "name": "stdout",
     "output_type": "stream",
     "text": [
      "172/172 [==============================] - 8s 27ms/step\n",
      "              precision    recall  f1-score   support\n",
      "\n",
      "    negative       0.50      0.48      0.49      1835\n",
      "     neutral       0.46      0.55      0.50      1827\n",
      "    positive       0.60      0.50      0.54      1835\n",
      "\n",
      "    accuracy                           0.51      5497\n",
      "   macro avg       0.52      0.51      0.51      5497\n",
      "weighted avg       0.52      0.51      0.51      5497\n",
      "\n"
     ]
    }
   ],
   "source": [
    "predictions=model.predict(padded_docs_test)\n",
    "class_labels = ['negative', 'positive','neutral']\n",
    "predicted_class_labels = [class_labels[np.argmax(pred)] for pred in predictions]\n",
    "actual_class_labels=[class_labels[actual] for actual in y_test]\n",
    "print(classification_report(actual_class_labels, predicted_class_labels))"
   ]
  },
  {
   "cell_type": "code",
   "execution_count": 17,
   "id": "9208658a",
   "metadata": {},
   "outputs": [
    {
     "data": {
      "image/png": "[encoded data removed]",
      "text/plain": [
       "<Figure size 576x432 with 2 Axes>"
      ]
     },
     "metadata": {
      "needs_background": "light"
     },
     "output_type": "display_data"
    }
   ],
   "source": [
    "conf_matrix = confusion_matrix(actual_class_labels, predicted_class_labels, labels=class_labels)\n",
    "plt.figure(figsize=(8, 6))\n",
    "sns.heatmap(conf_matrix, annot=True, fmt=\"d\", cmap=\"Purples\", xticklabels=class_labels, yticklabels=class_labels)\n",
    "plt.title('Confusion Matrix')\n",
    "plt.xlabel('Predicted Labels')\n",
    "plt.ylabel('True Labels')\n",
    "plt.show()"
   ]
  },
  {
   "cell_type": "markdown",
   "id": "dd974772",
   "metadata": {},
   "source": [
    "##### 8) Saving the final results in Excel sheet"
   ]
  },
  {
   "cell_type": "code",
   "execution_count": 18,
   "id": "a0081b41",
   "metadata": {},
   "outputs": [
    {
     "name": "stdout",
     "output_type": "stream",
     "text": [
      "Precision per class: [0.50255827 0.46143314 0.59534583]\n",
      "Recall per class: [0.48174387 0.55336617 0.50190736]\n"
     ]
    }
   ],
   "source": [
    "precision_per_class = precision_score(actual_class_labels, predicted_class_labels, average=None)\n",
    "recall_per_class = recall_score(actual_class_labels, predicted_class_labels, average=None)\n",
    "\n",
    "print(\"Precision per class:\", precision_per_class)\n",
    "print(\"Recall per class:\", recall_per_class)"
   ]
  },
  {
   "cell_type": "code",
   "execution_count": 19,
   "id": "7df0d2f2",
   "metadata": {},
   "outputs": [
    {
     "name": "stdout",
     "output_type": "stream",
     "text": [
      "Micro F1 Score: 0.512279425140986\n",
      "Macro F1 Score: 0.5132715246064047\n"
     ]
    }
   ],
   "source": [
    "f1_micro = f1_score(actual_class_labels, predicted_class_labels, average='micro')\n",
    "f1_macro = f1_score(actual_class_labels, predicted_class_labels, average='macro')\n",
    "\n",
    "print(\"Micro F1 Score:\", f1_micro)\n",
    "print(\"Macro F1 Score:\", f1_macro)"
   ]
  },
  {
   "cell_type": "code",
   "execution_count": 20,
   "id": "70e254f6",
   "metadata": {},
   "outputs": [
    {
     "data": {
      "text/html": [
       "<div>\n",
       "<style scoped>\n",
       "    .dataframe tbody tr th:only-of-type {\n",
       "        vertical-align: middle;\n",
       "    }\n",
       "\n",
       "    .dataframe tbody tr th {\n",
       "        vertical-align: top;\n",
       "    }\n",
       "\n",
       "    .dataframe thead th {\n",
       "        text-align: right;\n",
       "    }\n",
       "</style>\n",
       "<table border=\"1\" class=\"dataframe\">\n",
       "  <thead>\n",
       "    <tr style=\"text-align: right;\">\n",
       "      <th></th>\n",
       "      <th>Unnamed: 0</th>\n",
       "      <th>SynonymReplacement_Dataset</th>\n",
       "    </tr>\n",
       "  </thead>\n",
       "  <tbody>\n",
       "    <tr>\n",
       "      <th>0</th>\n",
       "      <td>Training Accuracy</td>\n",
       "      <td>0.937102</td>\n",
       "    </tr>\n",
       "    <tr>\n",
       "      <th>1</th>\n",
       "      <td>Testing Accuracy</td>\n",
       "      <td>0.512279</td>\n",
       "    </tr>\n",
       "    <tr>\n",
       "      <th>2</th>\n",
       "      <td>Micro F1 Score</td>\n",
       "      <td>0.512279</td>\n",
       "    </tr>\n",
       "    <tr>\n",
       "      <th>3</th>\n",
       "      <td>Macro F1 Score</td>\n",
       "      <td>0.513272</td>\n",
       "    </tr>\n",
       "    <tr>\n",
       "      <th>4</th>\n",
       "      <td>Precision for Negative sentiment</td>\n",
       "      <td>0.502558</td>\n",
       "    </tr>\n",
       "    <tr>\n",
       "      <th>5</th>\n",
       "      <td>Precision for Positive sentiment</td>\n",
       "      <td>0.461433</td>\n",
       "    </tr>\n",
       "    <tr>\n",
       "      <th>6</th>\n",
       "      <td>Precision for Neutral sentiment</td>\n",
       "      <td>0.595346</td>\n",
       "    </tr>\n",
       "    <tr>\n",
       "      <th>7</th>\n",
       "      <td>Recall for Negative sentiment</td>\n",
       "      <td>0.481744</td>\n",
       "    </tr>\n",
       "    <tr>\n",
       "      <th>8</th>\n",
       "      <td>Recall for Positive sentiment</td>\n",
       "      <td>0.553366</td>\n",
       "    </tr>\n",
       "    <tr>\n",
       "      <th>9</th>\n",
       "      <td>Recall for Neutral sentiment</td>\n",
       "      <td>0.501907</td>\n",
       "    </tr>\n",
       "  </tbody>\n",
       "</table>\n",
       "</div>"
      ],
      "text/plain": [
       "                         Unnamed: 0  SynonymReplacement_Dataset\n",
       "0                 Training Accuracy                    0.937102\n",
       "1                  Testing Accuracy                    0.512279\n",
       "2                    Micro F1 Score                    0.512279\n",
       "3                    Macro F1 Score                    0.513272\n",
       "4  Precision for Negative sentiment                    0.502558\n",
       "5  Precision for Positive sentiment                    0.461433\n",
       "6   Precision for Neutral sentiment                    0.595346\n",
       "7     Recall for Negative sentiment                    0.481744\n",
       "8     Recall for Positive sentiment                    0.553366\n",
       "9      Recall for Neutral sentiment                    0.501907"
      ]
     },
     "execution_count": 20,
     "metadata": {},
     "output_type": "execute_result"
    }
   ],
   "source": [
    "result=pd.read_csv('TCNModelResults.csv')\n",
    "result['SynonymReplacement_Dataset']=[max(history.history['accuracy']),test_acc,f1_micro,f1_macro,precision_per_class[0],precision_per_class[1],precision_per_class[2],recall_per_class[0],recall_per_class[1],recall_per_class[2]]\n",
    "result[['Unnamed: 0','SynonymReplacement_Dataset']]"
   ]
  },
  {
   "cell_type": "code",
   "execution_count": 21,
   "id": "20abf6f0",
   "metadata": {},
   "outputs": [],
   "source": [
    "result.to_csv('TCNModelResults.csv', index=False)"
   ]
  }
 ],
 "metadata": {
  "kernelspec": {
   "display_name": "Python 3 (ipykernel)",
   "language": "python",
   "name": "python3"
  },
  "language_info": {
   "codemirror_mode": {
    "name": "ipython",
    "version": 3
   },
   "file_extension": ".py",
   "mimetype": "text/x-python",
   "name": "python",
   "nbconvert_exporter": "python",
   "pygments_lexer": "ipython3",
   "version": "3.9.7"
  }
 },
 "nbformat": 4,
 "nbformat_minor": 5
}
